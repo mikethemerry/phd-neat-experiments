{
 "cells": [
  {
   "cell_type": "code",
   "execution_count": 1,
   "metadata": {},
   "outputs": [],
   "source": [
    "from explaneat.core import backprop\n",
    "from explaneat.core.backproppop import BackpropPopulation\n",
    "\n",
    "from explaneat.core.neuralneat import NeuralNeat as NeuralNeat\n",
    "\n",
    "import random\n",
    "\n",
    "import torch\n",
    "import torch.nn as nn\n",
    "import torch.optim as optim\n",
    "\n",
    "import neat\n",
    "\n",
    "from explaneat.core.utility import MethodTimer\n",
    "\n",
    "\n",
    "from explaneat.core.backprop import NeatNet\n",
    "from explaneat.core import backprop\n",
    "from explaneat.core.backproppop import BackpropPopulation\n",
    "# from explaneat.visualization import visualize\n",
    "from explaneat.core.experiment import ExperimentReporter\n",
    "\n",
    "from explaneat.core.neuralneat import NeuralNeat as nneat\n",
    "\n",
    "import torch.optim as optim\n",
    "\n",
    "from torch.functional import F\n",
    "\n",
    "\n",
    "\n",
    "\n",
    "\n",
    "\n"
   ]
  },
  {
   "cell_type": "code",
   "execution_count": 2,
   "metadata": {},
   "outputs": [],
   "source": [
    "RANDOM_SEED      = 42\n",
    "torch.manual_seed(RANDOM_SEED)\n",
    "\n",
    "\n",
    "USE_CUDA = torch.cuda.is_available()\n",
    "USE_CUDA = False\n",
    "device = torch.device(\"cuda:1\" if USE_CUDA else \"cpu\")\n"
   ]
  },
  {
   "cell_type": "code",
   "execution_count": 3,
   "metadata": {},
   "outputs": [],
   "source": [
    "\n",
    "def xor(a, b, threshold = 0.5):\n",
    "    response = False\n",
    "    if a > threshold and b < threshold:\n",
    "        response = True\n",
    "    if a < threshold and b > threshold:\n",
    "        response = True\n",
    "    # return (1.0, 0.0) if response else (0.0, 1.0)\n",
    "    return 1.0 if response else 0.0\n",
    "    \n",
    "\n",
    "def create_n_points(n, size, min=0.0, max=1.0):\n",
    "    data = []\n",
    "    for _ in range(n):\n",
    "        data.append([\n",
    "            random.uniform(min, max) for ii in range(size)\n",
    "        ])\n",
    "\n",
    "    return data\n",
    "\n",
    "# correct solution:\n",
    "def softmax(x):\n",
    "    \"\"\"Compute softmax values for each sets of scores in x.\"\"\"\n",
    "    e_x = np.exp(x - np.max(x))\n",
    "    return e_x / e_x.sum(axis=0) # only difference\n",
    "\n",
    "def overUnder(val, threshold):\n",
    "    return 1. if val > threshold else 0\n",
    "\n",
    "xor_inputs = create_n_points(400, 2, -1, 1)\n",
    "\n",
    "xor_outputs = [\n",
    "    [xor(tup[0], tup[1], 0)] for tup in xor_inputs\n",
    "]"
   ]
  },
  {
   "cell_type": "code",
   "execution_count": 4,
   "metadata": {
    "tags": []
   },
   "outputs": [
    {
     "name": "stdout",
     "output_type": "stream",
     "text": [
      "The function - Backprop everything - has just started at 1628760405.9732249\n",
      "The function - Backprop everything - took 0.0012791156768798828 seconds to complete\n",
      "The function - generationStart - has just started at 1628760405.974653\n",
      "\n",
      " ****** Running generation 0 ****** \n",
      "\n",
      "The function - generationStart - took 4.00543212890625e-05 seconds to complete\n",
      "The function - pre_backprop - has just started at 1628760405.974713\n",
      "The function - pre_backprop - took 0.00023674964904785156 seconds to complete\n",
      "The function - backprop - has just started at 1628760405.975019\n",
      "about to start backprop with 25 epochs\n",
      "mean improvement: -0.006466143845876071\n",
      "best improvement: -0.007149703045657874\n",
      "best loss: 0.5227470527615088\n",
      "The function - backprop - took 0.039856910705566406 seconds to complete\n",
      "The function - post_backprop - has just started at 1628760406.0148952\n",
      "The function - post_backprop - took 2.8848648071289062e-05 seconds to complete\n",
      "The function - evaluate fitness - has just started at 1628760406.014987\n",
      "{1: <neat.genome.DefaultGenome object at 0x7ffd20ce5190>, 2: <neat.genome.DefaultGenome object at 0x7ffd20d82c40>, 3: <neat.genome.DefaultGenome object at 0x7ffd20d82dc0>, 4: <neat.genome.DefaultGenome object at 0x7ffd20d82ee0>, 5: <neat.genome.DefaultGenome object at 0x7ffd20d7c040>}\n",
      "The function - evaluate fitness - took 0.009711980819702148 seconds to complete\n",
      "The function - post evaluate - has just started at 1628760406.025022\n",
      "Population's average fitness: 0.36258 stdev: 0.15818\n",
      "Best fitness: 0.58111 - size: (1, 2) - species 1 - id 2\n",
      "Key: 2\n",
      "Fitness: 0.5811083912849426\n",
      "Nodes:\n",
      "\t0 DefaultNodeGene(key=0, bias=0.18659541644985816, response=1.0, activation=sigmoid, aggregation=sum)\n",
      "Connections:\n",
      "\tDefaultConnectionGene(key=(-2, 0), weight=0.846588452381522, enabled=True)\n",
      "\tDefaultConnectionGene(key=(-1, 0), weight=-1.0801890913665555, enabled=True)\n",
      "ending generation %s\n",
      "The function - post evaluate - took 0.0005309581756591797 seconds to complete\n",
      "The function - pre_reproduction - has just started at 1628760406.025571\n",
      "The function - pre_reproduction - took 1.6927719116210938e-05 seconds to complete\n",
      "The function - reproduction - has just started at 1628760406.025603\n",
      "Average adjusted fitness: 0.191\n",
      "The function - reproduction - took 0.0006568431854248047 seconds to complete\n",
      "The function - post reproduction - has just started at 1628760406.026282\n",
      "The function - post reproduction - took 1.2874603271484375e-05 seconds to complete\n",
      "The function - speciate - has just started at 1628760406.026305\n",
      "Mean genetic distance 1.547, standard deviation 0.616\n",
      "The function - speciate - took 9.703636169433594e-05 seconds to complete\n",
      "The function - end generation - has just started at 1628760406.02641\n",
      "Population of 5 members in 1 species:\n",
      "   ID   age  size  fitness  adj fit  stag\n",
      "  ====  ===  ====  =======  =======  ====\n",
      "     1    0     5      0.6    0.191     0\n",
      "Total extinctions: 0\n",
      "Generation time: 0.052 sec\n",
      "The function - end generation - took 0.00012993812561035156 seconds to complete\n",
      "The function - generationStart - has just started at 1628760406.026551\n",
      "\n",
      " ****** Running generation 1 ****** \n",
      "\n",
      "The function - generationStart - took 1.6927719116210938e-05 seconds to complete\n",
      "The function - pre_backprop - has just started at 1628760406.026575\n",
      "The function - pre_backprop - took 2.09808349609375e-05 seconds to complete\n",
      "The function - backprop - has just started at 1628760406.026604\n",
      "about to start backprop with 25 epochs\n",
      "mean improvement: -0.007373681820168487\n",
      "best improvement: -0.008947950563906959\n",
      "best loss: 0.5086782957681576\n",
      "The function - backprop - took 0.04478907585144043 seconds to complete\n",
      "The function - post_backprop - has just started at 1628760406.071412\n",
      "The function - post_backprop - took 1.8835067749023438e-05 seconds to complete\n",
      "The function - evaluate fitness - has just started at 1628760406.0714529\n",
      "{2: <neat.genome.DefaultGenome object at 0x7ffd20d82c40>, 3: <neat.genome.DefaultGenome object at 0x7ffd20d82dc0>, 6: <neat.genome.DefaultGenome object at 0x7ffd20d7cc40>, 7: <neat.genome.DefaultGenome object at 0x7ffd20d7c820>, 8: <neat.genome.DefaultGenome object at 0x7ffd20d7c670>}\n",
      "The function - evaluate fitness - took 0.0076563358306884766 seconds to complete\n",
      "The function - post evaluate - has just started at 1628760406.079231\n",
      "Population's average fitness: 0.50181 stdev: 0.20646\n",
      "Best fitness: 0.83072 - size: (2, 3) - species 1 - id 8\n",
      "Key: 8\n",
      "Fitness: 0.8307158946990967\n",
      "Nodes:\n",
      "\t0 DefaultNodeGene(key=0, bias=0.4476301109540974, response=1.0, activation=sigmoid, aggregation=sum)\n",
      "\t1 DefaultNodeGene(key=1, bias=-0.5117156753882777, response=1.0, activation=sigmoid, aggregation=sum)\n",
      "Connections:\n",
      "\tDefaultConnectionGene(key=(-2, 0), weight=2.0754810036626328, enabled=False)\n",
      "\tDefaultConnectionGene(key=(-2, 1), weight=1.3891605078468516, enabled=True)\n",
      "\tDefaultConnectionGene(key=(-1, 0), weight=0.38695528738017726, enabled=True)\n",
      "\tDefaultConnectionGene(key=(1, 0), weight=-0.2843673573992772, enabled=True)\n",
      "\n",
      "\n",
      " SPECIES TOPOLOGY IMPROVEMENT\n",
      "\n",
      "\n",
      "{'genome': <neat.genome.DefaultGenome object at 0x7ffd20da0fa0>, 'fitness': 0.8307158946990967, 'firstDerivatives': [0.0, 0.24960750341415405], 'secondDerivatives': [0.0, 0.24960750341415405]}\n",
      "Key: 8\n",
      "Fitness: 0.8307158946990967\n",
      "Nodes:\n",
      "\t0 DefaultNodeGene(key=0, bias=0.4476301109540974, response=1.0, activation=sigmoid, aggregation=sum)\n",
      "\t1 DefaultNodeGene(key=1, bias=-0.5117156753882777, response=1.0, activation=sigmoid, aggregation=sum)\n",
      "Connections:\n",
      "\tDefaultConnectionGene(key=(-2, 0), weight=2.0754810036626328, enabled=False)\n",
      "\tDefaultConnectionGene(key=(-2, 1), weight=1.3891605078468516, enabled=True)\n",
      "\tDefaultConnectionGene(key=(-1, 0), weight=0.38695528738017726, enabled=True)\n",
      "\tDefaultConnectionGene(key=(1, 0), weight=-0.2843673573992772, enabled=True)\n",
      "Nodes\n",
      "0    DefaultNodeGene(key=0, bias=0.4476301109540974, response=1.0, activation=sigmoid, aggregation=sum)\n",
      "1    DefaultNodeGene(key=1, bias=-0.5117156753882777, response=1.0, activation=sigmoid, aggregation=sum)\n",
      "Connections\n",
      "(-1, 0)    DefaultConnectionGene(key=(-1, 0), weight=0.38695528738017726, enabled=True)\n",
      "(-2, 0)    DefaultConnectionGene(key=(-2, 0), weight=2.0754810036626328, enabled=False)\n",
      "(-2, 1)    DefaultConnectionGene(key=(-2, 1), weight=1.3891605078468516, enabled=True)\n",
      "(1, 0)    DefaultConnectionGene(key=(1, 0), weight=-0.2843673573992772, enabled=True)\n",
      "ending generation %s\n",
      "The function - post evaluate - took 0.00078582763671875 seconds to complete\n",
      "The function - pre_reproduction - has just started at 1628760406.0800378\n",
      "The function - pre_reproduction - took 1.811981201171875e-05 seconds to complete\n",
      "The function - reproduction - has just started at 1628760406.080069\n",
      "Average adjusted fitness: 0.278\n",
      "The function - reproduction - took 0.00018906593322753906 seconds to complete\n",
      "The function - post reproduction - has just started at 1628760406.080272\n",
      "The function - post reproduction - took 1.2874603271484375e-05 seconds to complete\n",
      "The function - speciate - has just started at 1628760406.0802948\n",
      "Mean genetic distance 1.305, standard deviation 0.342\n",
      "The function - speciate - took 0.00010013580322265625 seconds to complete\n",
      "The function - end generation - has just started at 1628760406.080404\n",
      "Population of 5 members in 1 species:\n",
      "   ID   age  size  fitness  adj fit  stag\n",
      "  ====  ===  ====  =======  =======  ====\n",
      "     1    1     5      0.8    0.278     0\n",
      "Total extinctions: 0\n",
      "Generation time: 0.054 sec (0.053 average)\n",
      "The function - end generation - took 0.00015878677368164062 seconds to complete\n",
      "The function - generationStart - has just started at 1628760406.080574\n",
      "\n",
      " ****** Running generation 2 ****** \n",
      "\n",
      "The function - generationStart - took 2.288818359375e-05 seconds to complete\n",
      "The function - pre_backprop - has just started at 1628760406.080608\n",
      "The function - pre_backprop - took 0.00010919570922851562 seconds to complete\n",
      "The function - backprop - has just started at 1628760406.080731\n",
      "about to start backprop with 25 epochs\n",
      "mean improvement: -0.0072196633389366\n",
      "best improvement: -0.00833288747003802\n",
      "best loss: 0.5086782957681576\n",
      "The function - backprop - took 0.051421165466308594 seconds to complete\n",
      "The function - post_backprop - has just started at 1628760406.1321669\n",
      "The function - post_backprop - took 1.9311904907226562e-05 seconds to complete\n",
      "The function - evaluate fitness - has just started at 1628760406.132205\n",
      "{8: <neat.genome.DefaultGenome object at 0x7ffd20d7c670>, 2: <neat.genome.DefaultGenome object at 0x7ffd20d82c40>, 9: <neat.genome.DefaultGenome object at 0x7ffd20da7370>, 10: <neat.genome.DefaultGenome object at 0x7ffd20da7610>, 11: <neat.genome.DefaultGenome object at 0x7ffd20da78b0>}\n",
      "The function - evaluate fitness - took 0.007515907287597656 seconds to complete\n",
      "The function - post evaluate - has just started at 1628760406.13983\n",
      "Population's average fitness: 0.59737 stdev: 0.13492\n",
      "Best fitness: 0.83072 - size: (2, 3) - species 1 - id 8\n",
      "Key: 8\n",
      "Fitness: 0.8307158946990967\n",
      "Nodes:\n",
      "\t0 DefaultNodeGene(key=0, bias=0.4476301109540974, response=1.0, activation=sigmoid, aggregation=sum)\n",
      "\t1 DefaultNodeGene(key=1, bias=-0.5117156753882777, response=1.0, activation=sigmoid, aggregation=sum)\n",
      "Connections:\n",
      "\tDefaultConnectionGene(key=(-2, 0), weight=2.0754810036626328, enabled=False)\n",
      "\tDefaultConnectionGene(key=(-2, 1), weight=1.3891605078468516, enabled=True)\n",
      "\tDefaultConnectionGene(key=(-1, 0), weight=0.38695528738017726, enabled=True)\n",
      "\tDefaultConnectionGene(key=(1, 0), weight=-0.2843673573992772, enabled=True)\n",
      "ending generation %s\n",
      "The function - post evaluate - took 0.00043487548828125 seconds to complete\n",
      "The function - pre_reproduction - has just started at 1628760406.14028\n",
      "The function - pre_reproduction - took 1.2159347534179688e-05 seconds to complete\n",
      "The function - reproduction - has just started at 1628760406.140307\n",
      "Average adjusted fitness: 0.139\n",
      "The function - reproduction - took 0.0001919269561767578 seconds to complete\n",
      "The function - post reproduction - has just started at 1628760406.140513\n",
      "The function - post reproduction - took 1.0013580322265625e-05 seconds to complete\n",
      "The function - speciate - has just started at 1628760406.140533\n",
      "Mean genetic distance 1.064, standard deviation 0.579\n",
      "The function - speciate - took 0.00011014938354492188 seconds to complete\n",
      "The function - end generation - has just started at 1628760406.140652\n",
      "Population of 5 members in 1 species:\n",
      "   ID   age  size  fitness  adj fit  stag\n",
      "  ====  ===  ====  =======  =======  ====\n",
      "     1    2     5      0.8    0.139     1\n",
      "Total extinctions: 0\n",
      "Generation time: 0.060 sec (0.055 average)\n",
      "The function - end generation - took 7.414817810058594e-05 seconds to complete\n",
      "{0: {'generation': 0, 'generationStartTime': 1628760405.974692, 'backpropStartTime': 1628760405.9748962, 'genomeNodeSizes': [1, 1, 1, 1, 1], 'genomeNodeSizesMean': 1.0, 'genomeNodeSizesSD': 0.0, 'genomeConnectionSizes': [2, 2, 2, 2, 2], 'genomeConnectionSizesMean': 2.0, 'genomeConnectionSizesSD': 0.0, 'backpropEndTime': 1628760406.014923, 'fitnesses': [0.25950396060943604, 0.5811083912849426, 0.5173621773719788, 0.2833195626735687, 0.17158657312393188], 'fitnessMean': 0.3625761330127716, 'fitnessSD': 0.15817557086118827, 'reproductionStartTime': 1628760406.025588, 'reproductionEndTime': 1628760406.026294, 'generationEndTime': 1628760406.026539}, 1: {'generation': 1, 'generationStartTime': 1628760406.026567, 'backpropStartTime': 1628760406.0265841, 'genomeNodeSizes': [1, 1, 1, 1, 2], 'genomeNodeSizesMean': 1.2, 'genomeNodeSizesSD': 0.4, 'genomeConnectionSizes': [2, 2, 2, 1, 4], 'genomeConnectionSizesMean': 2.2, 'genomeConnectionSizesSD': 0.9797958971132712, 'backpropEndTime': 1628760406.07143, 'fitnesses': [0.5811083912849426, 0.5173621773719788, 0.35558968782424927, 0.22425274550914764, 0.8307158946990967], 'fitnessMean': 0.501805779337883, 'fitnessSD': 0.20645948841039322, 'reproductionStartTime': 1628760406.080055, 'reproductionEndTime': 1628760406.0802839, 'generationEndTime': 1628760406.0805628}, 2: {'generation': 2, 'generationStartTime': 1628760406.080597, 'backpropStartTime': 1628760406.080704, 'genomeNodeSizes': [2, 1, 2, 2, 2], 'genomeNodeSizesMean': 1.8, 'genomeNodeSizesSD': 0.4000000000000001, 'genomeConnectionSizes': [4, 2, 4, 4, 4], 'genomeConnectionSizesMean': 3.6, 'genomeConnectionSizesSD': 0.8000000000000002, 'backpropEndTime': 1628760406.132185, 'fitnesses': [0.8307158946990967, 0.5811083912849426, 0.47491493821144104, 0.641791820526123, 0.45831024646759033], 'fitnessMean': 0.5973682582378388, 'fitnessSD': 0.13492286820605637, 'reproductionStartTime': 1628760406.140291, 'reproductionEndTime': 1628760406.140523, 'generationEndTime': 1628760406.140725}}\n"
     ]
    }
   ],
   "source": [
    "config_path = \"./config_xor\"\n",
    "base_config = neat.Config(neat.DefaultGenome, neat.DefaultReproduction,\n",
    "                     neat.DefaultSpeciesSet, neat.DefaultStagnation,\n",
    "                     config_path)\n",
    "\n",
    "def instantiate_population(config, xs, ys, saveLocation):\n",
    "\n",
    "    if not os.path.exists(saveLocation):\n",
    "        os.makedirs(saveLocation)\n",
    "        \n",
    "    config.save(os.path.join(saveLocation, 'config.conf'))\n",
    "\n",
    "    # Create the population, which is the top-level object for a NEAT run.\n",
    "    with MethodTimer(\"Backprop everything\"):\n",
    "        p = BackpropPopulation(config, \n",
    "                                xs, \n",
    "                                ys, \n",
    "                                criterion=nn.BCEWithLogitsLoss())\n",
    "\n",
    "    # Add a stdout reporter to show progress in the terminal.\n",
    "    p.add_reporter(neat.StdOutReporter(True))\n",
    "    stats = neat.StatisticsReporter()\n",
    "    p.add_reporter(stats)\n",
    "    p.add_reporter(neat.Checkpointer(5, filename_prefix=str(saveLocation) + \"checkpoint-\" ))\n",
    "    bpReporter = backprop.BackpropReporter(True)\n",
    "    p.add_reporter(bpReporter)\n",
    "    p.add_reporter(ExperimentReporter(saveLocation))\n",
    "    \n",
    "    return p\n",
    "\n",
    "def eval_genomes(genomes, config):\n",
    "    \n",
    "    print(genomes)\n",
    "    loss = nn.BCELoss()\n",
    "    loss = loss.to(device)\n",
    "    for genome_id, genome in genomes.items():\n",
    "        net = neat.nn.FeedForwardNetwork.create(genome, config)\n",
    "        preds = []\n",
    "        for xi in xor_inputs:\n",
    "            preds.append(net.activate(xi))\n",
    "        genome.fitness = float(1./loss(torch.tensor(preds).to(device), torch.tensor(xor_outputs)))\n",
    "\n",
    "config = base_config\n",
    "saveLocation = './'\n",
    "maxNGenerations = 3\n",
    "p = instantiate_population(config, xor_inputs, xor_outputs, saveLocation)\n",
    "# Run for up to nGenerations generations.\n",
    "winner = p.run(eval_genomes, maxNGenerations, nEpochs = 25)\n",
    "\n",
    "g = p.best_genome\n"
   ]
  },
  {
   "cell_type": "code",
   "execution_count": 5,
   "metadata": {},
   "outputs": [
    {
     "name": "stdout",
     "output_type": "stream",
     "text": [
      "Key: 8\n",
      "Fitness: 0.8307158946990967\n",
      "Nodes:\n",
      "\t0 DefaultNodeGene(key=0, bias=0.4476301109540974, response=1.0, activation=sigmoid, aggregation=sum)\n",
      "\t1 DefaultNodeGene(key=1, bias=-0.5117156753882777, response=1.0, activation=sigmoid, aggregation=sum)\n",
      "Connections:\n",
      "\tDefaultConnectionGene(key=(-2, 0), weight=2.0754810036626328, enabled=False)\n",
      "\tDefaultConnectionGene(key=(-2, 1), weight=1.3891605078468516, enabled=True)\n",
      "\tDefaultConnectionGene(key=(-1, 0), weight=0.38695528738017726, enabled=True)\n",
      "\tDefaultConnectionGene(key=(1, 0), weight=-0.2843673573992772, enabled=True)\n"
     ]
    }
   ],
   "source": [
    "print(g)"
   ]
  },
  {
   "cell_type": "code",
   "execution_count": 6,
   "metadata": {},
   "outputs": [],
   "source": [
    "net = nneat(g, p.config, criterion=nn.BCEWithLogitsLoss())\n"
   ]
  },
  {
   "cell_type": "code",
   "execution_count": 7,
   "metadata": {},
   "outputs": [
    {
     "data": {
      "text/plain": "{(-1, 0): <neat.genes.DefaultConnectionGene at 0x7ffd20d7cc70>,\n (-2, 0): <neat.genes.DefaultConnectionGene at 0x7ffd20d7c310>,\n (-2, 1): <neat.genes.DefaultConnectionGene at 0x7ffd20da0b50>,\n (1, 0): <neat.genes.DefaultConnectionGene at 0x7ffd20da0bb0>}"
     },
     "execution_count": 7,
     "metadata": {},
     "output_type": "execute_result"
    }
   ],
   "source": [
    "net.genome.connections\n",
    "# Error is in inputs not being updated with extra info from skip layers"
   ]
  },
  {
   "cell_type": "code",
   "execution_count": 11,
   "metadata": {},
   "outputs": [
    {
     "data": {
      "text/plain": "tensor([[0.5457],\n        [0.6488],\n        [0.6492],\n        [0.5075],\n        [0.5242],\n        [0.5502],\n        [0.6632],\n        [0.6174],\n        [0.5239],\n        [0.5823]], dtype=torch.float64, grad_fn=<SliceBackward>)"
     },
     "execution_count": 11,
     "metadata": {},
     "output_type": "execute_result"
    }
   ],
   "source": [
    "net.forward(torch.tensor( xor_inputs[:10], dtype=torch.float64) ) [:10]"
   ]
  },
  {
   "cell_type": "code",
   "execution_count": 12,
   "metadata": {},
   "outputs": [
    {
     "data": {
      "text/plain": "tensor([[0.5457],\n        [0.6488],\n        [0.6492],\n        [0.5075],\n        [0.5242],\n        [0.5502],\n        [0.6632],\n        [0.6174],\n        [0.5239],\n        [0.5823],\n        [0.6221],\n        [0.6371],\n        [0.5381],\n        [0.6160],\n        [0.6312],\n        [0.6010],\n        [0.5357],\n        [0.6445],\n        [0.6276],\n        [0.6127]], dtype=torch.float64, grad_fn=<SliceBackward>)"
     },
     "execution_count": 12,
     "metadata": {},
     "output_type": "execute_result"
    }
   ],
   "source": [
    "net.forward(torch.tensor( xor_inputs, dtype=torch.float64) )[:20]"
   ]
  },
  {
   "cell_type": "code",
   "execution_count": 10,
   "metadata": {},
   "outputs": [],
   "source": [
    "# net.optimiser.zero_grad()"
   ]
  },
  {
   "cell_type": "code",
   "execution_count": 11,
   "metadata": {},
   "outputs": [],
   "source": [
    "# net.optimise(xor_inputs, xor_outputs)"
   ]
  },
  {
   "cell_type": "code",
   "execution_count": 12,
   "metadata": {},
   "outputs": [],
   "source": [
    "optimiser = optim.Adadelta(net.parameters())"
   ]
  },
  {
   "cell_type": "code",
   "execution_count": 13,
   "metadata": {},
   "outputs": [
    {
     "data": {
      "text/plain": "{1: Parameter containing:\n tensor([[-0.6117],\n         [-0.6330]], dtype=torch.float64, requires_grad=True),\n 0: Parameter containing:\n tensor([], size=(0, 2), dtype=torch.float64, requires_grad=True)}"
     },
     "execution_count": 13,
     "metadata": {},
     "output_type": "execute_result"
    }
   ],
   "source": [
    "net.weights"
   ]
  },
  {
   "cell_type": "code",
   "execution_count": 14,
   "metadata": {},
   "outputs": [
    {
     "data": {
      "text/plain": "[tensor(0.4980, dtype=torch.float64, grad_fn=<SqrtBackward>),\n tensor(0.4980, dtype=torch.float64, grad_fn=<SqrtBackward>),\n tensor(0.4980, dtype=torch.float64, grad_fn=<SqrtBackward>),\n tensor(0.4980, dtype=torch.float64, grad_fn=<SqrtBackward>),\n tensor(0.4980, dtype=torch.float64, grad_fn=<SqrtBackward>),\n tensor(0.4980, dtype=torch.float64, grad_fn=<SqrtBackward>),\n tensor(0.4980, dtype=torch.float64, grad_fn=<SqrtBackward>),\n tensor(0.4980, dtype=torch.float64, grad_fn=<SqrtBackward>),\n tensor(0.4980, dtype=torch.float64, grad_fn=<SqrtBackward>),\n tensor(0.4980, dtype=torch.float64, grad_fn=<SqrtBackward>)]"
     },
     "execution_count": 14,
     "metadata": {},
     "output_type": "execute_result"
    }
   ],
   "source": [
    "optimizer = optimiser\n",
    "losses = []\n",
    "for i in range(10000):\n",
    "    preds = net.forward(torch.tensor( xor_inputs, dtype=torch.float64) )\n",
    "    loss = F.mse_loss(preds, torch.tensor( xor_outputs, dtype=torch.float64)).sqrt()\n",
    "    loss.backward()\n",
    "    optimizer.step()\n",
    "    optimizer.zero_grad()\n",
    "    losses.append(loss)  \n",
    "losses[-10:]\n"
   ]
  },
  {
   "cell_type": "code",
   "execution_count": 15,
   "metadata": {},
   "outputs": [
    {
     "data": {
      "text/plain": "tensor([[0.4630],\n        [0.5585],\n        [0.4334],\n        [0.5061],\n        [0.5118],\n        [0.5589],\n        [0.4330],\n        [0.4321],\n        [0.5393],\n        [0.5262]], dtype=torch.float64, grad_fn=<SliceBackward>)"
     },
     "execution_count": 15,
     "metadata": {},
     "output_type": "execute_result"
    }
   ],
   "source": [
    "preds[:10]"
   ]
  },
  {
   "cell_type": "code",
   "execution_count": 16,
   "metadata": {},
   "outputs": [
    {
     "data": {
      "text/plain": "{1: Parameter containing:\n tensor([[0.0062],\n         [0.3170]], dtype=torch.float64, requires_grad=True),\n 0: Parameter containing:\n tensor([], size=(0, 2), dtype=torch.float64, requires_grad=True)}"
     },
     "execution_count": 16,
     "metadata": {},
     "output_type": "execute_result"
    }
   ],
   "source": [
    "net.weights"
   ]
  },
  {
   "cell_type": "code",
   "execution_count": null,
   "metadata": {},
   "outputs": [],
   "source": []
  }
 ],
 "metadata": {
  "kernelspec": {
   "display_name": "Python 3.8.3 64-bit ('phd-neat': conda)",
   "metadata": {
    "interpreter": {
     "hash": "c7e7389da97c8c8d4efc0327b0c894dba1fed19f327bc3903c049dd709d9e547"
    }
   },
   "name": "python3"
  },
  "language_info": {
   "codemirror_mode": {
    "name": "ipython",
    "version": 3
   },
   "file_extension": ".py",
   "mimetype": "text/x-python",
   "name": "python",
   "nbconvert_exporter": "python",
   "pygments_lexer": "ipython3",
   "version": "3.8.3"
  },
  "orig_nbformat": 2
 },
 "nbformat": 4,
 "nbformat_minor": 2
}