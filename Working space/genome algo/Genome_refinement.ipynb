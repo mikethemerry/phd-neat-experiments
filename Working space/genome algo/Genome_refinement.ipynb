{
 "cells": [
  {
   "cell_type": "code",
   "execution_count": 1,
   "metadata": {},
   "outputs": [],
   "source": [
    "from explaneat.core import backprop\n",
    "from explaneat.core.backproppop import BackpropPopulation\n",
    "\n",
    "from explaneat.core.neuralneat import NeuralNeat as NeuralNeat\n",
    "\n",
    "import random\n",
    "\n",
    "import torch\n",
    "import torch.nn as nn\n",
    "import torch.optim as optim\n",
    "\n",
    "import neat\n",
    "\n",
    "from explaneat.core.utility import MethodTimer\n",
    "\n",
    "\n",
    "from explaneat.core.backprop import NeatNet\n",
    "from explaneat.core import backprop\n",
    "from explaneat.core.backproppop import BackpropPopulation\n",
    "# from explaneat.visualization import visualize\n",
    "from explaneat.core.experiment import ExperimentReporter\n",
    "\n",
    "from explaneat.core.neuralneat import NeuralNeat as nneat\n",
    "\n",
    "import torch.optim as optim\n",
    "\n",
    "from torch.functional import F\n",
    "\n",
    "\n",
    "\n",
    "\n",
    "\n",
    "\n"
   ]
  },
  {
   "cell_type": "code",
   "execution_count": 2,
   "metadata": {},
   "outputs": [],
   "source": [
    "RANDOM_SEED      = 42\n",
    "torch.manual_seed(RANDOM_SEED)\n",
    "random.seed(RANDOM_SEED)\n",
    "\n",
    "\n",
    "USE_CUDA = torch.cuda.is_available()\n",
    "USE_CUDA = False\n",
    "device = torch.device(\"cuda:1\" if USE_CUDA else \"cpu\")\n"
   ]
  },
  {
   "cell_type": "code",
   "execution_count": 3,
   "metadata": {},
   "outputs": [],
   "source": [
    "\n",
    "def xor(a, b, threshold = 0.5):\n",
    "    response = False\n",
    "    if a > threshold and b < threshold:\n",
    "        response = True\n",
    "    if a < threshold and b > threshold:\n",
    "        response = True\n",
    "    # return (1.0, 0.0) if response else (0.0, 1.0)\n",
    "    return 1.0 if response else 0.0\n",
    "    \n",
    "\n",
    "def create_n_points(n, size, min=0.0, max=1.0):\n",
    "    data = []\n",
    "    for _ in range(n):\n",
    "        data.append([\n",
    "            random.uniform(min, max) for ii in range(size)\n",
    "        ])\n",
    "\n",
    "    return data\n",
    "\n",
    "# correct solution:\n",
    "def softmax(x):\n",
    "    \"\"\"Compute softmax values for each sets of scores in x.\"\"\"\n",
    "    e_x = np.exp(x - np.max(x))\n",
    "    return e_x / e_x.sum(axis=0) # only difference\n",
    "\n",
    "def overUnder(val, threshold):\n",
    "    return 1. if val > threshold else 0\n",
    "\n",
    "xor_inputs = create_n_points(400, 2, -1, 1)\n",
    "\n",
    "xor_outputs = [\n",
    "    [xor(tup[0], tup[1], 0)] for tup in xor_inputs\n",
    "]"
   ]
  },
  {
   "cell_type": "code",
   "execution_count": 4,
   "metadata": {
    "tags": []
   },
   "outputs": [
    {
     "name": "stdout",
     "output_type": "stream",
     "text": [
      "The function - Backprop everything - has just started at 1644195753.132503\n",
      "The function - Backprop everything - took 0.0025060176849365234 seconds to complete\n",
      "The function - generationStart - has just started at 1644195753.135274\n",
      "\n",
      " ****** Running generation 0 ****** \n",
      "\n",
      "The function - generationStart - took 3.0040740966796875e-05 seconds to complete\n",
      "The function - pre_backprop - has just started at 1644195753.135435\n",
      "The function - pre_backprop - took 8.392333984375e-05 seconds to complete\n",
      "The function - backprop - has just started at 1644195753.1355321\n",
      "about to start backprop with 5 epochs\n",
      "mean improvement: -0.0016957445211506583\n",
      "best improvement: -0.002604102747592596\n",
      "best loss: 0.5006431066353582\n",
      "The function - backprop - took 0.2758960723876953 seconds to complete\n",
      "The function - post_backprop - has just started at 1644195753.411478\n",
      "The function - post_backprop - took 5.1021575927734375e-05 seconds to complete\n",
      "The function - evaluate fitness - has just started at 1644195753.41167\n",
      "{1: <neat.genome.DefaultGenome object at 0x7fcc22ed6100>, 2: <neat.genome.DefaultGenome object at 0x7fcc22ed6280>, 3: <neat.genome.DefaultGenome object at 0x7fcc22ed6460>, 4: <neat.genome.DefaultGenome object at 0x7fcc22ed65e0>, 5: <neat.genome.DefaultGenome object at 0x7fcc22ed6760>, 6: <neat.genome.DefaultGenome object at 0x7fcc22ed68e0>, 7: <neat.genome.DefaultGenome object at 0x7fcc22ed6a60>, 8: <neat.genome.DefaultGenome object at 0x7fcc22ed6c40>, 9: <neat.genome.DefaultGenome object at 0x7fcc22ed6dc0>, 10: <neat.genome.DefaultGenome object at 0x7fcc22ed6f40>, 11: <neat.genome.DefaultGenome object at 0x7fcc22ee00a0>, 12: <neat.genome.DefaultGenome object at 0x7fcc22ee0250>, 13: <neat.genome.DefaultGenome object at 0x7fcc22ee03d0>, 14: <neat.genome.DefaultGenome object at 0x7fcc22ee01f0>, 15: <neat.genome.DefaultGenome object at 0x7fcc22ee0730>, 16: <neat.genome.DefaultGenome object at 0x7fcc22ee0880>, 17: <neat.genome.DefaultGenome object at 0x7fcc22ee0a00>, 18: <neat.genome.DefaultGenome object at 0x7fcc22ee0b80>, 19: <neat.genome.DefaultGenome object at 0x7fcc22ee0d00>, 20: <neat.genome.DefaultGenome object at 0x7fcc22ee0eb0>, 21: <neat.genome.DefaultGenome object at 0x7fcc22ee0460>, 22: <neat.genome.DefaultGenome object at 0x7fcc22ee5160>, 23: <neat.genome.DefaultGenome object at 0x7fcc22ee52e0>, 24: <neat.genome.DefaultGenome object at 0x7fcc22ee5460>, 25: <neat.genome.DefaultGenome object at 0x7fcc22ee55e0>, 26: <neat.genome.DefaultGenome object at 0x7fcc22ee5760>, 27: <neat.genome.DefaultGenome object at 0x7fcc22ee58e0>, 28: <neat.genome.DefaultGenome object at 0x7fcc22ee5a60>, 29: <neat.genome.DefaultGenome object at 0x7fcc22ee5be0>, 30: <neat.genome.DefaultGenome object at 0x7fcc22ee5d60>, 31: <neat.genome.DefaultGenome object at 0x7fcc22ee5ee0>, 32: <neat.genome.DefaultGenome object at 0x7fcc22f270a0>, 33: <neat.genome.DefaultGenome object at 0x7fcc22f27220>, 34: <neat.genome.DefaultGenome object at 0x7fcc22f273a0>, 35: <neat.genome.DefaultGenome object at 0x7fcc22f27550>, 36: <neat.genome.DefaultGenome object at 0x7fcc22f276d0>, 37: <neat.genome.DefaultGenome object at 0x7fcc22f27520>, 38: <neat.genome.DefaultGenome object at 0x7fcc22f279a0>, 39: <neat.genome.DefaultGenome object at 0x7fcc22f27b50>, 40: <neat.genome.DefaultGenome object at 0x7fcc22f27cd0>, 41: <neat.genome.DefaultGenome object at 0x7fcc22f27af0>, 42: <neat.genome.DefaultGenome object at 0x7fcc22f27fd0>, 43: <neat.genome.DefaultGenome object at 0x7fcc22eea160>, 44: <neat.genome.DefaultGenome object at 0x7fcc22eea2e0>, 45: <neat.genome.DefaultGenome object at 0x7fcc22eea460>, 46: <neat.genome.DefaultGenome object at 0x7fcc22eea5e0>, 47: <neat.genome.DefaultGenome object at 0x7fcc22eea760>, 48: <neat.genome.DefaultGenome object at 0x7fcc22eea940>, 49: <neat.genome.DefaultGenome object at 0x7fcc22eeaac0>, 50: <neat.genome.DefaultGenome object at 0x7fcc22eeac10>, 51: <neat.genome.DefaultGenome object at 0x7fcc22eead90>, 52: <neat.genome.DefaultGenome object at 0x7fcc22eeaf40>, 53: <neat.genome.DefaultGenome object at 0x7fcc22eee0a0>, 54: <neat.genome.DefaultGenome object at 0x7fcc22eee220>, 55: <neat.genome.DefaultGenome object at 0x7fcc22eee3a0>, 56: <neat.genome.DefaultGenome object at 0x7fcc22eee520>, 57: <neat.genome.DefaultGenome object at 0x7fcc22eee6a0>, 58: <neat.genome.DefaultGenome object at 0x7fcc22eee820>, 59: <neat.genome.DefaultGenome object at 0x7fcc22eee9a0>, 60: <neat.genome.DefaultGenome object at 0x7fcc22eeeb20>, 61: <neat.genome.DefaultGenome object at 0x7fcc22eeeca0>, 62: <neat.genome.DefaultGenome object at 0x7fcc22eeee20>, 63: <neat.genome.DefaultGenome object at 0x7fcc22eeefa0>, 64: <neat.genome.DefaultGenome object at 0x7fcc22ef1160>, 65: <neat.genome.DefaultGenome object at 0x7fcc22ef12e0>, 66: <neat.genome.DefaultGenome object at 0x7fcc22ef1460>, 67: <neat.genome.DefaultGenome object at 0x7fcc22ef15e0>, 68: <neat.genome.DefaultGenome object at 0x7fcc22ef1760>, 69: <neat.genome.DefaultGenome object at 0x7fcc22ef18e0>, 70: <neat.genome.DefaultGenome object at 0x7fcc22ef1a60>, 71: <neat.genome.DefaultGenome object at 0x7fcc22ef1be0>, 72: <neat.genome.DefaultGenome object at 0x7fcc22ef1d60>, 73: <neat.genome.DefaultGenome object at 0x7fcc22ef1ee0>, 74: <neat.genome.DefaultGenome object at 0x7fcc22ef40a0>, 75: <neat.genome.DefaultGenome object at 0x7fcc22ef4220>, 76: <neat.genome.DefaultGenome object at 0x7fcc22ef43a0>, 77: <neat.genome.DefaultGenome object at 0x7fcc22ef4520>, 78: <neat.genome.DefaultGenome object at 0x7fcc22ef46a0>, 79: <neat.genome.DefaultGenome object at 0x7fcc22ef4820>, 80: <neat.genome.DefaultGenome object at 0x7fcc22ef49a0>, 81: <neat.genome.DefaultGenome object at 0x7fcc22ef4b20>, 82: <neat.genome.DefaultGenome object at 0x7fcc22ef4ca0>, 83: <neat.genome.DefaultGenome object at 0x7fcc22ef4e20>, 84: <neat.genome.DefaultGenome object at 0x7fcc22ef4fa0>, 85: <neat.genome.DefaultGenome object at 0x7fcc22ef61f0>, 86: <neat.genome.DefaultGenome object at 0x7fcc22ef6070>, 87: <neat.genome.DefaultGenome object at 0x7fcc22ef6490>, 88: <neat.genome.DefaultGenome object at 0x7fcc22ef6610>, 89: <neat.genome.DefaultGenome object at 0x7fcc22ef67f0>, 90: <neat.genome.DefaultGenome object at 0x7fcc22ef6970>, 91: <neat.genome.DefaultGenome object at 0x7fcc22ef6ac0>, 92: <neat.genome.DefaultGenome object at 0x7fcc22ef6c40>, 93: <neat.genome.DefaultGenome object at 0x7fcc22ef6dc0>, 94: <neat.genome.DefaultGenome object at 0x7fcc22ef6f40>, 95: <neat.genome.DefaultGenome object at 0x7fcc22ef80a0>, 96: <neat.genome.DefaultGenome object at 0x7fcc22ef8220>, 97: <neat.genome.DefaultGenome object at 0x7fcc22ef83a0>, 98: <neat.genome.DefaultGenome object at 0x7fcc22ef8520>, 99: <neat.genome.DefaultGenome object at 0x7fcc22ef86a0>, 100: <neat.genome.DefaultGenome object at 0x7fcc22ef8820>}\n",
      "The function - evaluate fitness - took 0.11131811141967773 seconds to complete\n",
      "The function - post evaluate - has just started at 1644195753.523085\n",
      "Population's average fitness: 0.45846 stdev: 0.21223\n",
      "Best fitness: 1.25578 - size: (1, 2) - species 1 - id 60\n",
      "Key: 60\n",
      "Fitness: 1.2557843923568726\n",
      "Nodes:\n",
      "\t0 DefaultNodeGene(key=0, bias=0.06701020107735467, response=1.0, activation=sigmoid, aggregation=sum)\n",
      "Connections:\n",
      "\tDefaultConnectionGene(key=(-2, 0), weight=0.2691518384860744, enabled=True)\n",
      "\tDefaultConnectionGene(key=(-1, 0), weight=0.1269440004873653, enabled=True)\n",
      "ending generation %s\n",
      "The function - post evaluate - took 0.004414796829223633 seconds to complete\n",
      "The function - pre_reproduction - has just started at 1644195753.527649\n",
      "The function - pre_reproduction - took 1.5974044799804688e-05 seconds to complete\n",
      "The function - reproduction - has just started at 1644195753.5276768\n",
      "Average adjusted fitness: 0.334\n",
      "The function - reproduction - took 0.0018732547760009766 seconds to complete\n",
      "The function - post reproduction - has just started at 1644195753.5295758\n",
      "The function - post reproduction - took 2.4080276489257812e-05 seconds to complete\n",
      "The function - speciate - has just started at 1644195753.529613\n",
      "Mean genetic distance 1.269, standard deviation 0.479\n",
      "The function - speciate - took 0.0012030601501464844 seconds to complete\n",
      "The function - end generation - has just started at 1644195753.530831\n",
      "Population of 100 members in 1 species:\n",
      "   ID   age  size  fitness  adj fit  stag\n",
      "  ====  ===  ====  =======  =======  ====\n",
      "     1    0   100      1.3    0.334     0\n",
      "Total extinctions: 0\n",
      "Generation time: 0.396 sec\n",
      "The function - end generation - took 0.0002880096435546875 seconds to complete\n",
      "The function - generationStart - has just started at 1644195753.5311282\n",
      "\n",
      " ****** Running generation 1 ****** \n",
      "\n",
      "The function - generationStart - took 1.8835067749023438e-05 seconds to complete\n",
      "The function - pre_backprop - has just started at 1644195753.531156\n",
      "The function - pre_backprop - took 9.274482727050781e-05 seconds to complete\n",
      "The function - backprop - has just started at 1644195753.5312588\n",
      "about to start backprop with 5 epochs\n",
      "mean improvement: -0.0016576923096141439\n",
      "best improvement: -0.0036005401955915284\n",
      "best loss: 0.5001313830788091\n",
      "The function - backprop - took 0.12440013885498047 seconds to complete\n",
      "The function - post_backprop - has just started at 1644195753.655673\n",
      "The function - post_backprop - took 1.6927719116210938e-05 seconds to complete\n",
      "The function - evaluate fitness - has just started at 1644195753.655711\n",
      "{60: <neat.genome.DefaultGenome object at 0x7fcc22eeeb20>, 48: <neat.genome.DefaultGenome object at 0x7fcc22eea940>, 101: <neat.genome.DefaultGenome object at 0x7fcc22f10550>, 102: <neat.genome.DefaultGenome object at 0x7fcbe0151790>, 103: <neat.genome.DefaultGenome object at 0x7fcbe0151910>, 104: <neat.genome.DefaultGenome object at 0x7fcbe0151a90>, 105: <neat.genome.DefaultGenome object at 0x7fcbe0151c10>, 106: <neat.genome.DefaultGenome object at 0x7fcbe0151d90>, 107: <neat.genome.DefaultGenome object at 0x7fcbe015c070>, 108: <neat.genome.DefaultGenome object at 0x7fcbe015c1f0>, 109: <neat.genome.DefaultGenome object at 0x7fcbe015c370>, 110: <neat.genome.DefaultGenome object at 0x7fcbe015c610>, 111: <neat.genome.DefaultGenome object at 0x7fcbe015c8b0>, 112: <neat.genome.DefaultGenome object at 0x7fcbe015ca30>, 113: <neat.genome.DefaultGenome object at 0x7fcbe015cbb0>, 114: <neat.genome.DefaultGenome object at 0x7fcbe015cd30>, 115: <neat.genome.DefaultGenome object at 0x7fcbe015ceb0>, 116: <neat.genome.DefaultGenome object at 0x7fcbe015f070>, 117: <neat.genome.DefaultGenome object at 0x7fcbe015f1f0>, 118: <neat.genome.DefaultGenome object at 0x7fcbe015f370>, 119: <neat.genome.DefaultGenome object at 0x7fcbe015f4f0>, 120: <neat.genome.DefaultGenome object at 0x7fcbe015f670>, 121: <neat.genome.DefaultGenome object at 0x7fcbe015f7f0>, 122: <neat.genome.DefaultGenome object at 0x7fcbe015f970>, 123: <neat.genome.DefaultGenome object at 0x7fcbe015faf0>, 124: <neat.genome.DefaultGenome object at 0x7fcbe015fc70>, 125: <neat.genome.DefaultGenome object at 0x7fcbe015fdf0>, 126: <neat.genome.DefaultGenome object at 0x7fcbe015ff70>, 127: <neat.genome.DefaultGenome object at 0x7fcbe0162130>, 128: <neat.genome.DefaultGenome object at 0x7fcbe01622b0>, 129: <neat.genome.DefaultGenome object at 0x7fcbe0162430>, 130: <neat.genome.DefaultGenome object at 0x7fcbe01625b0>, 131: <neat.genome.DefaultGenome object at 0x7fcbe0162730>, 132: <neat.genome.DefaultGenome object at 0x7fcbe01628b0>, 133: <neat.genome.DefaultGenome object at 0x7fcbe0162a30>, 134: <neat.genome.DefaultGenome object at 0x7fcbe0162bb0>, 135: <neat.genome.DefaultGenome object at 0x7fcbe0162d30>, 136: <neat.genome.DefaultGenome object at 0x7fcbe0162eb0>, 137: <neat.genome.DefaultGenome object at 0x7fcbe0165070>, 138: <neat.genome.DefaultGenome object at 0x7fcbe01651f0>, 139: <neat.genome.DefaultGenome object at 0x7fcbe0165370>, 140: <neat.genome.DefaultGenome object at 0x7fcbe01654f0>, 141: <neat.genome.DefaultGenome object at 0x7fcbe0165670>, 142: <neat.genome.DefaultGenome object at 0x7fcbe01657f0>, 143: <neat.genome.DefaultGenome object at 0x7fcbe0165a90>, 144: <neat.genome.DefaultGenome object at 0x7fcbe0165c10>, 145: <neat.genome.DefaultGenome object at 0x7fcbe0165d90>, 146: <neat.genome.DefaultGenome object at 0x7fcbe0165f10>, 147: <neat.genome.DefaultGenome object at 0x7fcbe01671f0>, 148: <neat.genome.DefaultGenome object at 0x7fcbe0167370>, 149: <neat.genome.DefaultGenome object at 0x7fcbe01674f0>, 150: <neat.genome.DefaultGenome object at 0x7fcbe0167670>, 151: <neat.genome.DefaultGenome object at 0x7fcbe01677f0>, 152: <neat.genome.DefaultGenome object at 0x7fcbe0167970>, 153: <neat.genome.DefaultGenome object at 0x7fcbe0167af0>, 154: <neat.genome.DefaultGenome object at 0x7fcbe0167c70>, 155: <neat.genome.DefaultGenome object at 0x7fcbe0167f10>, 156: <neat.genome.DefaultGenome object at 0x7fcbe01690d0>, 157: <neat.genome.DefaultGenome object at 0x7fcbe0169250>, 158: <neat.genome.DefaultGenome object at 0x7fcbe01693d0>, 159: <neat.genome.DefaultGenome object at 0x7fcbe0169550>, 160: <neat.genome.DefaultGenome object at 0x7fcbe01696d0>, 161: <neat.genome.DefaultGenome object at 0x7fcbe0169850>, 162: <neat.genome.DefaultGenome object at 0x7fcbe01699d0>, 163: <neat.genome.DefaultGenome object at 0x7fcbe0169c70>, 164: <neat.genome.DefaultGenome object at 0x7fcbe0169df0>, 165: <neat.genome.DefaultGenome object at 0x7fcbe0169f70>, 166: <neat.genome.DefaultGenome object at 0x7fcbe016c130>, 167: <neat.genome.DefaultGenome object at 0x7fcbe016c2b0>, 168: <neat.genome.DefaultGenome object at 0x7fcbe016c430>, 169: <neat.genome.DefaultGenome object at 0x7fcbe016c5b0>, 170: <neat.genome.DefaultGenome object at 0x7fcbe016c730>, 171: <neat.genome.DefaultGenome object at 0x7fcbe016c8b0>, 172: <neat.genome.DefaultGenome object at 0x7fcbe016ca30>, 173: <neat.genome.DefaultGenome object at 0x7fcbe016ccd0>, 174: <neat.genome.DefaultGenome object at 0x7fcbe016ce50>, 175: <neat.genome.DefaultGenome object at 0x7fcbe016cfd0>, 176: <neat.genome.DefaultGenome object at 0x7fcbe016f190>, 177: <neat.genome.DefaultGenome object at 0x7fcbe016f310>, 178: <neat.genome.DefaultGenome object at 0x7fcbe016f490>, 179: <neat.genome.DefaultGenome object at 0x7fcbe016f610>, 180: <neat.genome.DefaultGenome object at 0x7fcbe016f790>, 181: <neat.genome.DefaultGenome object at 0x7fcbe016f910>, 182: <neat.genome.DefaultGenome object at 0x7fcbe016fa90>, 183: <neat.genome.DefaultGenome object at 0x7fcbe016fc10>, 184: <neat.genome.DefaultGenome object at 0x7fcbe016fd90>, 185: <neat.genome.DefaultGenome object at 0x7fcbe016ff10>, 186: <neat.genome.DefaultGenome object at 0x7fcbe01720d0>, 187: <neat.genome.DefaultGenome object at 0x7fcbe0172250>, 188: <neat.genome.DefaultGenome object at 0x7fcbe01723d0>, 189: <neat.genome.DefaultGenome object at 0x7fcbe0172550>, 190: <neat.genome.DefaultGenome object at 0x7fcbe01727f0>, 191: <neat.genome.DefaultGenome object at 0x7fcbe0172970>, 192: <neat.genome.DefaultGenome object at 0x7fcbe0172af0>, 193: <neat.genome.DefaultGenome object at 0x7fcbe0172c70>, 194: <neat.genome.DefaultGenome object at 0x7fcbe0172df0>, 195: <neat.genome.DefaultGenome object at 0x7fcbe0172f70>, 196: <neat.genome.DefaultGenome object at 0x7fcbe0175130>, 197: <neat.genome.DefaultGenome object at 0x7fcbe01752b0>, 198: <neat.genome.DefaultGenome object at 0x7fcbe0175430>}\n",
      "The function - evaluate fitness - took 0.09958004951477051 seconds to complete\n",
      "The function - post evaluate - has just started at 1644195753.755357\n",
      "Population's average fitness: 0.64241 stdev: 0.27044\n",
      "Best fitness: 1.36265 - size: (2, 3) - species 1 - id 106\n",
      "Key: 106\n",
      "Fitness: 1.3626459836959839\n",
      "Nodes:\n",
      "\t0 DefaultNodeGene(key=0, bias=-0.1238014040242528, response=1.0, activation=sigmoid, aggregation=sum)\n",
      "\t1 DefaultNodeGene(key=1, bias=-2.594966385433642, response=1.0, activation=sigmoid, aggregation=sum)\n",
      "Connections:\n",
      "\tDefaultConnectionGene(key=(-2, 0), weight=-0.02214345565287014, enabled=True)\n",
      "\tDefaultConnectionGene(key=(-1, 0), weight=-0.455489692522227, enabled=False)\n",
      "\tDefaultConnectionGene(key=(-1, 1), weight=1.6524593780898431, enabled=True)\n",
      "\tDefaultConnectionGene(key=(1, 0), weight=-1.082095303594005, enabled=True)\n",
      "\n",
      "\n",
      " SPECIES TOPOLOGY IMPROVEMENT\n",
      "\n",
      "\n",
      "{'genome': <neat.genome.DefaultGenome object at 0x7fcc22ef8490>, 'fitness': 1.3626459836959839, 'firstDerivatives': [0.0, 0.10686159133911133], 'secondDerivatives': [0.0, 0.10686159133911133]}\n",
      "Key: 106\n",
      "Fitness: 1.3626459836959839\n",
      "Nodes:\n",
      "\t0 DefaultNodeGene(key=0, bias=-0.1238014040242528, response=1.0, activation=sigmoid, aggregation=sum)\n",
      "\t1 DefaultNodeGene(key=1, bias=-2.594966385433642, response=1.0, activation=sigmoid, aggregation=sum)\n",
      "Connections:\n",
      "\tDefaultConnectionGene(key=(-2, 0), weight=-0.02214345565287014, enabled=True)\n",
      "\tDefaultConnectionGene(key=(-1, 0), weight=-0.455489692522227, enabled=False)\n",
      "\tDefaultConnectionGene(key=(-1, 1), weight=1.6524593780898431, enabled=True)\n",
      "\tDefaultConnectionGene(key=(1, 0), weight=-1.082095303594005, enabled=True)\n",
      "Nodes\n",
      "0    DefaultNodeGene(key=0, bias=-0.1238014040242528, response=1.0, activation=sigmoid, aggregation=sum)\n",
      "1    DefaultNodeGene(key=1, bias=-2.594966385433642, response=1.0, activation=sigmoid, aggregation=sum)\n",
      "Connections\n",
      "(-1, 0)    DefaultConnectionGene(key=(-1, 0), weight=-0.455489692522227, enabled=False)\n",
      "(-2, 0)    DefaultConnectionGene(key=(-2, 0), weight=-0.02214345565287014, enabled=True)\n",
      "(-1, 1)    DefaultConnectionGene(key=(-1, 1), weight=1.6524593780898431, enabled=True)\n",
      "(1, 0)    DefaultConnectionGene(key=(1, 0), weight=-1.082095303594005, enabled=True)\n",
      "ending generation %s\n",
      "The function - post evaluate - took 0.00416874885559082 seconds to complete\n",
      "The function - pre_reproduction - has just started at 1644195753.759639\n",
      "The function - pre_reproduction - took 8.20159912109375e-05 seconds to complete\n",
      "The function - reproduction - has just started at 1644195753.759732\n",
      "Average adjusted fitness: 0.379\n",
      "The function - reproduction - took 0.002106189727783203 seconds to complete\n",
      "The function - post reproduction - has just started at 1644195753.7618518\n",
      "The function - post reproduction - took 1.1205673217773438e-05 seconds to complete\n",
      "The function - speciate - has just started at 1644195753.761871\n",
      "Mean genetic distance 0.961, standard deviation 0.416\n",
      "The function - speciate - took 0.0010907649993896484 seconds to complete\n",
      "The function - end generation - has just started at 1644195753.762971\n",
      "Population of 100 members in 1 species:\n",
      "   ID   age  size  fitness  adj fit  stag\n",
      "  ====  ===  ====  =======  =======  ====\n",
      "     1    1   100      1.4    0.379     0\n",
      "Total extinctions: 0\n",
      "Generation time: 0.232 sec (0.314 average)\n",
      "The function - end generation - took 6.222724914550781e-05 seconds to complete\n",
      "{0: {'generation': 0, 'generationStartTime': 1644195753.135303, 'backpropStartTime': 1644195753.1354492, 'genomeNodeSizes': [1, 1, 1, 1, 1, 1, 1, 1, 1, 1, 1, 1, 1, 1, 1, 1, 1, 1, 1, 1, 1, 1, 1, 1, 1, 1, 1, 1, 1, 1, 1, 1, 1, 1, 1, 1, 1, 1, 1, 1, 1, 1, 1, 1, 1, 1, 1, 1, 1, 1, 1, 1, 1, 1, 1, 1, 1, 1, 1, 1, 1, 1, 1, 1, 1, 1, 1, 1, 1, 1, 1, 1, 1, 1, 1, 1, 1, 1, 1, 1, 1, 1, 1, 1, 1, 1, 1, 1, 1, 1, 1, 1, 1, 1, 1, 1, 1, 1, 1, 1], 'genomeNodeSizesMean': 1.0, 'genomeNodeSizesSD': 0.0, 'genomeConnectionSizes': [2, 2, 2, 2, 2, 2, 2, 2, 2, 2, 2, 2, 2, 2, 2, 2, 2, 2, 2, 2, 2, 2, 2, 2, 2, 2, 2, 2, 2, 2, 2, 2, 2, 2, 2, 2, 2, 2, 2, 2, 2, 2, 2, 2, 2, 2, 2, 2, 2, 2, 2, 2, 2, 2, 2, 2, 2, 2, 2, 2, 2, 2, 2, 2, 2, 2, 2, 2, 2, 2, 2, 2, 2, 2, 2, 2, 2, 2, 2, 2, 2, 2, 2, 2, 2, 2, 2, 2, 2, 2, 2, 2, 2, 2, 2, 2, 2, 2, 2, 2], 'genomeConnectionSizesMean': 2.0, 'genomeConnectionSizesSD': 0.0, 'backpropEndTime': 1644195753.411526, 'fitnesses': [0.1280885934829712, 0.5946162939071655, 0.3440779149532318, 0.6114730834960938, 0.4805753529071808, 0.41253939270973206, 0.3159407675266266, 0.23911307752132416, 0.3651064336299896, 0.31089282035827637, 0.346710741519928, 0.33610519766807556, 0.9806084632873535, 0.12644006311893463, 0.5433782935142517, 0.32139307260513306, 0.2314797043800354, 0.38091668486595154, 0.524113655090332, 0.6591944098472595, 0.41164371371269226, 0.3098772168159485, 0.47939133644104004, 0.7434777617454529, 0.4542929232120514, 0.3685795068740845, 0.4671161472797394, 0.27703583240509033, 0.6689590215682983, 0.36961254477500916, 0.29974761605262756, 0.5201742649078369, 0.49081864953041077, 0.30726033449172974, 0.18825675547122955, 0.4070029854774475, 0.9233542680740356, 0.05840834975242615, 0.2262047529220581, 0.3182241916656494, 0.31405386328697205, 0.3302224576473236, 0.1996976137161255, 0.3950445055961609, 0.2573421895503998, 0.2249230593442917, 0.46474456787109375, 1.1988962888717651, 0.3997347056865692, 0.3471626937389374, 0.10529884696006775, 0.6149460077285767, 0.4446619749069214, 0.8492321968078613, 0.3321284055709839, 0.7326238751411438, 0.25863537192344666, 0.837384819984436, 0.421703040599823, 1.2557843923568726, 0.6364758014678955, 0.6039624810218811, 0.3701832890510559, 0.3726100027561188, 0.3839893937110901, 0.5082898139953613, 0.446872353553772, 0.2777693271636963, 0.38781383633613586, 0.40358585119247437, 0.5069717168807983, 0.5155296325683594, 0.8519835472106934, 0.46000590920448303, 0.5318049192428589, 0.5464372634887695, 0.2960045337677002, 0.5200636386871338, 0.4008038341999054, 0.31374815106391907, 0.2464139461517334, 0.4054262340068817, 0.803432047367096, 0.5811368227005005, 0.8222900629043579, 0.8281646966934204, 0.3530639410018921, 0.52735435962677, 0.5981364846229553, 0.5314701795578003, 0.46992433071136475, 0.6027185916900635, 0.4543215334415436, 0.4461265802383423, 0.5472539663314819, 0.28765296936035156, 0.3771146535873413, 0.345168799161911, 0.4635806679725647, 0.29389429092407227], 'fitnessMean': 0.45845973521471023, 'fitnessSD': 0.21222954507522765, 'reproductionStartTime': 1644195753.5276642, 'reproductionEndTime': 1644195753.529599, 'generationEndTime': 1644195753.5311182}, 1: {'generation': 1, 'generationStartTime': 1644195753.531146, 'backpropStartTime': 1644195753.531165, 'genomeNodeSizes': [1, 1, 1, 1, 1, 1, 1, 2, 1, 1, 2, 2, 1, 1, 1, 1, 1, 1, 1, 1, 1, 1, 1, 1, 1, 1, 1, 1, 1, 1, 1, 1, 1, 1, 1, 1, 1, 1, 1, 1, 1, 1, 1, 2, 1, 1, 1, 2, 1, 1, 1, 1, 1, 1, 1, 2, 1, 1, 1, 1, 1, 1, 1, 2, 1, 1, 1, 1, 1, 1, 1, 1, 1, 2, 1, 1, 1, 1, 1, 1, 1, 1, 1, 1, 1, 1, 1, 1, 1, 1, 2, 1, 1, 1, 1, 1, 1, 1, 1, 1], 'genomeNodeSizesMean': 1.09, 'genomeNodeSizesSD': 0.28618176042508375, 'genomeConnectionSizes': [2, 2, 2, 2, 2, 2, 2, 4, 2, 2, 4, 4, 2, 2, 2, 2, 2, 2, 2, 2, 2, 2, 2, 2, 2, 2, 2, 2, 2, 2, 2, 2, 2, 2, 2, 2, 2, 2, 2, 2, 2, 2, 2, 4, 2, 2, 2, 4, 2, 2, 2, 2, 2, 2, 2, 4, 2, 2, 2, 2, 2, 2, 2, 4, 2, 2, 2, 2, 2, 2, 2, 2, 2, 4, 2, 2, 2, 2, 2, 2, 2, 2, 2, 2, 2, 2, 2, 2, 2, 2, 4, 2, 2, 2, 2, 2, 2, 2, 2, 2], 'genomeConnectionSizesMean': 2.18, 'genomeConnectionSizesSD': 0.5723635208501675, 'backpropEndTime': 1644195753.655689, 'fitnesses': [1.2820343971252441, 1.2256771326065063, 0.43524160981178284, 0.5773933529853821, 1.2590340375900269, 0.9835546612739563, 0.29745006561279297, 1.3626459836959839, 0.46164053678512573, 0.22988693416118622, 0.6324703097343445, 1.0657930374145508, 0.47678089141845703, 0.8932990431785583, 0.5215209126472473, 0.6805791258811951, 0.7039607167243958, 0.7617068290710449, 0.553976833820343, 0.5065281391143799, 0.8547074794769287, 1.141120195388794, 0.397993803024292, 0.6055942177772522, 0.6159278154373169, 1.132728934288025, 0.6203165650367737, 0.3295838236808777, 0.6356506943702698, 0.48324280977249146, 0.4059622287750244, 0.6221428513526917, 0.5153569579124451, 0.39332306385040283, 0.510539174079895, 0.3501994013786316, 0.37957295775413513, 0.6211830973625183, 0.4764423966407776, 0.38743045926094055, 0.8180769085884094, 0.42336344718933105, 0.5333916544914246, 0.6864357590675354, 0.6330344676971436, 0.7628357410430908, 0.20361210405826569, 1.1681071519851685, 0.6783660054206848, 0.8463290333747864, 0.5007798075675964, 0.7498941421508789, 0.7414016723632812, 0.6456446647644043, 0.6192775964736938, 0.48178714513778687, 0.4321456253528595, 0.49480193853378296, 0.393049955368042, 0.5061569213867188, 0.46118438243865967, 0.6303462982177734, 0.7719355225563049, 0.4059682786464691, 0.8580249547958374, 0.3880387544631958, 0.6441069841384888, 1.125175952911377, 0.37989744544029236, 1.3059217929840088, 0.3279198706150055, 0.4953615963459015, 0.963533341884613, 1.2686350345611572, 0.6342928409576416, 0.7277999520301819, 0.4363022446632385, 0.4219847023487091, 0.758321225643158, 0.25159555673599243, 0.7745043039321899, 0.5673847794532776, 0.5413193106651306, 0.4817740321159363, 0.48523950576782227, 0.4592457711696625, 0.8102074861526489, 0.7094824314117432, 0.3135695159435272, 0.45787695050239563, 0.2616692781448364, 0.3554069697856903, 0.620159924030304, 0.9130978584289551, 0.4837705194950104, 0.5856903195381165, 0.6230455040931702, 0.6266130208969116, 1.178887963294983, 1.02713143825531], 'fitnessMean': 0.642411088347435, 'fitnessSD': 0.2704442677979966, 'reproductionStartTime': 1644195753.7597198, 'reproductionEndTime': 1644195753.7618618, 'generationEndTime': 1644195753.763032}}\n"
     ]
    }
   ],
   "source": [
    "config_path = \"./config_xor\"\n",
    "base_config = neat.Config(neat.DefaultGenome, neat.DefaultReproduction,\n",
    "                     neat.DefaultSpeciesSet, neat.DefaultStagnation,\n",
    "                     config_path)\n",
    "\n",
    "def instantiate_population(config, xs, ys, saveLocation):\n",
    "\n",
    "    if not os.path.exists(saveLocation):\n",
    "        os.makedirs(saveLocation)\n",
    "        \n",
    "    config.save(os.path.join(saveLocation, 'config.conf'))\n",
    "\n",
    "    # Create the population, which is the top-level object for a NEAT run.\n",
    "    with MethodTimer(\"Backprop everything\"):\n",
    "        p = BackpropPopulation(config, \n",
    "                                xs, \n",
    "                                ys, \n",
    "                                criterion=nn.BCEWithLogitsLoss())\n",
    "\n",
    "    # Add a stdout reporter to show progress in the terminal.\n",
    "    p.add_reporter(neat.StdOutReporter(True))\n",
    "    stats = neat.StatisticsReporter()\n",
    "    p.add_reporter(stats)\n",
    "    p.add_reporter(neat.Checkpointer(5, filename_prefix=str(saveLocation) + \"checkpoint-\" ))\n",
    "    bpReporter = backprop.BackpropReporter(True)\n",
    "    p.add_reporter(bpReporter)\n",
    "    p.add_reporter(ExperimentReporter(saveLocation))\n",
    "    \n",
    "    return p\n",
    "\n",
    "def eval_genomes(genomes, config):\n",
    "    \n",
    "    print(genomes)\n",
    "    loss = nn.BCELoss()\n",
    "    loss = loss.to(device)\n",
    "    for genome_id, genome in genomes.items():\n",
    "        net = neat.nn.FeedForwardNetwork.create(genome, config)\n",
    "        preds = []\n",
    "        for xi in xor_inputs:\n",
    "            preds.append(net.activate(xi))\n",
    "        genome.fitness = float(1./loss(torch.tensor(preds).to(device), torch.tensor(xor_outputs)))\n",
    "\n",
    "config = base_config\n",
    "saveLocation = './'\n",
    "maxNGenerations = 2\n",
    "p = instantiate_population(config, xor_inputs, xor_outputs, saveLocation)\n",
    "# Run for up to nGenerations generations.\n",
    "winner = p.run(eval_genomes, maxNGenerations, nEpochs = 5)\n",
    "\n",
    "g = p.best_genome\n"
   ]
  },
  {
   "cell_type": "code",
   "execution_count": 5,
   "metadata": {},
   "outputs": [
    {
     "name": "stdout",
     "output_type": "stream",
     "text": [
      "Key: 106\n",
      "Fitness: 1.3626459836959839\n",
      "Nodes:\n",
      "\t0 DefaultNodeGene(key=0, bias=-0.1238014040242528, response=1.0, activation=sigmoid, aggregation=sum)\n",
      "\t1 DefaultNodeGene(key=1, bias=-2.594966385433642, response=1.0, activation=sigmoid, aggregation=sum)\n",
      "Connections:\n",
      "\tDefaultConnectionGene(key=(-2, 0), weight=-0.02214345565287014, enabled=True)\n",
      "\tDefaultConnectionGene(key=(-1, 0), weight=-0.455489692522227, enabled=False)\n",
      "\tDefaultConnectionGene(key=(-1, 1), weight=1.6524593780898431, enabled=True)\n",
      "\tDefaultConnectionGene(key=(1, 0), weight=-1.082095303594005, enabled=True)\n"
     ]
    }
   ],
   "source": [
    "print(g)"
   ]
  },
  {
   "cell_type": "code",
   "execution_count": 6,
   "metadata": {},
   "outputs": [],
   "source": [
    "net = nneat(g, p.config, criterion=nn.BCEWithLogitsLoss())\n"
   ]
  },
  {
   "cell_type": "code",
   "execution_count": 7,
   "metadata": {},
   "outputs": [
    {
     "data": {
      "text/plain": "{(-1, 0): <neat.genes.DefaultConnectionGene at 0x7fcbe0151df0>,\n (-2, 0): <neat.genes.DefaultConnectionGene at 0x7fcbe0151e50>,\n (-1, 1): <neat.genes.DefaultConnectionGene at 0x7fcbe0151f70>,\n (1, 0): <neat.genes.DefaultConnectionGene at 0x7fcbe0151fd0>}"
     },
     "execution_count": 7,
     "metadata": {},
     "output_type": "execute_result"
    }
   ],
   "source": [
    "net.genome.connections\n",
    "# Error is in inputs not being updated with extra info from skip layers"
   ]
  },
  {
   "cell_type": "code",
   "execution_count": 8,
   "metadata": {},
   "outputs": [
    {
     "data": {
      "text/plain": "tensor([[0.4459],\n        [0.4629],\n        [0.4296],\n        [0.4164],\n        [0.4596],\n        [0.4613],\n        [0.4683],\n        [0.4393],\n        [0.4604],\n        [0.4285]], dtype=torch.float64, grad_fn=<SliceBackward0>)"
     },
     "execution_count": 8,
     "metadata": {},
     "output_type": "execute_result"
    }
   ],
   "source": [
    "net.forward(torch.tensor( xor_inputs[:10], dtype=torch.float64) ) [:10]"
   ]
  },
  {
   "cell_type": "code",
   "execution_count": 9,
   "metadata": {},
   "outputs": [
    {
     "data": {
      "text/plain": "tensor([[0.4459],\n        [0.4629],\n        [0.4296],\n        [0.4164],\n        [0.4596],\n        [0.4613],\n        [0.4683],\n        [0.4393],\n        [0.4604],\n        [0.4285],\n        [0.4215],\n        [0.4615],\n        [0.4037],\n        [0.4684],\n        [0.4171],\n        [0.4210],\n        [0.4431],\n        [0.4557],\n        [0.4194],\n        [0.4155]], dtype=torch.float64, grad_fn=<SliceBackward0>)"
     },
     "execution_count": 9,
     "metadata": {},
     "output_type": "execute_result"
    }
   ],
   "source": [
    "net.forward(torch.tensor( xor_inputs, dtype=torch.float64) )[:20]"
   ]
  },
  {
   "cell_type": "code",
   "execution_count": 10,
   "metadata": {},
   "outputs": [],
   "source": [
    "# net.optimiser.zero_grad()"
   ]
  },
  {
   "cell_type": "code",
   "execution_count": 11,
   "metadata": {},
   "outputs": [],
   "source": [
    "# net.optimise(xor_inputs, xor_outputs)"
   ]
  },
  {
   "cell_type": "code",
   "execution_count": 12,
   "metadata": {},
   "outputs": [],
   "source": [
    "optimiser = optim.Adadelta(net.parameters())"
   ]
  },
  {
   "cell_type": "code",
   "execution_count": 13,
   "metadata": {},
   "outputs": [
    {
     "data": {
      "text/plain": "{2: Parameter containing:\n tensor([[ 0.0000],\n         [-0.0221],\n         [-1.0821]], dtype=torch.float64, requires_grad=True),\n 1: Parameter containing:\n tensor([[1.6525],\n         [0.0000]], dtype=torch.float64, requires_grad=True),\n 0: Parameter containing:\n tensor([], size=(0, 2), dtype=torch.float64, requires_grad=True)}"
     },
     "execution_count": 13,
     "metadata": {},
     "output_type": "execute_result"
    }
   ],
   "source": [
    "net.weights"
   ]
  },
  {
   "cell_type": "code",
   "execution_count": 14,
   "metadata": {},
   "outputs": [
    {
     "data": {
      "text/plain": "[tensor(0.3110, dtype=torch.float64, grad_fn=<SqrtBackward0>),\n tensor(0.3110, dtype=torch.float64, grad_fn=<SqrtBackward0>),\n tensor(0.3110, dtype=torch.float64, grad_fn=<SqrtBackward0>),\n tensor(0.3110, dtype=torch.float64, grad_fn=<SqrtBackward0>),\n tensor(0.3110, dtype=torch.float64, grad_fn=<SqrtBackward0>),\n tensor(0.3110, dtype=torch.float64, grad_fn=<SqrtBackward0>),\n tensor(0.3110, dtype=torch.float64, grad_fn=<SqrtBackward0>),\n tensor(0.3110, dtype=torch.float64, grad_fn=<SqrtBackward0>),\n tensor(0.3110, dtype=torch.float64, grad_fn=<SqrtBackward0>),\n tensor(0.3110, dtype=torch.float64, grad_fn=<SqrtBackward0>)]"
     },
     "execution_count": 14,
     "metadata": {},
     "output_type": "execute_result"
    }
   ],
   "source": [
    "optimizer = optimiser\n",
    "losses = []\n",
    "for i in range(10000):\n",
    "    preds = net.forward(torch.tensor( xor_inputs, dtype=torch.float64) )\n",
    "    loss = F.mse_loss(preds, torch.tensor( xor_outputs, dtype=torch.float64)).sqrt()\n",
    "    loss.backward()\n",
    "    optimizer.step()\n",
    "    optimizer.zero_grad()\n",
    "    losses.append(loss)  \n",
    "losses[-10:]\n"
   ]
  },
  {
   "cell_type": "code",
   "execution_count": 15,
   "metadata": {},
   "outputs": [
    {
     "data": {
      "text/plain": "tensor([[0.4537],\n        [0.1222],\n        [0.1333],\n        [0.8947],\n        [0.0720],\n        [0.6354],\n        [0.0056],\n        [0.8048],\n        [0.7977],\n        [0.7745]], dtype=torch.float64, grad_fn=<SliceBackward0>)"
     },
     "execution_count": 15,
     "metadata": {},
     "output_type": "execute_result"
    }
   ],
   "source": [
    "preds[:10]"
   ]
  },
  {
   "cell_type": "code",
   "execution_count": 16,
   "metadata": {},
   "outputs": [
    {
     "data": {
      "text/plain": "{2: Parameter containing:\n tensor([[  5.9992],\n         [  6.1189],\n         [-17.7367]], dtype=torch.float64, requires_grad=True),\n 1: Parameter containing:\n tensor([[3.2649],\n         [3.1909]], dtype=torch.float64, requires_grad=True),\n 0: Parameter containing:\n tensor([], size=(0, 2), dtype=torch.float64, requires_grad=True)}"
     },
     "execution_count": 16,
     "metadata": {},
     "output_type": "execute_result"
    }
   ],
   "source": [
    "net.weights"
   ]
  },
  {
   "cell_type": "code",
   "execution_count": 17,
   "metadata": {},
   "outputs": [
    {
     "data": {
      "text/plain": "{2: {'nodes': {0: {'depth': 2,\n    'output_ids': [],\n    'input_ids': [-1, -2, 1],\n    'depths': [],\n    'output_layers': [],\n    'needs_skip': False,\n    'id': 0,\n    'input_layers': [0, 0, 1],\n    'skip_layer_input': True,\n    'layer_index': 0}},\n  'is_output_layer': True,\n  'is_input_layer': False,\n  'layer_type': 'OUTPUT',\n  'input_layers': [0, 1],\n  'input_shape': 3,\n  'weights_shape': (3, 1),\n  'out_weights': [],\n  'bias': [-0.1238014040242528],\n  'in_weights': [[0]],\n  'input_weights': array([[ 0.        ],\n         [-0.02214346],\n         [-1.0820953 ]]),\n  'input_map': {(-2, 0): (1, 0), (1, 0): (2, 0)}},\n 1: {'nodes': {1: {'depth': 1,\n    'output_ids': [0],\n    'input_ids': [-1],\n    'depths': [],\n    'output_layers': [2],\n    'needs_skip': False,\n    'id': 1,\n    'input_layers': [0],\n    'skip_layer_input': False,\n    'layer_index': 0}},\n  'is_output_layer': False,\n  'is_input_layer': False,\n  'layer_type': 'CONNECTED',\n  'input_layers': [0],\n  'input_shape': 2,\n  'weights_shape': (2, 1),\n  'out_weights': [[0]],\n  'in_weights': [[0, 0]],\n  'bias': [-2.594966385433642],\n  'input_weights': array([[1.65245938],\n         [0.        ]]),\n  'input_map': {(-1, 1): (0, 0)}},\n 0: {'nodes': {-1: {'depth': 0,\n    'output_ids': [0, 1],\n    'input_ids': [],\n    'output_layers': [2, 1],\n    'needs_skip': True,\n    'id': -1,\n    'input_layers': [],\n    'skip_layer_input': False,\n    'layer_index': 0},\n   -2: {'depth': 0,\n    'output_ids': [0],\n    'input_ids': [],\n    'output_layers': [2],\n    'needs_skip': True,\n    'id': -2,\n    'input_layers': [],\n    'skip_layer_input': False,\n    'layer_index': 1}},\n  'is_output_layer': False,\n  'is_input_layer': True,\n  'layer_type': 'INPUT',\n  'input_layers': [],\n  'input_shape': 0,\n  'weights_shape': (0, 2),\n  'in_weights': [],\n  'bias': [],\n  'out_weights': [[0], [0]],\n  'input_weights': array([], shape=(0, 2), dtype=float64),\n  'input_map': {}}}"
     },
     "execution_count": 17,
     "metadata": {},
     "output_type": "execute_result"
    }
   ],
   "source": [
    "net.layers"
   ]
  },
  {
   "cell_type": "code",
   "execution_count": 18,
   "metadata": {},
   "outputs": [
    {
     "data": {
      "text/plain": "2"
     },
     "execution_count": 18,
     "metadata": {},
     "output_type": "execute_result"
    }
   ],
   "source": [
    "net.node_tracker[0]['depth']"
   ]
  },
  {
   "cell_type": "code",
   "execution_count": 19,
   "metadata": {},
   "outputs": [
    {
     "name": "stdout",
     "output_type": "stream",
     "text": [
      "the reached nodes are\n",
      "[-1, -2, 0, 1, 0, 0]\n"
     ]
    }
   ],
   "source": [
    "\n",
    "\n",
    "reached_nodes = []\n",
    "\n",
    "node_stack = []\n",
    "\n",
    "# Instantiate stack with depth==0 nodes\n",
    "for node_id, node in net.node_tracker.items():\n",
    "    if node_id < 0:\n",
    "        node_stack.append(node_id)\n",
    "\n",
    "while len(node_stack) > 0:\n",
    "    reached_nodes.append(node_stack[0])\n",
    "    for node_id in net.node_tracker[node_stack[0]]['output_ids']:\n",
    "        node_stack.append(node_id)\n",
    "    del(node_stack[0])\n",
    "\n",
    "if True:\n",
    "    print(\"the reached nodes are\")\n",
    "    print(reached_nodes)\n",
    "\n",
    "\n",
    "for node_id in net.node_tracker:\n",
    "    if not node_id in reached_nodes:\n",
    "        print(reached_nodes)\n",
    "        print(net.node_tracker)\n",
    "        print(\"I can't reach this node {}\".format(node_id))"
   ]
  },
  {
   "cell_type": "code",
   "execution_count": 20,
   "metadata": {},
   "outputs": [
    {
     "name": "stdout",
     "output_type": "stream",
     "text": [
      "Key: 106\n",
      "Fitness: 1.3626459836959839\n",
      "Nodes:\n",
      "\t0 DefaultNodeGene(key=0, bias=-0.1238014040242528, response=1.0, activation=sigmoid, aggregation=sum)\n",
      "\t1 DefaultNodeGene(key=1, bias=-2.594966385433642, response=1.0, activation=sigmoid, aggregation=sum)\n",
      "Connections:\n",
      "\tDefaultConnectionGene(key=(-2, 0), weight=-0.02214345565287014, enabled=True)\n",
      "\tDefaultConnectionGene(key=(-1, 0), weight=-0.455489692522227, enabled=False)\n",
      "\tDefaultConnectionGene(key=(-1, 1), weight=1.6524593780898431, enabled=True)\n",
      "\tDefaultConnectionGene(key=(1, 0), weight=-1.082095303594005, enabled=True)\n"
     ]
    }
   ],
   "source": [
    "print(net.genome)"
   ]
  },
  {
   "cell_type": "code",
   "execution_count": 21,
   "metadata": {},
   "outputs": [
    {
     "data": {
      "text/plain": "{2: {'nodes': {0: {'depth': 2,\n    'output_ids': [],\n    'input_ids': [-2, 1],\n    'depths': [1, 2],\n    'on_path_to_output': True,\n    'on_path_to_input': False,\n    'is_input': False,\n    'is_output': True,\n    'is_valid': True,\n    'output_layers': [],\n    'input_layers': [0, 1],\n    'skips_in': True,\n    'skips_out': False,\n    'layer': 2,\n    'layer_index': 0}},\n  'is_output_layer': True,\n  'is_input_layer': False,\n  'layer_type': 'OUTPUT',\n  'layer_activation': 'Sigmoid',\n  'input_layers': [0, 1],\n  'input_shape': 3,\n  'output_shape': 1,\n  'weights_shape': (3, 1),\n  'input_map': {},\n  'shape': (3, 1)},\n 1: {'nodes': {1: {'depth': 1,\n    'output_ids': [0],\n    'input_ids': [-1],\n    'depths': [1],\n    'on_path_to_output': True,\n    'on_path_to_input': True,\n    'is_input': False,\n    'is_output': False,\n    'is_valid': True,\n    'output_layers': [2],\n    'input_layers': [0],\n    'skips_in': False,\n    'skips_out': False,\n    'layer': 1,\n    'layer_index': 0}},\n  'is_output_layer': False,\n  'is_input_layer': False,\n  'layer_type': 'CONNECTED',\n  'layer_activation': 'ReLU',\n  'input_layers': [0],\n  'input_shape': 2,\n  'output_shape': 1,\n  'weights_shape': (2, 1),\n  'input_map': {},\n  'shape': (2, 1)},\n 0: {'nodes': {-1: {'depth': 0,\n    'output_ids': [1],\n    'input_ids': [],\n    'depths': [],\n    'on_path_to_output': False,\n    'on_path_to_input': True,\n    'is_input': True,\n    'is_output': False,\n    'is_valid': True,\n    'output_layers': [1],\n    'input_layers': [],\n    'skips_in': False,\n    'skips_out': False,\n    'layer': 0,\n    'layer_index': 0},\n   -2: {'depth': 0,\n    'output_ids': [0],\n    'input_ids': [],\n    'depths': [],\n    'on_path_to_output': False,\n    'on_path_to_input': True,\n    'is_input': True,\n    'is_output': False,\n    'is_valid': True,\n    'output_layers': [2],\n    'input_layers': [],\n    'skips_in': False,\n    'skips_out': True,\n    'layer': 0,\n    'layer_index': 1}},\n  'is_output_layer': False,\n  'is_input_layer': True,\n  'layer_type': 'INPUT',\n  'layer_activation': 'Input',\n  'input_layers': [],\n  'input_shape': 0,\n  'output_shape': 2,\n  'weights_shape': (0, 2),\n  'input_map': {},\n  'shape': (0, 2)}}"
     },
     "execution_count": 21,
     "metadata": {},
     "output_type": "execute_result"
    }
   ],
   "source": [
    "net.node_mapping.layers"
   ]
  },
  {
   "cell_type": "code",
   "execution_count": 22,
   "metadata": {},
   "outputs": [
    {
     "name": "stdout",
     "output_type": "stream",
     "text": [
      "(0, 2)\n",
      "(2, 1)\n",
      "(3, 1)\n"
     ]
    }
   ],
   "source": [
    "for layer_id in sorted (net.node_mapping.layers.keys()):\n",
    "    layer = net.node_mapping.layers[layer_id]\n",
    "    print(layer['shape'])"
   ]
  },
  {
   "cell_type": "code",
   "execution_count": null,
   "metadata": {},
   "outputs": [],
   "source": []
  }
 ],
 "metadata": {
  "kernelspec": {
   "display_name": "Python 3.8.12 64-bit ('phd-neat': virtualenv)",
   "metadata": {
    "interpreter": {
     "hash": "c7e7389da97c8c8d4efc0327b0c894dba1fed19f327bc3903c049dd709d9e547"
    }
   },
   "name": "python3"
  },
  "language_info": {
   "codemirror_mode": {
    "name": "ipython",
    "version": 3
   },
   "file_extension": ".py",
   "mimetype": "text/x-python",
   "name": "python",
   "nbconvert_exporter": "python",
   "pygments_lexer": "ipython3",
   "version": "3.8.12"
  },
  "orig_nbformat": 2
 },
 "nbformat": 4,
 "nbformat_minor": 2
}