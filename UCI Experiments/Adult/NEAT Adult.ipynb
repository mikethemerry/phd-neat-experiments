{
 "cells": [
  {
   "cell_type": "code",
   "execution_count": 44,
   "metadata": {},
   "outputs": [],
   "source": [
    "from __future__ import print_function\n",
    "import os\n",
    "import neat\n",
    "\n",
    "import pandas as pd\n",
    "import numpy as np\n",
    "import random\n",
    "\n",
    "import torch\n",
    "import torch.nn as nn\n",
    "import torch.optim as optim\n",
    "\n",
    "\n",
    "# from explaneat.core.backprop import NeatNet\n",
    "from explaneat.core.neuralneat import NeuralNeat as nneat\n",
    "from explaneat.core import backprop\n",
    "from explaneat.core.backproppop import BackpropPopulation\n",
    "# from explaneat.visualization import visualize\n",
    "from explaneat.core.experiment import ExperimentReporter\n",
    "from explaneat.core.utility import one_hot_encode\n",
    "\n",
    "\n",
    "from sklearn import datasets, metrics\n",
    "from sklearn.preprocessing import StandardScaler, normalize, OneHotEncoder\n",
    "from sklearn.model_selection import train_test_split, KFold\n",
    "from sklearn.metrics import classification_report, confusion_matrix, roc_auc_score\n",
    "\n",
    "from copy import deepcopy\n",
    "\n",
    "import time\n",
    "from datetime import datetime"
   ]
  },
  {
   "cell_type": "code",
   "execution_count": 45,
   "metadata": {},
   "outputs": [],
   "source": [
    "\n",
    "USE_CUDA = torch.cuda.is_available()\n",
    "USE_CUDA = False\n",
    "device = torch.device(\"cuda:1\" if USE_CUDA else \"cpu\")\n"
   ]
  },
  {
   "cell_type": "code",
   "execution_count": 46,
   "metadata": {},
   "outputs": [],
   "source": [
    "def one_hot_encode(vals):\n",
    "    width = max(vals)\n",
    "    newVals = []\n",
    "    for val in vals:\n",
    "        blank = [0. for _ in range(width + 1)]\n",
    "        blank[val] = 1.\n",
    "        newVals.append(blank)\n",
    "    return np.asarray(newVals)\n"
   ]
  },
  {
   "cell_type": "code",
   "execution_count": 47,
   "metadata": {},
   "outputs": [],
   "source": [
    "RANDOM_SEED      = 42\n",
    "NUMBER_OF_SPLITS = 10\n",
    "SAVE_FILE_NAME   = './../../../data/uci/processed/results/adult/results_NEAT_{}.csv'.format(datetime.now())"
   ]
  },
  {
   "cell_type": "code",
   "execution_count": 48,
   "metadata": {},
   "outputs": [],
   "source": [
    "adult_columns = [\n",
    "    \"age\", \n",
    "    \"workclass\",\n",
    "    \"fnlwgt\", \n",
    "    \"education\",\n",
    "    \"education_num\",\n",
    "    \"marital_status\",\n",
    "    \"occupation\",\n",
    "    \"relationship\",\n",
    "    \"race\",\n",
    "    \"sex\",\n",
    "    \"capital_gain\",\n",
    "    \"capital_loss\",\n",
    "    \"hours_per_week\",\n",
    "    \"native_country\",\n",
    "    \"gt50k\"]\n",
    "y_cols = 'gt50k'\n",
    "\n",
    "\n",
    "# data = pd.read_csv('./../../../data/uci/processed/data/adult/adult.data',\n",
    "data = pd.read_csv('./../../data/processed/adult.data',\n",
    "                   names=adult_columns,\n",
    "                  index_col=False)\n",
    "\n",
    "x_cols = data.columns.values.tolist()\n",
    "x_cols.remove(y_cols)\n",
    "\n",
    "xs_raw = data[x_cols]\n",
    "ys_raw = data[y_cols]\n",
    "\n",
    "categorical_feature_mask = xs_raw.dtypes==object\n",
    "numerical_feature_mask = xs_raw.dtypes==\"int64\"\n",
    "\n",
    "categorical_cols = xs_raw.columns[categorical_feature_mask].tolist()\n",
    "numerical_cols = xs_raw.columns[numerical_feature_mask].tolist()\n",
    "\n",
    "scaler = StandardScaler()\n",
    "xs = xs_raw.copy()\n",
    "\n",
    "# OHE categoricals\n",
    "onehotencoded = pd.get_dummies(xs_raw[categorical_cols])\n",
    "xs[onehotencoded.columns] = onehotencoded\n",
    "xs = xs.drop(categorical_cols, axis=1)\n",
    "\n",
    "## Linear scaling\n",
    "numericals = xs_raw[numerical_cols].values #returns a numpy array\n",
    "scaler = StandardScaler()\n",
    "numericals = scaler.fit_transform(xs_raw[numerical_cols].values)\n",
    "xs[numerical_cols] = pd.DataFrame(numericals)\n",
    "\n",
    "\n",
    "####\n",
    "\n",
    "## Adjust outcome var\n",
    "ys = data['gt50k'] == ' >50K'\n",
    "ys = ys.apply(lambda x: 1 if x else 0)"
   ]
  },
  {
   "cell_type": "code",
   "execution_count": 49,
   "metadata": {},
   "outputs": [],
   "source": [
    "def mark_result(model_name, random_seed, cross_fold_index, predictions, AUC_score):\n",
    "    return {\n",
    "        'modelName': model_name,\n",
    "        'randomSeed': random_seed,\n",
    "        'crossFoldIndex': cross_fold_index,\n",
    "        'predictions': list(predictions),\n",
    "        'auc':AUC_score\n",
    "    }"
   ]
  },
  {
   "cell_type": "code",
   "execution_count": 50,
   "metadata": {},
   "outputs": [],
   "source": [
    "kf = KFold(n_splits = NUMBER_OF_SPLITS, \n",
    "           random_state = RANDOM_SEED,\n",
    "          shuffle=True)"
   ]
  },
  {
   "cell_type": "code",
   "execution_count": 51,
   "metadata": {},
   "outputs": [],
   "source": [
    "X_train, X_test, y_train, y_test = train_test_split(xs, ys, test_size=0.15, random_state=42)"
   ]
  },
  {
   "cell_type": "markdown",
   "metadata": {},
   "source": [
    "# Performance"
   ]
  },
  {
   "cell_type": "code",
   "execution_count": null,
   "metadata": {},
   "outputs": [],
   "source": []
  },
  {
   "cell_type": "code",
   "execution_count": 52,
   "metadata": {},
   "outputs": [],
   "source": [
    "config_path = \"./config-iris\"\n",
    "base_config = neat.Config(neat.DefaultGenome, neat.DefaultReproduction,\n",
    "                     neat.DefaultSpeciesSet, neat.DefaultStagnation,\n",
    "                     config_path)"
   ]
  },
  {
   "cell_type": "code",
   "execution_count": 53,
   "metadata": {},
   "outputs": [
    {
     "data": {
      "text/plain": "2"
     },
     "execution_count": 53,
     "metadata": {},
     "output_type": "execute_result"
    }
   ],
   "source": [
    "base_config.pop_size"
   ]
  },
  {
   "cell_type": "code",
   "execution_count": 54,
   "metadata": {},
   "outputs": [],
   "source": [
    "maxNGenerations = 5"
   ]
  },
  {
   "cell_type": "code",
   "execution_count": 55,
   "metadata": {},
   "outputs": [],
   "source": [
    "def instantiate_population(config, xs, ys, saveLocation):\n",
    "\n",
    "    if not os.path.exists(saveLocation):\n",
    "        os.makedirs(saveLocation)\n",
    "        \n",
    "    config.save(os.path.join(saveLocation, 'config.conf'))\n",
    "\n",
    "    # Create the population, which is the top-level object for a NEAT run.\n",
    "    p = BackpropPopulation(config, \n",
    "                            xs, \n",
    "                            ys, \n",
    "                            criterion=nn.BCEWithLogitsLoss())\n",
    "\n",
    "    # Add a stdout reporter to show progress in the terminal.\n",
    "    p.add_reporter(neat.StdOutReporter(True))\n",
    "    stats = neat.StatisticsReporter()\n",
    "    p.add_reporter(stats)\n",
    "    p.add_reporter(neat.Checkpointer(5, filename_prefix=str(saveLocation) + \"checkpoint-\" ))\n",
    "    bpReporter = backprop.BackpropReporter(True)\n",
    "    p.add_reporter(bpReporter)\n",
    "    p.add_reporter(ExperimentReporter(saveLocation))\n",
    "    \n",
    "    return p"
   ]
  },
  {
   "cell_type": "code",
   "execution_count": null,
   "metadata": {},
   "outputs": [],
   "source": []
  },
  {
   "cell_type": "code",
   "execution_count": 56,
   "metadata": {},
   "outputs": [],
   "source": [
    "results = []"
   ]
  },
  {
   "cell_type": "code",
   "execution_count": 57,
   "metadata": {},
   "outputs": [],
   "source": [
    "saveLocationTemplate = './../../data/experiments/adult/newneat-performance-{}/'"
   ]
  },
  {
   "cell_type": "code",
   "execution_count": 58,
   "metadata": {},
   "outputs": [
    {
     "data": {
      "text/plain": "19336    0\n985      0\n12675    0\n15967    0\n32031    0\n        ..\n29802    0\n5390     0\n860      0\n15795    0\n23654    0\nName: gt50k, Length: 27676, dtype: int64"
     },
     "execution_count": 58,
     "metadata": {},
     "output_type": "execute_result"
    }
   ],
   "source": [
    "y_train"
   ]
  },
  {
   "cell_type": "code",
   "execution_count": 59,
   "metadata": {},
   "outputs": [
    {
     "data": {
      "text/plain": "array([0, 0, 0, ..., 0, 0, 0])"
     },
     "execution_count": 59,
     "metadata": {},
     "output_type": "execute_result"
    }
   ],
   "source": [
    "y_train.reset_index(drop=True).to_numpy()"
   ]
  },
  {
   "cell_type": "code",
   "execution_count": null,
   "metadata": {},
   "outputs": [],
   "source": []
  },
  {
   "cell_type": "code",
   "execution_count": null,
   "metadata": {},
   "outputs": [],
   "source": []
  },
  {
   "cell_type": "markdown",
   "metadata": {},
   "source": [
    "# Train an ExplaNEAT Model"
   ]
  },
  {
   "cell_type": "code",
   "execution_count": 64,
   "metadata": {},
   "outputs": [
    {
     "data": {
      "text/plain": "29304"
     },
     "execution_count": 64,
     "metadata": {},
     "output_type": "execute_result"
    }
   ],
   "source": [
    "len(neat_x_train)"
   ]
  },
  {
   "cell_type": "code",
   "execution_count": 69,
   "metadata": {},
   "outputs": [
    {
     "name": "stdout",
     "output_type": "stream",
     "text": [
      "Currently training 0\n",
      "################################################\n",
      "################################################\n",
      "Starting iteration 0\n",
      "Started at 04/13/2022, 18:34:29\n",
      "################################################\n",
      "################################################\n",
      "The function - generationStart - has just started at 1649831669.284058\n",
      "\n",
      " ****** Running generation 0 ****** \n",
      "\n",
      "The function - generationStart - took 4.982948303222656e-05 seconds to complete\n",
      "The function - pre_backprop - has just started at 1649831669.284124\n",
      "The function - pre_backprop - took 2.3126602172851562e-05 seconds to complete\n",
      "The function - backprop - has just started at 1649831669.284158\n",
      "about to start backprop with 10 epochs\n",
      "mean improvement: -0.018321163222223436\n",
      "best improvement: -0.020964875903248803\n",
      "best loss: 0.5322243736275976\n",
      "The function - backprop - took 6.872208118438721 seconds to complete\n",
      "The function - post_backprop - has just started at 1649831676.156383\n",
      "The function - post_backprop - took 2.09808349609375e-05 seconds to complete\n",
      "The function - evaluate fitness - has just started at 1649831676.156424\n",
      "The function - evaluate fitness - took 0.00030994415283203125 seconds to complete\n"
     ]
    },
    {
     "ename": "RuntimeError",
     "evalue": "Expected 108 inputs, got 9000",
     "output_type": "error",
     "traceback": [
      "\u001b[0;31m---------------------------------------------------------------------------\u001b[0m",
      "\u001b[0;31mRuntimeError\u001b[0m                              Traceback (most recent call last)",
      "\u001b[0;32m<ipython-input-69-151d7a1e8393>\u001b[0m in \u001b[0;36m<module>\u001b[0;34m\u001b[0m\n\u001b[1;32m     37\u001b[0m     \u001b[0mp\u001b[0m \u001b[0;34m=\u001b[0m \u001b[0minstantiate_population\u001b[0m\u001b[0;34m(\u001b[0m\u001b[0mconfig\u001b[0m\u001b[0;34m,\u001b[0m \u001b[0mneat_x_train\u001b[0m\u001b[0;34m,\u001b[0m \u001b[0mneat_y_train\u001b[0m \u001b[0;34m,\u001b[0m \u001b[0msaveLocation\u001b[0m\u001b[0;34m)\u001b[0m\u001b[0;34m\u001b[0m\u001b[0;34m\u001b[0m\u001b[0m\n\u001b[1;32m     38\u001b[0m     \u001b[0;31m# Run for up to nGenerations generations.\u001b[0m\u001b[0;34m\u001b[0m\u001b[0;34m\u001b[0m\u001b[0;34m\u001b[0m\u001b[0m\n\u001b[0;32m---> 39\u001b[0;31m     \u001b[0mwinner\u001b[0m \u001b[0;34m=\u001b[0m \u001b[0mp\u001b[0m\u001b[0;34m.\u001b[0m\u001b[0mrun\u001b[0m\u001b[0;34m(\u001b[0m\u001b[0meval_genomes\u001b[0m\u001b[0;34m,\u001b[0m \u001b[0mmaxNGenerations\u001b[0m\u001b[0;34m,\u001b[0m\u001b[0mnEpochs\u001b[0m\u001b[0;34m=\u001b[0m\u001b[0;36m10\u001b[0m\u001b[0;34m)\u001b[0m\u001b[0;34m\u001b[0m\u001b[0;34m\u001b[0m\u001b[0m\n\u001b[0m\u001b[1;32m     40\u001b[0m \u001b[0;34m\u001b[0m\u001b[0m\n\u001b[1;32m     41\u001b[0m     \u001b[0mg\u001b[0m \u001b[0;34m=\u001b[0m \u001b[0mp\u001b[0m\u001b[0;34m.\u001b[0m\u001b[0mbest_genome\u001b[0m\u001b[0;34m\u001b[0m\u001b[0;34m\u001b[0m\u001b[0m\n",
      "\u001b[0;32m~/dev-mtm/phd-neat-experiments/explaneat/core/backproppop.py\u001b[0m in \u001b[0;36mrun\u001b[0;34m(self, fitness_function, n, nEpochs)\u001b[0m\n\u001b[1;32m    188\u001b[0m \u001b[0;34m\u001b[0m\u001b[0m\n\u001b[1;32m    189\u001b[0m             \u001b[0;32mwith\u001b[0m \u001b[0mMethodTimer\u001b[0m\u001b[0;34m(\u001b[0m\u001b[0;34m'evaluate fitness'\u001b[0m\u001b[0;34m)\u001b[0m\u001b[0;34m:\u001b[0m\u001b[0;34m\u001b[0m\u001b[0;34m\u001b[0m\u001b[0m\n\u001b[0;32m--> 190\u001b[0;31m                 \u001b[0mfitness_function\u001b[0m\u001b[0;34m(\u001b[0m\u001b[0mself\u001b[0m\u001b[0;34m.\u001b[0m\u001b[0mpopulation\u001b[0m\u001b[0;34m,\u001b[0m \u001b[0mself\u001b[0m\u001b[0;34m.\u001b[0m\u001b[0mconfig\u001b[0m\u001b[0;34m)\u001b[0m\u001b[0;34m\u001b[0m\u001b[0;34m\u001b[0m\u001b[0m\n\u001b[0m\u001b[1;32m    191\u001b[0m \u001b[0;34m\u001b[0m\u001b[0m\n\u001b[1;32m    192\u001b[0m             \u001b[0;31m# Gather and report statistics.\u001b[0m\u001b[0;34m\u001b[0m\u001b[0;34m\u001b[0m\u001b[0;34m\u001b[0m\u001b[0m\n",
      "\u001b[0;32m<ipython-input-69-151d7a1e8393>\u001b[0m in \u001b[0;36meval_genomes\u001b[0;34m(genomes, config)\u001b[0m\n\u001b[1;32m     11\u001b[0m         \u001b[0;32mfor\u001b[0m \u001b[0mgenome_id\u001b[0m\u001b[0;34m,\u001b[0m \u001b[0mgenome\u001b[0m \u001b[0;32min\u001b[0m \u001b[0mgenomes\u001b[0m\u001b[0;34m.\u001b[0m\u001b[0mitems\u001b[0m\u001b[0;34m(\u001b[0m\u001b[0;34m)\u001b[0m\u001b[0;34m:\u001b[0m\u001b[0;34m\u001b[0m\u001b[0;34m\u001b[0m\u001b[0m\n\u001b[1;32m     12\u001b[0m             \u001b[0mnet\u001b[0m \u001b[0;34m=\u001b[0m \u001b[0mneat\u001b[0m\u001b[0;34m.\u001b[0m\u001b[0mnn\u001b[0m\u001b[0;34m.\u001b[0m\u001b[0mFeedForwardNetwork\u001b[0m\u001b[0;34m.\u001b[0m\u001b[0mcreate\u001b[0m\u001b[0;34m(\u001b[0m\u001b[0mgenome\u001b[0m\u001b[0;34m,\u001b[0m \u001b[0mconfig\u001b[0m\u001b[0;34m)\u001b[0m\u001b[0;34m\u001b[0m\u001b[0;34m\u001b[0m\u001b[0m\n\u001b[0;32m---> 13\u001b[0;31m             \u001b[0mpreds\u001b[0m \u001b[0;34m=\u001b[0m \u001b[0mnet\u001b[0m\u001b[0;34m.\u001b[0m\u001b[0mactivate\u001b[0m\u001b[0;34m(\u001b[0m\u001b[0mX_train\u001b[0m\u001b[0;34m)\u001b[0m\u001b[0;34m\u001b[0m\u001b[0;34m\u001b[0m\u001b[0m\n\u001b[0m\u001b[1;32m     14\u001b[0m             \u001b[0;31m# preds = []\u001b[0m\u001b[0;34m\u001b[0m\u001b[0;34m\u001b[0m\u001b[0;34m\u001b[0m\u001b[0m\n\u001b[1;32m     15\u001b[0m             \u001b[0;31m# for xi in X_train:\u001b[0m\u001b[0;34m\u001b[0m\u001b[0;34m\u001b[0m\u001b[0;34m\u001b[0m\u001b[0m\n",
      "\u001b[0;32m~/opt/anaconda3/envs/phd-neat/lib/python3.8/site-packages/neat_python-0.92-py3.8.egg/neat/nn/feed_forward.py\u001b[0m in \u001b[0;36mactivate\u001b[0;34m(self, inputs)\u001b[0m\n\u001b[1;32m     12\u001b[0m     \u001b[0;32mdef\u001b[0m \u001b[0mactivate\u001b[0m\u001b[0;34m(\u001b[0m\u001b[0mself\u001b[0m\u001b[0;34m,\u001b[0m \u001b[0minputs\u001b[0m\u001b[0;34m)\u001b[0m\u001b[0;34m:\u001b[0m\u001b[0;34m\u001b[0m\u001b[0;34m\u001b[0m\u001b[0m\n\u001b[1;32m     13\u001b[0m         \u001b[0;32mif\u001b[0m \u001b[0mlen\u001b[0m\u001b[0;34m(\u001b[0m\u001b[0mself\u001b[0m\u001b[0;34m.\u001b[0m\u001b[0minput_nodes\u001b[0m\u001b[0;34m)\u001b[0m \u001b[0;34m!=\u001b[0m \u001b[0mlen\u001b[0m\u001b[0;34m(\u001b[0m\u001b[0minputs\u001b[0m\u001b[0;34m)\u001b[0m\u001b[0;34m:\u001b[0m\u001b[0;34m\u001b[0m\u001b[0;34m\u001b[0m\u001b[0m\n\u001b[0;32m---> 14\u001b[0;31m             \u001b[0;32mraise\u001b[0m \u001b[0mRuntimeError\u001b[0m\u001b[0;34m(\u001b[0m\u001b[0;34m\"Expected {0:n} inputs, got {1:n}\"\u001b[0m\u001b[0;34m.\u001b[0m\u001b[0mformat\u001b[0m\u001b[0;34m(\u001b[0m\u001b[0mlen\u001b[0m\u001b[0;34m(\u001b[0m\u001b[0mself\u001b[0m\u001b[0;34m.\u001b[0m\u001b[0minput_nodes\u001b[0m\u001b[0;34m)\u001b[0m\u001b[0;34m,\u001b[0m \u001b[0mlen\u001b[0m\u001b[0;34m(\u001b[0m\u001b[0minputs\u001b[0m\u001b[0;34m)\u001b[0m\u001b[0;34m)\u001b[0m\u001b[0;34m)\u001b[0m\u001b[0;34m\u001b[0m\u001b[0;34m\u001b[0m\u001b[0m\n\u001b[0m\u001b[1;32m     15\u001b[0m \u001b[0;34m\u001b[0m\u001b[0m\n\u001b[1;32m     16\u001b[0m         \u001b[0;32mfor\u001b[0m \u001b[0mk\u001b[0m\u001b[0;34m,\u001b[0m \u001b[0mv\u001b[0m \u001b[0;32min\u001b[0m \u001b[0mzip\u001b[0m\u001b[0;34m(\u001b[0m\u001b[0mself\u001b[0m\u001b[0;34m.\u001b[0m\u001b[0minput_nodes\u001b[0m\u001b[0;34m,\u001b[0m \u001b[0minputs\u001b[0m\u001b[0;34m)\u001b[0m\u001b[0;34m:\u001b[0m\u001b[0;34m\u001b[0m\u001b[0;34m\u001b[0m\u001b[0m\n",
      "\u001b[0;31mRuntimeError\u001b[0m: Expected 108 inputs, got 9000"
     ]
    }
   ],
   "source": [
    "for index, (train_index, test_index) in enumerate(kf.split(xs[:10000])):\n",
    "    print(\"Currently training {}\".format(index))\n",
    "    X_train, X_test = xs.iloc[train_index], xs.iloc[test_index]\n",
    "    y_train, y_test = ys[train_index], ys[test_index]\n",
    "    \n",
    "    neat_x_train, neat_y_train = X_train.reset_index(drop=True).to_numpy(), y_train.reset_index(drop=True).to_numpy()\n",
    "\n",
    "    \n",
    "    def eval_genomes(genomes, config):\n",
    "        loss = nn.CrossEntropyLoss()\n",
    "        for genome_id, genome in genomes.items():\n",
    "            net = neat.nn.FeedForwardNetwork.create(genome, config)\n",
    "            preds = net.activate(X_train)\n",
    "            # preds = []\n",
    "            # for xi in X_train:\n",
    "                # preds.append(net.activate(xi))\n",
    "    #         genome.fitness = float(1./loss(torch.tensor(preds), torch.tensor(ys)))\n",
    "            roc_auc_score(y_train, preds)\n",
    "    \n",
    "    start_time = datetime.now()\n",
    "\n",
    "    print(\"################################################\")\n",
    "    print(\"################################################\")\n",
    "    print(\"Starting iteration {}\".format(index))\n",
    "    print(\"Started at {}\".format(start_time.strftime(\"%m/%d/%Y, %H:%M:%S\")))\n",
    "    print(\"################################################\")\n",
    "    print(\"################################################\")\n",
    "\n",
    "\n",
    "    config = deepcopy(base_config)\n",
    "\n",
    "    saveLocation = saveLocationTemplate.format(index)\n",
    "    \n",
    "    if not os.path.exists(saveLocation):\n",
    "        os.makedirs(saveLocation)\n",
    "\n",
    "    p = instantiate_population(config, neat_x_train, neat_y_train , saveLocation)\n",
    "    # Run for up to nGenerations generations.\n",
    "    winner = p.run(eval_genomes, maxNGenerations,nEpochs=10)\n",
    "\n",
    "    g = p.best_genome\n",
    "\n",
    "\n",
    "    end_time = datetime.now()\n",
    "\n",
    "    p.reporters.reporters[2].save_checkpoint(p.config, p.population, p.species, str(p.generation) + \"-final\")  \n",
    "\n",
    "    winner_net = neat.nn.FeedForwardNetwork.create(winner, config)\n",
    "\n",
    "    results = []\n",
    "    for xi, xo in zip(xs, ys):\n",
    "        output = winner_net.activate(xi)\n",
    "        results.append([xi[0], xi[1], xo, output])\n",
    "\n",
    "    df = pd.DataFrame(results)\n",
    "    df.to_csv(os.path.join(saveLocation, 'results.csv'))\n",
    "\n",
    "    ancestry = p.reporters.reporters[3].trace_ancestry_of_species(g.key, p.reproduction.ancestors) \n",
    "\n",
    "    ancestors = {\n",
    "        k: v['genome'] for k, v in p.reporters.reporters[3].ancestry.items()\n",
    "    }\n",
    "\n",
    "#         visualize.create_ancestry_video(p.config, \n",
    "#                                         g, \n",
    "#                                         ancestry, \n",
    "#                                         ancestors, \n",
    "#                                         p.reporters.reporters[1], \n",
    "#                                         pathname=saveLocation)\n",
    "    print(\"################################################\")\n",
    "    print(\"################################################\")\n",
    "    print(\"Have finished population {} iteration {}\".format(pop_size, iteration_no))\n",
    "    print(\"Started at {}\".format(start_time.strftime(\"%m/%d/%Y, %H:%M:%S\")))\n",
    "    print(\"The time is {}\".format(end_time.strftime(\"%m/%d/%Y, %H:%M:%S\")))\n",
    "    print(\"################################################\")\n",
    "    print(\"################################################\")\n",
    "\n",
    "    \n",
    "    \n",
    "    \n",
    "    # Use the forest's predict method on the test data\n",
    "    rf_preds = rf.predict(X_test)\n",
    "    # Calculate the absolute errors\n",
    "    errors = abs(rf_preds - y_test)\n",
    "    auc = roc_auc_score(y_test, rf_preds)\n",
    "    results.append(mark_result('NEAT', RANDOM_SEED, index, rf_preds, auc))"
   ]
  },
  {
   "cell_type": "code",
   "execution_count": null,
   "metadata": {},
   "outputs": [],
   "source": [
    "res_df = pd.DataFrame(results)\n",
    "res_df.to_csv(SAVE_FILE_NAME)"
   ]
  },
  {
   "cell_type": "code",
   "execution_count": null,
   "metadata": {},
   "outputs": [],
   "source": [
    "ys"
   ]
  },
  {
   "cell_type": "code",
   "execution_count": 36,
   "metadata": {},
   "outputs": [],
   "source": []
  },
  {
   "cell_type": "code",
   "execution_count": 70,
   "metadata": {},
   "outputs": [],
   "source": [
    "net = nneat(p.population[1], p.config, criterion=nn.BCEWithLogitsLoss())"
   ]
  },
  {
   "cell_type": "code",
   "execution_count": 74,
   "metadata": {},
   "outputs": [
    {
     "name": "stdout",
     "output_type": "stream",
     "text": [
      "OUTPUT\n",
      "1\n",
      "{0: array([[ 0.83710898, -1.008707  ,  1.13473876, ...,  1.        ,\n",
      "         0.        ,  0.        ],\n",
      "       [-0.04264203,  0.2450785 , -0.42005962, ...,  1.        ,\n",
      "         0.        ,  0.        ],\n",
      "       [-0.77576787,  1.40817572,  1.13473876, ...,  0.        ,\n",
      "         0.        ,  0.        ],\n",
      "       ...,\n",
      "       [-1.28895595,  1.22583276, -0.03136003, ...,  1.        ,\n",
      "         0.        ,  0.        ],\n",
      "       [-0.11595461, -0.59721789, -3.1409568 , ...,  0.        ,\n",
      "         0.        ,  0.        ],\n",
      "       [ 0.03067056,  1.05913192, -0.03136003, ...,  1.        ,\n",
      "         0.        ,  0.        ]])}\n",
      "---------------\n",
      "{1: {'nodes': {0: {'depth': 1, 'output_ids': [], 'input_ids': [-1, -2, -3, -4, -5, -6, -7, -8, -9, -10, -11, -12, -13, -14, -15, -16, -17, -18, -19, -20, -21, -22, -23, -24, -25, -26, -27, -28, -29, -30, -31, -32, -33, -34, -35, -36, -37, -38, -39, -40, -41, -42, -43, -44, -45, -46, -47, -48, -49, -50, -51, -52, -53, -54, -55, -56, -57, -58, -59, -60, -61, -62, -63, -64, -65, -66, -67, -68, -69, -70, -71, -72, -73, -74, -75, -76, -77, -78, -79, -80, -81, -82, -83, -84, -85, -86, -87, -88, -89, -90, -91, -92, -93, -94, -95, -96, -97, -98, -99, -100, -101, -102, -103, -104, -105, -106, -107, -108], 'depths': [1, 1, 1, 1, 1, 1, 1, 1, 1, 1, 1, 1, 1, 1, 1, 1, 1, 1, 1, 1, 1, 1, 1, 1, 1, 1, 1, 1, 1, 1, 1, 1, 1, 1, 1, 1, 1, 1, 1, 1, 1, 1, 1, 1, 1, 1, 1, 1, 1, 1, 1, 1, 1, 1, 1, 1, 1, 1, 1, 1, 1, 1, 1, 1, 1, 1, 1, 1, 1, 1, 1, 1, 1, 1, 1, 1, 1, 1, 1, 1, 1, 1, 1, 1, 1, 1, 1, 1, 1, 1, 1, 1, 1, 1, 1, 1, 1, 1, 1, 1, 1, 1, 1, 1, 1, 1, 1, 1], 'on_path_to_output': True, 'on_path_to_input': False, 'is_input': False, 'is_output': True, 'is_valid': True, 'output_layers': [], 'input_layers': [0, 0, 0, 0, 0, 0, 0, 0, 0, 0, 0, 0, 0, 0, 0, 0, 0, 0, 0, 0, 0, 0, 0, 0, 0, 0, 0, 0, 0, 0, 0, 0, 0, 0, 0, 0, 0, 0, 0, 0, 0, 0, 0, 0, 0, 0, 0, 0, 0, 0, 0, 0, 0, 0, 0, 0, 0, 0, 0, 0, 0, 0, 0, 0, 0, 0, 0, 0, 0, 0, 0, 0, 0, 0, 0, 0, 0, 0, 0, 0, 0, 0, 0, 0, 0, 0, 0, 0, 0, 0, 0, 0, 0, 0, 0, 0, 0, 0, 0, 0, 0, 0, 0, 0, 0, 0, 0, 0], 'skips_in': False, 'skips_out': False, 'layer': 1, 'layer_index': 0}}, 'is_output_layer': True, 'is_input_layer': False, 'layer_type': 'OUTPUT', 'layer_activation': 'Sigmoid', 'input_layers': [0], 'input_shape': 108, 'output_shape': 1, 'weights_shape': (108, 1), 'input_map': {}, 'input_weights': array([[-0.23775245],\n",
      "       [-0.97136177],\n",
      "       [-0.71429146],\n",
      "       [-0.61054819],\n",
      "       [-1.44147752],\n",
      "       [-0.43681473],\n",
      "       [ 0.9863237 ],\n",
      "       [-0.14668299],\n",
      "       [-0.01583919],\n",
      "       [ 0.86671123],\n",
      "       [ 0.18778021],\n",
      "       [-2.64356051],\n",
      "       [-1.8077057 ],\n",
      "       [-1.87047056],\n",
      "       [ 0.35881441],\n",
      "       [ 0.4291289 ],\n",
      "       [ 0.9450824 ],\n",
      "       [ 0.6350172 ],\n",
      "       [ 1.58486024],\n",
      "       [ 0.23575904],\n",
      "       [-0.41845461],\n",
      "       [ 1.4272589 ],\n",
      "       [-0.06649295],\n",
      "       [-0.4316445 ],\n",
      "       [-0.64950801],\n",
      "       [ 1.05437995],\n",
      "       [-0.26151814],\n",
      "       [-1.77647332],\n",
      "       [-0.68056192],\n",
      "       [ 2.88362339],\n",
      "       [-0.5084262 ],\n",
      "       [ 0.36898301],\n",
      "       [ 1.52525032],\n",
      "       [ 2.86586385],\n",
      "       [ 0.51144003],\n",
      "       [ 0.05198214],\n",
      "       [ 0.29651386],\n",
      "       [ 0.70818036],\n",
      "       [-1.53097285],\n",
      "       [-0.31369074],\n",
      "       [-0.34304426],\n",
      "       [-0.65417663],\n",
      "       [-1.27849949],\n",
      "       [ 2.0945036 ],\n",
      "       [ 0.18495579],\n",
      "       [-0.66381319],\n",
      "       [ 0.88856462],\n",
      "       [ 2.34094123],\n",
      "       [-0.40757173],\n",
      "       [ 0.48163873],\n",
      "       [-2.43372802],\n",
      "       [ 0.94055711],\n",
      "       [-0.77973836],\n",
      "       [-1.01512762],\n",
      "       [ 0.27466394],\n",
      "       [ 1.05884758],\n",
      "       [ 1.98477629],\n",
      "       [-0.24348488],\n",
      "       [-0.88267004],\n",
      "       [ 0.31073114],\n",
      "       [ 0.04046771],\n",
      "       [-0.3987654 ],\n",
      "       [ 0.40718072],\n",
      "       [-0.35205773],\n",
      "       [ 0.05466471],\n",
      "       [-0.4951569 ],\n",
      "       [-0.05023673],\n",
      "       [-1.45750227],\n",
      "       [-1.56108867],\n",
      "       [-0.2251203 ],\n",
      "       [ 0.64457033],\n",
      "       [ 0.577261  ],\n",
      "       [ 1.19777881],\n",
      "       [-0.10096247],\n",
      "       [ 2.07841043],\n",
      "       [-1.17196465],\n",
      "       [-0.19049416],\n",
      "       [-0.06442441],\n",
      "       [ 1.69060356],\n",
      "       [ 0.19834192],\n",
      "       [ 0.03654991],\n",
      "       [ 0.23422573],\n",
      "       [ 0.18015029],\n",
      "       [ 1.65665927],\n",
      "       [-1.39894133],\n",
      "       [ 0.14526336],\n",
      "       [ 0.16443368],\n",
      "       [-0.76491058],\n",
      "       [-1.13144758],\n",
      "       [-0.98337541],\n",
      "       [-1.52842961],\n",
      "       [-0.01073882],\n",
      "       [ 2.24787847],\n",
      "       [ 0.39794349],\n",
      "       [-0.12430084],\n",
      "       [ 1.36256091],\n",
      "       [ 0.05662305],\n",
      "       [ 0.29937469],\n",
      "       [-0.12633176],\n",
      "       [ 0.919327  ],\n",
      "       [ 0.21540793],\n",
      "       [-0.92207711],\n",
      "       [-1.22351816],\n",
      "       [ 0.34699265],\n",
      "       [-1.69372187],\n",
      "       [-1.3520039 ],\n",
      "       [-0.81799937],\n",
      "       [-0.78931445]]), 'shape': (108, 1), 'bias': array([0.23678831])}, 0: {'nodes': {-1: {'depth': 0, 'output_ids': [0], 'input_ids': [], 'depths': [], 'on_path_to_output': False, 'on_path_to_input': True, 'is_input': True, 'is_output': False, 'is_valid': True, 'output_layers': [1], 'input_layers': [], 'skips_in': False, 'skips_out': False, 'layer': 0, 'layer_index': 0}, -2: {'depth': 0, 'output_ids': [0], 'input_ids': [], 'depths': [], 'on_path_to_output': False, 'on_path_to_input': True, 'is_input': True, 'is_output': False, 'is_valid': True, 'output_layers': [1], 'input_layers': [], 'skips_in': False, 'skips_out': False, 'layer': 0, 'layer_index': 1}, -3: {'depth': 0, 'output_ids': [0], 'input_ids': [], 'depths': [], 'on_path_to_output': False, 'on_path_to_input': True, 'is_input': True, 'is_output': False, 'is_valid': True, 'output_layers': [1], 'input_layers': [], 'skips_in': False, 'skips_out': False, 'layer': 0, 'layer_index': 2}, -4: {'depth': 0, 'output_ids': [0], 'input_ids': [], 'depths': [], 'on_path_to_output': False, 'on_path_to_input': True, 'is_input': True, 'is_output': False, 'is_valid': True, 'output_layers': [1], 'input_layers': [], 'skips_in': False, 'skips_out': False, 'layer': 0, 'layer_index': 3}, -5: {'depth': 0, 'output_ids': [0], 'input_ids': [], 'depths': [], 'on_path_to_output': False, 'on_path_to_input': True, 'is_input': True, 'is_output': False, 'is_valid': True, 'output_layers': [1], 'input_layers': [], 'skips_in': False, 'skips_out': False, 'layer': 0, 'layer_index': 4}, -6: {'depth': 0, 'output_ids': [0], 'input_ids': [], 'depths': [], 'on_path_to_output': False, 'on_path_to_input': True, 'is_input': True, 'is_output': False, 'is_valid': True, 'output_layers': [1], 'input_layers': [], 'skips_in': False, 'skips_out': False, 'layer': 0, 'layer_index': 5}, -7: {'depth': 0, 'output_ids': [0], 'input_ids': [], 'depths': [], 'on_path_to_output': False, 'on_path_to_input': True, 'is_input': True, 'is_output': False, 'is_valid': True, 'output_layers': [1], 'input_layers': [], 'skips_in': False, 'skips_out': False, 'layer': 0, 'layer_index': 6}, -8: {'depth': 0, 'output_ids': [0], 'input_ids': [], 'depths': [], 'on_path_to_output': False, 'on_path_to_input': True, 'is_input': True, 'is_output': False, 'is_valid': True, 'output_layers': [1], 'input_layers': [], 'skips_in': False, 'skips_out': False, 'layer': 0, 'layer_index': 7}, -9: {'depth': 0, 'output_ids': [0], 'input_ids': [], 'depths': [], 'on_path_to_output': False, 'on_path_to_input': True, 'is_input': True, 'is_output': False, 'is_valid': True, 'output_layers': [1], 'input_layers': [], 'skips_in': False, 'skips_out': False, 'layer': 0, 'layer_index': 8}, -10: {'depth': 0, 'output_ids': [0], 'input_ids': [], 'depths': [], 'on_path_to_output': False, 'on_path_to_input': True, 'is_input': True, 'is_output': False, 'is_valid': True, 'output_layers': [1], 'input_layers': [], 'skips_in': False, 'skips_out': False, 'layer': 0, 'layer_index': 9}, -11: {'depth': 0, 'output_ids': [0], 'input_ids': [], 'depths': [], 'on_path_to_output': False, 'on_path_to_input': True, 'is_input': True, 'is_output': False, 'is_valid': True, 'output_layers': [1], 'input_layers': [], 'skips_in': False, 'skips_out': False, 'layer': 0, 'layer_index': 10}, -12: {'depth': 0, 'output_ids': [0], 'input_ids': [], 'depths': [], 'on_path_to_output': False, 'on_path_to_input': True, 'is_input': True, 'is_output': False, 'is_valid': True, 'output_layers': [1], 'input_layers': [], 'skips_in': False, 'skips_out': False, 'layer': 0, 'layer_index': 11}, -13: {'depth': 0, 'output_ids': [0], 'input_ids': [], 'depths': [], 'on_path_to_output': False, 'on_path_to_input': True, 'is_input': True, 'is_output': False, 'is_valid': True, 'output_layers': [1], 'input_layers': [], 'skips_in': False, 'skips_out': False, 'layer': 0, 'layer_index': 12}, -14: {'depth': 0, 'output_ids': [0], 'input_ids': [], 'depths': [], 'on_path_to_output': False, 'on_path_to_input': True, 'is_input': True, 'is_output': False, 'is_valid': True, 'output_layers': [1], 'input_layers': [], 'skips_in': False, 'skips_out': False, 'layer': 0, 'layer_index': 13}, -15: {'depth': 0, 'output_ids': [0], 'input_ids': [], 'depths': [], 'on_path_to_output': False, 'on_path_to_input': True, 'is_input': True, 'is_output': False, 'is_valid': True, 'output_layers': [1], 'input_layers': [], 'skips_in': False, 'skips_out': False, 'layer': 0, 'layer_index': 14}, -16: {'depth': 0, 'output_ids': [0], 'input_ids': [], 'depths': [], 'on_path_to_output': False, 'on_path_to_input': True, 'is_input': True, 'is_output': False, 'is_valid': True, 'output_layers': [1], 'input_layers': [], 'skips_in': False, 'skips_out': False, 'layer': 0, 'layer_index': 15}, -17: {'depth': 0, 'output_ids': [0], 'input_ids': [], 'depths': [], 'on_path_to_output': False, 'on_path_to_input': True, 'is_input': True, 'is_output': False, 'is_valid': True, 'output_layers': [1], 'input_layers': [], 'skips_in': False, 'skips_out': False, 'layer': 0, 'layer_index': 16}, -18: {'depth': 0, 'output_ids': [0], 'input_ids': [], 'depths': [], 'on_path_to_output': False, 'on_path_to_input': True, 'is_input': True, 'is_output': False, 'is_valid': True, 'output_layers': [1], 'input_layers': [], 'skips_in': False, 'skips_out': False, 'layer': 0, 'layer_index': 17}, -19: {'depth': 0, 'output_ids': [0], 'input_ids': [], 'depths': [], 'on_path_to_output': False, 'on_path_to_input': True, 'is_input': True, 'is_output': False, 'is_valid': True, 'output_layers': [1], 'input_layers': [], 'skips_in': False, 'skips_out': False, 'layer': 0, 'layer_index': 18}, -20: {'depth': 0, 'output_ids': [0], 'input_ids': [], 'depths': [], 'on_path_to_output': False, 'on_path_to_input': True, 'is_input': True, 'is_output': False, 'is_valid': True, 'output_layers': [1], 'input_layers': [], 'skips_in': False, 'skips_out': False, 'layer': 0, 'layer_index': 19}, -21: {'depth': 0, 'output_ids': [0], 'input_ids': [], 'depths': [], 'on_path_to_output': False, 'on_path_to_input': True, 'is_input': True, 'is_output': False, 'is_valid': True, 'output_layers': [1], 'input_layers': [], 'skips_in': False, 'skips_out': False, 'layer': 0, 'layer_index': 20}, -22: {'depth': 0, 'output_ids': [0], 'input_ids': [], 'depths': [], 'on_path_to_output': False, 'on_path_to_input': True, 'is_input': True, 'is_output': False, 'is_valid': True, 'output_layers': [1], 'input_layers': [], 'skips_in': False, 'skips_out': False, 'layer': 0, 'layer_index': 21}, -23: {'depth': 0, 'output_ids': [0], 'input_ids': [], 'depths': [], 'on_path_to_output': False, 'on_path_to_input': True, 'is_input': True, 'is_output': False, 'is_valid': True, 'output_layers': [1], 'input_layers': [], 'skips_in': False, 'skips_out': False, 'layer': 0, 'layer_index': 22}, -24: {'depth': 0, 'output_ids': [0], 'input_ids': [], 'depths': [], 'on_path_to_output': False, 'on_path_to_input': True, 'is_input': True, 'is_output': False, 'is_valid': True, 'output_layers': [1], 'input_layers': [], 'skips_in': False, 'skips_out': False, 'layer': 0, 'layer_index': 23}, -25: {'depth': 0, 'output_ids': [0], 'input_ids': [], 'depths': [], 'on_path_to_output': False, 'on_path_to_input': True, 'is_input': True, 'is_output': False, 'is_valid': True, 'output_layers': [1], 'input_layers': [], 'skips_in': False, 'skips_out': False, 'layer': 0, 'layer_index': 24}, -26: {'depth': 0, 'output_ids': [0], 'input_ids': [], 'depths': [], 'on_path_to_output': False, 'on_path_to_input': True, 'is_input': True, 'is_output': False, 'is_valid': True, 'output_layers': [1], 'input_layers': [], 'skips_in': False, 'skips_out': False, 'layer': 0, 'layer_index': 25}, -27: {'depth': 0, 'output_ids': [0], 'input_ids': [], 'depths': [], 'on_path_to_output': False, 'on_path_to_input': True, 'is_input': True, 'is_output': False, 'is_valid': True, 'output_layers': [1], 'input_layers': [], 'skips_in': False, 'skips_out': False, 'layer': 0, 'layer_index': 26}, -28: {'depth': 0, 'output_ids': [0], 'input_ids': [], 'depths': [], 'on_path_to_output': False, 'on_path_to_input': True, 'is_input': True, 'is_output': False, 'is_valid': True, 'output_layers': [1], 'input_layers': [], 'skips_in': False, 'skips_out': False, 'layer': 0, 'layer_index': 27}, -29: {'depth': 0, 'output_ids': [0], 'input_ids': [], 'depths': [], 'on_path_to_output': False, 'on_path_to_input': True, 'is_input': True, 'is_output': False, 'is_valid': True, 'output_layers': [1], 'input_layers': [], 'skips_in': False, 'skips_out': False, 'layer': 0, 'layer_index': 28}, -30: {'depth': 0, 'output_ids': [0], 'input_ids': [], 'depths': [], 'on_path_to_output': False, 'on_path_to_input': True, 'is_input': True, 'is_output': False, 'is_valid': True, 'output_layers': [1], 'input_layers': [], 'skips_in': False, 'skips_out': False, 'layer': 0, 'layer_index': 29}, -31: {'depth': 0, 'output_ids': [0], 'input_ids': [], 'depths': [], 'on_path_to_output': False, 'on_path_to_input': True, 'is_input': True, 'is_output': False, 'is_valid': True, 'output_layers': [1], 'input_layers': [], 'skips_in': False, 'skips_out': False, 'layer': 0, 'layer_index': 30}, -32: {'depth': 0, 'output_ids': [0], 'input_ids': [], 'depths': [], 'on_path_to_output': False, 'on_path_to_input': True, 'is_input': True, 'is_output': False, 'is_valid': True, 'output_layers': [1], 'input_layers': [], 'skips_in': False, 'skips_out': False, 'layer': 0, 'layer_index': 31}, -33: {'depth': 0, 'output_ids': [0], 'input_ids': [], 'depths': [], 'on_path_to_output': False, 'on_path_to_input': True, 'is_input': True, 'is_output': False, 'is_valid': True, 'output_layers': [1], 'input_layers': [], 'skips_in': False, 'skips_out': False, 'layer': 0, 'layer_index': 32}, -34: {'depth': 0, 'output_ids': [0], 'input_ids': [], 'depths': [], 'on_path_to_output': False, 'on_path_to_input': True, 'is_input': True, 'is_output': False, 'is_valid': True, 'output_layers': [1], 'input_layers': [], 'skips_in': False, 'skips_out': False, 'layer': 0, 'layer_index': 33}, -35: {'depth': 0, 'output_ids': [0], 'input_ids': [], 'depths': [], 'on_path_to_output': False, 'on_path_to_input': True, 'is_input': True, 'is_output': False, 'is_valid': True, 'output_layers': [1], 'input_layers': [], 'skips_in': False, 'skips_out': False, 'layer': 0, 'layer_index': 34}, -36: {'depth': 0, 'output_ids': [0], 'input_ids': [], 'depths': [], 'on_path_to_output': False, 'on_path_to_input': True, 'is_input': True, 'is_output': False, 'is_valid': True, 'output_layers': [1], 'input_layers': [], 'skips_in': False, 'skips_out': False, 'layer': 0, 'layer_index': 35}, -37: {'depth': 0, 'output_ids': [0], 'input_ids': [], 'depths': [], 'on_path_to_output': False, 'on_path_to_input': True, 'is_input': True, 'is_output': False, 'is_valid': True, 'output_layers': [1], 'input_layers': [], 'skips_in': False, 'skips_out': False, 'layer': 0, 'layer_index': 36}, -38: {'depth': 0, 'output_ids': [0], 'input_ids': [], 'depths': [], 'on_path_to_output': False, 'on_path_to_input': True, 'is_input': True, 'is_output': False, 'is_valid': True, 'output_layers': [1], 'input_layers': [], 'skips_in': False, 'skips_out': False, 'layer': 0, 'layer_index': 37}, -39: {'depth': 0, 'output_ids': [0], 'input_ids': [], 'depths': [], 'on_path_to_output': False, 'on_path_to_input': True, 'is_input': True, 'is_output': False, 'is_valid': True, 'output_layers': [1], 'input_layers': [], 'skips_in': False, 'skips_out': False, 'layer': 0, 'layer_index': 38}, -40: {'depth': 0, 'output_ids': [0], 'input_ids': [], 'depths': [], 'on_path_to_output': False, 'on_path_to_input': True, 'is_input': True, 'is_output': False, 'is_valid': True, 'output_layers': [1], 'input_layers': [], 'skips_in': False, 'skips_out': False, 'layer': 0, 'layer_index': 39}, -41: {'depth': 0, 'output_ids': [0], 'input_ids': [], 'depths': [], 'on_path_to_output': False, 'on_path_to_input': True, 'is_input': True, 'is_output': False, 'is_valid': True, 'output_layers': [1], 'input_layers': [], 'skips_in': False, 'skips_out': False, 'layer': 0, 'layer_index': 40}, -42: {'depth': 0, 'output_ids': [0], 'input_ids': [], 'depths': [], 'on_path_to_output': False, 'on_path_to_input': True, 'is_input': True, 'is_output': False, 'is_valid': True, 'output_layers': [1], 'input_layers': [], 'skips_in': False, 'skips_out': False, 'layer': 0, 'layer_index': 41}, -43: {'depth': 0, 'output_ids': [0], 'input_ids': [], 'depths': [], 'on_path_to_output': False, 'on_path_to_input': True, 'is_input': True, 'is_output': False, 'is_valid': True, 'output_layers': [1], 'input_layers': [], 'skips_in': False, 'skips_out': False, 'layer': 0, 'layer_index': 42}, -44: {'depth': 0, 'output_ids': [0], 'input_ids': [], 'depths': [], 'on_path_to_output': False, 'on_path_to_input': True, 'is_input': True, 'is_output': False, 'is_valid': True, 'output_layers': [1], 'input_layers': [], 'skips_in': False, 'skips_out': False, 'layer': 0, 'layer_index': 43}, -45: {'depth': 0, 'output_ids': [0], 'input_ids': [], 'depths': [], 'on_path_to_output': False, 'on_path_to_input': True, 'is_input': True, 'is_output': False, 'is_valid': True, 'output_layers': [1], 'input_layers': [], 'skips_in': False, 'skips_out': False, 'layer': 0, 'layer_index': 44}, -46: {'depth': 0, 'output_ids': [0], 'input_ids': [], 'depths': [], 'on_path_to_output': False, 'on_path_to_input': True, 'is_input': True, 'is_output': False, 'is_valid': True, 'output_layers': [1], 'input_layers': [], 'skips_in': False, 'skips_out': False, 'layer': 0, 'layer_index': 45}, -47: {'depth': 0, 'output_ids': [0], 'input_ids': [], 'depths': [], 'on_path_to_output': False, 'on_path_to_input': True, 'is_input': True, 'is_output': False, 'is_valid': True, 'output_layers': [1], 'input_layers': [], 'skips_in': False, 'skips_out': False, 'layer': 0, 'layer_index': 46}, -48: {'depth': 0, 'output_ids': [0], 'input_ids': [], 'depths': [], 'on_path_to_output': False, 'on_path_to_input': True, 'is_input': True, 'is_output': False, 'is_valid': True, 'output_layers': [1], 'input_layers': [], 'skips_in': False, 'skips_out': False, 'layer': 0, 'layer_index': 47}, -49: {'depth': 0, 'output_ids': [0], 'input_ids': [], 'depths': [], 'on_path_to_output': False, 'on_path_to_input': True, 'is_input': True, 'is_output': False, 'is_valid': True, 'output_layers': [1], 'input_layers': [], 'skips_in': False, 'skips_out': False, 'layer': 0, 'layer_index': 48}, -50: {'depth': 0, 'output_ids': [0], 'input_ids': [], 'depths': [], 'on_path_to_output': False, 'on_path_to_input': True, 'is_input': True, 'is_output': False, 'is_valid': True, 'output_layers': [1], 'input_layers': [], 'skips_in': False, 'skips_out': False, 'layer': 0, 'layer_index': 49}, -51: {'depth': 0, 'output_ids': [0], 'input_ids': [], 'depths': [], 'on_path_to_output': False, 'on_path_to_input': True, 'is_input': True, 'is_output': False, 'is_valid': True, 'output_layers': [1], 'input_layers': [], 'skips_in': False, 'skips_out': False, 'layer': 0, 'layer_index': 50}, -52: {'depth': 0, 'output_ids': [0], 'input_ids': [], 'depths': [], 'on_path_to_output': False, 'on_path_to_input': True, 'is_input': True, 'is_output': False, 'is_valid': True, 'output_layers': [1], 'input_layers': [], 'skips_in': False, 'skips_out': False, 'layer': 0, 'layer_index': 51}, -53: {'depth': 0, 'output_ids': [0], 'input_ids': [], 'depths': [], 'on_path_to_output': False, 'on_path_to_input': True, 'is_input': True, 'is_output': False, 'is_valid': True, 'output_layers': [1], 'input_layers': [], 'skips_in': False, 'skips_out': False, 'layer': 0, 'layer_index': 52}, -54: {'depth': 0, 'output_ids': [0], 'input_ids': [], 'depths': [], 'on_path_to_output': False, 'on_path_to_input': True, 'is_input': True, 'is_output': False, 'is_valid': True, 'output_layers': [1], 'input_layers': [], 'skips_in': False, 'skips_out': False, 'layer': 0, 'layer_index': 53}, -55: {'depth': 0, 'output_ids': [0], 'input_ids': [], 'depths': [], 'on_path_to_output': False, 'on_path_to_input': True, 'is_input': True, 'is_output': False, 'is_valid': True, 'output_layers': [1], 'input_layers': [], 'skips_in': False, 'skips_out': False, 'layer': 0, 'layer_index': 54}, -56: {'depth': 0, 'output_ids': [0], 'input_ids': [], 'depths': [], 'on_path_to_output': False, 'on_path_to_input': True, 'is_input': True, 'is_output': False, 'is_valid': True, 'output_layers': [1], 'input_layers': [], 'skips_in': False, 'skips_out': False, 'layer': 0, 'layer_index': 55}, -57: {'depth': 0, 'output_ids': [0], 'input_ids': [], 'depths': [], 'on_path_to_output': False, 'on_path_to_input': True, 'is_input': True, 'is_output': False, 'is_valid': True, 'output_layers': [1], 'input_layers': [], 'skips_in': False, 'skips_out': False, 'layer': 0, 'layer_index': 56}, -58: {'depth': 0, 'output_ids': [0], 'input_ids': [], 'depths': [], 'on_path_to_output': False, 'on_path_to_input': True, 'is_input': True, 'is_output': False, 'is_valid': True, 'output_layers': [1], 'input_layers': [], 'skips_in': False, 'skips_out': False, 'layer': 0, 'layer_index': 57}, -59: {'depth': 0, 'output_ids': [0], 'input_ids': [], 'depths': [], 'on_path_to_output': False, 'on_path_to_input': True, 'is_input': True, 'is_output': False, 'is_valid': True, 'output_layers': [1], 'input_layers': [], 'skips_in': False, 'skips_out': False, 'layer': 0, 'layer_index': 58}, -60: {'depth': 0, 'output_ids': [0], 'input_ids': [], 'depths': [], 'on_path_to_output': False, 'on_path_to_input': True, 'is_input': True, 'is_output': False, 'is_valid': True, 'output_layers': [1], 'input_layers': [], 'skips_in': False, 'skips_out': False, 'layer': 0, 'layer_index': 59}, -61: {'depth': 0, 'output_ids': [0], 'input_ids': [], 'depths': [], 'on_path_to_output': False, 'on_path_to_input': True, 'is_input': True, 'is_output': False, 'is_valid': True, 'output_layers': [1], 'input_layers': [], 'skips_in': False, 'skips_out': False, 'layer': 0, 'layer_index': 60}, -62: {'depth': 0, 'output_ids': [0], 'input_ids': [], 'depths': [], 'on_path_to_output': False, 'on_path_to_input': True, 'is_input': True, 'is_output': False, 'is_valid': True, 'output_layers': [1], 'input_layers': [], 'skips_in': False, 'skips_out': False, 'layer': 0, 'layer_index': 61}, -63: {'depth': 0, 'output_ids': [0], 'input_ids': [], 'depths': [], 'on_path_to_output': False, 'on_path_to_input': True, 'is_input': True, 'is_output': False, 'is_valid': True, 'output_layers': [1], 'input_layers': [], 'skips_in': False, 'skips_out': False, 'layer': 0, 'layer_index': 62}, -64: {'depth': 0, 'output_ids': [0], 'input_ids': [], 'depths': [], 'on_path_to_output': False, 'on_path_to_input': True, 'is_input': True, 'is_output': False, 'is_valid': True, 'output_layers': [1], 'input_layers': [], 'skips_in': False, 'skips_out': False, 'layer': 0, 'layer_index': 63}, -65: {'depth': 0, 'output_ids': [0], 'input_ids': [], 'depths': [], 'on_path_to_output': False, 'on_path_to_input': True, 'is_input': True, 'is_output': False, 'is_valid': True, 'output_layers': [1], 'input_layers': [], 'skips_in': False, 'skips_out': False, 'layer': 0, 'layer_index': 64}, -66: {'depth': 0, 'output_ids': [0], 'input_ids': [], 'depths': [], 'on_path_to_output': False, 'on_path_to_input': True, 'is_input': True, 'is_output': False, 'is_valid': True, 'output_layers': [1], 'input_layers': [], 'skips_in': False, 'skips_out': False, 'layer': 0, 'layer_index': 65}, -67: {'depth': 0, 'output_ids': [0], 'input_ids': [], 'depths': [], 'on_path_to_output': False, 'on_path_to_input': True, 'is_input': True, 'is_output': False, 'is_valid': True, 'output_layers': [1], 'input_layers': [], 'skips_in': False, 'skips_out': False, 'layer': 0, 'layer_index': 66}, -68: {'depth': 0, 'output_ids': [0], 'input_ids': [], 'depths': [], 'on_path_to_output': False, 'on_path_to_input': True, 'is_input': True, 'is_output': False, 'is_valid': True, 'output_layers': [1], 'input_layers': [], 'skips_in': False, 'skips_out': False, 'layer': 0, 'layer_index': 67}, -69: {'depth': 0, 'output_ids': [0], 'input_ids': [], 'depths': [], 'on_path_to_output': False, 'on_path_to_input': True, 'is_input': True, 'is_output': False, 'is_valid': True, 'output_layers': [1], 'input_layers': [], 'skips_in': False, 'skips_out': False, 'layer': 0, 'layer_index': 68}, -70: {'depth': 0, 'output_ids': [0], 'input_ids': [], 'depths': [], 'on_path_to_output': False, 'on_path_to_input': True, 'is_input': True, 'is_output': False, 'is_valid': True, 'output_layers': [1], 'input_layers': [], 'skips_in': False, 'skips_out': False, 'layer': 0, 'layer_index': 69}, -71: {'depth': 0, 'output_ids': [0], 'input_ids': [], 'depths': [], 'on_path_to_output': False, 'on_path_to_input': True, 'is_input': True, 'is_output': False, 'is_valid': True, 'output_layers': [1], 'input_layers': [], 'skips_in': False, 'skips_out': False, 'layer': 0, 'layer_index': 70}, -72: {'depth': 0, 'output_ids': [0], 'input_ids': [], 'depths': [], 'on_path_to_output': False, 'on_path_to_input': True, 'is_input': True, 'is_output': False, 'is_valid': True, 'output_layers': [1], 'input_layers': [], 'skips_in': False, 'skips_out': False, 'layer': 0, 'layer_index': 71}, -73: {'depth': 0, 'output_ids': [0], 'input_ids': [], 'depths': [], 'on_path_to_output': False, 'on_path_to_input': True, 'is_input': True, 'is_output': False, 'is_valid': True, 'output_layers': [1], 'input_layers': [], 'skips_in': False, 'skips_out': False, 'layer': 0, 'layer_index': 72}, -74: {'depth': 0, 'output_ids': [0], 'input_ids': [], 'depths': [], 'on_path_to_output': False, 'on_path_to_input': True, 'is_input': True, 'is_output': False, 'is_valid': True, 'output_layers': [1], 'input_layers': [], 'skips_in': False, 'skips_out': False, 'layer': 0, 'layer_index': 73}, -75: {'depth': 0, 'output_ids': [0], 'input_ids': [], 'depths': [], 'on_path_to_output': False, 'on_path_to_input': True, 'is_input': True, 'is_output': False, 'is_valid': True, 'output_layers': [1], 'input_layers': [], 'skips_in': False, 'skips_out': False, 'layer': 0, 'layer_index': 74}, -76: {'depth': 0, 'output_ids': [0], 'input_ids': [], 'depths': [], 'on_path_to_output': False, 'on_path_to_input': True, 'is_input': True, 'is_output': False, 'is_valid': True, 'output_layers': [1], 'input_layers': [], 'skips_in': False, 'skips_out': False, 'layer': 0, 'layer_index': 75}, -77: {'depth': 0, 'output_ids': [0], 'input_ids': [], 'depths': [], 'on_path_to_output': False, 'on_path_to_input': True, 'is_input': True, 'is_output': False, 'is_valid': True, 'output_layers': [1], 'input_layers': [], 'skips_in': False, 'skips_out': False, 'layer': 0, 'layer_index': 76}, -78: {'depth': 0, 'output_ids': [0], 'input_ids': [], 'depths': [], 'on_path_to_output': False, 'on_path_to_input': True, 'is_input': True, 'is_output': False, 'is_valid': True, 'output_layers': [1], 'input_layers': [], 'skips_in': False, 'skips_out': False, 'layer': 0, 'layer_index': 77}, -79: {'depth': 0, 'output_ids': [0], 'input_ids': [], 'depths': [], 'on_path_to_output': False, 'on_path_to_input': True, 'is_input': True, 'is_output': False, 'is_valid': True, 'output_layers': [1], 'input_layers': [], 'skips_in': False, 'skips_out': False, 'layer': 0, 'layer_index': 78}, -80: {'depth': 0, 'output_ids': [0], 'input_ids': [], 'depths': [], 'on_path_to_output': False, 'on_path_to_input': True, 'is_input': True, 'is_output': False, 'is_valid': True, 'output_layers': [1], 'input_layers': [], 'skips_in': False, 'skips_out': False, 'layer': 0, 'layer_index': 79}, -81: {'depth': 0, 'output_ids': [0], 'input_ids': [], 'depths': [], 'on_path_to_output': False, 'on_path_to_input': True, 'is_input': True, 'is_output': False, 'is_valid': True, 'output_layers': [1], 'input_layers': [], 'skips_in': False, 'skips_out': False, 'layer': 0, 'layer_index': 80}, -82: {'depth': 0, 'output_ids': [0], 'input_ids': [], 'depths': [], 'on_path_to_output': False, 'on_path_to_input': True, 'is_input': True, 'is_output': False, 'is_valid': True, 'output_layers': [1], 'input_layers': [], 'skips_in': False, 'skips_out': False, 'layer': 0, 'layer_index': 81}, -83: {'depth': 0, 'output_ids': [0], 'input_ids': [], 'depths': [], 'on_path_to_output': False, 'on_path_to_input': True, 'is_input': True, 'is_output': False, 'is_valid': True, 'output_layers': [1], 'input_layers': [], 'skips_in': False, 'skips_out': False, 'layer': 0, 'layer_index': 82}, -84: {'depth': 0, 'output_ids': [0], 'input_ids': [], 'depths': [], 'on_path_to_output': False, 'on_path_to_input': True, 'is_input': True, 'is_output': False, 'is_valid': True, 'output_layers': [1], 'input_layers': [], 'skips_in': False, 'skips_out': False, 'layer': 0, 'layer_index': 83}, -85: {'depth': 0, 'output_ids': [0], 'input_ids': [], 'depths': [], 'on_path_to_output': False, 'on_path_to_input': True, 'is_input': True, 'is_output': False, 'is_valid': True, 'output_layers': [1], 'input_layers': [], 'skips_in': False, 'skips_out': False, 'layer': 0, 'layer_index': 84}, -86: {'depth': 0, 'output_ids': [0], 'input_ids': [], 'depths': [], 'on_path_to_output': False, 'on_path_to_input': True, 'is_input': True, 'is_output': False, 'is_valid': True, 'output_layers': [1], 'input_layers': [], 'skips_in': False, 'skips_out': False, 'layer': 0, 'layer_index': 85}, -87: {'depth': 0, 'output_ids': [0], 'input_ids': [], 'depths': [], 'on_path_to_output': False, 'on_path_to_input': True, 'is_input': True, 'is_output': False, 'is_valid': True, 'output_layers': [1], 'input_layers': [], 'skips_in': False, 'skips_out': False, 'layer': 0, 'layer_index': 86}, -88: {'depth': 0, 'output_ids': [0], 'input_ids': [], 'depths': [], 'on_path_to_output': False, 'on_path_to_input': True, 'is_input': True, 'is_output': False, 'is_valid': True, 'output_layers': [1], 'input_layers': [], 'skips_in': False, 'skips_out': False, 'layer': 0, 'layer_index': 87}, -89: {'depth': 0, 'output_ids': [0], 'input_ids': [], 'depths': [], 'on_path_to_output': False, 'on_path_to_input': True, 'is_input': True, 'is_output': False, 'is_valid': True, 'output_layers': [1], 'input_layers': [], 'skips_in': False, 'skips_out': False, 'layer': 0, 'layer_index': 88}, -90: {'depth': 0, 'output_ids': [0], 'input_ids': [], 'depths': [], 'on_path_to_output': False, 'on_path_to_input': True, 'is_input': True, 'is_output': False, 'is_valid': True, 'output_layers': [1], 'input_layers': [], 'skips_in': False, 'skips_out': False, 'layer': 0, 'layer_index': 89}, -91: {'depth': 0, 'output_ids': [0], 'input_ids': [], 'depths': [], 'on_path_to_output': False, 'on_path_to_input': True, 'is_input': True, 'is_output': False, 'is_valid': True, 'output_layers': [1], 'input_layers': [], 'skips_in': False, 'skips_out': False, 'layer': 0, 'layer_index': 90}, -92: {'depth': 0, 'output_ids': [0], 'input_ids': [], 'depths': [], 'on_path_to_output': False, 'on_path_to_input': True, 'is_input': True, 'is_output': False, 'is_valid': True, 'output_layers': [1], 'input_layers': [], 'skips_in': False, 'skips_out': False, 'layer': 0, 'layer_index': 91}, -93: {'depth': 0, 'output_ids': [0], 'input_ids': [], 'depths': [], 'on_path_to_output': False, 'on_path_to_input': True, 'is_input': True, 'is_output': False, 'is_valid': True, 'output_layers': [1], 'input_layers': [], 'skips_in': False, 'skips_out': False, 'layer': 0, 'layer_index': 92}, -94: {'depth': 0, 'output_ids': [0], 'input_ids': [], 'depths': [], 'on_path_to_output': False, 'on_path_to_input': True, 'is_input': True, 'is_output': False, 'is_valid': True, 'output_layers': [1], 'input_layers': [], 'skips_in': False, 'skips_out': False, 'layer': 0, 'layer_index': 93}, -95: {'depth': 0, 'output_ids': [0], 'input_ids': [], 'depths': [], 'on_path_to_output': False, 'on_path_to_input': True, 'is_input': True, 'is_output': False, 'is_valid': True, 'output_layers': [1], 'input_layers': [], 'skips_in': False, 'skips_out': False, 'layer': 0, 'layer_index': 94}, -96: {'depth': 0, 'output_ids': [0], 'input_ids': [], 'depths': [], 'on_path_to_output': False, 'on_path_to_input': True, 'is_input': True, 'is_output': False, 'is_valid': True, 'output_layers': [1], 'input_layers': [], 'skips_in': False, 'skips_out': False, 'layer': 0, 'layer_index': 95}, -97: {'depth': 0, 'output_ids': [0], 'input_ids': [], 'depths': [], 'on_path_to_output': False, 'on_path_to_input': True, 'is_input': True, 'is_output': False, 'is_valid': True, 'output_layers': [1], 'input_layers': [], 'skips_in': False, 'skips_out': False, 'layer': 0, 'layer_index': 96}, -98: {'depth': 0, 'output_ids': [0], 'input_ids': [], 'depths': [], 'on_path_to_output': False, 'on_path_to_input': True, 'is_input': True, 'is_output': False, 'is_valid': True, 'output_layers': [1], 'input_layers': [], 'skips_in': False, 'skips_out': False, 'layer': 0, 'layer_index': 97}, -99: {'depth': 0, 'output_ids': [0], 'input_ids': [], 'depths': [], 'on_path_to_output': False, 'on_path_to_input': True, 'is_input': True, 'is_output': False, 'is_valid': True, 'output_layers': [1], 'input_layers': [], 'skips_in': False, 'skips_out': False, 'layer': 0, 'layer_index': 98}, -100: {'depth': 0, 'output_ids': [0], 'input_ids': [], 'depths': [], 'on_path_to_output': False, 'on_path_to_input': True, 'is_input': True, 'is_output': False, 'is_valid': True, 'output_layers': [1], 'input_layers': [], 'skips_in': False, 'skips_out': False, 'layer': 0, 'layer_index': 99}, -101: {'depth': 0, 'output_ids': [0], 'input_ids': [], 'depths': [], 'on_path_to_output': False, 'on_path_to_input': True, 'is_input': True, 'is_output': False, 'is_valid': True, 'output_layers': [1], 'input_layers': [], 'skips_in': False, 'skips_out': False, 'layer': 0, 'layer_index': 100}, -102: {'depth': 0, 'output_ids': [0], 'input_ids': [], 'depths': [], 'on_path_to_output': False, 'on_path_to_input': True, 'is_input': True, 'is_output': False, 'is_valid': True, 'output_layers': [1], 'input_layers': [], 'skips_in': False, 'skips_out': False, 'layer': 0, 'layer_index': 101}, -103: {'depth': 0, 'output_ids': [0], 'input_ids': [], 'depths': [], 'on_path_to_output': False, 'on_path_to_input': True, 'is_input': True, 'is_output': False, 'is_valid': True, 'output_layers': [1], 'input_layers': [], 'skips_in': False, 'skips_out': False, 'layer': 0, 'layer_index': 102}, -104: {'depth': 0, 'output_ids': [0], 'input_ids': [], 'depths': [], 'on_path_to_output': False, 'on_path_to_input': True, 'is_input': True, 'is_output': False, 'is_valid': True, 'output_layers': [1], 'input_layers': [], 'skips_in': False, 'skips_out': False, 'layer': 0, 'layer_index': 103}, -105: {'depth': 0, 'output_ids': [0], 'input_ids': [], 'depths': [], 'on_path_to_output': False, 'on_path_to_input': True, 'is_input': True, 'is_output': False, 'is_valid': True, 'output_layers': [1], 'input_layers': [], 'skips_in': False, 'skips_out': False, 'layer': 0, 'layer_index': 104}, -106: {'depth': 0, 'output_ids': [0], 'input_ids': [], 'depths': [], 'on_path_to_output': False, 'on_path_to_input': True, 'is_input': True, 'is_output': False, 'is_valid': True, 'output_layers': [1], 'input_layers': [], 'skips_in': False, 'skips_out': False, 'layer': 0, 'layer_index': 105}, -107: {'depth': 0, 'output_ids': [0], 'input_ids': [], 'depths': [], 'on_path_to_output': False, 'on_path_to_input': True, 'is_input': True, 'is_output': False, 'is_valid': True, 'output_layers': [1], 'input_layers': [], 'skips_in': False, 'skips_out': False, 'layer': 0, 'layer_index': 106}, -108: {'depth': 0, 'output_ids': [0], 'input_ids': [], 'depths': [], 'on_path_to_output': False, 'on_path_to_input': True, 'is_input': True, 'is_output': False, 'is_valid': True, 'output_layers': [1], 'input_layers': [], 'skips_in': False, 'skips_out': False, 'layer': 0, 'layer_index': 107}}, 'is_output_layer': False, 'is_input_layer': True, 'layer_type': 'INPUT', 'layer_activation': 'Input', 'input_layers': [], 'input_shape': 0, 'output_shape': 108, 'weights_shape': (0, 108), 'input_map': {}, 'input_weights': array([[1., 1., 1., 1., 1., 1., 1., 1., 1., 1., 1., 1., 1., 1., 1., 1.,\n",
      "        1., 1., 1., 1., 1., 1., 1., 1., 1., 1., 1., 1., 1., 1., 1., 1.,\n",
      "        1., 1., 1., 1., 1., 1., 1., 1., 1., 1., 1., 1., 1., 1., 1., 1.,\n",
      "        1., 1., 1., 1., 1., 1., 1., 1., 1., 1., 1., 1., 1., 1., 1., 1.,\n",
      "        1., 1., 1., 1., 1., 1., 1., 1., 1., 1., 1., 1., 1., 1., 1., 1.,\n",
      "        1., 1., 1., 1., 1., 1., 1., 1., 1., 1., 1., 1., 1., 1., 1., 1.,\n",
      "        1., 1., 1., 1., 1., 1., 1., 1., 1., 1., 1., 1.]]), 'shape': (0, 108), 'bias': array([0., 0., 0., 0., 0., 0., 0., 0., 0., 0., 0., 0., 0., 0., 0., 0., 0.,\n",
      "       0., 0., 0., 0., 0., 0., 0., 0., 0., 0., 0., 0., 0., 0., 0., 0., 0.,\n",
      "       0., 0., 0., 0., 0., 0., 0., 0., 0., 0., 0., 0., 0., 0., 0., 0., 0.,\n",
      "       0., 0., 0., 0., 0., 0., 0., 0., 0., 0., 0., 0., 0., 0., 0., 0., 0.,\n",
      "       0., 0., 0., 0., 0., 0., 0., 0., 0., 0., 0., 0., 0., 0., 0., 0., 0.,\n",
      "       0., 0., 0., 0., 0., 0., 0., 0., 0., 0., 0., 0., 0., 0., 0., 0., 0.,\n",
      "       0., 0., 0., 0., 0., 0.])}}\n"
     ]
    },
    {
     "ename": "TypeError",
     "evalue": "expected Tensor as element 0 in argument 0, but got numpy.ndarray",
     "output_type": "error",
     "traceback": [
      "\u001b[0;31m---------------------------------------------------------------------------\u001b[0m",
      "\u001b[0;31mTypeError\u001b[0m                                 Traceback (most recent call last)",
      "\u001b[0;32m~/dev-mtm/phd-neat-experiments/explaneat/core/neuralneat.py\u001b[0m in \u001b[0;36mforward\u001b[0;34m(self, x)\u001b[0m\n\u001b[1;32m    308\u001b[0m                 \u001b[0;32mtry\u001b[0m\u001b[0;34m:\u001b[0m\u001b[0;34m\u001b[0m\u001b[0;34m\u001b[0m\u001b[0m\n\u001b[0;32m--> 309\u001b[0;31m                     layer_input = torch.cat(\n\u001b[0m\u001b[1;32m    310\u001b[0m                         [self._outputs[ii] for ii in self.layer_inputs[layer_id]], dim=1)\n",
      "\u001b[0;31mTypeError\u001b[0m: expected Tensor as element 0 in argument 0, but got numpy.ndarray",
      "\nDuring handling of the above exception, another exception occurred:\n",
      "\u001b[0;31mTypeError\u001b[0m                                 Traceback (most recent call last)",
      "\u001b[0;32m<ipython-input-74-7b1d6113e220>\u001b[0m in \u001b[0;36m<module>\u001b[0;34m\u001b[0m\n\u001b[0;32m----> 1\u001b[0;31m \u001b[0mnet\u001b[0m\u001b[0;34m.\u001b[0m\u001b[0mforward\u001b[0m\u001b[0;34m(\u001b[0m\u001b[0mneat_x_train\u001b[0m\u001b[0;34m)\u001b[0m\u001b[0;34m\u001b[0m\u001b[0;34m\u001b[0m\u001b[0m\n\u001b[0m",
      "\u001b[0;32m~/dev-mtm/phd-neat-experiments/explaneat/core/neuralneat.py\u001b[0m in \u001b[0;36mforward\u001b[0;34m(self, x)\u001b[0m\n\u001b[1;32m    315\u001b[0m                     \u001b[0mprint\u001b[0m\u001b[0;34m(\u001b[0m\u001b[0;34m\"---------------\"\u001b[0m\u001b[0;34m)\u001b[0m\u001b[0;34m\u001b[0m\u001b[0;34m\u001b[0m\u001b[0m\n\u001b[1;32m    316\u001b[0m                     \u001b[0mprint\u001b[0m\u001b[0;34m(\u001b[0m\u001b[0mself\u001b[0m\u001b[0;34m.\u001b[0m\u001b[0mlayers\u001b[0m\u001b[0;34m)\u001b[0m\u001b[0;34m\u001b[0m\u001b[0;34m\u001b[0m\u001b[0m\n\u001b[0;32m--> 317\u001b[0;31m                     layer_input = torch.cat(\n\u001b[0m\u001b[1;32m    318\u001b[0m                         [self._outputs[ii] for ii in self.layer_inputs[layer_id]])\n\u001b[1;32m    319\u001b[0m \u001b[0;34m\u001b[0m\u001b[0m\n",
      "\u001b[0;31mTypeError\u001b[0m: expected Tensor as element 0 in argument 0, but got numpy.ndarray"
     ]
    }
   ],
   "source": []
  },
  {
   "cell_type": "code",
   "execution_count": null,
   "metadata": {},
   "outputs": [],
   "source": []
  }
 ],
 "metadata": {
  "kernelspec": {
   "display_name": "Python 3",
   "language": "python",
   "name": "python3"
  },
  "language_info": {
   "codemirror_mode": {
    "name": "ipython",
    "version": 3
   },
   "file_extension": ".py",
   "mimetype": "text/x-python",
   "name": "python",
   "nbconvert_exporter": "python",
   "pygments_lexer": "ipython3",
   "version": "3.8.3"
  }
 },
 "nbformat": 4,
 "nbformat_minor": 4
}