{
 "cells": [
  {
   "cell_type": "code",
   "execution_count": 1,
   "metadata": {},
   "outputs": [],
   "source": [
    "from __future__ import print_function\n",
    "import os\n",
    "import neat\n",
    "\n",
    "import pandas as pd\n",
    "import numpy as np\n",
    "import random\n",
    "\n",
    "import torch\n",
    "import torch.nn as nn\n",
    "import torch.optim as optim\n",
    "from torch.utils.data import Dataset, DataLoader\n",
    "\n",
    "import matplotlib.pyplot as plt\n",
    "\n",
    "\n",
    "\n",
    "from explaneat.core.backprop import NeatNet\n",
    "from explaneat.core import backprop\n",
    "from explaneat.core.backproppop import BackpropPopulation\n",
    "from explaneat.visualization import visualize\n",
    "from explaneat.core.experiment import ExperimentReporter\n",
    "from explaneat.core.utility import one_hot_encode\n",
    "\n",
    "\n",
    "from sklearn import datasets\n",
    "from sklearn import metrics\n",
    "from sklearn.preprocessing import StandardScaler\n",
    "from sklearn.model_selection import train_test_split\n",
    "\n",
    "from sklearn.metrics import classification_report, confusion_matrix\n",
    "from sklearn.metrics import roc_auc_score\n",
    "\n",
    "\n",
    "\n",
    "from copy import deepcopy\n",
    "\n",
    "import time\n",
    "from datetime import datetime\n",
    "\n",
    "\n",
    "import gzip\n",
    "try:\n",
    "    import cPickle as pickle  # pylint: disable=import-error\n",
    "except ImportError:\n",
    "    import pickle  # pylint: disable=import-error"
   ]
  },
  {
   "cell_type": "code",
   "execution_count": 2,
   "metadata": {},
   "outputs": [],
   "source": [
    "\n",
    "USE_CUDA = torch.cuda.is_available()\n",
    "USE_CUDA = False\n",
    "device = torch.device(\"cuda:1\" if USE_CUDA else \"cpu\")\n",
    "cuda_device = torch.device(\"cuda:1\")"
   ]
  },
  {
   "cell_type": "code",
   "execution_count": 3,
   "metadata": {},
   "outputs": [
    {
     "data": {
      "text/plain": [
       "device(type='cpu')"
      ]
     },
     "execution_count": 3,
     "metadata": {},
     "output_type": "execute_result"
    }
   ],
   "source": [
    "device"
   ]
  },
  {
   "cell_type": "markdown",
   "metadata": {},
   "source": [
    "# Iris Experiment\n",
    "\n",
    "This experiment (a) test the experimental environment, but is also to evaluate the efficacy of the ExplaNEAT algorithm. Speed is a critical factor, as well as stability of results on population size. Total run time will also be measured"
   ]
  },
  {
   "cell_type": "markdown",
   "metadata": {},
   "source": [
    "First, we need to set a random seed and a total stopping point in the number of generations"
   ]
  },
  {
   "cell_type": "code",
   "execution_count": 4,
   "metadata": {},
   "outputs": [],
   "source": [
    "my_random_seed = 42\n",
    "random.seed(my_random_seed)"
   ]
  },
  {
   "cell_type": "code",
   "execution_count": 5,
   "metadata": {},
   "outputs": [],
   "source": [
    "def one_hot_encode(vals):\n",
    "    width = max(vals)\n",
    "    newVals = []\n",
    "    for val in vals:\n",
    "        blank = [0. for _ in range(width + 1)]\n",
    "        blank[val] = 1.\n",
    "        newVals.append(blank)\n",
    "    return np.asarray(newVals)\n"
   ]
  },
  {
   "cell_type": "markdown",
   "metadata": {},
   "source": [
    "## Dataset\n",
    "\n",
    "We are going to work with the Iris dataset, which will be loaded from `sklearn`. We want to characterise the efficacy of the algorithm with regards to a mostly untransformed dataset, so we will only normalise the features"
   ]
  },
  {
   "cell_type": "code",
   "execution_count": 12,
   "metadata": {},
   "outputs": [],
   "source": [
    "data = pd.read_csv('./../../data/house-prices/train.csv')"
   ]
  },
  {
   "cell_type": "code",
   "execution_count": 13,
   "metadata": {},
   "outputs": [
    {
     "data": {
      "text/plain": [
       "Index(['Id', 'MSSubClass', 'MSZoning', 'LotFrontage', 'LotArea', 'Street',\n",
       "       'Alley', 'LotShape', 'LandContour', 'Utilities', 'LotConfig',\n",
       "       'LandSlope', 'Neighborhood', 'Condition1', 'Condition2', 'BldgType',\n",
       "       'HouseStyle', 'OverallQual', 'OverallCond', 'YearBuilt', 'YearRemodAdd',\n",
       "       'RoofStyle', 'RoofMatl', 'Exterior1st', 'Exterior2nd', 'MasVnrType',\n",
       "       'MasVnrArea', 'ExterQual', 'ExterCond', 'Foundation', 'BsmtQual',\n",
       "       'BsmtCond', 'BsmtExposure', 'BsmtFinType1', 'BsmtFinSF1',\n",
       "       'BsmtFinType2', 'BsmtFinSF2', 'BsmtUnfSF', 'TotalBsmtSF', 'Heating',\n",
       "       'HeatingQC', 'CentralAir', 'Electrical', '1stFlrSF', '2ndFlrSF',\n",
       "       'LowQualFinSF', 'GrLivArea', 'BsmtFullBath', 'BsmtHalfBath', 'FullBath',\n",
       "       'HalfBath', 'BedroomAbvGr', 'KitchenAbvGr', 'KitchenQual',\n",
       "       'TotRmsAbvGrd', 'Functional', 'Fireplaces', 'FireplaceQu', 'GarageType',\n",
       "       'GarageYrBlt', 'GarageFinish', 'GarageCars', 'GarageArea', 'GarageQual',\n",
       "       'GarageCond', 'PavedDrive', 'WoodDeckSF', 'OpenPorchSF',\n",
       "       'EnclosedPorch', '3SsnPorch', 'ScreenPorch', 'PoolArea', 'PoolQC',\n",
       "       'Fence', 'MiscFeature', 'MiscVal', 'MoSold', 'YrSold', 'SaleType',\n",
       "       'SaleCondition', 'SalePrice'],\n",
       "      dtype='object')"
      ]
     },
     "execution_count": 13,
     "metadata": {},
     "output_type": "execute_result"
    }
   ],
   "source": [
    "data.columns"
   ]
  },
  {
   "cell_type": "code",
   "execution_count": 14,
   "metadata": {
    "scrolled": true
   },
   "outputs": [
    {
     "data": {
      "text/plain": [
       "Id                 int64\n",
       "MSSubClass         int64\n",
       "MSZoning          object\n",
       "LotFrontage      float64\n",
       "LotArea            int64\n",
       "Street            object\n",
       "Alley             object\n",
       "LotShape          object\n",
       "LandContour       object\n",
       "Utilities         object\n",
       "LotConfig         object\n",
       "LandSlope         object\n",
       "Neighborhood      object\n",
       "Condition1        object\n",
       "Condition2        object\n",
       "BldgType          object\n",
       "HouseStyle        object\n",
       "OverallQual        int64\n",
       "OverallCond        int64\n",
       "YearBuilt          int64\n",
       "YearRemodAdd       int64\n",
       "RoofStyle         object\n",
       "RoofMatl          object\n",
       "Exterior1st       object\n",
       "Exterior2nd       object\n",
       "MasVnrType        object\n",
       "MasVnrArea       float64\n",
       "ExterQual         object\n",
       "ExterCond         object\n",
       "Foundation        object\n",
       "                  ...   \n",
       "BedroomAbvGr       int64\n",
       "KitchenAbvGr       int64\n",
       "KitchenQual       object\n",
       "TotRmsAbvGrd       int64\n",
       "Functional        object\n",
       "Fireplaces         int64\n",
       "FireplaceQu       object\n",
       "GarageType        object\n",
       "GarageYrBlt      float64\n",
       "GarageFinish      object\n",
       "GarageCars         int64\n",
       "GarageArea         int64\n",
       "GarageQual        object\n",
       "GarageCond        object\n",
       "PavedDrive        object\n",
       "WoodDeckSF         int64\n",
       "OpenPorchSF        int64\n",
       "EnclosedPorch      int64\n",
       "3SsnPorch          int64\n",
       "ScreenPorch        int64\n",
       "PoolArea           int64\n",
       "PoolQC            object\n",
       "Fence             object\n",
       "MiscFeature       object\n",
       "MiscVal            int64\n",
       "MoSold             int64\n",
       "YrSold             int64\n",
       "SaleType          object\n",
       "SaleCondition     object\n",
       "SalePrice          int64\n",
       "Length: 81, dtype: object"
      ]
     },
     "execution_count": 14,
     "metadata": {},
     "output_type": "execute_result"
    }
   ],
   "source": [
    "data.dtypes    "
   ]
  },
  {
   "cell_type": "code",
   "execution_count": 18,
   "metadata": {},
   "outputs": [],
   "source": [
    "from sklearn.preprocessing import normalize, OneHotEncoder"
   ]
  },
  {
   "cell_type": "code",
   "execution_count": 19,
   "metadata": {},
   "outputs": [
    {
     "data": {
      "text/html": [
       "<div>\n",
       "<style scoped>\n",
       "    .dataframe tbody tr th:only-of-type {\n",
       "        vertical-align: middle;\n",
       "    }\n",
       "\n",
       "    .dataframe tbody tr th {\n",
       "        vertical-align: top;\n",
       "    }\n",
       "\n",
       "    .dataframe thead th {\n",
       "        text-align: right;\n",
       "    }\n",
       "</style>\n",
       "<table border=\"1\" class=\"dataframe\">\n",
       "  <thead>\n",
       "    <tr style=\"text-align: right;\">\n",
       "      <th></th>\n",
       "      <th>Id</th>\n",
       "      <th>MSSubClass</th>\n",
       "      <th>MSZoning</th>\n",
       "      <th>LotFrontage</th>\n",
       "      <th>LotArea</th>\n",
       "      <th>Street</th>\n",
       "      <th>Alley</th>\n",
       "      <th>LotShape</th>\n",
       "      <th>LandContour</th>\n",
       "      <th>Utilities</th>\n",
       "      <th>...</th>\n",
       "      <th>PoolArea</th>\n",
       "      <th>PoolQC</th>\n",
       "      <th>Fence</th>\n",
       "      <th>MiscFeature</th>\n",
       "      <th>MiscVal</th>\n",
       "      <th>MoSold</th>\n",
       "      <th>YrSold</th>\n",
       "      <th>SaleType</th>\n",
       "      <th>SaleCondition</th>\n",
       "      <th>SalePrice</th>\n",
       "    </tr>\n",
       "  </thead>\n",
       "  <tbody>\n",
       "    <tr>\n",
       "      <th>0</th>\n",
       "      <td>1</td>\n",
       "      <td>60</td>\n",
       "      <td>RL</td>\n",
       "      <td>65.0</td>\n",
       "      <td>8450</td>\n",
       "      <td>Pave</td>\n",
       "      <td>NaN</td>\n",
       "      <td>Reg</td>\n",
       "      <td>Lvl</td>\n",
       "      <td>AllPub</td>\n",
       "      <td>...</td>\n",
       "      <td>0</td>\n",
       "      <td>NaN</td>\n",
       "      <td>NaN</td>\n",
       "      <td>NaN</td>\n",
       "      <td>0</td>\n",
       "      <td>2</td>\n",
       "      <td>2008</td>\n",
       "      <td>WD</td>\n",
       "      <td>Normal</td>\n",
       "      <td>208500</td>\n",
       "    </tr>\n",
       "    <tr>\n",
       "      <th>1</th>\n",
       "      <td>2</td>\n",
       "      <td>20</td>\n",
       "      <td>RL</td>\n",
       "      <td>80.0</td>\n",
       "      <td>9600</td>\n",
       "      <td>Pave</td>\n",
       "      <td>NaN</td>\n",
       "      <td>Reg</td>\n",
       "      <td>Lvl</td>\n",
       "      <td>AllPub</td>\n",
       "      <td>...</td>\n",
       "      <td>0</td>\n",
       "      <td>NaN</td>\n",
       "      <td>NaN</td>\n",
       "      <td>NaN</td>\n",
       "      <td>0</td>\n",
       "      <td>5</td>\n",
       "      <td>2007</td>\n",
       "      <td>WD</td>\n",
       "      <td>Normal</td>\n",
       "      <td>181500</td>\n",
       "    </tr>\n",
       "    <tr>\n",
       "      <th>2</th>\n",
       "      <td>3</td>\n",
       "      <td>60</td>\n",
       "      <td>RL</td>\n",
       "      <td>68.0</td>\n",
       "      <td>11250</td>\n",
       "      <td>Pave</td>\n",
       "      <td>NaN</td>\n",
       "      <td>IR1</td>\n",
       "      <td>Lvl</td>\n",
       "      <td>AllPub</td>\n",
       "      <td>...</td>\n",
       "      <td>0</td>\n",
       "      <td>NaN</td>\n",
       "      <td>NaN</td>\n",
       "      <td>NaN</td>\n",
       "      <td>0</td>\n",
       "      <td>9</td>\n",
       "      <td>2008</td>\n",
       "      <td>WD</td>\n",
       "      <td>Normal</td>\n",
       "      <td>223500</td>\n",
       "    </tr>\n",
       "    <tr>\n",
       "      <th>3</th>\n",
       "      <td>4</td>\n",
       "      <td>70</td>\n",
       "      <td>RL</td>\n",
       "      <td>60.0</td>\n",
       "      <td>9550</td>\n",
       "      <td>Pave</td>\n",
       "      <td>NaN</td>\n",
       "      <td>IR1</td>\n",
       "      <td>Lvl</td>\n",
       "      <td>AllPub</td>\n",
       "      <td>...</td>\n",
       "      <td>0</td>\n",
       "      <td>NaN</td>\n",
       "      <td>NaN</td>\n",
       "      <td>NaN</td>\n",
       "      <td>0</td>\n",
       "      <td>2</td>\n",
       "      <td>2006</td>\n",
       "      <td>WD</td>\n",
       "      <td>Abnorml</td>\n",
       "      <td>140000</td>\n",
       "    </tr>\n",
       "    <tr>\n",
       "      <th>4</th>\n",
       "      <td>5</td>\n",
       "      <td>60</td>\n",
       "      <td>RL</td>\n",
       "      <td>84.0</td>\n",
       "      <td>14260</td>\n",
       "      <td>Pave</td>\n",
       "      <td>NaN</td>\n",
       "      <td>IR1</td>\n",
       "      <td>Lvl</td>\n",
       "      <td>AllPub</td>\n",
       "      <td>...</td>\n",
       "      <td>0</td>\n",
       "      <td>NaN</td>\n",
       "      <td>NaN</td>\n",
       "      <td>NaN</td>\n",
       "      <td>0</td>\n",
       "      <td>12</td>\n",
       "      <td>2008</td>\n",
       "      <td>WD</td>\n",
       "      <td>Normal</td>\n",
       "      <td>250000</td>\n",
       "    </tr>\n",
       "  </tbody>\n",
       "</table>\n",
       "<p>5 rows × 81 columns</p>\n",
       "</div>"
      ],
      "text/plain": [
       "   Id  MSSubClass MSZoning  LotFrontage  LotArea Street Alley LotShape  \\\n",
       "0   1          60       RL         65.0     8450   Pave   NaN      Reg   \n",
       "1   2          20       RL         80.0     9600   Pave   NaN      Reg   \n",
       "2   3          60       RL         68.0    11250   Pave   NaN      IR1   \n",
       "3   4          70       RL         60.0     9550   Pave   NaN      IR1   \n",
       "4   5          60       RL         84.0    14260   Pave   NaN      IR1   \n",
       "\n",
       "  LandContour Utilities  ... PoolArea PoolQC Fence MiscFeature MiscVal MoSold  \\\n",
       "0         Lvl    AllPub  ...        0    NaN   NaN         NaN       0      2   \n",
       "1         Lvl    AllPub  ...        0    NaN   NaN         NaN       0      5   \n",
       "2         Lvl    AllPub  ...        0    NaN   NaN         NaN       0      9   \n",
       "3         Lvl    AllPub  ...        0    NaN   NaN         NaN       0      2   \n",
       "4         Lvl    AllPub  ...        0    NaN   NaN         NaN       0     12   \n",
       "\n",
       "  YrSold  SaleType  SaleCondition  SalePrice  \n",
       "0   2008        WD         Normal     208500  \n",
       "1   2007        WD         Normal     181500  \n",
       "2   2008        WD         Normal     223500  \n",
       "3   2006        WD        Abnorml     140000  \n",
       "4   2008        WD         Normal     250000  \n",
       "\n",
       "[5 rows x 81 columns]"
      ]
     },
     "execution_count": 19,
     "metadata": {},
     "output_type": "execute_result"
    }
   ],
   "source": [
    "data.head()"
   ]
  },
  {
   "cell_type": "code",
   "execution_count": 23,
   "metadata": {},
   "outputs": [
    {
     "data": {
      "text/plain": [
       "dtype('O')"
      ]
     },
     "execution_count": 23,
     "metadata": {},
     "output_type": "execute_result"
    }
   ],
   "source": [
    "data.dtypes['Street']"
   ]
  },
  {
   "cell_type": "code",
   "execution_count": 24,
   "metadata": {},
   "outputs": [
    {
     "ename": "SyntaxError",
     "evalue": "unexpected EOF while parsing (<ipython-input-24-689a09199fb9>, line 7)",
     "output_type": "error",
     "traceback": [
      "\u001b[0;36m  File \u001b[0;32m\"<ipython-input-24-689a09199fb9>\"\u001b[0;36m, line \u001b[0;32m7\u001b[0m\n\u001b[0;31m    if data.dtypes[c] is object:\u001b[0m\n\u001b[0m                                ^\u001b[0m\n\u001b[0;31mSyntaxError\u001b[0m\u001b[0;31m:\u001b[0m unexpected EOF while parsing\n"
     ]
    }
   ],
   "source": [
    "processed = data.copy()\n",
    "for c in data.columns:\n",
    "    if data.dtypes[c] is float64 or data.dtypes[c] is int64:\n",
    "        scaler = StandardScaler()\n",
    "        scaler.fit(data[c])\n",
    "        processed[c] = scaler.transform(data[c])\n",
    "    if data.dtypes[c] is object:\n",
    "        # creating an exhaustive list of all possible categorical values\n",
    "        enc.fit(data.dtypes[c])\n",
    "        # Fitting One Hot Encoding on train data\n",
    "        temp = enc.transform(data.dtypes[c])\n",
    "        # Changing the encoded features into a data frame with new column names\n",
    "        temp=pd.DataFrame(temp,columns=[(c+\"_\"+str(i)) for i in data[col]\n",
    "            .value_counts().index])\n",
    "        # In side by side concatenation index values should be same\n",
    "        # Setting the index values similar to the X_train data frame\n",
    "        temp=temp.set_index(X_train.index.values)\n",
    "        # adding the new One Hot Encoded varibales to the train data frame\n",
    "        X_train_1=pd.concat([X_train_1,temp],axis=1)\n",
    "        # fitting One Hot Encoding on test data\n",
    "        temp = enc.transform(X_test[[col]])\n",
    "        # changing it into data frame and adding column names\n",
    "        temp=pd.DataFrame(temp,columns=[(col+\"_\"+str(i)) for i in data[col]\n",
    "        .value_counts().index])\n",
    "        # Setting the index for proper concatenation\n",
    "        temp=temp.set_index(X_test.index.values)\n",
    "        # adding the new One Hot Encoded varibales to test data frame\n",
    "        X_test_1=pd.concat([X_test_1,temp],axis=1)"
   ]
  },
  {
   "cell_type": "code",
   "execution_count": 10,
   "metadata": {},
   "outputs": [],
   "source": [
    "# digits = datasets.load_digits()\n",
    "# xs_raw = digits.data[:, :]\n",
    "xs_raw = np.array(data[x_cols])\n",
    "scaler = StandardScaler()\n",
    "scaler.fit(xs_raw)\n",
    "xs = scaler.transform(xs_raw)\n",
    "# ys = iris.target\n",
    "ys = np.array(data[y_col]).astype(np.float32)\n",
    "\n",
    "# ys_onehot = one_hot_encode(ys)"
   ]
  },
  {
   "cell_type": "code",
   "execution_count": 11,
   "metadata": {},
   "outputs": [],
   "source": [
    "X_train, X_test, y_train, y_test = train_test_split(xs, ys, test_size=0.15, random_state=42)"
   ]
  },
  {
   "cell_type": "code",
   "execution_count": 12,
   "metadata": {},
   "outputs": [],
   "source": [
    "# # xs = torch.from_numpy(xs).to(device)\n",
    "# # ys = torch.from_numpy(ys).to(device)\n",
    "# X_train = torch.from_numpy(X_train).to(device)\n",
    "# X_test = torch.from_numpy(X_test).to(device)\n",
    "# y_train = torch.from_numpy(y_train).to(device)\n",
    "# y_test = torch.from_numpy(y_test).to(device)"
   ]
  },
  {
   "cell_type": "markdown",
   "metadata": {},
   "source": [
    "Let's have a look at the data we are working with"
   ]
  },
  {
   "cell_type": "code",
   "execution_count": 13,
   "metadata": {},
   "outputs": [
    {
     "data": {
      "text/plain": [
       "array([[-1.64777909,  0.91447105,  0.53223157, -0.45661307,  0.37947332,\n",
       "         1.29056424, -0.93892436, -0.14681807,  0.5585039 ],\n",
       "       [-0.65772695,  0.91447105, -0.41913236, -0.45661307,  0.37947332,\n",
       "        -0.0664261 ,  1.06504852,  0.67651465,  0.5585039 ],\n",
       "       [-0.65772695,  0.91447105, -0.41913236, -0.45661307,  0.37947332,\n",
       "        -0.0664261 , -0.93892436, -0.14681807,  0.5585039 ],\n",
       "       [ 1.32237733, -0.91447105, -0.89481433, -0.45661307,  0.37947332,\n",
       "        -0.0664261 ,  1.06504852, -0.97015079,  0.5585039 ],\n",
       "       [-0.65772695,  0.91447105, -2.32186023, -0.45661307,  0.37947332,\n",
       "        -0.0664261 ,  1.06504852,  1.49984737,  0.5585039 ]])"
      ]
     },
     "execution_count": 13,
     "metadata": {},
     "output_type": "execute_result"
    }
   ],
   "source": [
    "xs[:5]"
   ]
  },
  {
   "cell_type": "code",
   "execution_count": 14,
   "metadata": {},
   "outputs": [
    {
     "data": {
      "text/plain": [
       "array([0., 0., 0., 0., 0.], dtype=float32)"
      ]
     },
     "execution_count": 14,
     "metadata": {},
     "output_type": "execute_result"
    }
   ],
   "source": [
    "ys[:5]"
   ]
  },
  {
   "cell_type": "markdown",
   "metadata": {},
   "source": [
    "## Performance metric\n",
    "\n",
    "The NEAT implementation on which ExplaNEAT extends uses a single function call for evaluating fitness. Although this might be reworked for ExplaNEAT to be able to get consistency between the genome-evaluation and the backprop loss function, that can be reviewed later.\n",
    "\n",
    "This use `CrossEntropyLoss` from `PyTorch`"
   ]
  },
  {
   "cell_type": "code",
   "execution_count": 15,
   "metadata": {},
   "outputs": [],
   "source": [
    "def eval_genomes(genomes, config):\n",
    "    loss = nn.CrossEntropyLoss()\n",
    "    loss = loss.to(device)\n",
    "\n",
    "    for genome_id, genome in genomes:\n",
    "        net = neat.nn.FeedForwardNetwork.create(genome, config)\n",
    "        preds = []\n",
    "        for xi in X_train:\n",
    "            preds.append(net.activate(xi))\n",
    "        genome.fitness = float(1./loss(torch.tensor(preds).to(device), torch.tensor(y_train)))"
   ]
  },
  {
   "cell_type": "markdown",
   "metadata": {},
   "source": [
    "## The competition"
   ]
  },
  {
   "cell_type": "code",
   "execution_count": 16,
   "metadata": {},
   "outputs": [],
   "source": [
    "# Import the model we are using\n",
    "from sklearn.ensemble import RandomForestRegressor\n",
    "# Instantiate model with 1000 decision trees\n",
    "rf = RandomForestRegressor(n_estimators = 2500, random_state = 42)\n",
    "# Train the model on training data\n",
    "rf.fit(X_train, y_train);\n"
   ]
  },
  {
   "cell_type": "code",
   "execution_count": 17,
   "metadata": {},
   "outputs": [],
   "source": [
    "# Use the forest's predict method on the test data\n",
    "rf_preds = rf.predict(X_test)\n",
    "# Calculate the absolute errors\n",
    "errors = abs(rf_preds - y_test)"
   ]
  },
  {
   "cell_type": "code",
   "execution_count": 18,
   "metadata": {},
   "outputs": [
    {
     "name": "stdout",
     "output_type": "stream",
     "text": [
      "Mean Absolute Error: 0.36\n"
     ]
    }
   ],
   "source": [
    "print('Mean Absolute Error:', round(np.mean(errors), 2))"
   ]
  },
  {
   "cell_type": "code",
   "execution_count": 19,
   "metadata": {},
   "outputs": [
    {
     "data": {
      "text/plain": [
       "array([9.10142857e-02, 6.72400000e-01, 1.86606667e-01, 2.02400000e-01,\n",
       "       4.42100000e-01, 3.95200000e-01, 1.16145714e-01, 1.33333333e-01,\n",
       "       6.25866667e-02, 5.48571429e-03, 3.07633333e-01, 4.40000000e-03,\n",
       "       4.88800000e-01, 8.72800000e-01, 1.72000000e-02, 4.84060000e-01,\n",
       "       2.72800000e-01, 1.63200000e-01, 7.25377778e-02, 6.69153333e-01,\n",
       "       5.05352381e-01, 6.87666667e-02, 5.03600000e-01, 2.85166667e-01,\n",
       "       6.28933333e-02, 6.21200000e-01, 5.99600000e-01, 1.30219048e-01,\n",
       "       1.28126667e-01, 1.02333333e-02, 1.48000000e-02, 9.50666667e-03,\n",
       "       2.46791429e-01, 1.09840000e-01, 8.73140000e-01, 6.47866667e-01,\n",
       "       1.43344762e-01, 4.00000000e-04, 2.79980000e-01, 2.16400000e-01,\n",
       "       4.47200000e-01, 9.88000000e-02, 6.16420000e-01])"
      ]
     },
     "execution_count": 19,
     "metadata": {},
     "output_type": "execute_result"
    }
   ],
   "source": [
    "rf_preds"
   ]
  },
  {
   "cell_type": "code",
   "execution_count": 20,
   "metadata": {},
   "outputs": [],
   "source": [
    "errors = abs(rf_preds - y_test)"
   ]
  },
  {
   "cell_type": "code",
   "execution_count": 21,
   "metadata": {},
   "outputs": [
    {
     "data": {
      "text/plain": [
       "array([0., 0., 0., 1., 1., 0., 1., 0., 0., 0., 0., 0., 0., 0., 0., 1., 1.,\n",
       "       1., 0., 0., 1., 0., 1., 0., 0., 0., 0., 1., 0., 0., 1., 0., 1., 0.,\n",
       "       1., 0., 0., 0., 1., 0., 0., 0., 1.])"
      ]
     },
     "execution_count": 21,
     "metadata": {},
     "output_type": "execute_result"
    }
   ],
   "source": [
    "abs(rf_preds.round(0) - y_test)"
   ]
  },
  {
   "cell_type": "code",
   "execution_count": 22,
   "metadata": {},
   "outputs": [
    {
     "name": "stdout",
     "output_type": "stream",
     "text": [
      "[[23  4]\n",
      " [10  6]]\n"
     ]
    }
   ],
   "source": [
    "# Importing the classification report and confusion matrix\n",
    "print(confusion_matrix(y_test,rf_preds.round(0)))"
   ]
  },
  {
   "cell_type": "code",
   "execution_count": 23,
   "metadata": {},
   "outputs": [
    {
     "name": "stdout",
     "output_type": "stream",
     "text": [
      "[[174   0]\n",
      " [  4  65]]\n"
     ]
    }
   ],
   "source": [
    "print(confusion_matrix(y_train, rf.predict(X_train).round(0)))"
   ]
  },
  {
   "cell_type": "code",
   "execution_count": 24,
   "metadata": {},
   "outputs": [
    {
     "data": {
      "text/plain": [
       "0.7337962962962964"
      ]
     },
     "execution_count": 24,
     "metadata": {},
     "output_type": "execute_result"
    }
   ],
   "source": [
    "roc_auc_score(y_test, rf_preds)"
   ]
  },
  {
   "cell_type": "markdown",
   "metadata": {},
   "source": [
    "# SVM"
   ]
  },
  {
   "cell_type": "code",
   "execution_count": 25,
   "metadata": {},
   "outputs": [],
   "source": [
    "from sklearn.svm import SVC\n",
    "svm_model=SVC()\n"
   ]
  },
  {
   "cell_type": "code",
   "execution_count": 26,
   "metadata": {},
   "outputs": [
    {
     "name": "stderr",
     "output_type": "stream",
     "text": [
      "/opt/conda/lib/python3.6/site-packages/sklearn/svm/base.py:193: FutureWarning: The default value of gamma will change from 'auto' to 'scale' in version 0.22 to account better for unscaled features. Set gamma explicitly to 'auto' or 'scale' to avoid this warning.\n",
      "  \"avoid this warning.\", FutureWarning)\n"
     ]
    }
   ],
   "source": [
    "svm_model.fit(X_train, y_train)\n",
    "svm_preds=svm_model.predict(X_test)\n",
    "# print(confusion_matrix(y_test,pred))"
   ]
  },
  {
   "cell_type": "code",
   "execution_count": 27,
   "metadata": {},
   "outputs": [
    {
     "data": {
      "text/plain": [
       "array([0., 0., 0., 0., 0., 0., 0., 0., 0., 0., 0., 0., 0., 1., 0., 0., 0.,\n",
       "       0., 0., 0., 0., 0., 0., 0., 0., 1., 1., 0., 0., 0., 0., 0., 0., 0.,\n",
       "       0., 0., 0., 0., 0., 0., 0., 0., 0.], dtype=float32)"
      ]
     },
     "execution_count": 27,
     "metadata": {},
     "output_type": "execute_result"
    }
   ],
   "source": [
    "svm_preds"
   ]
  },
  {
   "cell_type": "code",
   "execution_count": 28,
   "metadata": {},
   "outputs": [
    {
     "name": "stdout",
     "output_type": "stream",
     "text": [
      "[[27  0]\n",
      " [13  3]]\n"
     ]
    }
   ],
   "source": [
    "# Importing the classification report and confusion matrix\n",
    "print(confusion_matrix(y_test,svm_preds))"
   ]
  },
  {
   "cell_type": "code",
   "execution_count": 29,
   "metadata": {},
   "outputs": [
    {
     "name": "stdout",
     "output_type": "stream",
     "text": [
      "[[174   0]\n",
      " [ 37  32]]\n"
     ]
    }
   ],
   "source": [
    "print(confusion_matrix(y_train, svm_model.predict(X_train).round(0)))"
   ]
  },
  {
   "cell_type": "code",
   "execution_count": 30,
   "metadata": {},
   "outputs": [
    {
     "data": {
      "text/plain": [
       "0.59375"
      ]
     },
     "execution_count": 30,
     "metadata": {},
     "output_type": "execute_result"
    }
   ],
   "source": [
    "roc_auc_score(y_test, svm_preds)"
   ]
  },
  {
   "cell_type": "markdown",
   "metadata": {},
   "source": [
    "# Regression"
   ]
  },
  {
   "cell_type": "code",
   "execution_count": 31,
   "metadata": {},
   "outputs": [],
   "source": [
    "from sklearn.linear_model import LinearRegression\n",
    "regression_model=LinearRegression()"
   ]
  },
  {
   "cell_type": "code",
   "execution_count": 32,
   "metadata": {},
   "outputs": [
    {
     "data": {
      "text/plain": [
       "LinearRegression(copy_X=True, fit_intercept=True, n_jobs=None, normalize=False)"
      ]
     },
     "execution_count": 32,
     "metadata": {},
     "output_type": "execute_result"
    }
   ],
   "source": [
    "regression_model.fit(X_train, y_train)"
   ]
  },
  {
   "cell_type": "code",
   "execution_count": 33,
   "metadata": {},
   "outputs": [],
   "source": [
    "regression_preds=regression_model.predict(X_test)"
   ]
  },
  {
   "cell_type": "code",
   "execution_count": 34,
   "metadata": {},
   "outputs": [
    {
     "name": "stdout",
     "output_type": "stream",
     "text": [
      "[[26  1]\n",
      " [13  3]]\n"
     ]
    }
   ],
   "source": [
    "# Importing the classification report and confusion matrix\n",
    "print(confusion_matrix(y_test,regression_preds.round(0)))"
   ]
  },
  {
   "cell_type": "code",
   "execution_count": 35,
   "metadata": {},
   "outputs": [
    {
     "name": "stdout",
     "output_type": "stream",
     "text": [
      "[[163  11]\n",
      " [ 50  19]]\n"
     ]
    }
   ],
   "source": [
    "print(confusion_matrix(y_train, regression_model.predict(X_train).round(0)))"
   ]
  },
  {
   "cell_type": "code",
   "execution_count": 36,
   "metadata": {},
   "outputs": [
    {
     "data": {
      "text/plain": [
       "0.7222222222222222"
      ]
     },
     "execution_count": 36,
     "metadata": {},
     "output_type": "execute_result"
    }
   ],
   "source": [
    "roc_auc_score(y_test, regression_preds)"
   ]
  },
  {
   "cell_type": "markdown",
   "metadata": {},
   "source": [
    "# NNs"
   ]
  },
  {
   "cell_type": "code",
   "execution_count": 129,
   "metadata": {},
   "outputs": [],
   "source": [
    "class NeuralNet(nn.Module):\n",
    "    def __init__(self, input_size, output_size, hidden_width=64):\n",
    "        super(NeuralNet, self).__init__()\n",
    "        self.fc1 = nn.Linear(input_size, hidden_width) \n",
    "        self.fc2 = nn.Linear(hidden_width, hidden_width)\n",
    "        self.fc3 = nn.Linear(hidden_width, hidden_width)\n",
    "        self.fc4 = nn.Linear(hidden_width, hidden_width)\n",
    "        self.fc5 = nn.Linear(hidden_width, output_size)  \n",
    "        \n",
    "        self.relu = nn.ReLU()\n",
    "        self.sigmoid = nn.Sigmoid()\n",
    "    \n",
    "    def forward(self, x):\n",
    "        out = self.fc1(x)\n",
    "        out = self.relu(out)\n",
    "        out = self.fc2(out)\n",
    "        out = self.relu(out)\n",
    "        out = self.fc3(out)\n",
    "        out = self.relu(out)\n",
    "        out = self.fc4(out)\n",
    "        out = self.relu(out)\n",
    "        out = self.fc5(out)\n",
    "        return out\n",
    "class TabularDataset(Dataset):\n",
    "    \"\"\"Face Landmarks dataset.\"\"\"\n",
    "\n",
    "    def __init__(self, xs, ys):\n",
    "        \"\"\"\n",
    "        Args:\n",
    "            csv_file (string): Path to the csv file with annotations.\n",
    "            root_dir (string): Directory with all the images.\n",
    "            transform (callable, optional): Optional transform to be applied\n",
    "                on a sample.\n",
    "        \"\"\"\n",
    "        self.xs = xs\n",
    "        self.ys = ys\n",
    "\n",
    "    def __len__(self):\n",
    "        return len(self.xs)\n",
    "\n",
    "    def __getitem__(self, idx):\n",
    "        x = self.xs[idx]\n",
    "        y = self.ys[idx]\n",
    "        return (x, y)\n",
    "    \n",
    "\n"
   ]
  },
  {
   "cell_type": "code",
   "execution_count": 130,
   "metadata": {},
   "outputs": [],
   "source": [
    "batch_size = 1000\n",
    "learning_rate = 0.0005\n",
    "num_epochs = 30"
   ]
  },
  {
   "cell_type": "code",
   "execution_count": 131,
   "metadata": {},
   "outputs": [
    {
     "data": {
      "text/plain": [
       "(243, 9)"
      ]
     },
     "execution_count": 131,
     "metadata": {},
     "output_type": "execute_result"
    }
   ],
   "source": [
    "X_train.shape"
   ]
  },
  {
   "cell_type": "code",
   "execution_count": 132,
   "metadata": {},
   "outputs": [],
   "source": [
    "train_data = TabularDataset(X_train, y_train)\n",
    "train_loader = DataLoader(train_data, \n",
    "                           batch_size=batch_size, \n",
    "                           shuffle=True)\n",
    "\n",
    "validate_data = TabularDataset(X_test, y_test)\n",
    "validate_loader = DataLoader(dataset = validate_data,\n",
    "                             batch_size=batch_size, \n",
    "                             shuffle=False)\n",
    "\n",
    "total_step = len(train_loader)\n",
    "\n",
    "my_random_seed = 42\n",
    "random.seed(my_random_seed)\n",
    "nn_model = NeuralNet(9, 1).to(cuda_device)\n",
    "\n",
    "criterion = nn.BCEWithLogitsLoss().to(cuda_device)\n",
    "optimizer = torch.optim.Adam(nn_model.parameters(), lr=learning_rate)  \n",
    "for epoch in range(num_epochs):\n",
    "    for i, (xsnn, ysnn) in enumerate(train_loader):  \n",
    "        # Move tensors to the configured device\n",
    "        xsnn = xsnn.float().to(cuda_device)\n",
    "        ysnn = ysnn.view(-1, 1).float().to(cuda_device)\n",
    "\n",
    "        # Forward pass\n",
    "        outputs = nn_model(xsnn)\n",
    "        train_loss = criterion(outputs, ysnn)\n",
    "        \n",
    "\n",
    "        # Backward and optimize\n",
    "        optimizer.zero_grad()\n",
    "        train_loss.backward()\n",
    "        optimizer.step()\n",
    "        if (epoch+1) % 50 == 0:\n",
    "            print ('Epoch [{}/{}], Step [{}/{}], Loss: {:.4f}' \n",
    "                   .format(epoch+1, num_epochs, i+1, total_step, train_loss.item()))\n"
   ]
  },
  {
   "cell_type": "code",
   "execution_count": 133,
   "metadata": {},
   "outputs": [
    {
     "data": {
      "text/plain": [
       "0.7314814814814815"
      ]
     },
     "execution_count": 133,
     "metadata": {},
     "output_type": "execute_result"
    }
   ],
   "source": [
    "nn_preds = torch.sigmoid( nn_model.forward(torch.from_numpy(X_test).float().to(cuda_device)).to(device)).detach().numpy()\n",
    "nn_roc_score = roc_auc_score(y_test, nn_preds)\n",
    "nn_roc_score"
   ]
  },
  {
   "cell_type": "markdown",
   "metadata": {},
   "source": [
    "# ExplaNEAT"
   ]
  },
  {
   "cell_type": "code",
   "execution_count": 134,
   "metadata": {},
   "outputs": [],
   "source": [
    "filePath = './../../data/experiments/bchard/experiment-longepochsttsplit-10-0/fullStatus.xplnt'\n",
    "with gzip.open(filePath, 'rb') as f: \n",
    "    data = pickle.load(f)     \n",
    "    \n",
    "p, g, ancestry, ancestors, randomState = data\n",
    "config = p.config\n",
    "bestNet = neat.nn.FeedForwardNetwork.create(g, config)\n",
    "\n",
    "explaneat_preds = [bestNet.activate(x)[0] for x in X_test]"
   ]
  },
  {
   "cell_type": "code",
   "execution_count": 142,
   "metadata": {},
   "outputs": [
    {
     "name": "stdout",
     "output_type": "stream",
     "text": [
      "(34, 70)\n"
     ]
    }
   ],
   "source": [
    "print(g.size())"
   ]
  },
  {
   "cell_type": "code",
   "execution_count": 143,
   "metadata": {},
   "outputs": [
    {
     "name": "stdout",
     "output_type": "stream",
     "text": [
      "Key: 8663\n",
      "Fitness: 2.0497243404388428\n",
      "Nodes:\n",
      "\t0 DefaultNodeGene(key=0, bias=-0.4812641143798828, response=1.0, activation=sigmoid, aggregation=sum)\n",
      "\t93 DefaultNodeGene(key=93, bias=0.4468773305416107, response=1.0, activation=sigmoid, aggregation=sum)\n",
      "\t169 DefaultNodeGene(key=169, bias=-1.5333119630813599, response=1.0, activation=sigmoid, aggregation=sum)\n",
      "\t186 DefaultNodeGene(key=186, bias=-2.665004014968872, response=1.0, activation=sigmoid, aggregation=sum)\n",
      "\t236 DefaultNodeGene(key=236, bias=-0.25798723101615906, response=1.0, activation=sigmoid, aggregation=sum)\n",
      "\t400 DefaultNodeGene(key=400, bias=0.3304520845413208, response=1.0, activation=sigmoid, aggregation=sum)\n",
      "\t614 DefaultNodeGene(key=614, bias=-0.5663238167762756, response=1.0, activation=sigmoid, aggregation=sum)\n",
      "\t741 DefaultNodeGene(key=741, bias=-0.8217838406562805, response=1.0, activation=sigmoid, aggregation=sum)\n",
      "\t1138 DefaultNodeGene(key=1138, bias=-0.6471825242042542, response=1.0, activation=sigmoid, aggregation=sum)\n",
      "\t1359 DefaultNodeGene(key=1359, bias=-1.6394422054290771, response=1.0, activation=sigmoid, aggregation=sum)\n",
      "\t1514 DefaultNodeGene(key=1514, bias=0.14255565404891968, response=1.0, activation=sigmoid, aggregation=sum)\n",
      "\t1902 DefaultNodeGene(key=1902, bias=-1.4774532318115234, response=1.0, activation=sigmoid, aggregation=sum)\n",
      "\t1983 DefaultNodeGene(key=1983, bias=0.21596214175224304, response=1.0, activation=sigmoid, aggregation=sum)\n",
      "\t2047 DefaultNodeGene(key=2047, bias=1.4391742944717407, response=1.0, activation=sigmoid, aggregation=sum)\n",
      "\t2145 DefaultNodeGene(key=2145, bias=-0.37093585729599, response=1.0, activation=sigmoid, aggregation=sum)\n",
      "\t2411 DefaultNodeGene(key=2411, bias=0.6397024989128113, response=1.0, activation=sigmoid, aggregation=sum)\n",
      "\t2457 DefaultNodeGene(key=2457, bias=1.3778598308563232, response=1.0, activation=sigmoid, aggregation=sum)\n",
      "\t2553 DefaultNodeGene(key=2553, bias=1.59496009349823, response=1.0, activation=sigmoid, aggregation=sum)\n",
      "\t2628 DefaultNodeGene(key=2628, bias=1.1688416004180908, response=1.0, activation=sigmoid, aggregation=sum)\n",
      "\t2835 DefaultNodeGene(key=2835, bias=0.42595112323760986, response=1.0, activation=sigmoid, aggregation=sum)\n",
      "\t2866 DefaultNodeGene(key=2866, bias=0.3419419229030609, response=1.0, activation=sigmoid, aggregation=sum)\n",
      "\t3078 DefaultNodeGene(key=3078, bias=0.21975859999656677, response=1.0, activation=sigmoid, aggregation=sum)\n",
      "\t3198 DefaultNodeGene(key=3198, bias=-0.6739237904548645, response=1.0, activation=sigmoid, aggregation=sum)\n",
      "\t3264 DefaultNodeGene(key=3264, bias=0.2506270408630371, response=1.0, activation=sigmoid, aggregation=sum)\n",
      "\t3368 DefaultNodeGene(key=3368, bias=-2.055412530899048, response=1.0, activation=sigmoid, aggregation=sum)\n",
      "\t3461 DefaultNodeGene(key=3461, bias=1.022057294845581, response=1.0, activation=sigmoid, aggregation=sum)\n",
      "\t3513 DefaultNodeGene(key=3513, bias=0.14620429277420044, response=1.0, activation=sigmoid, aggregation=sum)\n",
      "\t3642 DefaultNodeGene(key=3642, bias=0.24265436828136444, response=1.0, activation=sigmoid, aggregation=sum)\n",
      "\t3834 DefaultNodeGene(key=3834, bias=-0.3270527124404907, response=1.0, activation=sigmoid, aggregation=sum)\n",
      "\t3895 DefaultNodeGene(key=3895, bias=-0.49937692284584045, response=1.0, activation=sigmoid, aggregation=sum)\n",
      "\t3921 DefaultNodeGene(key=3921, bias=-0.2118094116449356, response=1.0, activation=sigmoid, aggregation=sum)\n",
      "\t4051 DefaultNodeGene(key=4051, bias=-0.9373978972434998, response=1.0, activation=sigmoid, aggregation=sum)\n",
      "\t4169 DefaultNodeGene(key=4169, bias=-0.4916071593761444, response=1.0, activation=sigmoid, aggregation=sum)\n",
      "\t4262 DefaultNodeGene(key=4262, bias=0.23985671997070312, response=1.0, activation=sigmoid, aggregation=sum)\n",
      "Connections:\n",
      "\tDefaultConnectionGene(key=(-9, 186), weight=0.30094659328460693, enabled=True)\n",
      "\tDefaultConnectionGene(key=(-9, 2553), weight=1.0, enabled=True)\n",
      "\tDefaultConnectionGene(key=(-8, 186), weight=-0.30847790837287903, enabled=True)\n",
      "\tDefaultConnectionGene(key=(-8, 741), weight=2.1621758937835693, enabled=True)\n",
      "\tDefaultConnectionGene(key=(-8, 1138), weight=-0.619168221950531, enabled=True)\n",
      "\tDefaultConnectionGene(key=(-8, 1359), weight=0.04580171778798103, enabled=True)\n",
      "\tDefaultConnectionGene(key=(-8, 2553), weight=-0.9677093029022217, enabled=True)\n",
      "\tDefaultConnectionGene(key=(-8, 2835), weight=-0.1335064321756363, enabled=True)\n",
      "\tDefaultConnectionGene(key=(-7, 236), weight=0.37843039631843567, enabled=True)\n",
      "\tDefaultConnectionGene(key=(-6, 0), weight=0.09319039434194565, enabled=True)\n",
      "\tDefaultConnectionGene(key=(-6, 236), weight=-1.6935341358184814, enabled=True)\n",
      "\tDefaultConnectionGene(key=(-6, 1983), weight=0.5121548175811768, enabled=True)\n",
      "\tDefaultConnectionGene(key=(-6, 3078), weight=1.0, enabled=True)\n",
      "\tDefaultConnectionGene(key=(-5, 0), weight=-0.037489861249923706, enabled=True)\n",
      "\tDefaultConnectionGene(key=(-5, 1138), weight=1.0, enabled=True)\n",
      "\tDefaultConnectionGene(key=(-5, 1514), weight=0.2346196323633194, enabled=False)\n",
      "\tDefaultConnectionGene(key=(-5, 3834), weight=1.0, enabled=True)\n",
      "\tDefaultConnectionGene(key=(-4, 93), weight=1.0, enabled=True)\n",
      "\tDefaultConnectionGene(key=(-4, 2457), weight=-1.8726645708084106, enabled=True)\n",
      "\tDefaultConnectionGene(key=(-3, 93), weight=0.22164662182331085, enabled=True)\n",
      "\tDefaultConnectionGene(key=(-3, 236), weight=0.8720636367797852, enabled=True)\n",
      "\tDefaultConnectionGene(key=(-2, 186), weight=-1.0706206560134888, enabled=True)\n",
      "\tDefaultConnectionGene(key=(-2, 400), weight=1.0, enabled=True)\n",
      "\tDefaultConnectionGene(key=(-2, 3198), weight=-0.18585817515850067, enabled=True)\n",
      "\tDefaultConnectionGene(key=(-1, 186), weight=-2.000610113143921, enabled=True)\n",
      "\tDefaultConnectionGene(key=(-1, 236), weight=0.028389042243361473, enabled=True)\n",
      "\tDefaultConnectionGene(key=(-1, 2628), weight=-0.27225232124328613, enabled=True)\n",
      "\tDefaultConnectionGene(key=(-1, 3895), weight=1.0, enabled=True)\n",
      "\tDefaultConnectionGene(key=(93, 0), weight=0.42862480878829956, enabled=True)\n",
      "\tDefaultConnectionGene(key=(93, 741), weight=1.2837201356887817, enabled=True)\n",
      "\tDefaultConnectionGene(key=(93, 1359), weight=-1.543125033378601, enabled=False)\n",
      "\tDefaultConnectionGene(key=(93, 3513), weight=1.0, enabled=False)\n",
      "\tDefaultConnectionGene(key=(169, 0), weight=0.07813716679811478, enabled=True)\n",
      "\tDefaultConnectionGene(key=(186, 0), weight=0.18520157039165497, enabled=True)\n",
      "\tDefaultConnectionGene(key=(186, 614), weight=1.2012556791305542, enabled=True)\n",
      "\tDefaultConnectionGene(key=(236, 169), weight=1.1479675769805908, enabled=True)\n",
      "\tDefaultConnectionGene(key=(400, 236), weight=-0.4894363284111023, enabled=False)\n",
      "\tDefaultConnectionGene(key=(400, 614), weight=1.0, enabled=False)\n",
      "\tDefaultConnectionGene(key=(400, 1514), weight=-1.235841155052185, enabled=True)\n",
      "\tDefaultConnectionGene(key=(400, 1902), weight=1.5016357898712158, enabled=True)\n",
      "\tDefaultConnectionGene(key=(400, 3078), weight=-0.24328386783599854, enabled=True)\n",
      "\tDefaultConnectionGene(key=(400, 3921), weight=1.0, enabled=True)\n",
      "\tDefaultConnectionGene(key=(614, 169), weight=0.7332891225814819, enabled=True)\n",
      "\tDefaultConnectionGene(key=(741, 169), weight=1.7710974216461182, enabled=True)\n",
      "\tDefaultConnectionGene(key=(741, 3368), weight=1.0, enabled=True)\n",
      "\tDefaultConnectionGene(key=(1138, 186), weight=1.133252739906311, enabled=True)\n",
      "\tDefaultConnectionGene(key=(1138, 2628), weight=1.0, enabled=True)\n",
      "\tDefaultConnectionGene(key=(1359, 400), weight=-0.32423344254493713, enabled=False)\n",
      "\tDefaultConnectionGene(key=(1359, 2866), weight=1.0, enabled=True)\n",
      "\tDefaultConnectionGene(key=(1359, 3198), weight=1.0, enabled=True)\n",
      "\tDefaultConnectionGene(key=(1514, 236), weight=-0.4894363284111023, enabled=False)\n",
      "\tDefaultConnectionGene(key=(1514, 1138), weight=-1.4076745510101318, enabled=True)\n",
      "\tDefaultConnectionGene(key=(1514, 2047), weight=1.0, enabled=True)\n",
      "\tDefaultConnectionGene(key=(1514, 2835), weight=1.0, enabled=True)\n",
      "\tDefaultConnectionGene(key=(1514, 3461), weight=1.0, enabled=True)\n",
      "\tDefaultConnectionGene(key=(1902, 614), weight=1.0, enabled=True)\n",
      "\tDefaultConnectionGene(key=(1983, 236), weight=-0.4894363284111023, enabled=False)\n",
      "\tDefaultConnectionGene(key=(1983, 4262), weight=1.0, enabled=True)\n",
      "\tDefaultConnectionGene(key=(2047, 236), weight=-0.4894363284111023, enabled=True)\n",
      "\tDefaultConnectionGene(key=(2145, 400), weight=0.1237514540553093, enabled=True)\n",
      "\tDefaultConnectionGene(key=(2457, 1983), weight=1.0, enabled=False)\n",
      "\tDefaultConnectionGene(key=(2457, 3642), weight=1.0, enabled=True)\n",
      "\tDefaultConnectionGene(key=(2553, 0), weight=-0.046428363770246506, enabled=True)\n",
      "\tDefaultConnectionGene(key=(2553, 2628), weight=-1.644638180732727, enabled=True)\n",
      "\tDefaultConnectionGene(key=(2628, 614), weight=0.9490216374397278, enabled=True)\n",
      "\tDefaultConnectionGene(key=(2835, 2047), weight=1.0, enabled=False)\n",
      "\tDefaultConnectionGene(key=(2866, 2145), weight=1.0, enabled=True)\n",
      "\tDefaultConnectionGene(key=(3078, 1983), weight=0.5121548175811768, enabled=True)\n",
      "\tDefaultConnectionGene(key=(3198, 169), weight=2.6145694255828857, enabled=False)\n",
      "\tDefaultConnectionGene(key=(3198, 400), weight=-0.32423344254493713, enabled=True)\n",
      "\tDefaultConnectionGene(key=(3198, 4051), weight=1.0, enabled=True)\n",
      "\tDefaultConnectionGene(key=(3368, 1359), weight=0.21269844472408295, enabled=False)\n",
      "\tDefaultConnectionGene(key=(3461, 2457), weight=1.0, enabled=True)\n",
      "\tDefaultConnectionGene(key=(3461, 2835), weight=0.3081916272640228, enabled=True)\n",
      "\tDefaultConnectionGene(key=(3642, 1983), weight=1.0, enabled=True)\n",
      "\tDefaultConnectionGene(key=(3834, 1514), weight=-0.19469860196113586, enabled=True)\n",
      "\tDefaultConnectionGene(key=(3895, 3264), weight=-2.0042884349823, enabled=True)\n",
      "\tDefaultConnectionGene(key=(3921, 236), weight=-0.4894363284111023, enabled=True)\n",
      "\tDefaultConnectionGene(key=(4051, 169), weight=2.6145694255828857, enabled=True)\n",
      "\tDefaultConnectionGene(key=(4051, 4169), weight=1.0, enabled=True)\n",
      "\tDefaultConnectionGene(key=(4169, 169), weight=2.6145694255828857, enabled=True)\n",
      "\tDefaultConnectionGene(key=(4262, 236), weight=-0.4894363284111023, enabled=True)\n"
     ]
    }
   ],
   "source": [
    "print(g)"
   ]
  },
  {
   "cell_type": "code",
   "execution_count": 160,
   "metadata": {},
   "outputs": [
    {
     "name": "stdout",
     "output_type": "stream",
     "text": [
      "(34, 70)\n",
      "{0: 16, 93: 1, 186: 10, 169: 15, 236: 14, 400: 7, 614: 11, 1138: 9, 1359: 4, 741: 2, 1514: 8, 1902: 8, 2047: 11, 1983: 12, 2553: 1, 2457: 10, 2628: 10, 2835: 10, 2866: 5, 2145: 6, 3078: 8, 3198: 5, 3368: 3, 3461: 9, 3513: 2, 3642: 11, 3834: 1, 3895: 1, 3264: 2, 3921: 8, 4051: 6, 4169: 7, 4262: 13}\n"
     ]
    }
   ],
   "source": [
    "def calculate_max_depth(genome):\n",
    "    connections = {}\n",
    "    def my_depth(connections, ix):\n",
    "        if ix < 0:\n",
    "            return 0\n",
    "        depths = []\n",
    "        for c in connections[ix]:\n",
    "            depths.append(my_depth(connections, c))\n",
    "        return max(depths) + 1\n",
    "                \n",
    "    for key, conn in  genome.connections.items():\n",
    "        if not key[1] in connections:\n",
    "            connections[key[1]] = []\n",
    "        connections[key[1]].append(key[0])\n",
    "    all_depths = {}\n",
    "    for c in connections:\n",
    "        all_depths[c] = my_depth(connections, c)\n",
    "    return all_depths\n",
    "print(g.size())\n",
    "print(calculate_max_depth(g))"
   ]
  },
  {
   "cell_type": "code",
   "execution_count": 162,
   "metadata": {},
   "outputs": [
    {
     "data": {
      "text/plain": [
       "9"
      ]
     },
     "execution_count": 162,
     "metadata": {},
     "output_type": "execute_result"
    }
   ],
   "source": [
    "config.genome_config.num_inputs"
   ]
  },
  {
   "cell_type": "code",
   "execution_count": 165,
   "metadata": {},
   "outputs": [
    {
     "name": "stdout",
     "output_type": "stream",
     "text": [
      "{-1: True, -2: True, -3: True, -4: True, -5: True, -6: True, -7: True, -8: True, -9: True}\n"
     ]
    },
    {
     "data": {
      "text/plain": [
       "9"
      ]
     },
     "execution_count": 165,
     "metadata": {},
     "output_type": "execute_result"
    }
   ],
   "source": [
    "def check_input_connections(genome, config):\n",
    "    n_inputs = config.genome_config.num_inputs\n",
    "    checks = {-n: False for n in range(1, n_inputs+1)}\n",
    "    for c in genome.connections:\n",
    "        if c[0] < 0:\n",
    "            checks[c[0]] = True\n",
    "    print(checks)\n",
    "    mySum = 0\n",
    "    for k, v in checks.items():\n",
    "        if v: \n",
    "            mySum += 1\n",
    "    return mySum\n",
    "check_input_connections(g, config)\n",
    "\n",
    "        "
   ]
  },
  {
   "cell_type": "code",
   "execution_count": 135,
   "metadata": {},
   "outputs": [
    {
     "name": "stdout",
     "output_type": "stream",
     "text": [
      "[[25  2]\n",
      " [11  5]]\n"
     ]
    }
   ],
   "source": [
    "# Importing the classification report and confusion matrix\n",
    "print(confusion_matrix(y_test,np.array(explaneat_preds).round(0)))"
   ]
  },
  {
   "cell_type": "code",
   "execution_count": 136,
   "metadata": {},
   "outputs": [
    {
     "data": {
      "text/plain": [
       "0.7245370370370371"
      ]
     },
     "execution_count": 136,
     "metadata": {},
     "output_type": "execute_result"
    }
   ],
   "source": [
    "roc_auc_score(y_test, explaneat_preds)"
   ]
  },
  {
   "cell_type": "code",
   "execution_count": 137,
   "metadata": {},
   "outputs": [
    {
     "data": {
      "image/png": "[encoded data removed]",
      "text/plain": [
       "<Figure size 432x288 with 1 Axes>"
      ]
     },
     "metadata": {
      "needs_background": "light"
     },
     "output_type": "display_data"
    }
   ],
   "source": [
    "train_preds = {\n",
    "    'svm': svm_model.predict(X_train),\n",
    "    'regression': regression_model.predict(X_train),\n",
    "    'rf': rf.predict(X_train),\n",
    "    'ExplaNEAT': [bestNet.activate(x)[0] for x in X_train],\n",
    "    'NN': torch.sigmoid( nn_model.forward(torch.from_numpy(X_train).float().to(cuda_device)).to(device)).detach().numpy()\n",
    "}\n",
    "\n",
    "plt.figure()\n",
    "for model, preds in train_preds.items():\n",
    "    fpr, tpr, thresholds = metrics.roc_curve(y_train, preds)\n",
    "    auc = metrics.roc_auc_score(y_train, preds)\n",
    "    plt.plot(fpr, tpr, label='%s ROC (area=%0.3f)' % (model, auc))\n",
    "# Custom settings for the plot \n",
    "plt.plot([0, 1], [0, 1],'r--')\n",
    "plt.xlim([0.0, 1.0])\n",
    "plt.ylim([0.0, 1.05])\n",
    "plt.xlabel('1-Specificity(False Positive Rate)')\n",
    "plt.ylabel('Sensitivity(True Positive Rate)')\n",
    "plt.title('Receiver Operating Characteristic')\n",
    "plt.legend(loc=\"lower right\")\n",
    "plt.show()   # Display"
   ]
  },
  {
   "cell_type": "code",
   "execution_count": 138,
   "metadata": {},
   "outputs": [
    {
     "data": {
      "image/png": "[encoded data removed]",
      "text/plain": [
       "<Figure size 432x288 with 1 Axes>"
      ]
     },
     "metadata": {
      "needs_background": "light"
     },
     "output_type": "display_data"
    }
   ],
   "source": [
    "test_preds = {\n",
    "    'svm': svm_model.predict(X_test),\n",
    "    'regression': regression_model.predict(X_test),\n",
    "    'rf': rf.predict(X_test),\n",
    "    'ExplaNEAT': [bestNet.activate(x)[0] for x in X_test],\n",
    "    'NN': torch.sigmoid( nn_model.forward(torch.from_numpy(X_test).float().to(cuda_device)).to(device)).detach().numpy()\n",
    "}\n",
    "\n",
    "plt.figure()\n",
    "for model, preds in test_preds.items():\n",
    "    fpr, tpr, thresholds = metrics.roc_curve(y_test, preds)\n",
    "    auc = metrics.roc_auc_score(y_test, preds)\n",
    "    plt.plot(fpr, tpr, label='%s ROC (area=%0.3f)' % (model, auc))\n",
    "# Custom settings for the plot \n",
    "plt.plot([0, 1], [0, 1],'r--')\n",
    "plt.xlim([0.0, 1.0])\n",
    "plt.ylim([0.0, 1.05])\n",
    "plt.xlabel('1-Specificity(False Positive Rate)')\n",
    "plt.ylabel('Sensitivity(True Positive Rate)')\n",
    "plt.title('Receiver Operating Characteristic')\n",
    "plt.legend(loc=\"lower right\")\n",
    "plt.show()   # Display"
   ]
  },
  {
   "cell_type": "code",
   "execution_count": 139,
   "metadata": {},
   "outputs": [
    {
     "data": {
      "image/png": "[encoded data removed]",
      "text/plain": [
       "<Figure size 432x288 with 1 Axes>"
      ]
     },
     "metadata": {
      "needs_background": "light"
     },
     "output_type": "display_data"
    }
   ],
   "source": [
    "all_preds = {\n",
    "    'svm': svm_preds,\n",
    "    'regression': regression_preds,\n",
    "    'rf': rf_preds,\n",
    "    'ExplaNEAT': explaneat_preds,\n",
    "    'NN': torch.sigmoid( nn_model.forward(torch.from_numpy(X_test).float().to(cuda_device)).to(device)).detach().numpy()\n",
    "}\n",
    "\n",
    "plt.figure()\n",
    "for model, preds in all_preds.items():\n",
    "    fpr, tpr, thresholds = metrics.roc_curve(y_test, preds)\n",
    "    auc = metrics.roc_auc_score(y_test, preds)\n",
    "    plt.plot(fpr, tpr, label='%s ROC (area=%0.3f)' % (model, auc))\n",
    "# Custom settings for the plot \n",
    "plt.plot([0, 1], [0, 1],'r--')\n",
    "plt.xlim([0.0, 1.0])\n",
    "plt.ylim([0.0, 1.05])\n",
    "plt.xlabel('1-Specificity(False Positive Rate)')\n",
    "plt.ylabel('Sensitivity(True Positive Rate)')\n",
    "plt.title('Receiver Operating Characteristic')\n",
    "plt.legend(loc=\"lower right\")\n",
    "plt.show()   # Display"
   ]
  },
  {
   "cell_type": "code",
   "execution_count": 140,
   "metadata": {},
   "outputs": [
    {
     "name": "stdout",
     "output_type": "stream",
     "text": [
      "svm\n",
      "43\n",
      "0.59375\n",
      "regression\n",
      "43\n",
      "0.7222222222222222\n",
      "rf\n",
      "43\n",
      "0.7337962962962964\n",
      "ExplaNEAT\n",
      "43\n",
      "0.7245370370370371\n",
      "NN\n",
      "43\n",
      "0.7314814814814815\n"
     ]
    }
   ],
   "source": [
    "for model, preds in all_preds.items():\n",
    "    print(model)\n",
    "    print(len(preds))\n",
    "    print(metrics.roc_auc_score(y_test, preds))"
   ]
  },
  {
   "cell_type": "code",
   "execution_count": null,
   "metadata": {},
   "outputs": [],
   "source": []
  },
  {
   "cell_type": "code",
   "execution_count": null,
   "metadata": {},
   "outputs": [],
   "source": []
  }
 ],
 "metadata": {
  "kernelspec": {
   "display_name": "Python 3",
   "language": "python",
   "name": "python3"
  },
  "language_info": {
   "codemirror_mode": {
    "name": "ipython",
    "version": 3
   },
   "file_extension": ".py",
   "mimetype": "text/x-python",
   "name": "python",
   "nbconvert_exporter": "python",
   "pygments_lexer": "ipython3",
   "version": "3.6.6"
  }
 },
 "nbformat": 4,
 "nbformat_minor": 2
}
