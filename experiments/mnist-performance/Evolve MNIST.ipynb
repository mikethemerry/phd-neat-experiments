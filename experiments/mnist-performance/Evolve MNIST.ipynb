{
 "cells": [
  {
   "cell_type": "code",
   "execution_count": 1,
   "metadata": {},
   "outputs": [],
   "source": [
    "from __future__ import print_function\n",
    "import os\n",
    "import neat\n",
    "import json\n",
    "\n",
    "import pandas as pd\n",
    "import numpy as np\n",
    "import random\n",
    "\n",
    "import torch\n",
    "import torch.nn as nn\n",
    "import torch.optim as optim\n",
    "\n",
    "\n",
    "from explaneat.core.backprop import NeatNet\n",
    "from explaneat.core import backprop\n",
    "from explaneat.core.backproppop import BackpropPopulation\n",
    "from explaneat.visualization import visualize\n",
    "from explaneat.core.experiment import ExperimentReporter\n",
    "from explaneat.core.utility import one_hot_encode\n",
    "\n",
    "\n",
    "from sklearn import datasets\n",
    "from sklearn import metrics\n",
    "from sklearn.preprocessing import StandardScaler\n",
    "from sklearn.model_selection import train_test_split\n",
    "\n",
    "from copy import deepcopy\n",
    "\n",
    "import time\n",
    "from datetime import datetime\n",
    "\n",
    "\n",
    "import gzip\n",
    "try:\n",
    "    import cPickle as pickle  # pylint: disable=import-error\n",
    "except ImportError:\n",
    "    import pickle  # pylint: disable=import-error"
   ]
  },
  {
   "cell_type": "code",
   "execution_count": 2,
   "metadata": {},
   "outputs": [],
   "source": [
    "\n",
    "USE_CUDA = torch.cuda.is_available()\n",
    "USE_CUDA = False\n",
    "device = torch.device(\"cuda:1\" if USE_CUDA else \"cpu\")\n"
   ]
  },
  {
   "cell_type": "code",
   "execution_count": 3,
   "metadata": {},
   "outputs": [
    {
     "data": {
      "text/plain": [
       "device(type='cpu')"
      ]
     },
     "execution_count": 3,
     "metadata": {},
     "output_type": "execute_result"
    }
   ],
   "source": [
    "device"
   ]
  },
  {
   "cell_type": "markdown",
   "metadata": {},
   "source": [
    "# Iris Experiment\n",
    "\n",
    "This experiment (a) test the experimental environment, but is also to evaluate the efficacy of the ExplaNEAT algorithm. Speed is a critical factor, as well as stability of results on population size. Total run time will also be measured"
   ]
  },
  {
   "cell_type": "markdown",
   "metadata": {},
   "source": [
    "First, we need to set a random seed and a total stopping point in the number of generations"
   ]
  },
  {
   "cell_type": "code",
   "execution_count": 4,
   "metadata": {},
   "outputs": [],
   "source": [
    "my_random_seed = 42\n",
    "random.seed(my_random_seed)"
   ]
  },
  {
   "cell_type": "code",
   "execution_count": 5,
   "metadata": {},
   "outputs": [],
   "source": [
    "def one_hot_encode(vals):\n",
    "    width = max(vals)\n",
    "    newVals = []\n",
    "    for val in vals:\n",
    "        blank = [0. for _ in range(width + 1)]\n",
    "        blank[val] = 1.\n",
    "        newVals.append(blank)\n",
    "    return np.asarray(newVals)\n"
   ]
  },
  {
   "cell_type": "markdown",
   "metadata": {},
   "source": [
    "## Dataset\n",
    "\n",
    "We are going to work with the Iris dataset, which will be loaded from `sklearn`. We want to characterise the efficacy of the algorithm with regards to a mostly untransformed dataset, so we will only normalise the features"
   ]
  },
  {
   "cell_type": "code",
   "execution_count": 7,
   "metadata": {},
   "outputs": [],
   "source": [
    "digits = datasets.load_digits()\n",
    "xs_raw = digits.data[:, :]\n",
    "scaler = StandardScaler()\n",
    "scaler.fit(xs_raw)\n",
    "xs = scaler.transform(xs_raw)\n",
    "ys = iris.target\n",
    "ys_onehot = one_hot_encode(ys)"
   ]
  },
  {
   "cell_type": "code",
   "execution_count": 8,
   "metadata": {},
   "outputs": [],
   "source": [
    "X_train, X_test, y_train, y_test = train_test_split(xs, ys, test_size=45, random_state=42)"
   ]
  },
  {
   "cell_type": "code",
   "execution_count": 10,
   "metadata": {},
   "outputs": [
    {
     "name": "stdout",
     "output_type": "stream",
     "text": [
      ".. _digits_dataset:\n",
      "\n",
      "Optical recognition of handwritten digits dataset\n",
      "--------------------------------------------------\n",
      "\n",
      "**Data Set Characteristics:**\n",
      "\n",
      "    :Number of Instances: 5620\n",
      "    :Number of Attributes: 64\n",
      "    :Attribute Information: 8x8 image of integer pixels in the range 0..16.\n",
      "    :Missing Attribute Values: None\n",
      "    :Creator: E. Alpaydin (alpaydin '@' boun.edu.tr)\n",
      "    :Date: July; 1998\n",
      "\n",
      "This is a copy of the test set of the UCI ML hand-written digits datasets\n",
      "https://archive.ics.uci.edu/ml/datasets/Optical+Recognition+of+Handwritten+Digits\n",
      "\n",
      "The data set contains images of hand-written digits: 10 classes where\n",
      "each class refers to a digit.\n",
      "\n",
      "Preprocessing programs made available by NIST were used to extract\n",
      "normalized bitmaps of handwritten digits from a preprinted form. From a\n",
      "total of 43 people, 30 contributed to the training set and different 13\n",
      "to the test set. 32x32 bitmaps are divided into nonoverlapping blocks of\n",
      "4x4 and the number of on pixels are counted in each block. This generates\n",
      "an input matrix of 8x8 where each element is an integer in the range\n",
      "0..16. This reduces dimensionality and gives invariance to small\n",
      "distortions.\n",
      "\n",
      "For info on NIST preprocessing routines, see M. D. Garris, J. L. Blue, G.\n",
      "T. Candela, D. L. Dimmick, J. Geist, P. J. Grother, S. A. Janet, and C.\n",
      "L. Wilson, NIST Form-Based Handprint Recognition System, NISTIR 5469,\n",
      "1994.\n",
      "\n",
      ".. topic:: References\n",
      "\n",
      "  - C. Kaynak (1995) Methods of Combining Multiple Classifiers and Their\n",
      "    Applications to Handwritten Digit Recognition, MSc Thesis, Institute of\n",
      "    Graduate Studies in Science and Engineering, Bogazici University.\n",
      "  - E. Alpaydin, C. Kaynak (1998) Cascading Classifiers, Kybernetika.\n",
      "  - Ken Tang and Ponnuthurai N. Suganthan and Xi Yao and A. Kai Qin.\n",
      "    Linear dimensionalityreduction using relevance weighted LDA. School of\n",
      "    Electrical and Electronic Engineering Nanyang Technological University.\n",
      "    2005.\n",
      "  - Claudio Gentile. A New Approximate Maximal Margin Classification\n",
      "    Algorithm. NIPS. 2000.\n"
     ]
    }
   ],
   "source": [
    "print(digits['DESCR'])"
   ]
  },
  {
   "cell_type": "code",
   "execution_count": 11,
   "metadata": {},
   "outputs": [],
   "source": [
    "# xs = torch.from_numpy(xs).to(device)\n",
    "# ys = torch.from_numpy(ys).to(device)\n",
    "X_train = torch.from_numpy(X_train).to(device)\n",
    "X_test = torch.from_numpy(X_test).to(device)\n",
    "y_train = torch.from_numpy(y_train).to(device)\n",
    "y_test = torch.from_numpy(y_test).to(device)"
   ]
  },
  {
   "cell_type": "markdown",
   "metadata": {},
   "source": [
    "Let's have a look at the data we are working with"
   ]
  },
  {
   "cell_type": "code",
   "execution_count": 12,
   "metadata": {},
   "outputs": [
    {
     "data": {
      "text/plain": [
       "array([[ 0.        , -0.33501649, -0.04308102,  0.27407152, -0.66447751,\n",
       "        -0.84412939, -0.40972392, -0.12502292, -0.05907756, -0.62400926,\n",
       "         0.4829745 ,  0.75962245, -0.05842586,  1.12772113,  0.87958306,\n",
       "        -0.13043338, -0.04462507,  0.11144272,  0.89588044, -0.86066632,\n",
       "        -1.14964846,  0.51547187,  1.90596347, -0.11422184, -0.03337973,\n",
       "         0.48648928,  0.46988512, -1.49990136, -1.61406277,  0.07639777,\n",
       "         1.54181413, -0.04723238,  0.        ,  0.76465553,  0.05263019,\n",
       "        -1.44763006, -1.73666443,  0.04361588,  1.43955804,  0.        ,\n",
       "        -0.06134367,  0.8105536 ,  0.63011714, -1.12245711, -1.06623158,\n",
       "         0.66096475,  0.81845076, -0.08874162, -0.03543326,  0.74211893,\n",
       "         1.15065212, -0.86867056,  0.11012973,  0.53761116, -0.75743581,\n",
       "        -0.20978513, -0.02359646, -0.29908135,  0.08671869,  0.20829258,\n",
       "        -0.36677122, -1.14664746, -0.5056698 , -0.19600752],\n",
       "       [ 0.        , -0.33501649, -1.09493684,  0.03864775,  0.26875116,\n",
       "        -0.13801953, -0.40972392, -0.12502292, -0.05907756, -0.62400926,\n",
       "        -1.91557297, -0.24630352,  1.19644995,  0.13619465, -0.51499146,\n",
       "        -0.13043338, -0.04462507, -0.72764628, -1.2133854 ,  1.38030848,\n",
       "         1.44186017, -0.29155283, -0.54880546, -0.11422184, -0.03337973,\n",
       "         1.44018517,  0.95451315,  1.22058589,  0.98740215, -0.94558832,\n",
       "        -0.62889588, -0.04723238,  0.        , -0.67237227, -1.05445197,\n",
       "         1.10556952,  0.96064411, -0.97870236, -0.82269451,  0.        ,\n",
       "        -0.06134367, -0.5312841 , -0.89983895,  1.36217503,  1.33078862,\n",
       "        -0.39278683, -0.79827225, -0.08874162, -0.03543326, -0.40357499,\n",
       "        -1.15311752,  1.23639392,  1.24208282, -0.45750018, -0.75743581,\n",
       "        -0.20978513, -0.02359646, -0.29908135, -1.08938309, -0.24900951,\n",
       "         0.84963214,  0.54856067, -0.5056698 , -0.19600752],\n",
       "       [ 0.        , -0.33501649, -1.09493684, -1.84474239,  0.7353655 ,\n",
       "         1.09767273, -0.40972392, -0.12502292, -0.05907756, -0.62400926,\n",
       "        -1.36206201,  1.01110394,  0.98730398,  0.96246672, -0.51499146,\n",
       "        -0.13043338, -0.04462507, -0.72764628, -0.33452463,  1.03554312,\n",
       "         0.14610585,  1.32249658, -0.54880546, -0.11422184, -0.03337973,\n",
       "        -0.78510524, -1.30708431, -0.47971864,  0.8248106 ,  0.58739082,\n",
       "        -0.62889588, -0.04723238,  0.        , -0.38496671,  0.05263019,\n",
       "         0.6268446 ,  0.79206232, -1.31947511, -0.82269451,  0.        ,\n",
       "        -0.06134367,  2.48785073,  1.39509519,  1.36217503, -0.42702619,\n",
       "        -1.44653841, -0.79827225, -0.08874162, -0.03543326,  1.31496589,\n",
       "         0.97343907,  1.23639392,  1.24208282,  0.37175927,  0.25922997,\n",
       "        -0.20978513, -0.02359646, -0.29908135, -1.08938309, -2.07821787,\n",
       "        -0.16403733,  1.56568555,  1.6951369 , -0.19600752],\n",
       "       [ 0.        , -0.33501649,  0.37766131,  0.74491906,  0.26875116,\n",
       "        -0.84412939, -0.40972392, -0.12502292, -0.05907756,  1.87969075,\n",
       "         0.4829745 , -1.50371099,  0.98730398, -0.69007742, -0.51499146,\n",
       "        -0.13043338, -0.04462507, -0.16825361, -1.5649297 ,  1.03554312,\n",
       "         0.9559523 , -1.25998248, -0.54880546, -0.11422184, -0.03337973,\n",
       "        -0.78510524, -1.14554164,  1.05055544,  0.17444436, -1.11591934,\n",
       "        -0.62889588, -0.04723238,  0.        , -0.67237227, -1.21260656,\n",
       "        -1.28805509,  0.28631697,  0.554775  , -0.53991295,  0.        ,\n",
       "        -0.06134367, -0.5312841 , -1.05283456, -1.12245711, -1.06623158,\n",
       "         0.30971422,  1.04941119, -0.08874162, -0.03543326, -0.40357499,\n",
       "         0.08737382, -1.06004006, -0.83316451,  0.86931494,  1.0725626 ,\n",
       "        -0.20978513, -0.02359646, -0.29908135,  0.28273565,  0.20829258,\n",
       "         0.24143046,  0.37903986, -0.5056698 , -0.19600752],\n",
       "       [ 0.        , -0.33501649, -1.09493684, -2.5510137 , -0.19786317,\n",
       "        -1.02065685, -0.40972392, -0.12502292, -0.05907756, -0.62400926,\n",
       "        -1.91557297, -1.25222949, -0.4767178 , -1.35109507, -0.51499146,\n",
       "        -0.13043338, -0.04462507, -0.72764628, -1.5649297 ,  1.03554312,\n",
       "        -0.17783273, -0.9371726 ,  0.06488677, -0.11422184, -0.03337973,\n",
       "        -0.78510524, -0.33782826,  1.05055544, -1.61406277,  0.24672879,\n",
       "         1.54181413, -0.04723238,  0.        ,  0.76465553,  1.31786694,\n",
       "         0.14811967, -1.73666443,  1.23632049,  0.8739949 ,  0.        ,\n",
       "        -0.06134367,  0.8105536 ,  1.24209958,  1.36217503,  0.85138458,\n",
       "         1.36346581, -0.56731182, -0.08874162, -0.03543326, -0.40357499,\n",
       "        -1.33033057, -1.25140956,  1.05342397,  0.20590738, -0.75743581,\n",
       "        -0.20978513, -0.02359646, -0.29908135, -1.08938309, -2.30686892,\n",
       "         0.84963214, -0.46856421, -0.5056698 , -0.19600752]])"
      ]
     },
     "execution_count": 12,
     "metadata": {},
     "output_type": "execute_result"
    }
   ],
   "source": [
    "xs[:5]"
   ]
  },
  {
   "cell_type": "code",
   "execution_count": 13,
   "metadata": {},
   "outputs": [
    {
     "data": {
      "text/plain": [
       "array([0, 1, 2, 3, 4])"
      ]
     },
     "execution_count": 13,
     "metadata": {},
     "output_type": "execute_result"
    }
   ],
   "source": [
    "ys[:5]"
   ]
  },
  {
   "cell_type": "code",
   "execution_count": 14,
   "metadata": {},
   "outputs": [
    {
     "data": {
      "text/plain": [
       "array([[1., 0., 0., 0., 0., 0., 0., 0., 0., 0.],\n",
       "       [0., 1., 0., 0., 0., 0., 0., 0., 0., 0.],\n",
       "       [0., 0., 1., 0., 0., 0., 0., 0., 0., 0.],\n",
       "       [0., 0., 0., 1., 0., 0., 0., 0., 0., 0.],\n",
       "       [0., 0., 0., 0., 1., 0., 0., 0., 0., 0.]])"
      ]
     },
     "execution_count": 14,
     "metadata": {},
     "output_type": "execute_result"
    }
   ],
   "source": [
    "ys_onehot[:5]"
   ]
  },
  {
   "cell_type": "markdown",
   "metadata": {},
   "source": [
    "## Performance metric\n",
    "\n",
    "The NEAT implementation on which ExplaNEAT extends uses a single function call for evaluating fitness. Although this might be reworked for ExplaNEAT to be able to get consistency between the genome-evaluation and the backprop loss function, that can be reviewed later.\n",
    "\n",
    "This use `CrossEntropyLoss` from `PyTorch`"
   ]
  },
  {
   "cell_type": "code",
   "execution_count": 15,
   "metadata": {},
   "outputs": [],
   "source": [
    "def eval_genomes(genomes, config):\n",
    "    loss = nn.CrossEntropyLoss()\n",
    "    loss = loss.to(device)\n",
    "\n",
    "    for genome_id, genome in genomes:\n",
    "        net = neat.nn.FeedForwardNetwork.create(genome, config)\n",
    "        preds = []\n",
    "        for xi in X_train:\n",
    "            preds.append(net.activate(xi))\n",
    "        genome.fitness = float(1./loss(torch.tensor(preds).to(device), torch.tensor(y_train)))"
   ]
  },
  {
   "cell_type": "markdown",
   "metadata": {},
   "source": [
    "## Base configuration\n",
    "\n",
    "We are going to create the base configuration according to an external configuration file. Per experiment, we will adjust this, later, but this defines the defaults across all runs."
   ]
  },
  {
   "cell_type": "code",
   "execution_count": 16,
   "metadata": {},
   "outputs": [],
   "source": [
    "config_path = \"./config-mnist\"\n",
    "base_config = neat.Config(neat.DefaultGenome, neat.DefaultReproduction,\n",
    "                     neat.DefaultSpeciesSet, neat.DefaultStagnation,\n",
    "                     config_path)\n"
   ]
  },
  {
   "cell_type": "markdown",
   "metadata": {},
   "source": [
    "We also want to put a hard limit on how long this can go on for."
   ]
  },
  {
   "cell_type": "code",
   "execution_count": 17,
   "metadata": {},
   "outputs": [],
   "source": [
    "maxNGenerations = 500"
   ]
  },
  {
   "cell_type": "markdown",
   "metadata": {},
   "source": [
    "We will create a method to manage the instantiation of a population on the basis of a specific config."
   ]
  },
  {
   "cell_type": "code",
   "execution_count": 18,
   "metadata": {},
   "outputs": [],
   "source": [
    "def instantiate_population(config, xs, ys, saveLocation):\n",
    "\n",
    "    if not os.path.exists(saveLocation):\n",
    "        os.makedirs(saveLocation)\n",
    "        \n",
    "    config.save(os.path.join(saveLocation, 'config.conf'))\n",
    "\n",
    "    # Create the population, which is the top-level object for a NEAT run.\n",
    "    p = BackpropPopulation(config, \n",
    "                            xs, \n",
    "                            ys, \n",
    "                            criterion=nn.CrossEntropyLoss())\n",
    "\n",
    "    # Add a stdout reporter to show progress in the terminal.\n",
    "    p.add_reporter(neat.StdOutReporter(True))\n",
    "    stats = neat.StatisticsReporter()\n",
    "    p.add_reporter(stats)\n",
    "    p.add_reporter(neat.Checkpointer(5, filename_prefix=str(saveLocation) + \"checkpoint-\" ))\n",
    "    bpReporter = backprop.BackpropReporter(True)\n",
    "    p.add_reporter(bpReporter)\n",
    "    p.add_reporter(ExperimentReporter(saveLocation))\n",
    "    \n",
    "    return p"
   ]
  },
  {
   "cell_type": "markdown",
   "metadata": {},
   "source": [
    "# Experiment 1: Vary population size\n",
    "\n",
    "The first experiment is going to examine the difference in run time different population sizes. "
   ]
  },
  {
   "cell_type": "code",
   "execution_count": 19,
   "metadata": {},
   "outputs": [],
   "source": [
    "# epoch_points = [10, 25, 50, 100, 150]\n",
    "epoch_points = [10]"
   ]
  },
  {
   "cell_type": "code",
   "execution_count": 20,
   "metadata": {},
   "outputs": [
    {
     "data": {
      "text/plain": [
       "50"
      ]
     },
     "execution_count": 20,
     "metadata": {},
     "output_type": "execute_result"
    }
   ],
   "source": [
    "base_config.pop_size"
   ]
  },
  {
   "cell_type": "code",
   "execution_count": 21,
   "metadata": {},
   "outputs": [],
   "source": [
    "saveLocationTemplate = './../../data/experiments/mnist/experiment-longepochsttsplit-{}-{}/'"
   ]
  },
  {
   "cell_type": "markdown",
   "metadata": {},
   "source": [
    "## Start the experiment"
   ]
  },
  {
   "cell_type": "code",
   "execution_count": null,
   "metadata": {
    "scrolled": true
   },
   "outputs": [
    {
     "name": "stdout",
     "output_type": "stream",
     "text": [
      "################################################\n",
      "################################################\n",
      "Starting epochs 10 iteration 0\n",
      "Started at 08/26/2019, 05:31:54\n",
      "################################################\n",
      "################################################\n",
      "\n",
      " ****** Running generation 0 ****** \n",
      "\n"
     ]
    }
   ],
   "source": [
    "for epochs in epoch_points:\n",
    "    for iteration_no in range(20):\n",
    "        my_random_seed += 1\n",
    "        random.seed(my_random_seed)\n",
    "        start_time = datetime.now()\n",
    "        \n",
    "        print(\"################################################\")\n",
    "        print(\"################################################\")\n",
    "        print(\"Starting epochs {} iteration {}\".format(epochs, iteration_no))\n",
    "        print(\"Started at {}\".format(start_time.strftime(\"%m/%d/%Y, %H:%M:%S\")))\n",
    "        print(\"################################################\")\n",
    "        print(\"################################################\")\n",
    "        \n",
    "        \n",
    "        config = deepcopy(base_config)\n",
    "#         config.pop_size = pop_size\n",
    "        \n",
    "        saveLocation = saveLocationTemplate.format(epochs, iteration_no)\n",
    "        \n",
    "        p = instantiate_population(config, X_train, y_train, saveLocation)\n",
    "        # Run for up to nGenerations generations.\n",
    "        winner = p.run(eval_genomes, maxNGenerations, nEpochs = epochs)\n",
    "        \n",
    "        g = p.best_genome\n",
    "\n",
    "        \n",
    "        end_time = datetime.now()\n",
    "        \n",
    "        p.reporters.reporters[2].save_checkpoint(p.config, p.population, p.species, str(p.generation) + \"-final\")  \n",
    "        \n",
    "        winner_net = neat.nn.FeedForwardNetwork.create(winner, config)\n",
    "\n",
    "        results = []\n",
    "        for xi, xo in zip(xs, ys):\n",
    "            output = winner_net.activate(xi)\n",
    "            results.append([xi, xo, output])\n",
    "\n",
    "        df = pd.DataFrame(results)\n",
    "        df.to_csv(os.path.join(saveLocation, 'results.csv'))\n",
    "        \n",
    "        ancestry = p.reporters.reporters[3].trace_ancestry_of_species(g.key, p.reproduction.ancestors) \n",
    "\n",
    "        ancestors = {\n",
    "            k: v['genome'] for k, v in p.reporters.reporters[3].ancestry.items()\n",
    "        }\n",
    "        \n",
    "    \n",
    "        \n",
    "        ## Save all of these to disc\n",
    "        filename = 'fullStatus.xplnt'\n",
    "        print(\"Saving checkpoint to {0}\".format(filename))\n",
    "\n",
    "        with gzip.open(os.path.join(saveLocation, filename), 'w', compresslevel=5) as f:\n",
    "            data = (p, g, ancestry, ancestors, random.getstate())\n",
    "            pickle.dump(data, f, protocol=pickle.HIGHEST_PROTOCOL)\n",
    "            \n",
    "            \n",
    "        with gzip.open(os.path.join(saveLocation, 'train_test_data.pkl'), 'w', compresslevel=5) as f:\n",
    "            train_Test = (X_train, X_test, y_train, y_test)\n",
    "            pickle.dump(train_Test, f, protocol=pickle.HIGHEST_PROTOCOL)\n",
    "#         visualize.create_ancestry_video(p.config, \n",
    "#                                         g, \n",
    "#                                         ancestry, \n",
    "#                                         ancestors, \n",
    "#                                         p.reporters.reporters[1], \n",
    "#                                         pathname=saveLocation)\n",
    "        print(\"################################################\")\n",
    "        print(\"################################################\")\n",
    "        print(\"Have finished epochs {} iteration {}\".format(epochs, iteration_no))\n",
    "        print(\"Started at {}\".format(start_time.strftime(\"%m/%d/%Y, %H:%M:%S\")))\n",
    "        print(\"The time is {}\".format(end_time.strftime(\"%m/%d/%Y, %H:%M:%S\")))\n",
    "        print(\"################################################\")\n",
    "        print(\"################################################\")\n",
    "    "
   ]
  },
  {
   "cell_type": "code",
   "execution_count": null,
   "metadata": {},
   "outputs": [],
   "source": []
  }
 ],
 "metadata": {
  "kernelspec": {
   "display_name": "Python 3",
   "language": "python",
   "name": "python3"
  },
  "language_info": {
   "codemirror_mode": {
    "name": "ipython",
    "version": 3
   },
   "file_extension": ".py",
   "mimetype": "text/x-python",
   "name": "python",
   "nbconvert_exporter": "python",
   "pygments_lexer": "ipython3",
   "version": "3.6.8"
  }
 },
 "nbformat": 4,
 "nbformat_minor": 2
}
