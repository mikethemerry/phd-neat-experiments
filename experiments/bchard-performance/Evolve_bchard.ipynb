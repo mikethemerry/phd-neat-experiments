{
 "cells": [
  {
   "cell_type": "code",
   "execution_count": 1,
   "metadata": {},
   "outputs": [],
   "source": [
    "from explaneat.data.uci import UCI_WRANGLER\n",
    "from explaneat.experimenter.experiment import GenericExperiment\n",
    "from explaneat.evaluators.evaluators import binary_cross_entropy\n",
    "\n",
    "import torch\n",
    "import torch.nn as nn\n",
    "import torch.optim as optim\n",
    "\n",
    "import logging\n",
    "import random\n",
    "\n",
    "import neat\n",
    "\n",
    "from explaneat.core.backprop import NeatNet\n",
    "from explaneat.core import backprop\n",
    "from explaneat.core.backproppop import BackpropPopulation\n",
    "from explaneat.visualization import visualize\n",
    "from explaneat.core.experiment import ExperimentReporter\n",
    "from explaneat.core.utility import one_hot_encode\n",
    "\n",
    "from copy import deepcopy\n",
    "\n",
    "from datetime import datetime\n",
    "\n",
    "import gzip\n",
    "try:\n",
    "    import cPickle as pickle  # pylint: disable=import-error\n",
    "except ImportError:\n",
    "    import pickle  # pylint: disable=import-error"
   ]
  },
  {
   "cell_type": "code",
   "execution_count": 2,
   "metadata": {},
   "outputs": [
    {
     "name": "stderr",
     "output_type": "stream",
     "text": [
      "2022-04-07 09:04:05,348 - experimenter - INFO - Validating configuration schema\n",
      "2022-04-07 09:04:05,349 - experimenter - INFO - Schema validation passed\n",
      "2022-04-07 09:04:05,349 - experimenter - INFO - Starting to create folder structures\n",
      "2022-04-07 09:04:05,349 - experimenter - INFO - Experiment folder name is test_experiment_220407T090405_1848af33\n",
      "2022-04-07 09:04:05,350 - experimenter - INFO - Experiment root path is /Users/mike/dev-mtm/phd-neat-experiments/data/experiments/tests/test_experiment_220407T090405_1848af33\n",
      "2022-04-07 09:04:05,350 - experimenter - INFO - Creating the root path\n",
      "2022-04-07 09:04:05,351 - experimenter - INFO - Root path created\n",
      "2022-04-07 09:04:05,351 - experimenter - INFO - Creating results\n",
      "2022-04-07 09:04:05,351 - experimenter - INFO - Creating results/interim\n",
      "2022-04-07 09:04:05,352 - experimenter - INFO - Creating results/final\n",
      "2022-04-07 09:04:05,352 - experimenter - INFO - Creating configurations\n",
      "2022-04-07 09:04:05,352 - experimenter - INFO - Creating logs\n",
      "2022-04-07 09:04:05,353 - experimenter - INFO - All folders created\n",
      "2022-04-07 09:04:05,353 - experimenter - INFO - Creating file logging\n",
      "2022-04-07 09:04:05,353 - experimenter - INFO - Finished creating file logging\n",
      "2022-04-07 09:04:05,354 - experimenter - INFO - Saving experiment configuration\n",
      "2022-04-07 09:04:05,354 - experimenter - INFO - Saving other config files\n",
      "2022-04-07 09:04:05,355 - experimenter - INFO - Experiment init for project 1848af33 has completed\n"
     ]
    }
   ],
   "source": [
    "experiment_config_file = './experiment_config.json'\n",
    "experiment = GenericExperiment(experiment_config_file, confirm_path_creation=False)\n",
    "logger = experiment.logger"
   ]
  },
  {
   "cell_type": "code",
   "execution_count": 3,
   "metadata": {},
   "outputs": [
    {
     "name": "stderr",
     "output_type": "stream",
     "text": [
      "2022-04-07 09:04:05,414 - experimenter - INFO - Using device: cpu\n"
     ]
    }
   ],
   "source": [
    "\n",
    "USE_CUDA = torch.cuda.is_available()\n",
    "USE_CUDA = False\n",
    "device = torch.device(\"cuda:1\" if USE_CUDA else \"cpu\")\n",
    "logger.info(\"Using device: {}\".format(device))\n"
   ]
  },
  {
   "cell_type": "markdown",
   "metadata": {},
   "source": [
    "# BC Experiment\n",
    "\n",
    "This experiment (a) test the experimental environment, but is also to evaluate the efficacy of the ExplaNEAT algorithm. Speed is a critical factor, as well as stability of results on population size. Total run time will also be measured"
   ]
  },
  {
   "cell_type": "markdown",
   "metadata": {},
   "source": [
    "First, we need to set a random seed and a total stopping point in the number of generations"
   ]
  },
  {
   "cell_type": "code",
   "execution_count": 4,
   "metadata": {},
   "outputs": [
    {
     "name": "stderr",
     "output_type": "stream",
     "text": [
      "2022-04-07 09:04:06,796 - experimenter - INFO - random.seed set to 42\n"
     ]
    }
   ],
   "source": [
    "random.seed(experiment.config[\"random_seed\"])\n",
    "logger.info(\"random.seed set to {}\".format(experiment.config[\"random_seed\"]))"
   ]
  },
  {
   "cell_type": "markdown",
   "metadata": {},
   "source": [
    "## Dataset\n",
    "\n",
    "We are going to work with the Iris dataset, which will be loaded from `sklearn`. We want to characterise the efficacy of the algorithm with regards to a mostly untransformed dataset, so we will only normalise the features"
   ]
  },
  {
   "cell_type": "code",
   "execution_count": 5,
   "metadata": {},
   "outputs": [
    {
     "name": "stderr",
     "output_type": "stream",
     "text": [
      "2022-04-07 09:04:07,935 - experimenter.uci_wrangler - INFO - Loading meta file\n",
      "2022-04-07 09:04:07,936 - experimenter.uci_wrangler - INFO - Loading raw data file\n",
      "2022-04-07 09:04:07,947 - experimenter.uci_wrangler - INFO - Preprocessing data\n",
      "2022-04-07 09:04:07,950 - experimenter.uci_wrangler - INFO - Finished preprocessing data\n"
     ]
    }
   ],
   "source": [
    "data_wrangler = UCI_WRANGLER(experiment.config['data']['raw_location'],\n",
    "        experiment.config['data']['raw_data_meta'])"
   ]
  },
  {
   "cell_type": "code",
   "execution_count": 6,
   "metadata": {},
   "outputs": [
    {
     "name": "stderr",
     "output_type": "stream",
     "text": [
      "2022-04-07 09:04:08,705 - experimenter.uci_wrangler - INFO - Creating train test split\n",
      "2022-04-07 09:04:08,707 - experimenter.uci_wrangler - INFO - split created\n",
      "2022-04-07 09:04:08,708 - experimenter.uci_wrangler - INFO - sending train test to device cpu\n",
      "2022-04-07 09:04:08,708 - experimenter.uci_wrangler - INFO - train test are on device cpu\n"
     ]
    }
   ],
   "source": [
    "data_wrangler.create_train_test_split(experiment.config[\"train_test_ratio\"],\n",
    "            experiment.config[\"random_seed\"])\n",
    "data_wrangler.send_train_test_to_device(device)"
   ]
  },
  {
   "cell_type": "markdown",
   "metadata": {},
   "source": [
    "## Performance metric\n",
    "\n",
    "The NEAT implementation on which ExplaNEAT extends uses a single function call for evaluating fitness. Although this might be reworked for ExplaNEAT to be able to get consistency between the genome-evaluation and the backprop loss function, that can be reviewed later.\n",
    "\n",
    "This use `CrossEntropyLoss` from `PyTorch`"
   ]
  },
  {
   "cell_type": "markdown",
   "metadata": {},
   "source": [
    "## Base configuration\n",
    "\n",
    "We are going to create the base configuration according to an external configuration file. Per experiment, we will adjust this, later, but this defines the defaults across all runs."
   ]
  },
  {
   "cell_type": "code",
   "execution_count": 7,
   "metadata": {},
   "outputs": [],
   "source": [
    "config_path = \"./config-bchard\"\n",
    "base_config = neat.Config(neat.DefaultGenome, neat.DefaultReproduction,\n",
    "                     neat.DefaultSpeciesSet, neat.DefaultStagnation,\n",
    "                     config_path)\n"
   ]
  },
  {
   "cell_type": "code",
   "execution_count": 8,
   "metadata": {},
   "outputs": [
    {
     "name": "stderr",
     "output_type": "stream",
     "text": [
      "2022-04-07 09:04:46,676 - experimenter - INFO - Saving experiment configuration\n",
      "2022-04-07 09:04:46,677 - experimenter - INFO - Saving other config files\n"
     ]
    },
    {
     "ename": "ValueError",
     "evalue": "too many values to unpack (expected 2)",
     "output_type": "error",
     "traceback": [
      "\u001b[0;31m---------------------------------------------------------------------------\u001b[0m",
      "\u001b[0;31mValueError\u001b[0m                                Traceback (most recent call last)",
      "\u001b[0;32m<ipython-input-8-63c8a6819ba1>\u001b[0m in \u001b[0;36m<module>\u001b[0;34m\u001b[0m\n\u001b[0;32m----> 1\u001b[0;31m \u001b[0mexperiment\u001b[0m\u001b[0;34m.\u001b[0m\u001b[0mregister_config_file\u001b[0m\u001b[0;34m(\u001b[0m\u001b[0;34m\"./config-bchard\"\u001b[0m\u001b[0;34m,\u001b[0m \u001b[0;34m\"neat_config\"\u001b[0m\u001b[0;34m)\u001b[0m\u001b[0;34m\u001b[0m\u001b[0;34m\u001b[0m\u001b[0m\n\u001b[0m",
      "\u001b[0;32m~/dev-mtm/phd-neat-experiments/explaneat/experimenter/experiment.py\u001b[0m in \u001b[0;36mregister_config_file\u001b[0;34m(self, file_path, name, save)\u001b[0m\n\u001b[1;32m    199\u001b[0m         \u001b[0mself\u001b[0m\u001b[0;34m.\u001b[0m\u001b[0mconfig_files\u001b[0m\u001b[0;34m[\u001b[0m\u001b[0mname\u001b[0m\u001b[0;34m]\u001b[0m \u001b[0;34m=\u001b[0m \u001b[0mfile_path\u001b[0m\u001b[0;34m\u001b[0m\u001b[0;34m\u001b[0m\u001b[0m\n\u001b[1;32m    200\u001b[0m         \u001b[0;32mif\u001b[0m \u001b[0msave\u001b[0m\u001b[0;34m:\u001b[0m\u001b[0;34m\u001b[0m\u001b[0;34m\u001b[0m\u001b[0m\n\u001b[0;32m--> 201\u001b[0;31m             \u001b[0mself\u001b[0m\u001b[0;34m.\u001b[0m\u001b[0msave_configurations\u001b[0m\u001b[0;34m(\u001b[0m\u001b[0;34m)\u001b[0m\u001b[0;34m\u001b[0m\u001b[0;34m\u001b[0m\u001b[0m\n\u001b[0m\u001b[1;32m    202\u001b[0m \u001b[0;34m\u001b[0m\u001b[0m\n\u001b[1;32m    203\u001b[0m     \u001b[0;34m@\u001b[0m\u001b[0mproperty\u001b[0m\u001b[0;34m\u001b[0m\u001b[0;34m\u001b[0m\u001b[0m\n",
      "\u001b[0;32m~/dev-mtm/phd-neat-experiments/explaneat/experimenter/experiment.py\u001b[0m in \u001b[0;36msave_configurations\u001b[0;34m(self)\u001b[0m\n\u001b[1;32m    127\u001b[0m         \u001b[0mself\u001b[0m\u001b[0;34m.\u001b[0m\u001b[0msave_experimenter_config\u001b[0m\u001b[0;34m(\u001b[0m\u001b[0;34m)\u001b[0m\u001b[0;34m\u001b[0m\u001b[0;34m\u001b[0m\u001b[0m\n\u001b[1;32m    128\u001b[0m         \u001b[0mself\u001b[0m\u001b[0;34m.\u001b[0m\u001b[0mlogger\u001b[0m\u001b[0;34m.\u001b[0m\u001b[0minfo\u001b[0m\u001b[0;34m(\u001b[0m\u001b[0;34m\"Saving other config files\"\u001b[0m\u001b[0;34m)\u001b[0m\u001b[0;34m\u001b[0m\u001b[0;34m\u001b[0m\u001b[0m\n\u001b[0;32m--> 129\u001b[0;31m         \u001b[0;32mfor\u001b[0m \u001b[0mconfig_name\u001b[0m\u001b[0;34m,\u001b[0m \u001b[0mconfig_fp\u001b[0m \u001b[0;32min\u001b[0m \u001b[0mself\u001b[0m\u001b[0;34m.\u001b[0m\u001b[0mconfig_files\u001b[0m\u001b[0;34m:\u001b[0m\u001b[0;34m\u001b[0m\u001b[0;34m\u001b[0m\u001b[0m\n\u001b[0m\u001b[1;32m    130\u001b[0m             \u001b[0msrc\u001b[0m \u001b[0;34m=\u001b[0m \u001b[0mconfig_fp\u001b[0m\u001b[0;34m\u001b[0m\u001b[0;34m\u001b[0m\u001b[0m\n\u001b[1;32m    131\u001b[0m             dst = self.path('configurations', self.prepend_sha(\n",
      "\u001b[0;31mValueError\u001b[0m: too many values to unpack (expected 2)"
     ]
    }
   ],
   "source": [
    "experiment.register_config_file(\"./config-bchard\", \"neat_config\")"
   ]
  },
  {
   "cell_type": "markdown",
   "metadata": {},
   "source": [
    "We also want to put a hard limit on how long this can go on for."
   ]
  },
  {
   "cell_type": "markdown",
   "metadata": {},
   "source": [
    "We will create a method to manage the instantiation of a population on the basis of a specific config."
   ]
  },
  {
   "cell_type": "code",
   "execution_count": 8,
   "metadata": {},
   "outputs": [],
   "source": [
    "def instantiate_population(config, xs, ys, saveLocation):\n",
    "\n",
    "    if not os.path.exists(saveLocation):\n",
    "        os.makedirs(saveLocation)\n",
    "        \n",
    "    config.save(os.path.join(saveLocation, 'config.conf'))\n",
    "\n",
    "    # Create the population, which is the top-level object for a NEAT run.\n",
    "    p = BackpropPopulation(config, \n",
    "                            xs, \n",
    "                            ys, \n",
    "                            criterion=nn.BCELoss())\n",
    "\n",
    "    # Add a stdout reporter to show progress in the terminal.\n",
    "    p.add_reporter(neat.StdOutReporter(True))\n",
    "    stats = neat.StatisticsReporter()\n",
    "    p.add_reporter(stats)\n",
    "    p.add_reporter(neat.Checkpointer(5, filename_prefix=str(saveLocation) + \"checkpoint-\" ))\n",
    "    bpReporter = backprop.BackpropReporter(True)\n",
    "    p.add_reporter(bpReporter)\n",
    "    p.add_reporter(ExperimentReporter(saveLocation))\n",
    "    \n",
    "    return p"
   ]
  },
  {
   "cell_type": "markdown",
   "metadata": {},
   "source": [
    "# Experiment 1: Vary population size\n",
    "\n",
    "The first experiment is going to examine the difference in run time different population sizes. "
   ]
  },
  {
   "cell_type": "code",
   "execution_count": 9,
   "metadata": {},
   "outputs": [],
   "source": [
    "epoch_points = [10, 25, 50, 100, 150]\n",
    "# epoch_points = [10]"
   ]
  },
  {
   "cell_type": "code",
   "execution_count": 10,
   "metadata": {},
   "outputs": [
    {
     "data": {
      "text/plain": "50"
     },
     "execution_count": 10,
     "metadata": {},
     "output_type": "execute_result"
    }
   ],
   "source": [
    "base_config.pop_size"
   ]
  },
  {
   "cell_type": "code",
   "execution_count": 11,
   "metadata": {},
   "outputs": [],
   "source": [
    "saveLocationTemplate = './../../data/experiments/bchard/experiment-test-{}-{}/'"
   ]
  },
  {
   "cell_type": "markdown",
   "metadata": {},
   "source": [
    "## Start the experiment"
   ]
  },
  {
   "cell_type": "code",
   "execution_count": 12,
   "metadata": {},
   "outputs": [
    {
     "data": {
      "text/plain": "tensor([0., 0., 0., 0., 1., 1., 0., 1., 1., 0., 1., 0., 0., 0., 0., 0., 0., 0.,\n        0., 0., 1., 0., 0., 1., 0., 0., 0., 0., 0., 0., 0., 1., 0., 0., 0., 1.,\n        0., 1., 0., 0., 0., 1., 0., 0., 0., 0., 0., 0., 1., 0., 0., 0., 0., 0.,\n        1., 1., 0., 0., 1., 0., 1., 0., 1., 1., 0., 0., 1., 0., 1., 0., 0., 0.,\n        0., 0., 0., 0., 0., 0., 0., 0., 0., 0., 1., 0., 1., 0., 0., 0., 1., 1.,\n        0., 0., 0., 1., 0., 0., 0., 0., 0., 1., 0., 0., 0., 0., 1., 1., 0., 0.,\n        0., 1., 0., 1., 0., 0., 0., 1., 0., 0., 0., 1., 0., 1., 1., 0., 0., 0.,\n        0., 1., 0., 1., 0., 1., 1., 0., 0., 0., 0., 0., 0., 0., 1., 1., 0., 0.,\n        0., 0., 1., 1., 0., 1., 0., 0., 1., 0., 0., 0., 1., 0., 0., 1., 1., 0.,\n        0., 1., 1., 0., 0., 0., 0., 1., 1., 1., 0., 0., 0., 0., 1., 0., 0., 0.,\n        0., 0., 1., 0., 0., 0., 0., 1., 0., 1., 0., 0., 0., 1., 0., 0., 0., 0.,\n        0., 0., 0., 1., 0., 0., 0., 0., 0., 0., 0., 1., 0., 1., 1., 1., 1., 0.,\n        0., 0., 0., 0., 0., 0., 0., 1., 1., 0., 0., 0., 1., 0., 0., 0., 0., 0.,\n        1., 0., 1., 0., 0., 0., 0., 1., 0.])"
     },
     "execution_count": 12,
     "metadata": {},
     "output_type": "execute_result"
    }
   ],
   "source": [
    "data_wrangler.y_train"
   ]
  },
  {
   "cell_type": "code",
   "execution_count": 13,
   "metadata": {
    "scrolled": true
   },
   "outputs": [
    {
     "name": "stderr",
     "output_type": "stream",
     "text": [
      "2022-03-27 18:16:54,734 - experimenter - INFO - ################################################\n",
      "2022-03-27 18:16:54,735 - experimenter - INFO - ################################################\n",
      "2022-03-27 18:16:54,735 - experimenter - INFO - Starting epochs 10 iteration 0\n",
      "2022-03-27 18:16:54,735 - experimenter - INFO - Started at 03/27/2022, 18:16:54\n",
      "2022-03-27 18:16:54,736 - experimenter - INFO - ################################################\n",
      "2022-03-27 18:16:54,736 - experimenter - INFO - ################################################\n"
     ]
    },
    {
     "name": "stdout",
     "output_type": "stream",
     "text": [
      "The function - generationStart - has just started at 1648358214.7416809\n",
      "\n",
      " ****** Running generation 0 ****** \n",
      "\n",
      "The function - generationStart - took 0.0001552104949951172 seconds to complete\n",
      "The function - pre_backprop - has just started at 1648358214.7418492\n",
      "The function - pre_backprop - took 6.079673767089844e-05 seconds to complete\n",
      "The function - backprop - has just started at 1648358214.741925\n",
      "about to start backprop with 10 epochs\n",
      "expected scalar type Float but found Double\n",
      "layer id: 1\n",
      "layer input: 1\n",
      "{'training': True, '_parameters': OrderedDict([('weight_1', Parameter containing:\n",
      "tensor([[ 0.6889],\n",
      "        [ 0.8759],\n",
      "        [-0.8388],\n",
      "        [-1.5640],\n",
      "        [-1.1240],\n",
      "        [ 0.3405],\n",
      "        [ 1.0566],\n",
      "        [ 0.1278],\n",
      "        [-1.3599]], dtype=torch.float64, requires_grad=True)), ('weight_0', Parameter containing:\n",
      "tensor([[1., 1., 1., 1., 1., 1., 1., 1., 1.]], dtype=torch.float64,\n",
      "       requires_grad=True)), ('bias_1', Parameter containing:\n",
      "tensor([1.4986], dtype=torch.float64, requires_grad=True)), ('bias_0', Parameter containing:\n",
      "tensor([0., 0., 0., 0., 0., 0., 0., 0., 0.], dtype=torch.float64,\n",
      "       requires_grad=True))]), '_buffers': OrderedDict(), '_non_persistent_buffers_set': set(), '_backward_hooks': OrderedDict(), '_is_full_backward_hook': None, '_forward_hooks': OrderedDict(), '_forward_pre_hooks': OrderedDict(), '_state_dict_hooks': OrderedDict(), '_load_state_dict_pre_hooks': OrderedDict(), '_modules': OrderedDict([('criterion', BCEWithLogitsLoss())]), 'genome': <neat.genome.DefaultGenome object at 0x7f8603944730>, 'config': <neat.config.Config object at 0x7f86039447c0>, 'node_mapping': <explaneat.core.neuralneat.NodeMapping object at 0x7f8603979370>, 'valid': True, 'layers': {1: {'nodes': {0: {'depth': 1, 'output_ids': [], 'input_ids': [-1, -2, -3, -4, -5, -6, -7, -8, -9], 'depths': [1, 1, 1, 1, 1, 1, 1, 1, 1], 'on_path_to_output': True, 'on_path_to_input': False, 'is_input': False, 'is_output': True, 'is_valid': True, 'output_layers': [], 'input_layers': [0, 0, 0, 0, 0, 0, 0, 0, 0], 'skips_in': False, 'skips_out': False, 'layer': 1, 'layer_index': 0}}, 'is_output_layer': True, 'is_input_layer': False, 'layer_type': 'OUTPUT', 'layer_activation': 'Sigmoid', 'input_layers': [0], 'input_shape': 9, 'output_shape': 1, 'weights_shape': (9, 1), 'input_map': {}, 'input_weights': array([[ 0.68887864],\n",
      "       [ 0.87591054],\n",
      "       [-0.83883703],\n",
      "       [-1.56395481],\n",
      "       [-1.12404149],\n",
      "       [ 0.34047896],\n",
      "       [ 1.05655401],\n",
      "       [ 0.1277927 ],\n",
      "       [-1.35993087]]), 'shape': (9, 1), 'bias': array([1.49860845])}, 0: {'nodes': {-1: {'depth': 0, 'output_ids': [0], 'input_ids': [], 'depths': [], 'on_path_to_output': False, 'on_path_to_input': True, 'is_input': True, 'is_output': False, 'is_valid': True, 'output_layers': [1], 'input_layers': [], 'skips_in': False, 'skips_out': False, 'layer': 0, 'layer_index': 0}, -2: {'depth': 0, 'output_ids': [0], 'input_ids': [], 'depths': [], 'on_path_to_output': False, 'on_path_to_input': True, 'is_input': True, 'is_output': False, 'is_valid': True, 'output_layers': [1], 'input_layers': [], 'skips_in': False, 'skips_out': False, 'layer': 0, 'layer_index': 1}, -3: {'depth': 0, 'output_ids': [0], 'input_ids': [], 'depths': [], 'on_path_to_output': False, 'on_path_to_input': True, 'is_input': True, 'is_output': False, 'is_valid': True, 'output_layers': [1], 'input_layers': [], 'skips_in': False, 'skips_out': False, 'layer': 0, 'layer_index': 2}, -4: {'depth': 0, 'output_ids': [0], 'input_ids': [], 'depths': [], 'on_path_to_output': False, 'on_path_to_input': True, 'is_input': True, 'is_output': False, 'is_valid': True, 'output_layers': [1], 'input_layers': [], 'skips_in': False, 'skips_out': False, 'layer': 0, 'layer_index': 3}, -5: {'depth': 0, 'output_ids': [0], 'input_ids': [], 'depths': [], 'on_path_to_output': False, 'on_path_to_input': True, 'is_input': True, 'is_output': False, 'is_valid': True, 'output_layers': [1], 'input_layers': [], 'skips_in': False, 'skips_out': False, 'layer': 0, 'layer_index': 4}, -6: {'depth': 0, 'output_ids': [0], 'input_ids': [], 'depths': [], 'on_path_to_output': False, 'on_path_to_input': True, 'is_input': True, 'is_output': False, 'is_valid': True, 'output_layers': [1], 'input_layers': [], 'skips_in': False, 'skips_out': False, 'layer': 0, 'layer_index': 5}, -7: {'depth': 0, 'output_ids': [0], 'input_ids': [], 'depths': [], 'on_path_to_output': False, 'on_path_to_input': True, 'is_input': True, 'is_output': False, 'is_valid': True, 'output_layers': [1], 'input_layers': [], 'skips_in': False, 'skips_out': False, 'layer': 0, 'layer_index': 6}, -8: {'depth': 0, 'output_ids': [0], 'input_ids': [], 'depths': [], 'on_path_to_output': False, 'on_path_to_input': True, 'is_input': True, 'is_output': False, 'is_valid': True, 'output_layers': [1], 'input_layers': [], 'skips_in': False, 'skips_out': False, 'layer': 0, 'layer_index': 7}, -9: {'depth': 0, 'output_ids': [0], 'input_ids': [], 'depths': [], 'on_path_to_output': False, 'on_path_to_input': True, 'is_input': True, 'is_output': False, 'is_valid': True, 'output_layers': [1], 'input_layers': [], 'skips_in': False, 'skips_out': False, 'layer': 0, 'layer_index': 8}}, 'is_output_layer': False, 'is_input_layer': True, 'layer_type': 'INPUT', 'layer_activation': 'Input', 'input_layers': [], 'input_shape': 0, 'output_shape': 9, 'weights_shape': (0, 9), 'input_map': {}, 'input_weights': array([[1., 1., 1., 1., 1., 1., 1., 1., 1.]]), 'shape': (0, 9), 'bias': array([0., 0., 0., 0., 0., 0., 0., 0., 0.])}}, 'node_tracker': {0: {'depth': 1, 'output_ids': [], 'input_ids': [-1, -2, -3, -4, -5, -6, -7, -8, -9], 'depths': [1, 1, 1, 1, 1, 1, 1, 1, 1], 'on_path_to_output': True, 'on_path_to_input': False, 'is_input': False, 'is_output': True, 'is_valid': True, 'output_layers': [], 'input_layers': [0, 0, 0, 0, 0, 0, 0, 0, 0], 'skips_in': False, 'skips_out': False, 'layer': 1, 'layer_index': 0}, -1: {'depth': 0, 'output_ids': [0], 'input_ids': [], 'depths': [], 'on_path_to_output': False, 'on_path_to_input': True, 'is_input': True, 'is_output': False, 'is_valid': True, 'output_layers': [1], 'input_layers': [], 'skips_in': False, 'skips_out': False, 'layer': 0, 'layer_index': 0}, -2: {'depth': 0, 'output_ids': [0], 'input_ids': [], 'depths': [], 'on_path_to_output': False, 'on_path_to_input': True, 'is_input': True, 'is_output': False, 'is_valid': True, 'output_layers': [1], 'input_layers': [], 'skips_in': False, 'skips_out': False, 'layer': 0, 'layer_index': 1}, -3: {'depth': 0, 'output_ids': [0], 'input_ids': [], 'depths': [], 'on_path_to_output': False, 'on_path_to_input': True, 'is_input': True, 'is_output': False, 'is_valid': True, 'output_layers': [1], 'input_layers': [], 'skips_in': False, 'skips_out': False, 'layer': 0, 'layer_index': 2}, -4: {'depth': 0, 'output_ids': [0], 'input_ids': [], 'depths': [], 'on_path_to_output': False, 'on_path_to_input': True, 'is_input': True, 'is_output': False, 'is_valid': True, 'output_layers': [1], 'input_layers': [], 'skips_in': False, 'skips_out': False, 'layer': 0, 'layer_index': 3}, -5: {'depth': 0, 'output_ids': [0], 'input_ids': [], 'depths': [], 'on_path_to_output': False, 'on_path_to_input': True, 'is_input': True, 'is_output': False, 'is_valid': True, 'output_layers': [1], 'input_layers': [], 'skips_in': False, 'skips_out': False, 'layer': 0, 'layer_index': 4}, -6: {'depth': 0, 'output_ids': [0], 'input_ids': [], 'depths': [], 'on_path_to_output': False, 'on_path_to_input': True, 'is_input': True, 'is_output': False, 'is_valid': True, 'output_layers': [1], 'input_layers': [], 'skips_in': False, 'skips_out': False, 'layer': 0, 'layer_index': 5}, -7: {'depth': 0, 'output_ids': [0], 'input_ids': [], 'depths': [], 'on_path_to_output': False, 'on_path_to_input': True, 'is_input': True, 'is_output': False, 'is_valid': True, 'output_layers': [1], 'input_layers': [], 'skips_in': False, 'skips_out': False, 'layer': 0, 'layer_index': 6}, -8: {'depth': 0, 'output_ids': [0], 'input_ids': [], 'depths': [], 'on_path_to_output': False, 'on_path_to_input': True, 'is_input': True, 'is_output': False, 'is_valid': True, 'output_layers': [1], 'input_layers': [], 'skips_in': False, 'skips_out': False, 'layer': 0, 'layer_index': 7}, -9: {'depth': 0, 'output_ids': [0], 'input_ids': [], 'depths': [], 'on_path_to_output': False, 'on_path_to_input': True, 'is_input': True, 'is_output': False, 'is_valid': True, 'output_layers': [1], 'input_layers': [], 'skips_in': False, 'skips_out': False, 'layer': 0, 'layer_index': 8}}, 'weights': {1: Parameter containing:\n",
      "tensor([[ 0.6889],\n",
      "        [ 0.8759],\n",
      "        [-0.8388],\n",
      "        [-1.5640],\n",
      "        [-1.1240],\n",
      "        [ 0.3405],\n",
      "        [ 1.0566],\n",
      "        [ 0.1278],\n",
      "        [-1.3599]], dtype=torch.float64, requires_grad=True), 0: Parameter containing:\n",
      "tensor([[1., 1., 1., 1., 1., 1., 1., 1., 1.]], dtype=torch.float64,\n",
      "       requires_grad=True)}, 'biases': {1: Parameter containing:\n",
      "tensor([1.4986], dtype=torch.float64, requires_grad=True), 0: Parameter containing:\n",
      "tensor([0., 0., 0., 0., 0., 0., 0., 0., 0.], dtype=torch.float64,\n",
      "       requires_grad=True)}, 'layer_types': {1: 'OUTPUT', 0: 'INPUT'}, 'layer_inputs': {1: [0], 0: []}, 'n_layers': 2, '_outputs': {0: tensor([[ 0.3323,  0.9145,  1.0079,  ...,  1.0650, -0.9702,  0.5585],\n",
      "        [-0.6577,  0.9145,  0.5322,  ...,  1.0650,  0.6765, -1.7905],\n",
      "        [-1.6478,  0.9145,  0.0565,  ..., -0.9389,  2.3232,  0.5585],\n",
      "        ...,\n",
      "        [-0.6577,  0.9145, -0.4191,  ..., -0.9389, -0.9702,  0.5585],\n",
      "        [ 0.3323, -0.9145,  0.5322,  ..., -0.9389,  1.4998,  0.5585],\n",
      "        [ 0.3323,  0.9145,  0.0565,  ...,  1.0650,  1.4998,  0.5585]])}, 'optimiser': <class 'torch.optim.adadelta.Adadelta'>, 'optimizer': <class 'torch.optim.adadelta.Adadelta'>}\n",
      "======================\n",
      "{1: {'nodes': {0: {'depth': 1, 'output_ids': [], 'input_ids': [-1, -2, -3, -4, -5, -6, -7, -8, -9], 'depths': [1, 1, 1, 1, 1, 1, 1, 1, 1], 'on_path_to_output': True, 'on_path_to_input': False, 'is_input': False, 'is_output': True, 'is_valid': True, 'output_layers': [], 'input_layers': [0, 0, 0, 0, 0, 0, 0, 0, 0], 'skips_in': False, 'skips_out': False, 'layer': 1, 'layer_index': 0}}, 'is_output_layer': True, 'is_input_layer': False, 'layer_type': 'OUTPUT', 'layer_activation': 'Sigmoid', 'input_layers': [0], 'input_shape': 9, 'output_shape': 1, 'weights_shape': (9, 1), 'input_map': {}, 'input_weights': array([[ 0.68887864],\n",
      "       [ 0.87591054],\n",
      "       [-0.83883703],\n",
      "       [-1.56395481],\n",
      "       [-1.12404149],\n",
      "       [ 0.34047896],\n",
      "       [ 1.05655401],\n",
      "       [ 0.1277927 ],\n",
      "       [-1.35993087]]), 'shape': (9, 1), 'bias': array([1.49860845])}, 0: {'nodes': {-1: {'depth': 0, 'output_ids': [0], 'input_ids': [], 'depths': [], 'on_path_to_output': False, 'on_path_to_input': True, 'is_input': True, 'is_output': False, 'is_valid': True, 'output_layers': [1], 'input_layers': [], 'skips_in': False, 'skips_out': False, 'layer': 0, 'layer_index': 0}, -2: {'depth': 0, 'output_ids': [0], 'input_ids': [], 'depths': [], 'on_path_to_output': False, 'on_path_to_input': True, 'is_input': True, 'is_output': False, 'is_valid': True, 'output_layers': [1], 'input_layers': [], 'skips_in': False, 'skips_out': False, 'layer': 0, 'layer_index': 1}, -3: {'depth': 0, 'output_ids': [0], 'input_ids': [], 'depths': [], 'on_path_to_output': False, 'on_path_to_input': True, 'is_input': True, 'is_output': False, 'is_valid': True, 'output_layers': [1], 'input_layers': [], 'skips_in': False, 'skips_out': False, 'layer': 0, 'layer_index': 2}, -4: {'depth': 0, 'output_ids': [0], 'input_ids': [], 'depths': [], 'on_path_to_output': False, 'on_path_to_input': True, 'is_input': True, 'is_output': False, 'is_valid': True, 'output_layers': [1], 'input_layers': [], 'skips_in': False, 'skips_out': False, 'layer': 0, 'layer_index': 3}, -5: {'depth': 0, 'output_ids': [0], 'input_ids': [], 'depths': [], 'on_path_to_output': False, 'on_path_to_input': True, 'is_input': True, 'is_output': False, 'is_valid': True, 'output_layers': [1], 'input_layers': [], 'skips_in': False, 'skips_out': False, 'layer': 0, 'layer_index': 4}, -6: {'depth': 0, 'output_ids': [0], 'input_ids': [], 'depths': [], 'on_path_to_output': False, 'on_path_to_input': True, 'is_input': True, 'is_output': False, 'is_valid': True, 'output_layers': [1], 'input_layers': [], 'skips_in': False, 'skips_out': False, 'layer': 0, 'layer_index': 5}, -7: {'depth': 0, 'output_ids': [0], 'input_ids': [], 'depths': [], 'on_path_to_output': False, 'on_path_to_input': True, 'is_input': True, 'is_output': False, 'is_valid': True, 'output_layers': [1], 'input_layers': [], 'skips_in': False, 'skips_out': False, 'layer': 0, 'layer_index': 6}, -8: {'depth': 0, 'output_ids': [0], 'input_ids': [], 'depths': [], 'on_path_to_output': False, 'on_path_to_input': True, 'is_input': True, 'is_output': False, 'is_valid': True, 'output_layers': [1], 'input_layers': [], 'skips_in': False, 'skips_out': False, 'layer': 0, 'layer_index': 7}, -9: {'depth': 0, 'output_ids': [0], 'input_ids': [], 'depths': [], 'on_path_to_output': False, 'on_path_to_input': True, 'is_input': True, 'is_output': False, 'is_valid': True, 'output_layers': [1], 'input_layers': [], 'skips_in': False, 'skips_out': False, 'layer': 0, 'layer_index': 8}}, 'is_output_layer': False, 'is_input_layer': True, 'layer_type': 'INPUT', 'layer_activation': 'Input', 'input_layers': [], 'input_shape': 0, 'output_shape': 9, 'weights_shape': (0, 9), 'input_map': {}, 'input_weights': array([[1., 1., 1., 1., 1., 1., 1., 1., 1.]]), 'shape': (0, 9), 'bias': array([0., 0., 0., 0., 0., 0., 0., 0., 0.])}}\n",
      "Key: 1\n",
      "Fitness: None\n",
      "Nodes:\n",
      "\t0 DefaultNodeGene(key=0, bias=1.498608451040871, response=1.0, activation=sigmoid, aggregation=sum)\n",
      "Connections:\n",
      "\tDefaultConnectionGene(key=(-9, 0), weight=-1.3599308660532954, enabled=True)\n",
      "\tDefaultConnectionGene(key=(-8, 0), weight=0.12779269935267695, enabled=True)\n",
      "\tDefaultConnectionGene(key=(-7, 0), weight=1.0565540055337268, enabled=True)\n",
      "\tDefaultConnectionGene(key=(-6, 0), weight=0.3404789598915912, enabled=True)\n",
      "\tDefaultConnectionGene(key=(-5, 0), weight=-1.1240414901176743, enabled=True)\n",
      "\tDefaultConnectionGene(key=(-4, 0), weight=-1.5639548119470097, enabled=True)\n",
      "\tDefaultConnectionGene(key=(-3, 0), weight=-0.838837032899822, enabled=True)\n",
      "\tDefaultConnectionGene(key=(-2, 0), weight=0.8759105400831801, enabled=True)\n",
      "\tDefaultConnectionGene(key=(-1, 0), weight=0.6888786433775906, enabled=True)\n",
      "the reached nodes are\n",
      "[-1, -2, -3, -4, -5, -6, -7, -8, -9, 0, 0, 0, 0, 0, 0, 0, 0, 0]\n",
      "the reached nodes are\n",
      "[0, -1, -2, -3, -4, -5, -6, -7, -8, -9]\n",
      "True\n",
      "---===---===---===\n",
      "The function - backprop - took 0.018122196197509766 seconds to complete\n"
     ]
    },
    {
     "ename": "KeyError",
     "evalue": "1",
     "output_type": "error",
     "traceback": [
      "\u001b[0;31m---------------------------------------------------------------------------\u001b[0m",
      "\u001b[0;31mKeyError\u001b[0m                                  Traceback (most recent call last)",
      "\u001b[0;32m<ipython-input-13-c32026983ece>\u001b[0m in \u001b[0;36m<module>\u001b[0;34m\u001b[0m\n\u001b[1;32m     21\u001b[0m         \u001b[0mp\u001b[0m \u001b[0;34m=\u001b[0m \u001b[0minstantiate_population\u001b[0m\u001b[0;34m(\u001b[0m\u001b[0mconfig\u001b[0m\u001b[0;34m,\u001b[0m \u001b[0mdata_wrangler\u001b[0m\u001b[0;34m.\u001b[0m\u001b[0mX_train\u001b[0m\u001b[0;34m,\u001b[0m \u001b[0mdata_wrangler\u001b[0m\u001b[0;34m.\u001b[0m\u001b[0my_train\u001b[0m\u001b[0;34m,\u001b[0m \u001b[0msaveLocation\u001b[0m\u001b[0;34m)\u001b[0m\u001b[0;34m\u001b[0m\u001b[0;34m\u001b[0m\u001b[0m\n\u001b[1;32m     22\u001b[0m         \u001b[0;31m# Run for up to nGenerations generations.\u001b[0m\u001b[0;34m\u001b[0m\u001b[0;34m\u001b[0m\u001b[0;34m\u001b[0m\u001b[0m\n\u001b[0;32m---> 23\u001b[0;31m         \u001b[0mwinner\u001b[0m \u001b[0;34m=\u001b[0m \u001b[0mp\u001b[0m\u001b[0;34m.\u001b[0m\u001b[0mrun\u001b[0m\u001b[0;34m(\u001b[0m\u001b[0mbinary_cross_entropy\u001b[0m\u001b[0;34m,\u001b[0m \u001b[0mexperiment\u001b[0m\u001b[0;34m.\u001b[0m\u001b[0mconfig\u001b[0m\u001b[0;34m[\u001b[0m\u001b[0;34m\"max_n_generations\"\u001b[0m\u001b[0;34m]\u001b[0m\u001b[0;34m,\u001b[0m \u001b[0mnEpochs\u001b[0m \u001b[0;34m=\u001b[0m \u001b[0mepochs\u001b[0m\u001b[0;34m)\u001b[0m\u001b[0;34m\u001b[0m\u001b[0;34m\u001b[0m\u001b[0m\n\u001b[0m\u001b[1;32m     24\u001b[0m \u001b[0;34m\u001b[0m\u001b[0m\n\u001b[1;32m     25\u001b[0m         \u001b[0mg\u001b[0m \u001b[0;34m=\u001b[0m \u001b[0mp\u001b[0m\u001b[0;34m.\u001b[0m\u001b[0mbest_genome\u001b[0m\u001b[0;34m\u001b[0m\u001b[0;34m\u001b[0m\u001b[0m\n",
      "\u001b[0;32m~/dev-mtm/phd-neat-experiments/explaneat/core/backproppop.py\u001b[0m in \u001b[0;36mrun\u001b[0;34m(self, fitness_function, n, nEpochs)\u001b[0m\n\u001b[1;32m    175\u001b[0m \u001b[0;34m\u001b[0m\u001b[0m\n\u001b[1;32m    176\u001b[0m             \u001b[0;32mwith\u001b[0m \u001b[0mMethodTimer\u001b[0m\u001b[0;34m(\u001b[0m\u001b[0;34m'backprop'\u001b[0m\u001b[0;34m)\u001b[0m\u001b[0;34m:\u001b[0m\u001b[0;34m\u001b[0m\u001b[0;34m\u001b[0m\u001b[0m\n\u001b[0;32m--> 177\u001b[0;31m                 \u001b[0mself\u001b[0m\u001b[0;34m.\u001b[0m\u001b[0mbackpropagate\u001b[0m\u001b[0;34m(\u001b[0m\u001b[0mself\u001b[0m\u001b[0;34m.\u001b[0m\u001b[0mxs\u001b[0m\u001b[0;34m,\u001b[0m \u001b[0mself\u001b[0m\u001b[0;34m.\u001b[0m\u001b[0mys\u001b[0m\u001b[0;34m,\u001b[0m \u001b[0mnEpochs\u001b[0m\u001b[0;34m=\u001b[0m\u001b[0mnEpochs\u001b[0m\u001b[0;34m)\u001b[0m\u001b[0;34m\u001b[0m\u001b[0;34m\u001b[0m\u001b[0m\n\u001b[0m\u001b[1;32m    178\u001b[0m \u001b[0;34m\u001b[0m\u001b[0m\n\u001b[1;32m    179\u001b[0m             \u001b[0;32mwith\u001b[0m \u001b[0mMethodTimer\u001b[0m\u001b[0;34m(\u001b[0m\u001b[0;34m'post_backprop'\u001b[0m\u001b[0;34m)\u001b[0m\u001b[0;34m:\u001b[0m\u001b[0;34m\u001b[0m\u001b[0;34m\u001b[0m\u001b[0m\n",
      "\u001b[0;32m~/dev-mtm/phd-neat-experiments/explaneat/core/backproppop.py\u001b[0m in \u001b[0;36mbackpropagate\u001b[0;34m(self, xs, ys, nEpochs)\u001b[0m\n\u001b[1;32m    123\u001b[0m             \u001b[0moptimizer\u001b[0m\u001b[0;34m.\u001b[0m\u001b[0mzero_grad\u001b[0m\u001b[0;34m(\u001b[0m\u001b[0;34m)\u001b[0m\u001b[0;34m\u001b[0m\u001b[0;34m\u001b[0m\u001b[0m\n\u001b[1;32m    124\u001b[0m             \u001b[0mlosses\u001b[0m \u001b[0;34m=\u001b[0m \u001b[0;34m[\u001b[0m\u001b[0;34m]\u001b[0m\u001b[0;34m\u001b[0m\u001b[0;34m\u001b[0m\u001b[0m\n\u001b[0;32m--> 125\u001b[0;31m             \u001b[0mpreBPLoss\u001b[0m \u001b[0;34m=\u001b[0m \u001b[0mF\u001b[0m\u001b[0;34m.\u001b[0m\u001b[0mmse_loss\u001b[0m\u001b[0;34m(\u001b[0m\u001b[0mnet\u001b[0m\u001b[0;34m.\u001b[0m\u001b[0mforward\u001b[0m\u001b[0;34m(\u001b[0m\u001b[0mxs\u001b[0m\u001b[0;34m)\u001b[0m\u001b[0;34m,\u001b[0m \u001b[0mys\u001b[0m\u001b[0;34m)\u001b[0m\u001b[0;34m.\u001b[0m\u001b[0msqrt\u001b[0m\u001b[0;34m(\u001b[0m\u001b[0;34m)\u001b[0m\u001b[0;34m\u001b[0m\u001b[0;34m\u001b[0m\u001b[0m\n\u001b[0m\u001b[1;32m    126\u001b[0m             \u001b[0;32mfor\u001b[0m \u001b[0mi\u001b[0m \u001b[0;32min\u001b[0m \u001b[0mrange\u001b[0m\u001b[0;34m(\u001b[0m\u001b[0mnEpochs\u001b[0m\u001b[0;34m)\u001b[0m\u001b[0;34m:\u001b[0m\u001b[0;34m\u001b[0m\u001b[0;34m\u001b[0m\u001b[0m\n\u001b[1;32m    127\u001b[0m                 \u001b[0mpreds\u001b[0m \u001b[0;34m=\u001b[0m \u001b[0mnet\u001b[0m\u001b[0;34m.\u001b[0m\u001b[0mforward\u001b[0m\u001b[0;34m(\u001b[0m\u001b[0mxs\u001b[0m\u001b[0;34m)\u001b[0m\u001b[0;34m\u001b[0m\u001b[0;34m\u001b[0m\u001b[0m\n",
      "\u001b[0;32m~/dev-mtm/phd-neat-experiments/explaneat/core/neuralneat.py\u001b[0m in \u001b[0;36mforward\u001b[0;34m(self, x)\u001b[0m\n\u001b[1;32m    338\u001b[0m \u001b[0;34m\u001b[0m\u001b[0m\n\u001b[1;32m    339\u001b[0m             \u001b[0;32mif\u001b[0m \u001b[0mlayer_type\u001b[0m \u001b[0;34m==\u001b[0m \u001b[0mLAYER_TYPE_OUTPUT\u001b[0m\u001b[0;34m:\u001b[0m\u001b[0;34m\u001b[0m\u001b[0;34m\u001b[0m\u001b[0m\n\u001b[0;32m--> 340\u001b[0;31m                 \u001b[0;32mreturn\u001b[0m \u001b[0mself\u001b[0m\u001b[0;34m.\u001b[0m\u001b[0m_outputs\u001b[0m\u001b[0;34m[\u001b[0m\u001b[0mlayer_id\u001b[0m\u001b[0;34m]\u001b[0m\u001b[0;34m\u001b[0m\u001b[0;34m\u001b[0m\u001b[0m\n\u001b[0m\u001b[1;32m    341\u001b[0m \u001b[0;34m\u001b[0m\u001b[0m\n\u001b[1;32m    342\u001b[0m     \u001b[0;32mdef\u001b[0m \u001b[0moptimise\u001b[0m\u001b[0;34m(\u001b[0m\u001b[0mself\u001b[0m\u001b[0;34m,\u001b[0m \u001b[0mxs\u001b[0m\u001b[0;34m,\u001b[0m \u001b[0mys\u001b[0m\u001b[0;34m,\u001b[0m \u001b[0mnEpochs\u001b[0m\u001b[0;34m=\u001b[0m\u001b[0;36m100\u001b[0m\u001b[0;34m)\u001b[0m\u001b[0;34m:\u001b[0m\u001b[0;34m\u001b[0m\u001b[0;34m\u001b[0m\u001b[0m\n",
      "\u001b[0;31mKeyError\u001b[0m: 1"
     ]
    }
   ],
   "source": [
    "my_random_seed = experiment.config[\"random_seed\"]\n",
    "for epochs in epoch_points:\n",
    "    for iteration_no in range(20):\n",
    "        my_random_seed += 1\n",
    "        random.seed(my_random_seed)\n",
    "        start_time = datetime.now()\n",
    "        \n",
    "        logger.info(\"################################################\")\n",
    "        logger.info(\"################################################\")\n",
    "        logger.info(\"Starting epochs {} iteration {}\".format(epochs, iteration_no))\n",
    "        logger.info(\"Started at {}\".format(start_time.strftime(\"%m/%d/%Y, %H:%M:%S\")))\n",
    "        logger.info(\"################################################\")\n",
    "        logger.info(\"################################################\")\n",
    "        \n",
    "        \n",
    "        config = deepcopy(base_config)\n",
    "#         config.pop_size = pop_size\n",
    "        \n",
    "        saveLocation = saveLocationTemplate.format(epochs, iteration_no)\n",
    "        \n",
    "        p = instantiate_population(config, data_wrangler.X_train, data_wrangler.y_train, saveLocation)\n",
    "        # Run for up to nGenerations generations.\n",
    "        winner = p.run(binary_cross_entropy, experiment.config[\"max_n_generations\"], nEpochs = epochs)\n",
    "        \n",
    "        g = p.best_genome\n",
    "\n",
    "        \n",
    "        end_time = datetime.now()\n",
    "        \n",
    "        p.reporters.reporters[2].save_checkpoint(p.config, p.population, p.species, str(p.generation) + \"-final\")  \n",
    "        \n",
    "        winner_net = neat.nn.FeedForwardNetwork.create(winner, config)\n",
    "\n",
    "        results = []\n",
    "        for xi, xo in zip(xs, ys):\n",
    "            output = winner_net.activate(xi)\n",
    "            results.append([xi, xo, output])\n",
    "\n",
    "        df = pd.DataFrame(results)\n",
    "        df.to_csv(os.path.join(saveLocation, 'results.csv'))\n",
    "        \n",
    "        ancestry = p.reporters.reporters[3].trace_ancestry_of_species(g.key, p.reproduction.ancestors) \n",
    "\n",
    "        ancestors = {\n",
    "            k: v['genome'] for k, v in p.reporters.reporters[3].ancestry.items()\n",
    "        }\n",
    "        \n",
    "        ## Save all of these to disc\n",
    "        filename = 'fullStatus.xplnt'\n",
    "        logger.info(\"Saving checkpoint to {0}\".format(filename))\n",
    "\n",
    "        with gzip.open(os.path.join(saveLocation, filename), 'w', compresslevel=5) as f:\n",
    "            data = (p, g, ancestry, ancestors, random.getstate())\n",
    "            pickle.dump(data, f, protocol=pickle.HIGHEST_PROTOCOL)\n",
    "            \n",
    "            \n",
    "        with gzip.open(os.path.join(saveLocation, 'train_test_data.pkl'), 'w', compresslevel=5) as f:\n",
    "            train_Test = (X_train, X_test, y_train, y_test)\n",
    "            pickle.dump(train_Test, f, protocol=pickle.HIGHEST_PROTOCOL)\n",
    "#         visualize.create_ancestry_video(p.config, \n",
    "#                                         g, \n",
    "#                                         ancestry, \n",
    "#                                         ancestors, \n",
    "#                                         p.reporters.reporters[1], \n",
    "#                                         pathname=saveLocation)\n",
    "        logger.info(\"################################################\")\n",
    "        logger.info(\"################################################\")\n",
    "        logger.info(\"Have finished epochs {} iteration {}\".format(epochs, iteration_no))\n",
    "        logger.info(\"Started at {}\".format(start_time.strftime(\"%m/%d/%Y, %H:%M:%S\")))\n",
    "        logger.info(\"The time is {}\".format(end_time.strftime(\"%m/%d/%Y, %H:%M:%S\")))\n",
    "        logger.info(\"################################################\")\n",
    "        logger.info(\"################################################\")\n",
    "    "
   ]
  }
 ],
 "metadata": {
  "kernelspec": {
   "display_name": "Python 3",
   "language": "python",
   "name": "python3"
  },
  "language_info": {
   "codemirror_mode": {
    "name": "ipython",
    "version": 3
   },
   "file_extension": ".py",
   "mimetype": "text/x-python",
   "name": "python",
   "nbconvert_exporter": "python",
   "pygments_lexer": "ipython3",
   "version": "3.8.12"
  }
 },
 "nbformat": 4,
 "nbformat_minor": 2
}