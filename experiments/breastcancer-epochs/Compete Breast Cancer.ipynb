{
 "cells": [
  {
   "cell_type": "code",
   "execution_count": 37,
   "metadata": {},
   "outputs": [],
   "source": [
    "from __future__ import print_function\n",
    "import os\n",
    "import neat\n",
    "\n",
    "import pandas as pd\n",
    "import numpy as np\n",
    "import random\n",
    "\n",
    "import torch\n",
    "import torch.nn as nn\n",
    "import torch.optim as optim\n",
    "from torch.utils.data import Dataset, DataLoader\n",
    "\n",
    "import matplotlib.pyplot as plt\n",
    "\n",
    "\n",
    "\n",
    "from explaneat.core.backprop import NeatNet\n",
    "from explaneat.core import backprop\n",
    "from explaneat.core.backproppop import BackpropPopulation\n",
    "from explaneat.visualization import visualize\n",
    "from explaneat.core.experiment import ExperimentReporter\n",
    "from explaneat.core.utility import one_hot_encode\n",
    "\n",
    "\n",
    "from sklearn import datasets\n",
    "from sklearn import metrics\n",
    "from sklearn.preprocessing import StandardScaler\n",
    "from sklearn.model_selection import train_test_split\n",
    "\n",
    "from sklearn.metrics import classification_report, confusion_matrix\n",
    "from sklearn.metrics import roc_auc_score\n",
    "\n",
    "\n",
    "\n",
    "from copy import deepcopy\n",
    "\n",
    "import time\n",
    "from datetime import datetime\n",
    "\n",
    "\n",
    "import gzip\n",
    "try:\n",
    "    import cPickle as pickle  # pylint: disable=import-error\n",
    "except ImportError:\n",
    "    import pickle  # pylint: disable=import-error"
   ]
  },
  {
   "cell_type": "code",
   "execution_count": 38,
   "metadata": {},
   "outputs": [],
   "source": [
    "\n",
    "USE_CUDA = torch.cuda.is_available()\n",
    "USE_CUDA = False\n",
    "device = torch.device(\"cuda:1\" if USE_CUDA else \"cpu\")\n",
    "cuda_device = torch.device(\"cuda:1\")"
   ]
  },
  {
   "cell_type": "markdown",
   "metadata": {},
   "source": [
    "# Breast Cancer Experiment\n",
    "\n",
    "This experiment (a) test the experimental environment, but is also to evaluate the efficacy of the ExplaNEAT algorithm. Speed is a critical factor, as well as stability of results on population size. Total run time will also be measured"
   ]
  },
  {
   "cell_type": "markdown",
   "metadata": {},
   "source": [
    "First, we need to set a random seed and a total stopping point in the number of generations"
   ]
  },
  {
   "cell_type": "code",
   "execution_count": 3,
   "metadata": {},
   "outputs": [],
   "source": [
    "my_random_seed = 42\n",
    "random.seed(my_random_seed)"
   ]
  },
  {
   "cell_type": "code",
   "execution_count": 4,
   "metadata": {},
   "outputs": [],
   "source": [
    "def one_hot_encode(vals):\n",
    "    width = max(vals)\n",
    "    newVals = []\n",
    "    for val in vals:\n",
    "        blank = [0. for _ in range(width + 1)]\n",
    "        blank[val] = 1.\n",
    "        newVals.append(blank)\n",
    "    return np.asarray(newVals)\n"
   ]
  },
  {
   "cell_type": "markdown",
   "metadata": {},
   "source": [
    "## Dataset\n",
    "\n",
    "We are going to work with the Iris dataset, which will be loaded from `sklearn`. We want to characterise the efficacy of the algorithm with regards to a mostly untransformed dataset, so we will only normalise the features"
   ]
  },
  {
   "cell_type": "code",
   "execution_count": 5,
   "metadata": {},
   "outputs": [],
   "source": [
    "# breast_cancer = datasets.load_breast_cancer()\n",
    "breast_cancer = datasets.load_breast_cancer()\n",
    "# breast_cancer = datasets.load_boston()\n",
    "xs_raw = breast_cancer.data[:, :]\n",
    "scaler = StandardScaler()\n",
    "scaler.fit(xs_raw)\n",
    "xs = scaler.transform(xs_raw)\n",
    "ys = breast_cancer.target.astype(np.float32)\n",
    "# ys_onehot = one_hot_encode(ys)"
   ]
  },
  {
   "cell_type": "code",
   "execution_count": 6,
   "metadata": {},
   "outputs": [],
   "source": [
    "X_train, X_test, y_train, y_test = train_test_split(xs, ys, test_size=69, random_state=42)"
   ]
  },
  {
   "cell_type": "code",
   "execution_count": 7,
   "metadata": {},
   "outputs": [],
   "source": [
    "# # xs = torch.from_numpy(xs).to(device)\n",
    "# # ys = torch.from_numpy(ys).to(device)\n",
    "# X_train = torch.from_numpy(X_train).to(device)\n",
    "# X_test = torch.from_numpy(X_test).to(device)\n",
    "# y_train = torch.from_numpy(y_train).to(device)\n",
    "# y_test = torch.from_numpy(y_test).to(device)"
   ]
  },
  {
   "cell_type": "code",
   "execution_count": 8,
   "metadata": {},
   "outputs": [],
   "source": [
    "xs = torch.from_numpy(xs).to(device)\n",
    "ys = torch.from_numpy(ys).to(device)"
   ]
  },
  {
   "cell_type": "code",
   "execution_count": 9,
   "metadata": {},
   "outputs": [
    {
     "data": {
      "text/plain": [
       "torch.Size([569, 30])"
      ]
     },
     "execution_count": 9,
     "metadata": {},
     "output_type": "execute_result"
    }
   ],
   "source": [
    "xs.shape"
   ]
  },
  {
   "cell_type": "markdown",
   "metadata": {},
   "source": [
    "Let's have a look at the data we are working with"
   ]
  },
  {
   "cell_type": "code",
   "execution_count": 10,
   "metadata": {},
   "outputs": [
    {
     "data": {
      "text/plain": [
       "tensor([0., 1., 1., 1., 0.])"
      ]
     },
     "execution_count": 10,
     "metadata": {},
     "output_type": "execute_result"
    }
   ],
   "source": [
    "ys[18:23]"
   ]
  },
  {
   "cell_type": "code",
   "execution_count": 11,
   "metadata": {},
   "outputs": [
    {
     "data": {
      "text/plain": [
       "tensor([[ 1.6140,  0.6656,  1.5665,  1.7210,  0.1388, -0.0311,  0.7420,  1.1881,\n",
       "         -0.8383, -1.2542,  1.2742, -0.3626,  1.4846,  1.5855, -0.1823, -0.3660,\n",
       "          0.0669,  0.5538, -0.8454, -0.6801,  2.2884,  0.8472,  2.3691,  2.6675,\n",
       "          0.8255,  0.3864,  1.2714,  1.8910, -0.2148, -0.4320],\n",
       "        [-0.1668, -1.1472, -0.1857, -0.2520,  0.1017, -0.4369, -0.2782, -0.0286,\n",
       "          0.2679, -0.7283, -0.4882, -0.7770, -0.4000, -0.3691,  0.4737, -0.6080,\n",
       "         -0.2660,  0.2196, -0.0899, -0.5654, -0.2400, -1.0450, -0.2252, -0.2978,\n",
       "          0.5099, -0.4896, -0.1592,  0.2161,  0.1233, -0.6293]],\n",
       "       dtype=torch.float64)"
      ]
     },
     "execution_count": 11,
     "metadata": {},
     "output_type": "execute_result"
    }
   ],
   "source": [
    "xs[18:20]"
   ]
  },
  {
   "cell_type": "markdown",
   "metadata": {},
   "source": [
    "## Performance metric\n",
    "\n",
    "The NEAT implementation on which ExplaNEAT extends uses a single function call for evaluating fitness. Although this might be reworked for ExplaNEAT to be able to get consistency between the genome-evaluation and the backprop loss function, that can be reviewed later.\n",
    "\n",
    "This use `Binary Cross Entropy Loss` from `PyTorch`"
   ]
  },
  {
   "cell_type": "code",
   "execution_count": 12,
   "metadata": {},
   "outputs": [],
   "source": [
    "def eval_genomes(genomes, config):\n",
    "    loss = nn.BCELoss()\n",
    "    loss = loss.to(device)\n",
    "    for genome_id, genome in genomes:\n",
    "        net = neat.nn.FeedForwardNetwork.create(genome, config)\n",
    "        preds = []\n",
    "        for xi in X_train:\n",
    "            preds.append(net.activate(xi))\n",
    "        genome.fitness = float(1./loss(torch.tensor(preds).to(device), torch.tensor(y_train)))"
   ]
  },
  {
   "cell_type": "markdown",
   "metadata": {},
   "source": [
    "## The competition"
   ]
  },
  {
   "cell_type": "code",
   "execution_count": 13,
   "metadata": {},
   "outputs": [],
   "source": [
    "# Import the model we are using\n",
    "from sklearn.ensemble import RandomForestRegressor\n",
    "# Instantiate model with 1000 decision trees\n",
    "rf = RandomForestRegressor(n_estimators = 1000, random_state = 42)\n",
    "# Train the model on training data\n",
    "rf.fit(X_train, y_train);\n"
   ]
  },
  {
   "cell_type": "code",
   "execution_count": 14,
   "metadata": {},
   "outputs": [],
   "source": [
    "# Use the forest's predict method on the test data\n",
    "rf_preds = rf.predict(X_test)\n",
    "# Calculate the absolute errors\n",
    "errors = abs(rf_preds - y_test)"
   ]
  },
  {
   "cell_type": "code",
   "execution_count": 15,
   "metadata": {},
   "outputs": [
    {
     "name": "stdout",
     "output_type": "stream",
     "text": [
      "Mean Absolute Error: 0.06\n"
     ]
    }
   ],
   "source": [
    "print('Mean Absolute Error:', round(np.mean(errors), 2))"
   ]
  },
  {
   "cell_type": "code",
   "execution_count": 16,
   "metadata": {},
   "outputs": [
    {
     "data": {
      "text/plain": [
       "array([0., 0., 0., 0., 0., 0., 0., 0., 1., 0., 0., 0., 0., 0., 0., 0., 0.,\n",
       "       0., 0., 0., 1., 0., 0., 0., 0., 0., 0., 0., 0., 0., 0., 0., 0., 0.,\n",
       "       0., 0., 0., 0., 0., 0., 0., 0., 0., 0., 0., 0., 0., 0., 0., 0., 0.,\n",
       "       0., 0., 0., 0., 0., 0., 0., 0., 0., 0., 0., 0., 0., 0., 0., 0., 0.,\n",
       "       0.])"
      ]
     },
     "execution_count": 16,
     "metadata": {},
     "output_type": "execute_result"
    }
   ],
   "source": [
    "abs(rf_preds.round(0) - y_test)"
   ]
  },
  {
   "cell_type": "code",
   "execution_count": 17,
   "metadata": {},
   "outputs": [
    {
     "data": {
      "text/plain": [
       "array([0.   , 0.   , 0.   , 0.   , 0.   , 0.   , 0.   , 0.186, 0.729,\n",
       "       0.084, 0.121, 0.033, 0.032, 0.153, 0.006, 0.008, 0.027, 0.   ,\n",
       "       0.   , 0.   , 0.794, 0.   , 0.   , 0.   , 0.   , 0.024, 0.   ,\n",
       "       0.141, 0.   , 0.   , 0.003, 0.   , 0.248, 0.032, 0.   , 0.   ,\n",
       "       0.233, 0.07 , 0.   , 0.102, 0.   , 0.   , 0.   , 0.   , 0.315,\n",
       "       0.003, 0.184, 0.087, 0.001, 0.003, 0.01 , 0.   , 0.164, 0.065,\n",
       "       0.   , 0.003, 0.   , 0.   , 0.23 , 0.   , 0.   , 0.   , 0.   ,\n",
       "       0.027, 0.   , 0.053, 0.   , 0.   , 0.   ])"
      ]
     },
     "execution_count": 17,
     "metadata": {},
     "output_type": "execute_result"
    }
   ],
   "source": [
    "errors"
   ]
  },
  {
   "cell_type": "code",
   "execution_count": 18,
   "metadata": {},
   "outputs": [
    {
     "name": "stdout",
     "output_type": "stream",
     "text": [
      "[[22  1]\n",
      " [ 1 45]]\n"
     ]
    }
   ],
   "source": [
    "# Importing the classification report and confusion matrix\n",
    "print(confusion_matrix(y_test,rf_preds.round(0)))"
   ]
  },
  {
   "cell_type": "code",
   "execution_count": 19,
   "metadata": {},
   "outputs": [
    {
     "data": {
      "text/plain": [
       "0.9971644612476371"
      ]
     },
     "execution_count": 19,
     "metadata": {},
     "output_type": "execute_result"
    }
   ],
   "source": [
    "roc_auc_score(y_test, rf_preds)"
   ]
  },
  {
   "cell_type": "markdown",
   "metadata": {},
   "source": [
    "## SVM"
   ]
  },
  {
   "cell_type": "code",
   "execution_count": 20,
   "metadata": {},
   "outputs": [],
   "source": [
    "from sklearn.svm import SVC\n",
    "svm_model=SVC()\n"
   ]
  },
  {
   "cell_type": "code",
   "execution_count": 21,
   "metadata": {},
   "outputs": [
    {
     "name": "stderr",
     "output_type": "stream",
     "text": [
      "/opt/conda/lib/python3.6/site-packages/sklearn/svm/base.py:193: FutureWarning: The default value of gamma will change from 'auto' to 'scale' in version 0.22 to account better for unscaled features. Set gamma explicitly to 'auto' or 'scale' to avoid this warning.\n",
      "  \"avoid this warning.\", FutureWarning)\n"
     ]
    }
   ],
   "source": [
    "svm_model.fit(X_train, y_train)\n",
    "svm_preds=svm_model.predict(X_test)\n",
    "# print(confusion_matrix(y_test,pred))"
   ]
  },
  {
   "cell_type": "code",
   "execution_count": 22,
   "metadata": {},
   "outputs": [
    {
     "name": "stdout",
     "output_type": "stream",
     "text": [
      "[[22  1]\n",
      " [ 0 46]]\n"
     ]
    }
   ],
   "source": [
    "# Importing the classification report and confusion matrix\n",
    "print(confusion_matrix(y_test,svm_preds))"
   ]
  },
  {
   "cell_type": "code",
   "execution_count": 23,
   "metadata": {},
   "outputs": [
    {
     "name": "stdout",
     "output_type": "stream",
     "text": [
      "[[183   6]\n",
      " [  1 310]]\n"
     ]
    }
   ],
   "source": [
    "print(confusion_matrix(y_train, svm_model.predict(X_train).round(0)))"
   ]
  },
  {
   "cell_type": "code",
   "execution_count": 24,
   "metadata": {},
   "outputs": [
    {
     "data": {
      "text/plain": [
       "0.9782608695652174"
      ]
     },
     "execution_count": 24,
     "metadata": {},
     "output_type": "execute_result"
    }
   ],
   "source": [
    "roc_auc_score(y_test, svm_preds)"
   ]
  },
  {
   "cell_type": "markdown",
   "metadata": {},
   "source": [
    "# Regression"
   ]
  },
  {
   "cell_type": "code",
   "execution_count": 25,
   "metadata": {},
   "outputs": [],
   "source": [
    "from sklearn.linear_model import LinearRegression\n",
    "regression_model=LinearRegression()"
   ]
  },
  {
   "cell_type": "code",
   "execution_count": 26,
   "metadata": {},
   "outputs": [
    {
     "data": {
      "text/plain": [
       "LinearRegression(copy_X=True, fit_intercept=True, n_jobs=None, normalize=False)"
      ]
     },
     "execution_count": 26,
     "metadata": {},
     "output_type": "execute_result"
    }
   ],
   "source": [
    "regression_model.fit(X_train, y_train)"
   ]
  },
  {
   "cell_type": "code",
   "execution_count": 27,
   "metadata": {},
   "outputs": [],
   "source": [
    "regression_preds=regression_model.predict(X_test)"
   ]
  },
  {
   "cell_type": "code",
   "execution_count": 28,
   "metadata": {},
   "outputs": [
    {
     "name": "stdout",
     "output_type": "stream",
     "text": [
      "[[ 0  0  0]\n",
      " [ 1 20  2]\n",
      " [ 0  1 45]]\n"
     ]
    }
   ],
   "source": [
    "# Importing the classification report and confusion matrix\n",
    "print(confusion_matrix(y_test,regression_preds.round(0)))"
   ]
  },
  {
   "cell_type": "code",
   "execution_count": 29,
   "metadata": {},
   "outputs": [
    {
     "name": "stdout",
     "output_type": "stream",
     "text": [
      "[[  0   0   0]\n",
      " [  1 170  18]\n",
      " [  0   0 311]]\n"
     ]
    }
   ],
   "source": [
    "print(confusion_matrix(y_train, regression_model.predict(X_train).round(0)))"
   ]
  },
  {
   "cell_type": "code",
   "execution_count": 30,
   "metadata": {},
   "outputs": [
    {
     "data": {
      "text/plain": [
       "0.9886578449905481"
      ]
     },
     "execution_count": 30,
     "metadata": {},
     "output_type": "execute_result"
    }
   ],
   "source": [
    "roc_auc_score(y_test, regression_preds)"
   ]
  },
  {
   "cell_type": "markdown",
   "metadata": {},
   "source": [
    "# NNs"
   ]
  },
  {
   "cell_type": "code",
   "execution_count": 44,
   "metadata": {},
   "outputs": [],
   "source": [
    "class NeuralNet(nn.Module):\n",
    "    def __init__(self, input_size, output_size, hidden_width=64):\n",
    "        super(NeuralNet, self).__init__()\n",
    "        self.fc1 = nn.Linear(input_size, hidden_width) \n",
    "        self.fc2 = nn.Linear(hidden_width, hidden_width)\n",
    "        self.fc3 = nn.Linear(hidden_width, hidden_width)\n",
    "        self.fc4 = nn.Linear(hidden_width, hidden_width)\n",
    "        self.fc5 = nn.Linear(hidden_width, output_size)  \n",
    "        \n",
    "        self.relu = nn.ReLU()\n",
    "        self.sigmoid = nn.Sigmoid()\n",
    "    \n",
    "    def forward(self, x):\n",
    "        out = self.fc1(x)\n",
    "        out = self.relu(out)\n",
    "        out = self.fc2(out)\n",
    "        out = self.relu(out)\n",
    "        out = self.fc3(out)\n",
    "        out = self.relu(out)\n",
    "        out = self.fc4(out)\n",
    "        out = self.relu(out)\n",
    "        out = self.fc5(out)\n",
    "        return out\n",
    "class TabularDataset(Dataset):\n",
    "    \"\"\"Face Landmarks dataset.\"\"\"\n",
    "\n",
    "    def __init__(self, xs, ys):\n",
    "        \"\"\"\n",
    "        Args:\n",
    "            csv_file (string): Path to the csv file with annotations.\n",
    "            root_dir (string): Directory with all the images.\n",
    "            transform (callable, optional): Optional transform to be applied\n",
    "                on a sample.\n",
    "        \"\"\"\n",
    "        self.xs = xs\n",
    "        self.ys = ys\n",
    "\n",
    "    def __len__(self):\n",
    "        return len(self.xs)\n",
    "\n",
    "    def __getitem__(self, idx):\n",
    "        x = self.xs[idx]\n",
    "        y = self.ys[idx]\n",
    "        return (x, y)\n",
    "    \n"
   ]
  },
  {
   "cell_type": "code",
   "execution_count": 45,
   "metadata": {},
   "outputs": [],
   "source": [
    "batch_size = 1000\n",
    "learning_rate = 0.0005\n",
    "num_epochs = 200"
   ]
  },
  {
   "cell_type": "code",
   "execution_count": 46,
   "metadata": {},
   "outputs": [
    {
     "data": {
      "text/plain": [
       "(500, 30)"
      ]
     },
     "execution_count": 46,
     "metadata": {},
     "output_type": "execute_result"
    }
   ],
   "source": [
    "X_train.shape"
   ]
  },
  {
   "cell_type": "code",
   "execution_count": 47,
   "metadata": {},
   "outputs": [
    {
     "data": {
      "text/plain": [
       "(500,)"
      ]
     },
     "execution_count": 47,
     "metadata": {},
     "output_type": "execute_result"
    }
   ],
   "source": [
    "y_train.shape"
   ]
  },
  {
   "cell_type": "code",
   "execution_count": 49,
   "metadata": {},
   "outputs": [
    {
     "name": "stdout",
     "output_type": "stream",
     "text": [
      "Epoch [50/200], Step [1/1], Loss: 0.2157\n",
      "Epoch [100/200], Step [1/1], Loss: 0.0379\n",
      "Epoch [150/200], Step [1/1], Loss: 0.0135\n",
      "Epoch [200/200], Step [1/1], Loss: 0.0028\n"
     ]
    }
   ],
   "source": [
    "train_data = TabularDataset(X_train, y_train)\n",
    "train_loader = DataLoader(train_data, \n",
    "                           batch_size=batch_size, \n",
    "                           shuffle=True)\n",
    "\n",
    "validate_data = TabularDataset(X_test, y_test)\n",
    "validate_loader = DataLoader(dataset = validate_data,\n",
    "                             batch_size=batch_size, \n",
    "                             shuffle=False)\n",
    "\n",
    "total_step = len(train_loader)\n",
    "\n",
    "my_random_seed = 42\n",
    "random.seed(my_random_seed)\n",
    "nn_model = NeuralNet(30, 1).to(cuda_device)\n",
    "\n",
    "criterion = nn.BCEWithLogitsLoss().to(cuda_device)\n",
    "optimizer = torch.optim.Adam(nn_model.parameters(), lr=learning_rate)  \n",
    "for epoch in range(num_epochs):\n",
    "    for i, (xsnn, ysnn) in enumerate(train_loader):  \n",
    "        # Move tensors to the configured device\n",
    "        xsnn = xsnn.float().to(cuda_device)\n",
    "        ysnn = ysnn.view(-1, 1).float().to(cuda_device)\n",
    "\n",
    "        # Forward pass\n",
    "        outputs = nn_model(xsnn)\n",
    "        train_loss = criterion(outputs, ysnn)\n",
    "        \n",
    "\n",
    "        # Backward and optimize\n",
    "        optimizer.zero_grad()\n",
    "        train_loss.backward()\n",
    "        optimizer.step()\n",
    "        if (epoch+1) % 50 == 0:\n",
    "            print ('Epoch [{}/{}], Step [{}/{}], Loss: {:.4f}' \n",
    "                   .format(epoch+1, num_epochs, i+1, total_step, train_loss.item()))\n"
   ]
  },
  {
   "cell_type": "code",
   "execution_count": 50,
   "metadata": {},
   "outputs": [
    {
     "data": {
      "text/plain": [
       "0.9896030245746692"
      ]
     },
     "execution_count": 50,
     "metadata": {},
     "output_type": "execute_result"
    }
   ],
   "source": [
    "nn_preds = torch.sigmoid( nn_model.forward(torch.from_numpy(X_test).float().to(cuda_device)).to(device)).detach().numpy()\n",
    "nn_roc_score = roc_auc_score(y_test, nn_preds)\n",
    "nn_roc_score"
   ]
  },
  {
   "cell_type": "markdown",
   "metadata": {},
   "source": [
    "## Explaneat"
   ]
  },
  {
   "cell_type": "code",
   "execution_count": 65,
   "metadata": {},
   "outputs": [],
   "source": [
    "filePath = './../../data/experiments/breast-cancer/experiment-longepochsttsplit-10-1/fullStatus.xplnt'\n",
    "with gzip.open(filePath, 'rb') as f: \n",
    "    data = pickle.load(f)     \n",
    "    \n",
    "p, g, ancestry, ancestors, randomState = data\n",
    "config = p.config\n",
    "bestNet = neat.nn.FeedForwardNetwork.create(g, config)\n",
    "\n",
    "explaneat_preds = [bestNet.activate(x)[0] for x in X_test]"
   ]
  },
  {
   "cell_type": "code",
   "execution_count": 66,
   "metadata": {},
   "outputs": [
    {
     "name": "stdout",
     "output_type": "stream",
     "text": [
      "5 & 32 & 3\n",
      "(6, 32)\n",
      "{0: 4, 243: 3, 302: 2, 652: 2, 1627: 1, 3388: 1}\n"
     ]
    }
   ],
   "source": [
    "def calculate_max_depth(genome):\n",
    "    connections = {}\n",
    "    def my_depth(connections, ix):\n",
    "        if ix < 0:\n",
    "            return 0\n",
    "        depths = []\n",
    "        for c in connections[ix]:\n",
    "            depths.append(my_depth(connections, c))\n",
    "        return max(depths) + 1\n",
    "                \n",
    "    for key, conn in  genome.connections.items():\n",
    "        if not key[1] in connections:\n",
    "            connections[key[1]] = []\n",
    "        connections[key[1]].append(key[0])\n",
    "    all_depths = {}\n",
    "    for c in connections:\n",
    "        all_depths[c] = my_depth(connections, c)\n",
    "    return all_depths\n",
    "print(\"%s & %s & %s\" % (g.size()[0]-1, g.size()[1], calculate_max_depth(g)[0]-1))\n",
    "print(g.size())\n",
    "print(calculate_max_depth(g))"
   ]
  },
  {
   "cell_type": "code",
   "execution_count": 67,
   "metadata": {
    "scrolled": true
   },
   "outputs": [
    {
     "name": "stdout",
     "output_type": "stream",
     "text": [
      "Key: 6998\n",
      "Fitness: 27.788166046142578\n",
      "Nodes:\n",
      "\t0 DefaultNodeGene(key=0, bias=0.6119692325592041, response=1.0, activation=sigmoid, aggregation=sum)\n",
      "\t243 DefaultNodeGene(key=243, bias=-0.12276055663824081, response=1.0, activation=sigmoid, aggregation=sum)\n",
      "\t302 DefaultNodeGene(key=302, bias=-0.41031524538993835, response=1.0, activation=sigmoid, aggregation=sum)\n",
      "\t652 DefaultNodeGene(key=652, bias=0.3694879710674286, response=1.0, activation=sigmoid, aggregation=sum)\n",
      "\t1627 DefaultNodeGene(key=1627, bias=-0.6460066437721252, response=1.0, activation=sigmoid, aggregation=sum)\n",
      "\t3388 DefaultNodeGene(key=3388, bias=0.8245570063591003, response=1.0, activation=sigmoid, aggregation=sum)\n",
      "Connections:\n",
      "\tDefaultConnectionGene(key=(-30, 0), weight=0.7125505805015564, enabled=True)\n",
      "\tDefaultConnectionGene(key=(-29, 0), weight=-0.3674076199531555, enabled=True)\n",
      "\tDefaultConnectionGene(key=(-28, 0), weight=-0.20707406103610992, enabled=True)\n",
      "\tDefaultConnectionGene(key=(-28, 302), weight=1.105614185333252, enabled=True)\n",
      "\tDefaultConnectionGene(key=(-28, 652), weight=-0.43278223276138306, enabled=True)\n",
      "\tDefaultConnectionGene(key=(-28, 3388), weight=1.0, enabled=True)\n",
      "\tDefaultConnectionGene(key=(-27, 0), weight=-0.6874507665634155, enabled=True)\n",
      "\tDefaultConnectionGene(key=(-25, 0), weight=-0.7377550601959229, enabled=True)\n",
      "\tDefaultConnectionGene(key=(-25, 302), weight=-0.8843532204627991, enabled=True)\n",
      "\tDefaultConnectionGene(key=(-22, 243), weight=0.42761123180389404, enabled=True)\n",
      "\tDefaultConnectionGene(key=(-22, 302), weight=1.0, enabled=True)\n",
      "\tDefaultConnectionGene(key=(-21, 0), weight=-1.6076915264129639, enabled=True)\n",
      "\tDefaultConnectionGene(key=(-17, 0), weight=0.9598627090454102, enabled=True)\n",
      "\tDefaultConnectionGene(key=(-14, 0), weight=-1.7926775217056274, enabled=True)\n",
      "\tDefaultConnectionGene(key=(-14, 652), weight=0.6946668028831482, enabled=True)\n",
      "\tDefaultConnectionGene(key=(-13, 1627), weight=0.5726736187934875, enabled=True)\n",
      "\tDefaultConnectionGene(key=(-10, 652), weight=1.8439834117889404, enabled=True)\n",
      "\tDefaultConnectionGene(key=(-9, 0), weight=0.25377583503723145, enabled=True)\n",
      "\tDefaultConnectionGene(key=(-8, 1627), weight=0.0381576232612133, enabled=True)\n",
      "\tDefaultConnectionGene(key=(-7, 0), weight=-0.9598348140716553, enabled=True)\n",
      "\tDefaultConnectionGene(key=(-7, 1627), weight=-1.1780681610107422, enabled=True)\n",
      "\tDefaultConnectionGene(key=(-5, 652), weight=-0.3375284969806671, enabled=True)\n",
      "\tDefaultConnectionGene(key=(-4, 0), weight=-0.7641918063163757, enabled=True)\n",
      "\tDefaultConnectionGene(key=(-3, 243), weight=-0.3147163391113281, enabled=True)\n",
      "\tDefaultConnectionGene(key=(-2, 243), weight=1.0, enabled=True)\n",
      "\tDefaultConnectionGene(key=(-2, 302), weight=2.024811029434204, enabled=False)\n",
      "\tDefaultConnectionGene(key=(-2, 1627), weight=1.0, enabled=True)\n",
      "\tDefaultConnectionGene(key=(-1, 0), weight=1.1289632320404053, enabled=True)\n",
      "\tDefaultConnectionGene(key=(243, 0), weight=-0.9291969537734985, enabled=True)\n",
      "\tDefaultConnectionGene(key=(302, 0), weight=-0.7505320906639099, enabled=True)\n",
      "\tDefaultConnectionGene(key=(652, 243), weight=1.0, enabled=True)\n",
      "\tDefaultConnectionGene(key=(1627, 302), weight=2.024811029434204, enabled=True)\n",
      "\tDefaultConnectionGene(key=(3388, 652), weight=-0.43278223276138306, enabled=True)\n"
     ]
    }
   ],
   "source": [
    "print(g)"
   ]
  },
  {
   "cell_type": "code",
   "execution_count": 64,
   "metadata": {},
   "outputs": [
    {
     "data": {
      "text/plain": [
       "(6, 32)"
      ]
     },
     "execution_count": 64,
     "metadata": {},
     "output_type": "execute_result"
    }
   ],
   "source": [
    "g.size()"
   ]
  },
  {
   "cell_type": "code",
   "execution_count": 73,
   "metadata": {},
   "outputs": [
    {
     "data": {
      "text/plain": [
       "30"
      ]
     },
     "execution_count": 73,
     "metadata": {},
     "output_type": "execute_result"
    }
   ],
   "source": [
    "config.genome_config.num_inputs"
   ]
  },
  {
   "cell_type": "code",
   "execution_count": 76,
   "metadata": {},
   "outputs": [],
   "source": [
    "n_inputs = config.genome_config.num_inputs\n",
    "checks = {-n: False for n in range(1, n_inputs+1)}"
   ]
  },
  {
   "cell_type": "code",
   "execution_count": 77,
   "metadata": {
    "scrolled": true
   },
   "outputs": [
    {
     "data": {
      "text/plain": [
       "{-1: False,\n",
       " -2: False,\n",
       " -3: False,\n",
       " -4: False,\n",
       " -5: False,\n",
       " -6: False,\n",
       " -7: False,\n",
       " -8: False,\n",
       " -9: False,\n",
       " -10: False,\n",
       " -11: False,\n",
       " -12: False,\n",
       " -13: False,\n",
       " -14: False,\n",
       " -15: False,\n",
       " -16: False,\n",
       " -17: False,\n",
       " -18: False,\n",
       " -19: False,\n",
       " -20: False,\n",
       " -21: False,\n",
       " -22: False,\n",
       " -23: False,\n",
       " -24: False,\n",
       " -25: False,\n",
       " -26: False,\n",
       " -27: False,\n",
       " -28: False,\n",
       " -29: False,\n",
       " -30: False}"
      ]
     },
     "execution_count": 77,
     "metadata": {},
     "output_type": "execute_result"
    }
   ],
   "source": [
    "checks"
   ]
  },
  {
   "cell_type": "code",
   "execution_count": 85,
   "metadata": {},
   "outputs": [
    {
     "name": "stdout",
     "output_type": "stream",
     "text": [
      "{-1: True, -2: True, -3: True, -4: True, -5: True, -6: False, -7: True, -8: True, -9: True, -10: True, -11: False, -12: False, -13: True, -14: True, -15: False, -16: False, -17: True, -18: False, -19: False, -20: False, -21: True, -22: True, -23: False, -24: False, -25: True, -26: False, -27: True, -28: True, -29: True, -30: True}\n"
     ]
    },
    {
     "data": {
      "text/plain": [
       "19"
      ]
     },
     "execution_count": 85,
     "metadata": {},
     "output_type": "execute_result"
    }
   ],
   "source": [
    "def check_input_connections(genome, config):\n",
    "    n_inputs = config.genome_config.num_inputs\n",
    "    checks = {-n: False for n in range(1, n_inputs+1)}\n",
    "    for c in genome.connections:\n",
    "        if c[0] < 0:\n",
    "            checks[c[0]] = True\n",
    "    print(checks)\n",
    "    mySum = 0\n",
    "    for k, v in checks.items():\n",
    "        if v: \n",
    "            mySum += 1\n",
    "    return mySum\n",
    "check_input_connections(g, config)\n",
    "\n",
    "        "
   ]
  },
  {
   "cell_type": "code",
   "execution_count": null,
   "metadata": {},
   "outputs": [],
   "source": []
  },
  {
   "cell_type": "code",
   "execution_count": 52,
   "metadata": {},
   "outputs": [
    {
     "data": {
      "text/plain": [
       "0.9924385633270322"
      ]
     },
     "execution_count": 52,
     "metadata": {},
     "output_type": "execute_result"
    }
   ],
   "source": [
    "roc_auc_score(y_test, explaneat_preds)"
   ]
  },
  {
   "cell_type": "code",
   "execution_count": 53,
   "metadata": {},
   "outputs": [
    {
     "data": {
      "image/png": "[encoded data removed]",
      "text/plain": [
       "<Figure size 432x288 with 1 Axes>"
      ]
     },
     "metadata": {
      "needs_background": "light"
     },
     "output_type": "display_data"
    }
   ],
   "source": [
    "train_preds = {\n",
    "    'svm': svm_model.predict(X_train),\n",
    "    'regression': regression_model.predict(X_train),\n",
    "    'rf': rf.predict(X_train),\n",
    "    'ExplaNEAT': [bestNet.activate(x)[0] for x in X_train]\n",
    "}\n",
    "\n",
    "plt.figure()\n",
    "for model, preds in train_preds.items():\n",
    "    fpr, tpr, thresholds = metrics.roc_curve(y_train, preds)\n",
    "    auc = metrics.roc_auc_score(y_train, preds)\n",
    "    plt.plot(fpr, tpr, label='%s ROC (area=%0.3f)' % (model, auc))\n",
    "# Custom settings for the plot \n",
    "plt.plot([0, 1], [0, 1],'r--')\n",
    "plt.xlim([0.0, 1.0])\n",
    "plt.ylim([0.0, 1.05])\n",
    "plt.xlabel('1-Specificity(False Positive Rate)')\n",
    "plt.ylabel('Sensitivity(True Positive Rate)')\n",
    "plt.title('Receiver Operating Characteristic')\n",
    "plt.legend(loc=\"lower right\")\n",
    "plt.show()   # Display"
   ]
  },
  {
   "cell_type": "code",
   "execution_count": 54,
   "metadata": {},
   "outputs": [
    {
     "data": {
      "image/png": "[encoded data removed]",
      "text/plain": [
       "<Figure size 432x288 with 1 Axes>"
      ]
     },
     "metadata": {
      "needs_background": "light"
     },
     "output_type": "display_data"
    }
   ],
   "source": [
    "test_preds = {\n",
    "    'svm': svm_model.predict(X_test),\n",
    "    'regression': regression_model.predict(X_test),\n",
    "    'rf': rf.predict(X_test),\n",
    "    'ExplaNEAT': [bestNet.activate(x)[0] for x in X_test]\n",
    "}\n",
    "\n",
    "plt.figure()\n",
    "for model, preds in test_preds.items():\n",
    "    fpr, tpr, thresholds = metrics.roc_curve(y_test, preds)\n",
    "    auc = metrics.roc_auc_score(y_test, preds)\n",
    "    plt.plot(fpr, tpr, label='%s ROC (area=%0.3f)' % (model, auc))\n",
    "# Custom settings for the plot \n",
    "plt.plot([0, 1], [0, 1],'r--')\n",
    "plt.xlim([0.0, 1.0])\n",
    "plt.ylim([0.0, 1.05])\n",
    "plt.xlabel('1-Specificity(False Positive Rate)')\n",
    "plt.ylabel('Sensitivity(True Positive Rate)')\n",
    "plt.title('Receiver Operating Characteristic')\n",
    "plt.legend(loc=\"lower right\")\n",
    "plt.show()   # Display"
   ]
  },
  {
   "cell_type": "code",
   "execution_count": 57,
   "metadata": {},
   "outputs": [
    {
     "data": {
      "image/png": "[encoded data removed]",
      "text/plain": [
       "<Figure size 432x288 with 1 Axes>"
      ]
     },
     "metadata": {
      "needs_background": "light"
     },
     "output_type": "display_data"
    }
   ],
   "source": [
    "all_preds = {\n",
    "    'svm': svm_preds,\n",
    "    'regression': regression_preds,\n",
    "    'rf': rf_preds,\n",
    "    'ExplaNEAT': explaneat_preds,\n",
    "    'NN': torch.sigmoid( nn_model.forward(torch.from_numpy(X_test).float().to(cuda_device)).to(device)).detach().numpy()\n",
    "}\n",
    "\n",
    "plt.figure()\n",
    "for model, preds in all_preds.items():\n",
    "    fpr, tpr, thresholds = metrics.roc_curve(y_test, preds)\n",
    "    auc = metrics.roc_auc_score(y_test, preds)\n",
    "    plt.plot(fpr, tpr, label='%s ROC (area=%0.3f)' % (model, auc))\n",
    "# Custom settings for the plot \n",
    "plt.plot([0, 1], [0, 1],'r--')\n",
    "plt.xlim([0.0, 1.0])\n",
    "plt.ylim([0.0, 1.05])\n",
    "plt.xlabel('1-Specificity(False Positive Rate)')\n",
    "plt.ylabel('Sensitivity(True Positive Rate)')\n",
    "plt.title('Receiver Operating Characteristic')\n",
    "plt.legend(loc=\"lower right\")\n",
    "plt.show()   # Display"
   ]
  },
  {
   "cell_type": "code",
   "execution_count": 58,
   "metadata": {},
   "outputs": [
    {
     "name": "stdout",
     "output_type": "stream",
     "text": [
      "svm\n",
      "69\n",
      "0.9782608695652174\n",
      "regression\n",
      "69\n",
      "0.9886578449905481\n",
      "rf\n",
      "69\n",
      "0.9971644612476371\n",
      "ExplaNEAT\n",
      "69\n",
      "0.9924385633270322\n",
      "NN\n",
      "69\n",
      "0.9896030245746692\n"
     ]
    }
   ],
   "source": [
    "for model, preds in all_preds.items():\n",
    "    print(model)\n",
    "    print(len(preds))\n",
    "    print(metrics.roc_auc_score(y_test, preds))"
   ]
  },
  {
   "cell_type": "code",
   "execution_count": null,
   "metadata": {},
   "outputs": [],
   "source": []
  },
  {
   "cell_type": "code",
   "execution_count": null,
   "metadata": {},
   "outputs": [],
   "source": []
  }
 ],
 "metadata": {
  "kernelspec": {
   "display_name": "Python 3",
   "language": "python",
   "name": "python3"
  },
  "language_info": {
   "codemirror_mode": {
    "name": "ipython",
    "version": 3
   },
   "file_extension": ".py",
   "mimetype": "text/x-python",
   "name": "python",
   "nbconvert_exporter": "python",
   "pygments_lexer": "ipython3",
   "version": "3.6.8"
  }
 },
 "nbformat": 4,
 "nbformat_minor": 2
}
