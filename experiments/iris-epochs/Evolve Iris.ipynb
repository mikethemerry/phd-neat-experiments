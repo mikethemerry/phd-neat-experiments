{
 "cells": [
  {
   "cell_type": "code",
   "execution_count": 1,
   "metadata": {},
   "outputs": [],
   "source": [
    "from __future__ import print_function\n",
    "import os\n",
    "import neat\n",
    "import json\n",
    "\n",
    "import pandas as pd\n",
    "import numpy as np\n",
    "import random\n",
    "\n",
    "import torch\n",
    "import torch.nn as nn\n",
    "import torch.optim as optim\n",
    "\n",
    "\n",
    "from explaneat.core.backprop import NeatNet\n",
    "from explaneat.core import backprop\n",
    "from explaneat.core.backproppop import BackpropPopulation\n",
    "from explaneat.visualization import visualize\n",
    "from explaneat.core.experiment import ExperimentReporter\n",
    "from explaneat.core.utility import one_hot_encode\n",
    "\n",
    "\n",
    "from sklearn import datasets\n",
    "from sklearn import metrics\n",
    "from sklearn.preprocessing import StandardScaler\n",
    "\n",
    "from copy import deepcopy\n",
    "\n",
    "import time\n",
    "from datetime import datetime\n",
    "\n",
    "\n",
    "import gzip\n",
    "try:\n",
    "    import cPickle as pickle  # pylint: disable=import-error\n",
    "except ImportError:\n",
    "    import pickle  # pylint: disable=import-error"
   ]
  },
  {
   "cell_type": "code",
   "execution_count": 2,
   "metadata": {},
   "outputs": [],
   "source": [
    "\n",
    "USE_CUDA = torch.cuda.is_available()\n",
    "# USE_CUDA = False\n",
    "device = torch.device(\"cuda:1\" if USE_CUDA else \"cpu\")\n"
   ]
  },
  {
   "cell_type": "code",
   "execution_count": 3,
   "metadata": {},
   "outputs": [
    {
     "data": {
      "text/plain": [
       "device(type='cuda', index=1)"
      ]
     },
     "execution_count": 3,
     "metadata": {},
     "output_type": "execute_result"
    }
   ],
   "source": [
    "device"
   ]
  },
  {
   "cell_type": "markdown",
   "metadata": {},
   "source": [
    "# Iris Experiment\n",
    "\n",
    "This experiment (a) test the experimental environment, but is also to evaluate the efficacy of the ExplaNEAT algorithm. Speed is a critical factor, as well as stability of results on population size. Total run time will also be measured"
   ]
  },
  {
   "cell_type": "markdown",
   "metadata": {},
   "source": [
    "First, we need to set a random seed and a total stopping point in the number of generations"
   ]
  },
  {
   "cell_type": "code",
   "execution_count": 4,
   "metadata": {},
   "outputs": [],
   "source": [
    "my_random_seed = 42\n",
    "random.seed(my_random_seed)"
   ]
  },
  {
   "cell_type": "code",
   "execution_count": 5,
   "metadata": {},
   "outputs": [],
   "source": [
    "def one_hot_encode(vals):\n",
    "    width = max(vals)\n",
    "    newVals = []\n",
    "    for val in vals:\n",
    "        blank = [0. for _ in range(width + 1)]\n",
    "        blank[val] = 1.\n",
    "        newVals.append(blank)\n",
    "    return np.asarray(newVals)\n"
   ]
  },
  {
   "cell_type": "markdown",
   "metadata": {},
   "source": [
    "## Dataset\n",
    "\n",
    "We are going to work with the Iris dataset, which will be loaded from `sklearn`. We want to characterise the efficacy of the algorithm with regards to a mostly untransformed dataset, so we will only normalise the features"
   ]
  },
  {
   "cell_type": "code",
   "execution_count": 6,
   "metadata": {},
   "outputs": [],
   "source": [
    "iris = datasets.load_iris()\n",
    "xs_raw = iris.data[:, :]\n",
    "scaler = StandardScaler()\n",
    "scaler.fit(xs_raw)\n",
    "xs = scaler.transform(xs_raw)\n",
    "ys = iris.target\n",
    "ys_onehot = one_hot_encode(ys)"
   ]
  },
  {
   "cell_type": "code",
   "execution_count": 7,
   "metadata": {},
   "outputs": [],
   "source": [
    "xs = torch.from_numpy(xs).to(device)\n",
    "ys = torch.from_numpy(ys).to(device)"
   ]
  },
  {
   "cell_type": "markdown",
   "metadata": {},
   "source": [
    "Let's have a look at the data we are working with"
   ]
  },
  {
   "cell_type": "code",
   "execution_count": 8,
   "metadata": {},
   "outputs": [
    {
     "data": {
      "text/plain": [
       "tensor([[-0.9007,  1.0190, -1.3402, -1.3154],\n",
       "        [-1.1430, -0.1320, -1.3402, -1.3154],\n",
       "        [-1.3854,  0.3284, -1.3971, -1.3154],\n",
       "        [-1.5065,  0.0982, -1.2834, -1.3154],\n",
       "        [-1.0218,  1.2492, -1.3402, -1.3154]], device='cuda:1',\n",
       "       dtype=torch.float64)"
      ]
     },
     "execution_count": 8,
     "metadata": {},
     "output_type": "execute_result"
    }
   ],
   "source": [
    "xs[:5]"
   ]
  },
  {
   "cell_type": "code",
   "execution_count": null,
   "metadata": {},
   "outputs": [
    {
     "data": {
      "text/plain": [
       "tensor([0, 0, 0, 0, 0], device='cuda:1')"
      ]
     },
     "execution_count": 9,
     "metadata": {},
     "output_type": "execute_result"
    }
   ],
   "source": [
    "ys[:5]"
   ]
  },
  {
   "cell_type": "code",
   "execution_count": null,
   "metadata": {},
   "outputs": [
    {
     "data": {
      "text/plain": [
       "array([[1., 0., 0.],\n",
       "       [1., 0., 0.],\n",
       "       [1., 0., 0.],\n",
       "       [1., 0., 0.],\n",
       "       [1., 0., 0.]])"
      ]
     },
     "execution_count": 10,
     "metadata": {},
     "output_type": "execute_result"
    }
   ],
   "source": [
    "ys_onehot[:5]"
   ]
  },
  {
   "cell_type": "markdown",
   "metadata": {},
   "source": [
    "## Performance metric\n",
    "\n",
    "The NEAT implementation on which ExplaNEAT extends uses a single function call for evaluating fitness. Although this might be reworked for ExplaNEAT to be able to get consistency between the genome-evaluation and the backprop loss function, that can be reviewed later.\n",
    "\n",
    "This use `CrossEntropyLoss` from `PyTorch`"
   ]
  },
  {
   "cell_type": "code",
   "execution_count": null,
   "metadata": {},
   "outputs": [],
   "source": [
    "def eval_genomes(genomes, config):\n",
    "    loss = nn.CrossEntropyLoss()\n",
    "    loss = loss.to(device)\n",
    "\n",
    "    for genome_id, genome in genomes:\n",
    "        net = neat.nn.FeedForwardNetwork.create(genome, config)\n",
    "        preds = []\n",
    "        for xi in xs:\n",
    "            preds.append(net.activate(xi))\n",
    "        genome.fitness = float(1./loss(torch.tensor(preds).to(device), torch.tensor(ys)))"
   ]
  },
  {
   "cell_type": "markdown",
   "metadata": {},
   "source": [
    "## Base configuration\n",
    "\n",
    "We are going to create the base configuration according to an external configuration file. Per experiment, we will adjust this, later, but this defines the defaults across all runs."
   ]
  },
  {
   "cell_type": "code",
   "execution_count": null,
   "metadata": {},
   "outputs": [],
   "source": [
    "config_path = \"./config-iris\"\n",
    "base_config = neat.Config(neat.DefaultGenome, neat.DefaultReproduction,\n",
    "                     neat.DefaultSpeciesSet, neat.DefaultStagnation,\n",
    "                     config_path)\n"
   ]
  },
  {
   "cell_type": "markdown",
   "metadata": {},
   "source": [
    "We also want to put a hard limit on how long this can go on for."
   ]
  },
  {
   "cell_type": "code",
   "execution_count": null,
   "metadata": {},
   "outputs": [],
   "source": [
    "maxNGenerations = 50"
   ]
  },
  {
   "cell_type": "markdown",
   "metadata": {},
   "source": [
    "We will create a method to manage the instantiation of a population on the basis of a specific config."
   ]
  },
  {
   "cell_type": "code",
   "execution_count": null,
   "metadata": {},
   "outputs": [],
   "source": [
    "def instantiate_population(config, xs, ys, saveLocation):\n",
    "\n",
    "    if not os.path.exists(saveLocation):\n",
    "        os.makedirs(saveLocation)\n",
    "        \n",
    "    config.save(os.path.join(saveLocation, 'config.conf'))\n",
    "\n",
    "    # Create the population, which is the top-level object for a NEAT run.\n",
    "    p = BackpropPopulation(config, \n",
    "                            xs, \n",
    "                            ys, \n",
    "                            criterion=nn.CrossEntropyLoss())\n",
    "\n",
    "    # Add a stdout reporter to show progress in the terminal.\n",
    "    p.add_reporter(neat.StdOutReporter(True))\n",
    "    stats = neat.StatisticsReporter()\n",
    "    p.add_reporter(stats)\n",
    "    p.add_reporter(neat.Checkpointer(5, filename_prefix=str(saveLocation) + \"checkpoint-\" ))\n",
    "    bpReporter = backprop.BackpropReporter(True)\n",
    "    p.add_reporter(bpReporter)\n",
    "    p.add_reporter(ExperimentReporter(saveLocation))\n",
    "    \n",
    "    return p"
   ]
  },
  {
   "cell_type": "markdown",
   "metadata": {},
   "source": [
    "# Experiment 1: Vary population size\n",
    "\n",
    "The first experiment is going to examine the difference in run time different population sizes. "
   ]
  },
  {
   "cell_type": "code",
   "execution_count": null,
   "metadata": {},
   "outputs": [],
   "source": [
    "epoch_points = [10, 25, 50, 100, 150]"
   ]
  },
  {
   "cell_type": "code",
   "execution_count": null,
   "metadata": {},
   "outputs": [
    {
     "data": {
      "text/plain": [
       "50"
      ]
     },
     "execution_count": 16,
     "metadata": {},
     "output_type": "execute_result"
    }
   ],
   "source": [
    "base_config.pop_size"
   ]
  },
  {
   "cell_type": "code",
   "execution_count": null,
   "metadata": {},
   "outputs": [],
   "source": [
    "saveLocationTemplate = './../../data/experiments/iris/experiment-epochs-{}-{}/'"
   ]
  },
  {
   "cell_type": "markdown",
   "metadata": {},
   "source": [
    "## Start the experiment"
   ]
  },
  {
   "cell_type": "code",
   "execution_count": null,
   "metadata": {
    "scrolled": true
   },
   "outputs": [
    {
     "name": "stdout",
     "output_type": "stream",
     "text": [
      "################################################\n",
      "################################################\n",
      "Starting epochs 10 iteration 0\n",
      "Started at 07/11/2019, 05:47:02\n",
      "################################################\n",
      "################################################\n",
      "\n",
      " ****** Running generation 0 ****** \n",
      "\n",
      "mean improvement: 0.0\n",
      "best improvement: tensor(0., grad_fn=<SubBackward0>)\n",
      "best loss: tensor(0.7646, grad_fn=<DivBackward0>)\n"
     ]
    },
    {
     "name": "stderr",
     "output_type": "stream",
     "text": [
      "/opt/conda/lib/python3.6/site-packages/ipykernel_launcher.py:10: UserWarning: To copy construct from a tensor, it is recommended to use sourceTensor.clone().detach() or sourceTensor.clone().detach().requires_grad_(True), rather than torch.tensor(sourceTensor).\n",
      "  # Remove the CWD from sys.path while we load stuff.\n"
     ]
    },
    {
     "name": "stdout",
     "output_type": "stream",
     "text": [
      "Population's average fitness: 0.84873 stdev: 0.13794\n",
      "Best fitness: 1.30786 - size: (3, 12) - species 5 - id 30\n",
      "ending generation %s\n",
      "Average adjusted fitness: 0.223\n",
      "Mean genetic distance 3.551, standard deviation 1.081\n",
      "Population of 51 members in 10 species:\n",
      "   ID   age  size  fitness  adj fit  stag\n",
      "  ====  ===  ====  =======  =======  ====\n",
      "     1    0     8      1.1    0.291     0\n",
      "     2    0     6      1.1    0.240     0\n",
      "     3    0     3      0.9    0.170     0\n",
      "     4    0     1      1.0    0.240     0\n",
      "     5    0    11      1.3    0.248     0\n",
      "     6    0     2      0.7    0.128     0\n",
      "     7    0     4      0.9    0.284     0\n",
      "     8    0    10      1.0    0.287     0\n",
      "     9    0     3      0.8    0.139     0\n",
      "    10    0     3      0.8    0.209     0\n",
      "Total extinctions: 0\n",
      "Generation time: 161.500 sec\n",
      "\n",
      " ****** Running generation 1 ****** \n",
      "\n",
      "mean improvement: 0.0\n",
      "best improvement: tensor(0., grad_fn=<SubBackward0>)\n",
      "best loss: tensor(0.7646, grad_fn=<DivBackward0>)\n",
      "Population's average fitness: 0.93848 stdev: 0.14194\n",
      "Best fitness: 1.30786 - size: (3, 12) - species 8 - id 30\n",
      "ending generation %s\n",
      "Average adjusted fitness: 0.238\n",
      "Mean genetic distance 3.344, standard deviation 1.084\n",
      "Population of 50 members in 10 species:\n",
      "   ID   age  size  fitness  adj fit  stag\n",
      "  ====  ===  ====  =======  =======  ====\n",
      "     1    1     6      1.1    0.345     1\n",
      "     2    1     6      1.2    0.319     0\n",
      "     3    1     4      0.9    0.195     0\n",
      "     4    1     4      1.0    0.352     1\n",
      "     5    1     5      1.2    0.313     1\n",
      "     6    1     2      0.7    0.059     1\n",
      "     7    1     5      0.9    0.220     0\n",
      "     8    1     7      1.3    0.261     0\n",
      "     9    1     7      0.9    0.166     0\n",
      "    10    1     4      0.8    0.151     0\n",
      "Total extinctions: 0\n",
      "Generation time: 168.475 sec (164.988 average)\n",
      "Saving checkpoint to ./../../data/experiments/iris/experiment-epochs-10-0/checkpoint-1\n",
      "\n",
      " ****** Running generation 2 ****** \n",
      "\n",
      "mean improvement: 0.0\n",
      "best improvement: tensor(0., grad_fn=<SubBackward0>)\n",
      "best loss: tensor(0.7623, grad_fn=<DivBackward0>)\n",
      "Population's average fitness: 1.02824 stdev: 0.16492\n",
      "Best fitness: 1.31183 - size: (4, 13) - species 8 - id 113\n",
      "\n",
      "\n",
      " SPECIES TOPOLOGY IMPROVEMENT\n",
      "\n",
      "\n",
      "{'genome': <neat.genome.DefaultGenome object at 0x7f4e46d7dc50>, 'fitness': 1.311832308769226, 'firstDerivatives': [0.0, 0.0, 0.003974318504333496], 'secondDerivatives': [0.0, 0.0, 0.003974318504333496]}\n",
      "Key: 113\n",
      "Fitness: 1.311832308769226\n",
      "Nodes:\n",
      "\t0 DefaultNodeGene(key=0, bias=-0.14485633373260498, response=1.0, activation=sigmoid, aggregation=sum)\n",
      "\t1 DefaultNodeGene(key=1, bias=0.7926075458526611, response=1.0, activation=sigmoid, aggregation=sum)\n",
      "\t2 DefaultNodeGene(key=2, bias=-0.007446212228387594, response=1.0, activation=sigmoid, aggregation=sum)\n",
      "\t35 DefaultNodeGene(key=35, bias=-1.5181986093521118, response=1.0, activation=sigmoid, aggregation=sum)\n",
      "Connections:\n",
      "\tDefaultConnectionGene(key=(-4, 0), weight=-1.8414500951766968, enabled=True)\n",
      "\tDefaultConnectionGene(key=(-4, 1), weight=-1.7817381620407104, enabled=True)\n",
      "\tDefaultConnectionGene(key=(-4, 2), weight=1.07948637008667, enabled=True)\n",
      "\tDefaultConnectionGene(key=(-3, 0), weight=-0.4788450300693512, enabled=True)\n",
      "\tDefaultConnectionGene(key=(-3, 1), weight=-0.14309225976467133, enabled=True)\n",
      "\tDefaultConnectionGene(key=(-3, 2), weight=0.46131205558776855, enabled=False)\n",
      "\tDefaultConnectionGene(key=(-3, 35), weight=1.0, enabled=True)\n",
      "\tDefaultConnectionGene(key=(-2, 0), weight=0.7863797545433044, enabled=True)\n",
      "\tDefaultConnectionGene(key=(-2, 1), weight=-0.6179190874099731, enabled=True)\n",
      "\tDefaultConnectionGene(key=(-2, 2), weight=0.08177024871110916, enabled=True)\n",
      "\tDefaultConnectionGene(key=(-1, 0), weight=0.009734380058944225, enabled=True)\n",
      "\tDefaultConnectionGene(key=(-1, 1), weight=0.18297556042671204, enabled=True)\n",
      "\tDefaultConnectionGene(key=(-1, 2), weight=-0.40857425332069397, enabled=True)\n",
      "\tDefaultConnectionGene(key=(35, 2), weight=0.46131205558776855, enabled=True)\n",
      "Nodes\n",
      "0    DefaultNodeGene(key=0, bias=-0.14485633373260498, response=1.0, activation=sigmoid, aggregation=sum)\n",
      "1    DefaultNodeGene(key=1, bias=0.7926075458526611, response=1.0, activation=sigmoid, aggregation=sum)\n",
      "2    DefaultNodeGene(key=2, bias=-0.007446212228387594, response=1.0, activation=sigmoid, aggregation=sum)\n",
      "35    DefaultNodeGene(key=35, bias=-1.5181986093521118, response=1.0, activation=sigmoid, aggregation=sum)\n",
      "Connections\n",
      "(-1, 0)    DefaultConnectionGene(key=(-1, 0), weight=0.009734380058944225, enabled=True)\n",
      "(-1, 1)    DefaultConnectionGene(key=(-1, 1), weight=0.18297556042671204, enabled=True)\n",
      "(-1, 2)    DefaultConnectionGene(key=(-1, 2), weight=-0.40857425332069397, enabled=True)\n",
      "(-2, 0)    DefaultConnectionGene(key=(-2, 0), weight=0.7863797545433044, enabled=True)\n",
      "(-2, 1)    DefaultConnectionGene(key=(-2, 1), weight=-0.6179190874099731, enabled=True)\n",
      "(-2, 2)    DefaultConnectionGene(key=(-2, 2), weight=0.08177024871110916, enabled=True)\n",
      "(-3, 0)    DefaultConnectionGene(key=(-3, 0), weight=-0.4788450300693512, enabled=True)\n",
      "(-3, 1)    DefaultConnectionGene(key=(-3, 1), weight=-0.14309225976467133, enabled=True)\n",
      "(-3, 2)    DefaultConnectionGene(key=(-3, 2), weight=0.46131205558776855, enabled=False)\n",
      "(-4, 0)    DefaultConnectionGene(key=(-4, 0), weight=-1.8414500951766968, enabled=True)\n",
      "(-4, 1)    DefaultConnectionGene(key=(-4, 1), weight=-1.7817381620407104, enabled=True)\n",
      "(-4, 2)    DefaultConnectionGene(key=(-4, 2), weight=1.07948637008667, enabled=True)\n",
      "(-3, 35)    DefaultConnectionGene(key=(-3, 35), weight=1.0, enabled=True)\n",
      "(35, 2)    DefaultConnectionGene(key=(35, 2), weight=0.46131205558776855, enabled=True)\n",
      "ending generation %s\n",
      "Average adjusted fitness: 0.269\n",
      "Mean genetic distance 3.156, standard deviation 1.158\n",
      "Population of 51 members in 10 species:\n",
      "   ID   age  size  fitness  adj fit  stag\n",
      "  ====  ===  ====  =======  =======  ====\n",
      "     1    2     6      1.1    0.369     2\n",
      "     2    2     6      1.2    0.414     0\n",
      "     3    2     5      1.1    0.244     0\n",
      "     4    2     5      1.0    0.294     0\n",
      "     5    2     6      1.2    0.356     2\n",
      "     6    2     2      0.7    0.005     2\n",
      "     7    2     4      0.9    0.167     1\n",
      "     8    2     8      1.3    0.548     0\n",
      "     9    2     6      1.1    0.216     0\n",
      "    10    2     3      0.8    0.079     1\n",
      "Total extinctions: 0\n",
      "Generation time: 177.343 sec (169.106 average)\n",
      "\n",
      " ****** Running generation 3 ****** \n",
      "\n",
      "mean improvement: 0.0\n",
      "best improvement: tensor(0., grad_fn=<SubBackward0>)\n",
      "best loss: tensor(0.7623, grad_fn=<DivBackward0>)\n",
      "Population's average fitness: 1.09068 stdev: 0.14947\n",
      "Best fitness: 1.31190 - size: (3, 10) - species 8 - id 145\n",
      "ending generation %s\n",
      "Average adjusted fitness: 0.314\n",
      "Mean genetic distance 2.919, standard deviation 1.140\n",
      "Population of 52 members in 10 species:\n",
      "   ID   age  size  fitness  adj fit  stag\n",
      "  ====  ===  ====  =======  =======  ====\n",
      "     1    3     7      1.2    0.403     0\n",
      "     2    3     7      1.2    0.467     0\n",
      "     3    3     6      1.1    0.314     0\n",
      "     4    3     4      1.1    0.311     0\n",
      "     5    3     7      1.3    0.461     3\n",
      "     6    3     2      0.7    0.005     3\n",
      "     7    3     3      0.9    0.175     2\n",
      "     8    3     9      1.3    0.564     0\n",
      "     9    3     5      1.1    0.328     0\n",
      "    10    3     2      0.8    0.113     0\n",
      "Total extinctions: 0\n",
      "Generation time: 178.498 sec (171.454 average)\n",
      "Saving checkpoint to ./../../data/experiments/iris/experiment-epochs-10-0/checkpoint-3\n",
      "\n",
      " ****** Running generation 4 ****** \n",
      "\n",
      "mean improvement: 0.0\n",
      "best improvement: tensor(0., grad_fn=<SubBackward0>)\n",
      "best loss: tensor(0.7482, grad_fn=<DivBackward0>)\n"
     ]
    }
   ],
   "source": [
    "for epochs in epoch_points:\n",
    "    for iteration_no in range(5):\n",
    "        my_random_seed += 1\n",
    "        random.seed(my_random_seed)\n",
    "        start_time = datetime.now()\n",
    "        \n",
    "        print(\"################################################\")\n",
    "        print(\"################################################\")\n",
    "        print(\"Starting epochs {} iteration {}\".format(epochs, iteration_no))\n",
    "        print(\"Started at {}\".format(start_time.strftime(\"%m/%d/%Y, %H:%M:%S\")))\n",
    "        print(\"################################################\")\n",
    "        print(\"################################################\")\n",
    "        \n",
    "        \n",
    "        config = deepcopy(base_config)\n",
    "#         config.pop_size = pop_size\n",
    "        \n",
    "        saveLocation = saveLocationTemplate.format(epochs, iteration_no)\n",
    "        \n",
    "        p = instantiate_population(config, xs, ys, saveLocation)\n",
    "        # Run for up to nGenerations generations.\n",
    "        winner = p.run(eval_genomes, maxNGenerations, nEpochs = epochs)\n",
    "        \n",
    "        g = p.best_genome\n",
    "\n",
    "        \n",
    "        end_time = datetime.now()\n",
    "        \n",
    "        p.reporters.reporters[2].save_checkpoint(p.config, p.population, p.species, str(p.generation) + \"-final\")  \n",
    "        \n",
    "        winner_net = neat.nn.FeedForwardNetwork.create(winner, config)\n",
    "\n",
    "        results = []\n",
    "        for xi, xo in zip(xs, ys):\n",
    "            output = winner_net.activate(xi)\n",
    "            results.append([xi, xo, output])\n",
    "\n",
    "        df = pd.DataFrame(results)\n",
    "        df.to_csv(os.path.join(saveLocation, 'results.csv'))\n",
    "        \n",
    "        ancestry = p.reporters.reporters[3].trace_ancestry_of_species(g.key, p.reproduction.ancestors) \n",
    "\n",
    "        ancestors = {\n",
    "            k: v['genome'] for k, v in p.reporters.reporters[3].ancestry.items()\n",
    "        }\n",
    "        \n",
    "    \n",
    "        \n",
    "        ## Save all of these to disc\n",
    "        filename = 'fullStatus.xplnt'\n",
    "        print(\"Saving checkpoint to {0}\".format(filename))\n",
    "\n",
    "        with gzip.open(os.path.join(saveLocation, filename), 'w', compresslevel=5) as f:\n",
    "            data = (p, g, ancestry, ancestors, random.getstate())\n",
    "            pickle.dump(data, f, protocol=pickle.HIGHEST_PROTOCOL)\n",
    "#         visualize.create_ancestry_video(p.config, \n",
    "#                                         g, \n",
    "#                                         ancestry, \n",
    "#                                         ancestors, \n",
    "#                                         p.reporters.reporters[1], \n",
    "#                                         pathname=saveLocation)\n",
    "        print(\"################################################\")\n",
    "        print(\"################################################\")\n",
    "        print(\"Have finished epochs {} iteration {}\".format(epochs, iteration_no))\n",
    "        print(\"Started at {}\".format(start_time.strftime(\"%m/%d/%Y, %H:%M:%S\")))\n",
    "        print(\"The time is {}\".format(end_time.strftime(\"%m/%d/%Y, %H:%M:%S\")))\n",
    "        print(\"################################################\")\n",
    "        print(\"################################################\")\n",
    "    "
   ]
  },
  {
   "cell_type": "code",
   "execution_count": null,
   "metadata": {},
   "outputs": [],
   "source": []
  }
 ],
 "metadata": {
  "kernelspec": {
   "display_name": "Python 3",
   "language": "python",
   "name": "python3"
  },
  "language_info": {
   "codemirror_mode": {
    "name": "ipython",
    "version": 3
   },
   "file_extension": ".py",
   "mimetype": "text/x-python",
   "name": "python",
   "nbconvert_exporter": "python",
   "pygments_lexer": "ipython3",
   "version": "3.6.8"
  }
 },
 "nbformat": 4,
 "nbformat_minor": 2
}
