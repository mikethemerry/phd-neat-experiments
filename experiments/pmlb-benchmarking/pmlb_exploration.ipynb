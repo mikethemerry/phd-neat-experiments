{
 "cells": [
  {
   "cell_type": "code",
   "execution_count": 3,
   "metadata": {},
   "outputs": [],
   "source": [
    "from pmlb import fetch_data, dataset_names, regression_dataset_names, classification_dataset_names"
   ]
  },
  {
   "cell_type": "code",
   "execution_count": 2,
   "metadata": {},
   "outputs": [],
   "source": [
    "adult_data_x, adult_data_y = fetch_data('adult', return_X_y=True, local_cache_dir=\"./../../data/raw/\")"
   ]
  },
  {
   "cell_type": "code",
   "execution_count": 4,
   "metadata": {},
   "outputs": [],
   "source": [
    "adult = fetch_data('adult')"
   ]
  },
  {
   "cell_type": "code",
   "execution_count": 5,
   "metadata": {},
   "outputs": [
    {
     "data": {
      "text/html": "<div>\n<style scoped>\n    .dataframe tbody tr th:only-of-type {\n        vertical-align: middle;\n    }\n\n    .dataframe tbody tr th {\n        vertical-align: top;\n    }\n\n    .dataframe thead th {\n        text-align: right;\n    }\n</style>\n<table border=\"1\" class=\"dataframe\">\n  <thead>\n    <tr style=\"text-align: right;\">\n      <th></th>\n      <th>age</th>\n      <th>workclass</th>\n      <th>fnlwgt</th>\n      <th>education</th>\n      <th>education-num</th>\n      <th>marital-status</th>\n      <th>occupation</th>\n      <th>relationship</th>\n      <th>race</th>\n      <th>sex</th>\n      <th>capital-gain</th>\n      <th>capital-loss</th>\n      <th>hours-per-week</th>\n      <th>native-country</th>\n      <th>target</th>\n    </tr>\n  </thead>\n  <tbody>\n    <tr>\n      <th>0</th>\n      <td>39.0</td>\n      <td>7</td>\n      <td>77516.0</td>\n      <td>9</td>\n      <td>13.0</td>\n      <td>4</td>\n      <td>1</td>\n      <td>1</td>\n      <td>4</td>\n      <td>1</td>\n      <td>2174.0</td>\n      <td>0.0</td>\n      <td>40.0</td>\n      <td>39</td>\n      <td>1</td>\n    </tr>\n    <tr>\n      <th>1</th>\n      <td>50.0</td>\n      <td>6</td>\n      <td>83311.0</td>\n      <td>9</td>\n      <td>13.0</td>\n      <td>2</td>\n      <td>4</td>\n      <td>0</td>\n      <td>4</td>\n      <td>1</td>\n      <td>0.0</td>\n      <td>0.0</td>\n      <td>13.0</td>\n      <td>39</td>\n      <td>1</td>\n    </tr>\n    <tr>\n      <th>2</th>\n      <td>38.0</td>\n      <td>4</td>\n      <td>215646.0</td>\n      <td>11</td>\n      <td>9.0</td>\n      <td>0</td>\n      <td>6</td>\n      <td>1</td>\n      <td>4</td>\n      <td>1</td>\n      <td>0.0</td>\n      <td>0.0</td>\n      <td>40.0</td>\n      <td>39</td>\n      <td>1</td>\n    </tr>\n    <tr>\n      <th>3</th>\n      <td>53.0</td>\n      <td>4</td>\n      <td>234721.0</td>\n      <td>1</td>\n      <td>7.0</td>\n      <td>2</td>\n      <td>6</td>\n      <td>0</td>\n      <td>2</td>\n      <td>1</td>\n      <td>0.0</td>\n      <td>0.0</td>\n      <td>40.0</td>\n      <td>39</td>\n      <td>1</td>\n    </tr>\n    <tr>\n      <th>4</th>\n      <td>28.0</td>\n      <td>4</td>\n      <td>338409.0</td>\n      <td>9</td>\n      <td>13.0</td>\n      <td>2</td>\n      <td>10</td>\n      <td>5</td>\n      <td>2</td>\n      <td>0</td>\n      <td>0.0</td>\n      <td>0.0</td>\n      <td>40.0</td>\n      <td>5</td>\n      <td>1</td>\n    </tr>\n    <tr>\n      <th>...</th>\n      <td>...</td>\n      <td>...</td>\n      <td>...</td>\n      <td>...</td>\n      <td>...</td>\n      <td>...</td>\n      <td>...</td>\n      <td>...</td>\n      <td>...</td>\n      <td>...</td>\n      <td>...</td>\n      <td>...</td>\n      <td>...</td>\n      <td>...</td>\n      <td>...</td>\n    </tr>\n    <tr>\n      <th>48837</th>\n      <td>39.0</td>\n      <td>4</td>\n      <td>215419.0</td>\n      <td>9</td>\n      <td>13.0</td>\n      <td>0</td>\n      <td>10</td>\n      <td>1</td>\n      <td>4</td>\n      <td>0</td>\n      <td>0.0</td>\n      <td>0.0</td>\n      <td>36.0</td>\n      <td>39</td>\n      <td>1</td>\n    </tr>\n    <tr>\n      <th>48838</th>\n      <td>64.0</td>\n      <td>0</td>\n      <td>321403.0</td>\n      <td>11</td>\n      <td>9.0</td>\n      <td>6</td>\n      <td>0</td>\n      <td>2</td>\n      <td>2</td>\n      <td>1</td>\n      <td>0.0</td>\n      <td>0.0</td>\n      <td>40.0</td>\n      <td>39</td>\n      <td>1</td>\n    </tr>\n    <tr>\n      <th>48839</th>\n      <td>38.0</td>\n      <td>4</td>\n      <td>374983.0</td>\n      <td>9</td>\n      <td>13.0</td>\n      <td>2</td>\n      <td>10</td>\n      <td>0</td>\n      <td>4</td>\n      <td>1</td>\n      <td>0.0</td>\n      <td>0.0</td>\n      <td>50.0</td>\n      <td>39</td>\n      <td>1</td>\n    </tr>\n    <tr>\n      <th>48840</th>\n      <td>44.0</td>\n      <td>4</td>\n      <td>83891.0</td>\n      <td>9</td>\n      <td>13.0</td>\n      <td>0</td>\n      <td>1</td>\n      <td>3</td>\n      <td>1</td>\n      <td>1</td>\n      <td>5455.0</td>\n      <td>0.0</td>\n      <td>40.0</td>\n      <td>39</td>\n      <td>1</td>\n    </tr>\n    <tr>\n      <th>48841</th>\n      <td>35.0</td>\n      <td>5</td>\n      <td>182148.0</td>\n      <td>9</td>\n      <td>13.0</td>\n      <td>2</td>\n      <td>4</td>\n      <td>0</td>\n      <td>4</td>\n      <td>1</td>\n      <td>0.0</td>\n      <td>0.0</td>\n      <td>60.0</td>\n      <td>39</td>\n      <td>0</td>\n    </tr>\n  </tbody>\n</table>\n<p>48842 rows × 15 columns</p>\n</div>",
      "text/plain": "        age  workclass    fnlwgt  education  education-num  marital-status  \\\n0      39.0          7   77516.0          9           13.0               4   \n1      50.0          6   83311.0          9           13.0               2   \n2      38.0          4  215646.0         11            9.0               0   \n3      53.0          4  234721.0          1            7.0               2   \n4      28.0          4  338409.0          9           13.0               2   \n...     ...        ...       ...        ...            ...             ...   \n48837  39.0          4  215419.0          9           13.0               0   \n48838  64.0          0  321403.0         11            9.0               6   \n48839  38.0          4  374983.0          9           13.0               2   \n48840  44.0          4   83891.0          9           13.0               0   \n48841  35.0          5  182148.0          9           13.0               2   \n\n       occupation  relationship  race  sex  capital-gain  capital-loss  \\\n0               1             1     4    1        2174.0           0.0   \n1               4             0     4    1           0.0           0.0   \n2               6             1     4    1           0.0           0.0   \n3               6             0     2    1           0.0           0.0   \n4              10             5     2    0           0.0           0.0   \n...           ...           ...   ...  ...           ...           ...   \n48837          10             1     4    0           0.0           0.0   \n48838           0             2     2    1           0.0           0.0   \n48839          10             0     4    1           0.0           0.0   \n48840           1             3     1    1        5455.0           0.0   \n48841           4             0     4    1           0.0           0.0   \n\n       hours-per-week  native-country  target  \n0                40.0              39       1  \n1                13.0              39       1  \n2                40.0              39       1  \n3                40.0              39       1  \n4                40.0               5       1  \n...               ...             ...     ...  \n48837            36.0              39       1  \n48838            40.0              39       1  \n48839            50.0              39       1  \n48840            40.0              39       1  \n48841            60.0              39       0  \n\n[48842 rows x 15 columns]"
     },
     "execution_count": 5,
     "metadata": {},
     "output_type": "execute_result"
    }
   ],
   "source": [
    "adult"
   ]
  },
  {
   "cell_type": "code",
   "execution_count": 3,
   "metadata": {},
   "outputs": [
    {
     "data": {
      "text/plain": "array([[3.90000e+01, 7.00000e+00, 7.75160e+04, ..., 0.00000e+00,\n        4.00000e+01, 3.90000e+01],\n       [5.00000e+01, 6.00000e+00, 8.33110e+04, ..., 0.00000e+00,\n        1.30000e+01, 3.90000e+01],\n       [3.80000e+01, 4.00000e+00, 2.15646e+05, ..., 0.00000e+00,\n        4.00000e+01, 3.90000e+01],\n       ...,\n       [3.80000e+01, 4.00000e+00, 3.74983e+05, ..., 0.00000e+00,\n        5.00000e+01, 3.90000e+01],\n       [4.40000e+01, 4.00000e+00, 8.38910e+04, ..., 0.00000e+00,\n        4.00000e+01, 3.90000e+01],\n       [3.50000e+01, 5.00000e+00, 1.82148e+05, ..., 0.00000e+00,\n        6.00000e+01, 3.90000e+01]])"
     },
     "execution_count": 3,
     "metadata": {},
     "output_type": "execute_result"
    }
   ],
   "source": [
    "adult_data_x"
   ]
  },
  {
   "cell_type": "code",
   "execution_count": 4,
   "metadata": {},
   "outputs": [
    {
     "name": "stdout",
     "output_type": "stream",
     "text": [
      "['1027_ESL', '1028_SWD', '1029_LEV', '1030_ERA', '1089_USCrime', '1096_FacultySalaries', '1191_BNG_pbc', '1193_BNG_lowbwt', '1196_BNG_pharynx', '1199_BNG_echoMonths', '1201_BNG_breastTumor', '1203_BNG_pwLinear', '1595_poker', '192_vineyard', '195_auto_price', '197_cpu_act', '201_pol', '207_autoPrice', '210_cloud', '215_2dplanes', '218_house_8L', '225_puma8NH', '227_cpu_small', '228_elusage', '229_pwLinear', '230_machine_cpu', '294_satellite_image', '344_mv', '4544_GeographicalOriginalofMusic', '485_analcatdata_vehicle', '503_wind', '505_tecator', '519_vinnie', '522_pm10', '523_analcatdata_neavote', '527_analcatdata_election2000', '529_pollen', '537_houses', '542_pollution', '547_no2', '556_analcatdata_apnea2', '557_analcatdata_apnea1', '560_bodyfat', '561_cpu', '562_cpu_small', '564_fried', '573_cpu_act', '574_house_16H', '579_fri_c0_250_5', '581_fri_c3_500_25', '582_fri_c1_500_25', '583_fri_c1_1000_50', '584_fri_c4_500_25', '586_fri_c3_1000_25', '588_fri_c4_1000_100', '589_fri_c2_1000_25', '590_fri_c0_1000_50', '591_fri_c1_100_10', '592_fri_c4_1000_25', '593_fri_c1_1000_10', '594_fri_c2_100_5', '595_fri_c0_1000_10', '596_fri_c2_250_5', '597_fri_c2_500_5', '598_fri_c0_1000_25', '599_fri_c2_1000_5', '601_fri_c1_250_5', '602_fri_c3_250_10', '603_fri_c0_250_50', '604_fri_c4_500_10', '605_fri_c2_250_25', '606_fri_c2_1000_10', '607_fri_c4_1000_50', '608_fri_c3_1000_10', '609_fri_c0_1000_5', '611_fri_c3_100_5', '612_fri_c1_1000_5', '613_fri_c3_250_5', '615_fri_c4_250_10', '616_fri_c4_500_50', '617_fri_c3_500_5', '618_fri_c3_1000_50', '620_fri_c1_1000_25', '621_fri_c0_100_10', '622_fri_c2_1000_50', '623_fri_c4_1000_10', '624_fri_c0_100_5', '626_fri_c2_500_50', '627_fri_c2_500_10', '628_fri_c3_1000_5', '631_fri_c1_500_5', '633_fri_c0_500_25', '634_fri_c2_100_10', '635_fri_c0_250_10', '637_fri_c1_500_50', '641_fri_c1_500_10', '643_fri_c2_500_25', '644_fri_c4_250_25', '645_fri_c3_500_50', '646_fri_c3_500_10', '647_fri_c1_250_10', '648_fri_c1_250_50', '649_fri_c0_500_5', '650_fri_c0_500_50', '651_fri_c0_100_25', '653_fri_c0_250_25', '654_fri_c0_500_10', '656_fri_c1_100_5', '657_fri_c2_250_10', '658_fri_c3_250_25', '659_sleuth_ex1714', '663_rabe_266', '665_sleuth_case2002', '666_rmftsa_ladata', '678_visualizing_environmental', '687_sleuth_ex1605', '690_visualizing_galaxy', '695_chatfield_4', '706_sleuth_case1202', '712_chscase_geyser1', 'banana', 'titanic']\n"
     ]
    }
   ],
   "source": [
    "print(regression_dataset_names)"
   ]
  },
  {
   "cell_type": "code",
   "execution_count": 5,
   "metadata": {},
   "outputs": [],
   "source": [
    "xs, ys = fetch_data(classification_dataset_names[2], return_X_y=True, local_cache_dir=\"./../../data/raw/\")"
   ]
  },
  {
   "cell_type": "code",
   "execution_count": 6,
   "metadata": {},
   "outputs": [
    {
     "data": {
      "text/plain": "array([[0, 0, 2, ..., 0, 0, 1],\n       [0, 0, 1, ..., 0, 0, 0],\n       [0, 0, 0, ..., 0, 0, 0],\n       ...,\n       [0, 0, 1, ..., 1, 0, 0],\n       [0, 1, 0, ..., 0, 1, 1],\n       [0, 1, 2, ..., 1, 1, 1]])"
     },
     "execution_count": 6,
     "metadata": {},
     "output_type": "execute_result"
    }
   ],
   "source": [
    "xs"
   ]
  },
  {
   "cell_type": "code",
   "execution_count": 7,
   "metadata": {},
   "outputs": [
    {
     "data": {
      "text/plain": "array([1, 1, 1, ..., 0, 0, 0])"
     },
     "execution_count": 7,
     "metadata": {},
     "output_type": "execute_result"
    }
   ],
   "source": [
    "ys"
   ]
  },
  {
   "cell_type": "code",
   "execution_count": 8,
   "metadata": {},
   "outputs": [
    {
     "name": "stdout",
     "output_type": "stream",
     "text": [
      "              Age         Sex  Chest pain type    Trestbps  Cholesterol  \\\n",
      "count  303.000000  303.000000       303.000000  303.000000   303.000000   \n",
      "mean    54.366337    0.683168         1.881188  131.623762   246.264026   \n",
      "std      9.082101    0.466011         1.006145   17.538143    51.830751   \n",
      "min     29.000000    0.000000         0.000000   94.000000   126.000000   \n",
      "25%     47.500000    0.000000         2.000000  120.000000   211.000000   \n",
      "50%     55.000000    1.000000         2.000000  130.000000   240.000000   \n",
      "75%     61.000000    1.000000         3.000000  140.000000   274.500000   \n",
      "max     77.000000    1.000000         3.000000  200.000000   564.000000   \n",
      "\n",
      "       Fasting blood sugar &lt; 120  Resting ecg  Max heart rate  \\\n",
      "count                    303.000000   303.000000      303.000000   \n",
      "mean                       0.148515     1.488449      149.646865   \n",
      "std                        0.356198     0.526483       22.905161   \n",
      "min                        0.000000     0.000000       71.000000   \n",
      "25%                        0.000000     1.000000      133.500000   \n",
      "50%                        0.000000     2.000000      153.000000   \n",
      "75%                        0.000000     2.000000      166.000000   \n",
      "max                        1.000000     2.000000      202.000000   \n",
      "\n",
      "       Exercise induced angina     Oldpeak       Slope  \\\n",
      "count               303.000000  303.000000  303.000000   \n",
      "mean                  0.326733    1.039604    1.399340   \n",
      "std                   0.469794    1.161075    0.616226   \n",
      "min                   0.000000    0.000000    0.000000   \n",
      "25%                   0.000000    0.000000    1.000000   \n",
      "50%                   0.000000    0.800000    1.000000   \n",
      "75%                   1.000000    1.600000    2.000000   \n",
      "max                   1.000000    6.200000    2.000000   \n",
      "\n",
      "       Number of vessels colored        Thal      target  \n",
      "count                 303.000000  303.000000  303.000000  \n",
      "mean                    0.729373    2.313531    0.455446  \n",
      "std                     1.022606    0.612277    0.498835  \n",
      "min                     0.000000    0.000000    0.000000  \n",
      "25%                     0.000000    2.000000    0.000000  \n",
      "50%                     0.000000    2.000000    0.000000  \n",
      "75%                     1.000000    3.000000    1.000000  \n",
      "max                     4.000000    3.000000    1.000000  \n",
      "              age         sex          cp    trestbps        chol         fbs  \\\n",
      "count  303.000000  303.000000  303.000000  303.000000  303.000000  303.000000   \n",
      "mean    54.438944    0.679868    3.158416  131.689769  246.693069    0.148515   \n",
      "std      9.038662    0.467299    0.960126   17.599748   51.776918    0.356198   \n",
      "min     29.000000    0.000000    1.000000   94.000000  126.000000    0.000000   \n",
      "25%     48.000000    0.000000    3.000000  120.000000  211.000000    0.000000   \n",
      "50%     56.000000    1.000000    3.000000  130.000000  241.000000    0.000000   \n",
      "75%     61.000000    1.000000    4.000000  140.000000  275.000000    0.000000   \n",
      "max     77.000000    1.000000    4.000000  200.000000  564.000000    1.000000   \n",
      "\n",
      "          restecg     thalach       exang     oldpeak       slope          ca  \\\n",
      "count  303.000000  303.000000  303.000000  303.000000  303.000000  303.000000   \n",
      "mean     0.990099  149.607261    0.326733    1.039604    1.600660    0.716172   \n",
      "std      0.994971   22.875003    0.469794    1.161075    0.616226    1.005927   \n",
      "min      0.000000   71.000000    0.000000    0.000000    1.000000    0.000000   \n",
      "25%      0.000000  133.500000    0.000000    0.000000    1.000000    0.000000   \n",
      "50%      1.000000  153.000000    0.000000    0.800000    2.000000    0.000000   \n",
      "75%      2.000000  166.000000    1.000000    1.600000    2.000000    1.000000   \n",
      "max      2.000000  202.000000    1.000000    6.200000    3.000000    4.000000   \n",
      "\n",
      "             thal      target  \n",
      "count  303.000000  303.000000  \n",
      "mean     0.851485    0.937294  \n",
      "std      0.970282    1.228536  \n",
      "min      0.000000    0.000000  \n",
      "25%      0.000000    0.000000  \n",
      "50%      0.000000    0.000000  \n",
      "75%      2.000000    2.000000  \n",
      "max      3.000000    4.000000  \n",
      "              sex          cp         fbs     restecg       exang       slope  \\\n",
      "count  303.000000  303.000000  303.000000  303.000000  303.000000  303.000000   \n",
      "mean     0.679868    3.158416    0.148515    0.990099    0.326733    1.600660   \n",
      "std      0.467299    0.960126    0.356198    0.994971    0.469794    0.616226   \n",
      "min      0.000000    1.000000    0.000000    0.000000    0.000000    1.000000   \n",
      "25%      0.000000    3.000000    0.000000    0.000000    0.000000    1.000000   \n",
      "50%      1.000000    3.000000    0.000000    1.000000    0.000000    2.000000   \n",
      "75%      1.000000    4.000000    0.000000    2.000000    1.000000    2.000000   \n",
      "max      1.000000    4.000000    1.000000    2.000000    1.000000    3.000000   \n",
      "\n",
      "             thal      target  \n",
      "count  303.000000  303.000000  \n",
      "mean     0.851485    0.937294  \n",
      "std      0.970282    1.228536  \n",
      "min      0.000000    0.000000  \n",
      "25%      0.000000    0.000000  \n",
      "50%      0.000000    0.000000  \n",
      "75%      2.000000    2.000000  \n",
      "max      3.000000    4.000000  \n"
     ]
    }
   ],
   "source": [
    "for ii in range(3):\n",
    "    data = fetch_data(classification_dataset_names[50+ii])\n",
    "    print(data.describe())"
   ]
  },
  {
   "cell_type": "code",
   "execution_count": 9,
   "metadata": {},
   "outputs": [
    {
     "data": {
      "text/plain": "162"
     },
     "execution_count": 9,
     "metadata": {},
     "output_type": "execute_result"
    }
   ],
   "source": [
    "len(classification_dataset_names)"
   ]
  },
  {
   "cell_type": "code",
   "execution_count": 10,
   "metadata": {},
   "outputs": [
    {
     "data": {
      "text/plain": "4"
     },
     "execution_count": 10,
     "metadata": {},
     "output_type": "execute_result"
    }
   ],
   "source": [
    "max(data.target)"
   ]
  },
  {
   "cell_type": "code",
   "execution_count": 11,
   "metadata": {},
   "outputs": [
    {
     "data": {
      "text/plain": "(303, 8)"
     },
     "execution_count": 11,
     "metadata": {},
     "output_type": "execute_result"
    }
   ],
   "source": [
    "data.shape"
   ]
  },
  {
   "cell_type": "code",
   "execution_count": 12,
   "metadata": {},
   "outputs": [],
   "source": [
    "candidates = []\n",
    "# for ii in range(len(classification_dataset_names)):\n",
    "#     print(classification_dataset_names[ii])\n",
    "#     data = fetch_data(classification_dataset_names[ii])\n",
    "#     if max(data.target == 1):\n",
    "#         print(\"is candidate\")\n",
    "#         candidates.append({\n",
    "#             \"name\":classification_dataset_names[ii],\n",
    "#             \"length\":data.shape[0],\n",
    "#             \"width\":data.shape[1]\n",
    "#         })\n",
    "candidates = [{'name': 'GAMETES_Epistasis_2_Way_1000atts_0.4H_EDM_1_EDM_1_1',\n",
    "  'length': 1600,\n",
    "  'width': 1001},\n",
    " {'name': 'GAMETES_Epistasis_2_Way_20atts_0.1H_EDM_1_1',\n",
    "  'length': 1600,\n",
    "  'width': 21},\n",
    " {'name': 'GAMETES_Epistasis_2_Way_20atts_0.4H_EDM_1_1',\n",
    "  'length': 1600,\n",
    "  'width': 21},\n",
    " {'name': 'GAMETES_Epistasis_3_Way_20atts_0.2H_EDM_1_1',\n",
    "  'length': 1600,\n",
    "  'width': 21},\n",
    " {'name': 'GAMETES_Heterogeneity_20atts_1600_Het_0.4_0.2_50_EDM_2_001',\n",
    "  'length': 1600,\n",
    "  'width': 21},\n",
    " {'name': 'GAMETES_Heterogeneity_20atts_1600_Het_0.4_0.2_75_EDM_2_001',\n",
    "  'length': 1600,\n",
    "  'width': 21},\n",
    " {'name': 'Hill_Valley_with_noise', 'length': 1212, 'width': 101},\n",
    " {'name': 'Hill_Valley_without_noise', 'length': 1212, 'width': 101},\n",
    " {'name': 'adult', 'length': 48842, 'width': 15},\n",
    " {'name': 'agaricus_lepiota', 'length': 8145, 'width': 23},\n",
    " {'name': 'allbp', 'length': 3772, 'width': 30},\n",
    " {'name': 'allhyper', 'length': 3771, 'width': 30},\n",
    " {'name': 'allhypo', 'length': 3770, 'width': 30},\n",
    " {'name': 'allrep', 'length': 3772, 'width': 30},\n",
    " {'name': 'analcatdata_aids', 'length': 50, 'width': 5},\n",
    " {'name': 'analcatdata_asbestos', 'length': 83, 'width': 4},\n",
    " {'name': 'analcatdata_authorship', 'length': 841, 'width': 71},\n",
    " {'name': 'analcatdata_bankruptcy', 'length': 50, 'width': 7},\n",
    " {'name': 'analcatdata_boxing1', 'length': 120, 'width': 4},\n",
    " {'name': 'analcatdata_boxing2', 'length': 132, 'width': 4},\n",
    " {'name': 'analcatdata_creditscore', 'length': 100, 'width': 7},\n",
    " {'name': 'analcatdata_cyyoung8092', 'length': 97, 'width': 11},\n",
    " {'name': 'analcatdata_cyyoung9302', 'length': 92, 'width': 11},\n",
    " {'name': 'analcatdata_dmft', 'length': 797, 'width': 5},\n",
    " {'name': 'analcatdata_fraud', 'length': 42, 'width': 12},\n",
    " {'name': 'analcatdata_germangss', 'length': 400, 'width': 6},\n",
    " {'name': 'analcatdata_happiness', 'length': 60, 'width': 4},\n",
    " {'name': 'analcatdata_japansolvent', 'length': 52, 'width': 10},\n",
    " {'name': 'analcatdata_lawsuit', 'length': 264, 'width': 5},\n",
    " {'name': 'ann_thyroid', 'length': 7200, 'width': 22},\n",
    " {'name': 'appendicitis', 'length': 106, 'width': 8},\n",
    " {'name': 'australian', 'length': 690, 'width': 15},\n",
    " {'name': 'auto', 'length': 202, 'width': 26},\n",
    " {'name': 'backache', 'length': 180, 'width': 33},\n",
    " {'name': 'balance_scale', 'length': 625, 'width': 5},\n",
    " {'name': 'biomed', 'length': 209, 'width': 9},\n",
    " {'name': 'breast', 'length': 699, 'width': 11},\n",
    " {'name': 'breast_cancer', 'length': 286, 'width': 10},\n",
    " {'name': 'breast_cancer_wisconsin', 'length': 569, 'width': 31},\n",
    " {'name': 'breast_w', 'length': 699, 'width': 10},\n",
    " {'name': 'buggyCrx', 'length': 690, 'width': 16},\n",
    " {'name': 'bupa', 'length': 345, 'width': 6},\n",
    " {'name': 'calendarDOW', 'length': 399, 'width': 33},\n",
    " {'name': 'car', 'length': 1728, 'width': 7},\n",
    " {'name': 'car_evaluation', 'length': 1728, 'width': 22},\n",
    " {'name': 'cars', 'length': 392, 'width': 9},\n",
    " {'name': 'chess', 'length': 3196, 'width': 37},\n",
    " {'name': 'churn', 'length': 5000, 'width': 21},\n",
    " {'name': 'clean1', 'length': 476, 'width': 169},\n",
    " {'name': 'clean2', 'length': 6598, 'width': 169},\n",
    " {'name': 'cleve', 'length': 303, 'width': 14},\n",
    " {'name': 'cleveland', 'length': 303, 'width': 14},\n",
    " {'name': 'cleveland_nominal', 'length': 303, 'width': 8},\n",
    " {'name': 'cloud', 'length': 108, 'width': 8},\n",
    " {'name': 'cmc', 'length': 1473, 'width': 10},\n",
    " {'name': 'coil2000', 'length': 9822, 'width': 86},\n",
    " {'name': 'colic', 'length': 368, 'width': 23},\n",
    " {'name': 'collins', 'length': 485, 'width': 24},\n",
    " {'name': 'confidence', 'length': 72, 'width': 4},\n",
    " {'name': 'connect_4', 'length': 67557, 'width': 43},\n",
    " {'name': 'contraceptive', 'length': 1473, 'width': 10},\n",
    " {'name': 'corral', 'length': 160, 'width': 7},\n",
    " {'name': 'credit_a', 'length': 690, 'width': 16},\n",
    " {'name': 'credit_g', 'length': 1000, 'width': 21},\n",
    " {'name': 'crx', 'length': 690, 'width': 16},\n",
    " {'name': 'dermatology', 'length': 366, 'width': 35},\n",
    " {'name': 'diabetes', 'length': 768, 'width': 9},\n",
    " {'name': 'dis', 'length': 3772, 'width': 30},\n",
    " {'name': 'dna', 'length': 3186, 'width': 181},\n",
    " {'name': 'ecoli', 'length': 327, 'width': 8},\n",
    " {'name': 'fars', 'length': 100968, 'width': 30},\n",
    " {'name': 'flags', 'length': 178, 'width': 44},\n",
    " {'name': 'flare', 'length': 1066, 'width': 11},\n",
    " {'name': 'german', 'length': 1000, 'width': 21},\n",
    " {'name': 'glass', 'length': 205, 'width': 10},\n",
    " {'name': 'glass2', 'length': 163, 'width': 10},\n",
    " {'name': 'haberman', 'length': 306, 'width': 4},\n",
    " {'name': 'hayes_roth', 'length': 160, 'width': 5},\n",
    " {'name': 'heart_c', 'length': 303, 'width': 14},\n",
    " {'name': 'heart_h', 'length': 294, 'width': 14},\n",
    " {'name': 'heart_statlog', 'length': 270, 'width': 14},\n",
    " {'name': 'hepatitis', 'length': 155, 'width': 20},\n",
    " {'name': 'horse_colic', 'length': 368, 'width': 23},\n",
    " {'name': 'house_votes_84', 'length': 435, 'width': 17},\n",
    " {'name': 'hungarian', 'length': 294, 'width': 14},\n",
    " {'name': 'hypothyroid', 'length': 3163, 'width': 26},\n",
    " {'name': 'ionosphere', 'length': 351, 'width': 35},\n",
    " {'name': 'iris', 'length': 150, 'width': 5},\n",
    " {'name': 'irish', 'length': 500, 'width': 6},\n",
    " {'name': 'kddcup', 'length': 494020, 'width': 42},\n",
    " {'name': 'kr_vs_kp', 'length': 3196, 'width': 37},\n",
    " {'name': 'krkopt', 'length': 28056, 'width': 7},\n",
    " {'name': 'labor', 'length': 57, 'width': 17},\n",
    " {'name': 'led24', 'length': 3200, 'width': 25},\n",
    " {'name': 'led7', 'length': 3200, 'width': 8},\n",
    " {'name': 'letter', 'length': 20000, 'width': 17},\n",
    " {'name': 'lupus', 'length': 87, 'width': 4},\n",
    " {'name': 'lymphography', 'length': 148, 'width': 19},\n",
    " {'name': 'magic', 'length': 19020, 'width': 11},\n",
    " {'name': 'mfeat_factors', 'length': 2000, 'width': 217},\n",
    " {'name': 'mfeat_fourier', 'length': 2000, 'width': 77},\n",
    " {'name': 'mfeat_karhunen', 'length': 2000, 'width': 65},\n",
    " {'name': 'mfeat_morphological', 'length': 2000, 'width': 7},\n",
    " {'name': 'mfeat_pixel', 'length': 2000, 'width': 241},\n",
    " {'name': 'mfeat_zernike', 'length': 2000, 'width': 48},\n",
    " {'name': 'mnist', 'length': 70000, 'width': 785},\n",
    " {'name': 'mofn_3_7_10', 'length': 1324, 'width': 11},\n",
    " {'name': 'molecular_biology_promoters', 'length': 106, 'width': 58},\n",
    " {'name': 'monk1', 'length': 556, 'width': 7},\n",
    " {'name': 'monk2', 'length': 601, 'width': 7},\n",
    " {'name': 'monk3', 'length': 554, 'width': 7},\n",
    " {'name': 'movement_libras', 'length': 360, 'width': 91},\n",
    " {'name': 'mushroom', 'length': 8124, 'width': 23},\n",
    " {'name': 'mux6', 'length': 128, 'width': 7},\n",
    " {'name': 'new_thyroid', 'length': 215, 'width': 6},\n",
    " {'name': 'nursery', 'length': 12958, 'width': 9},\n",
    " {'name': 'optdigits', 'length': 5620, 'width': 65},\n",
    " {'name': 'page_blocks', 'length': 5473, 'width': 11},\n",
    " {'name': 'parity5', 'length': 32, 'width': 6},\n",
    " {'name': 'parity5+5', 'length': 1124, 'width': 11},\n",
    " {'name': 'pendigits', 'length': 10992, 'width': 17},\n",
    " {'name': 'penguins', 'length': 333, 'width': 8},\n",
    " {'name': 'phoneme', 'length': 5404, 'width': 6},\n",
    " {'name': 'pima', 'length': 768, 'width': 9}]"
   ]
  },
  {
   "cell_type": "code",
   "execution_count": 13,
   "metadata": {},
   "outputs": [
    {
     "data": {
      "text/plain": "[{'name': 'GAMETES_Epistasis_2_Way_1000atts_0.4H_EDM_1_EDM_1_1',\n  'length': 1600,\n  'width': 1001},\n {'name': 'GAMETES_Epistasis_2_Way_20atts_0.1H_EDM_1_1',\n  'length': 1600,\n  'width': 21},\n {'name': 'GAMETES_Epistasis_2_Way_20atts_0.4H_EDM_1_1',\n  'length': 1600,\n  'width': 21},\n {'name': 'GAMETES_Epistasis_3_Way_20atts_0.2H_EDM_1_1',\n  'length': 1600,\n  'width': 21},\n {'name': 'GAMETES_Heterogeneity_20atts_1600_Het_0.4_0.2_50_EDM_2_001',\n  'length': 1600,\n  'width': 21},\n {'name': 'GAMETES_Heterogeneity_20atts_1600_Het_0.4_0.2_75_EDM_2_001',\n  'length': 1600,\n  'width': 21},\n {'name': 'Hill_Valley_with_noise', 'length': 1212, 'width': 101},\n {'name': 'Hill_Valley_without_noise', 'length': 1212, 'width': 101},\n {'name': 'adult', 'length': 48842, 'width': 15},\n {'name': 'agaricus_lepiota', 'length': 8145, 'width': 23},\n {'name': 'allbp', 'length': 3772, 'width': 30},\n {'name': 'allhyper', 'length': 3771, 'width': 30},\n {'name': 'allhypo', 'length': 3770, 'width': 30},\n {'name': 'allrep', 'length': 3772, 'width': 30},\n {'name': 'analcatdata_aids', 'length': 50, 'width': 5},\n {'name': 'analcatdata_asbestos', 'length': 83, 'width': 4},\n {'name': 'analcatdata_authorship', 'length': 841, 'width': 71},\n {'name': 'analcatdata_bankruptcy', 'length': 50, 'width': 7},\n {'name': 'analcatdata_boxing1', 'length': 120, 'width': 4},\n {'name': 'analcatdata_boxing2', 'length': 132, 'width': 4},\n {'name': 'analcatdata_creditscore', 'length': 100, 'width': 7},\n {'name': 'analcatdata_cyyoung8092', 'length': 97, 'width': 11},\n {'name': 'analcatdata_cyyoung9302', 'length': 92, 'width': 11},\n {'name': 'analcatdata_dmft', 'length': 797, 'width': 5},\n {'name': 'analcatdata_fraud', 'length': 42, 'width': 12},\n {'name': 'analcatdata_germangss', 'length': 400, 'width': 6},\n {'name': 'analcatdata_happiness', 'length': 60, 'width': 4},\n {'name': 'analcatdata_japansolvent', 'length': 52, 'width': 10},\n {'name': 'analcatdata_lawsuit', 'length': 264, 'width': 5},\n {'name': 'ann_thyroid', 'length': 7200, 'width': 22},\n {'name': 'appendicitis', 'length': 106, 'width': 8},\n {'name': 'australian', 'length': 690, 'width': 15},\n {'name': 'auto', 'length': 202, 'width': 26},\n {'name': 'backache', 'length': 180, 'width': 33},\n {'name': 'balance_scale', 'length': 625, 'width': 5},\n {'name': 'biomed', 'length': 209, 'width': 9},\n {'name': 'breast', 'length': 699, 'width': 11},\n {'name': 'breast_cancer', 'length': 286, 'width': 10},\n {'name': 'breast_cancer_wisconsin', 'length': 569, 'width': 31},\n {'name': 'breast_w', 'length': 699, 'width': 10},\n {'name': 'buggyCrx', 'length': 690, 'width': 16},\n {'name': 'bupa', 'length': 345, 'width': 6},\n {'name': 'calendarDOW', 'length': 399, 'width': 33},\n {'name': 'car', 'length': 1728, 'width': 7},\n {'name': 'car_evaluation', 'length': 1728, 'width': 22},\n {'name': 'cars', 'length': 392, 'width': 9},\n {'name': 'chess', 'length': 3196, 'width': 37},\n {'name': 'churn', 'length': 5000, 'width': 21},\n {'name': 'clean1', 'length': 476, 'width': 169},\n {'name': 'clean2', 'length': 6598, 'width': 169},\n {'name': 'cleve', 'length': 303, 'width': 14},\n {'name': 'cleveland', 'length': 303, 'width': 14},\n {'name': 'cleveland_nominal', 'length': 303, 'width': 8},\n {'name': 'cloud', 'length': 108, 'width': 8},\n {'name': 'cmc', 'length': 1473, 'width': 10},\n {'name': 'coil2000', 'length': 9822, 'width': 86},\n {'name': 'colic', 'length': 368, 'width': 23},\n {'name': 'collins', 'length': 485, 'width': 24},\n {'name': 'confidence', 'length': 72, 'width': 4},\n {'name': 'connect_4', 'length': 67557, 'width': 43},\n {'name': 'contraceptive', 'length': 1473, 'width': 10},\n {'name': 'corral', 'length': 160, 'width': 7},\n {'name': 'credit_a', 'length': 690, 'width': 16},\n {'name': 'credit_g', 'length': 1000, 'width': 21},\n {'name': 'crx', 'length': 690, 'width': 16},\n {'name': 'dermatology', 'length': 366, 'width': 35},\n {'name': 'diabetes', 'length': 768, 'width': 9},\n {'name': 'dis', 'length': 3772, 'width': 30},\n {'name': 'dna', 'length': 3186, 'width': 181},\n {'name': 'ecoli', 'length': 327, 'width': 8},\n {'name': 'fars', 'length': 100968, 'width': 30},\n {'name': 'flags', 'length': 178, 'width': 44},\n {'name': 'flare', 'length': 1066, 'width': 11},\n {'name': 'german', 'length': 1000, 'width': 21},\n {'name': 'glass', 'length': 205, 'width': 10},\n {'name': 'glass2', 'length': 163, 'width': 10},\n {'name': 'haberman', 'length': 306, 'width': 4},\n {'name': 'hayes_roth', 'length': 160, 'width': 5},\n {'name': 'heart_c', 'length': 303, 'width': 14},\n {'name': 'heart_h', 'length': 294, 'width': 14},\n {'name': 'heart_statlog', 'length': 270, 'width': 14},\n {'name': 'hepatitis', 'length': 155, 'width': 20},\n {'name': 'horse_colic', 'length': 368, 'width': 23},\n {'name': 'house_votes_84', 'length': 435, 'width': 17},\n {'name': 'hungarian', 'length': 294, 'width': 14},\n {'name': 'hypothyroid', 'length': 3163, 'width': 26},\n {'name': 'ionosphere', 'length': 351, 'width': 35},\n {'name': 'iris', 'length': 150, 'width': 5},\n {'name': 'irish', 'length': 500, 'width': 6},\n {'name': 'kddcup', 'length': 494020, 'width': 42},\n {'name': 'kr_vs_kp', 'length': 3196, 'width': 37},\n {'name': 'krkopt', 'length': 28056, 'width': 7},\n {'name': 'labor', 'length': 57, 'width': 17},\n {'name': 'led24', 'length': 3200, 'width': 25},\n {'name': 'led7', 'length': 3200, 'width': 8},\n {'name': 'letter', 'length': 20000, 'width': 17},\n {'name': 'lupus', 'length': 87, 'width': 4},\n {'name': 'lymphography', 'length': 148, 'width': 19},\n {'name': 'magic', 'length': 19020, 'width': 11},\n {'name': 'mfeat_factors', 'length': 2000, 'width': 217},\n {'name': 'mfeat_fourier', 'length': 2000, 'width': 77},\n {'name': 'mfeat_karhunen', 'length': 2000, 'width': 65},\n {'name': 'mfeat_morphological', 'length': 2000, 'width': 7},\n {'name': 'mfeat_pixel', 'length': 2000, 'width': 241},\n {'name': 'mfeat_zernike', 'length': 2000, 'width': 48},\n {'name': 'mnist', 'length': 70000, 'width': 785},\n {'name': 'mofn_3_7_10', 'length': 1324, 'width': 11},\n {'name': 'molecular_biology_promoters', 'length': 106, 'width': 58},\n {'name': 'monk1', 'length': 556, 'width': 7},\n {'name': 'monk2', 'length': 601, 'width': 7},\n {'name': 'monk3', 'length': 554, 'width': 7},\n {'name': 'movement_libras', 'length': 360, 'width': 91},\n {'name': 'mushroom', 'length': 8124, 'width': 23},\n {'name': 'mux6', 'length': 128, 'width': 7},\n {'name': 'new_thyroid', 'length': 215, 'width': 6},\n {'name': 'nursery', 'length': 12958, 'width': 9},\n {'name': 'optdigits', 'length': 5620, 'width': 65},\n {'name': 'page_blocks', 'length': 5473, 'width': 11},\n {'name': 'parity5', 'length': 32, 'width': 6},\n {'name': 'parity5+5', 'length': 1124, 'width': 11},\n {'name': 'pendigits', 'length': 10992, 'width': 17},\n {'name': 'penguins', 'length': 333, 'width': 8},\n {'name': 'phoneme', 'length': 5404, 'width': 6},\n {'name': 'pima', 'length': 768, 'width': 9}]"
     },
     "execution_count": 13,
     "metadata": {},
     "output_type": "execute_result"
    }
   ],
   "source": [
    "candidates"
   ]
  },
  {
   "cell_type": "code",
   "execution_count": 14,
   "metadata": {},
   "outputs": [],
   "source": [
    "mnist = fetch_data(\"mnist\")\n"
   ]
  },
  {
   "cell_type": "code",
   "execution_count": 15,
   "metadata": {},
   "outputs": [
    {
     "data": {
      "text/html": "<div>\n<style scoped>\n    .dataframe tbody tr th:only-of-type {\n        vertical-align: middle;\n    }\n\n    .dataframe tbody tr th {\n        vertical-align: top;\n    }\n\n    .dataframe thead th {\n        text-align: right;\n    }\n</style>\n<table border=\"1\" class=\"dataframe\">\n  <thead>\n    <tr style=\"text-align: right;\">\n      <th></th>\n      <th>target</th>\n      <th>1</th>\n      <th>2</th>\n      <th>3</th>\n      <th>4</th>\n      <th>5</th>\n      <th>6</th>\n      <th>7</th>\n      <th>8</th>\n      <th>9</th>\n      <th>...</th>\n      <th>775</th>\n      <th>776</th>\n      <th>777</th>\n      <th>778</th>\n      <th>779</th>\n      <th>780</th>\n      <th>781</th>\n      <th>782</th>\n      <th>783</th>\n      <th>784</th>\n    </tr>\n  </thead>\n  <tbody>\n    <tr>\n      <th>count</th>\n      <td>70000.000000</td>\n      <td>70000.0</td>\n      <td>70000.0</td>\n      <td>70000.0</td>\n      <td>70000.0</td>\n      <td>70000.0</td>\n      <td>70000.0</td>\n      <td>70000.0</td>\n      <td>70000.0</td>\n      <td>70000.0</td>\n      <td>...</td>\n      <td>70000.000000</td>\n      <td>70000.000000</td>\n      <td>70000.000000</td>\n      <td>70000.000000</td>\n      <td>70000.000000</td>\n      <td>70000.000000</td>\n      <td>70000.0</td>\n      <td>70000.0</td>\n      <td>70000.0</td>\n      <td>70000.0</td>\n    </tr>\n    <tr>\n      <th>mean</th>\n      <td>4.452429</td>\n      <td>0.0</td>\n      <td>0.0</td>\n      <td>0.0</td>\n      <td>0.0</td>\n      <td>0.0</td>\n      <td>0.0</td>\n      <td>0.0</td>\n      <td>0.0</td>\n      <td>0.0</td>\n      <td>...</td>\n      <td>0.197414</td>\n      <td>0.099543</td>\n      <td>0.046629</td>\n      <td>0.016614</td>\n      <td>0.012957</td>\n      <td>0.001714</td>\n      <td>0.0</td>\n      <td>0.0</td>\n      <td>0.0</td>\n      <td>0.0</td>\n    </tr>\n    <tr>\n      <th>std</th>\n      <td>2.890195</td>\n      <td>0.0</td>\n      <td>0.0</td>\n      <td>0.0</td>\n      <td>0.0</td>\n      <td>0.0</td>\n      <td>0.0</td>\n      <td>0.0</td>\n      <td>0.0</td>\n      <td>0.0</td>\n      <td>...</td>\n      <td>5.991206</td>\n      <td>4.256304</td>\n      <td>2.783732</td>\n      <td>1.561822</td>\n      <td>1.553796</td>\n      <td>0.320889</td>\n      <td>0.0</td>\n      <td>0.0</td>\n      <td>0.0</td>\n      <td>0.0</td>\n    </tr>\n    <tr>\n      <th>min</th>\n      <td>0.000000</td>\n      <td>0.0</td>\n      <td>0.0</td>\n      <td>0.0</td>\n      <td>0.0</td>\n      <td>0.0</td>\n      <td>0.0</td>\n      <td>0.0</td>\n      <td>0.0</td>\n      <td>0.0</td>\n      <td>...</td>\n      <td>0.000000</td>\n      <td>0.000000</td>\n      <td>0.000000</td>\n      <td>0.000000</td>\n      <td>0.000000</td>\n      <td>0.000000</td>\n      <td>0.0</td>\n      <td>0.0</td>\n      <td>0.0</td>\n      <td>0.0</td>\n    </tr>\n    <tr>\n      <th>25%</th>\n      <td>2.000000</td>\n      <td>0.0</td>\n      <td>0.0</td>\n      <td>0.0</td>\n      <td>0.0</td>\n      <td>0.0</td>\n      <td>0.0</td>\n      <td>0.0</td>\n      <td>0.0</td>\n      <td>0.0</td>\n      <td>...</td>\n      <td>0.000000</td>\n      <td>0.000000</td>\n      <td>0.000000</td>\n      <td>0.000000</td>\n      <td>0.000000</td>\n      <td>0.000000</td>\n      <td>0.0</td>\n      <td>0.0</td>\n      <td>0.0</td>\n      <td>0.0</td>\n    </tr>\n    <tr>\n      <th>50%</th>\n      <td>4.000000</td>\n      <td>0.0</td>\n      <td>0.0</td>\n      <td>0.0</td>\n      <td>0.0</td>\n      <td>0.0</td>\n      <td>0.0</td>\n      <td>0.0</td>\n      <td>0.0</td>\n      <td>0.0</td>\n      <td>...</td>\n      <td>0.000000</td>\n      <td>0.000000</td>\n      <td>0.000000</td>\n      <td>0.000000</td>\n      <td>0.000000</td>\n      <td>0.000000</td>\n      <td>0.0</td>\n      <td>0.0</td>\n      <td>0.0</td>\n      <td>0.0</td>\n    </tr>\n    <tr>\n      <th>75%</th>\n      <td>7.000000</td>\n      <td>0.0</td>\n      <td>0.0</td>\n      <td>0.0</td>\n      <td>0.0</td>\n      <td>0.0</td>\n      <td>0.0</td>\n      <td>0.0</td>\n      <td>0.0</td>\n      <td>0.0</td>\n      <td>...</td>\n      <td>0.000000</td>\n      <td>0.000000</td>\n      <td>0.000000</td>\n      <td>0.000000</td>\n      <td>0.000000</td>\n      <td>0.000000</td>\n      <td>0.0</td>\n      <td>0.0</td>\n      <td>0.0</td>\n      <td>0.0</td>\n    </tr>\n    <tr>\n      <th>max</th>\n      <td>9.000000</td>\n      <td>0.0</td>\n      <td>0.0</td>\n      <td>0.0</td>\n      <td>0.0</td>\n      <td>0.0</td>\n      <td>0.0</td>\n      <td>0.0</td>\n      <td>0.0</td>\n      <td>0.0</td>\n      <td>...</td>\n      <td>254.000000</td>\n      <td>254.000000</td>\n      <td>253.000000</td>\n      <td>253.000000</td>\n      <td>254.000000</td>\n      <td>62.000000</td>\n      <td>0.0</td>\n      <td>0.0</td>\n      <td>0.0</td>\n      <td>0.0</td>\n    </tr>\n  </tbody>\n</table>\n<p>8 rows × 785 columns</p>\n</div>",
      "text/plain": "             target        1        2        3        4        5        6  \\\ncount  70000.000000  70000.0  70000.0  70000.0  70000.0  70000.0  70000.0   \nmean       4.452429      0.0      0.0      0.0      0.0      0.0      0.0   \nstd        2.890195      0.0      0.0      0.0      0.0      0.0      0.0   \nmin        0.000000      0.0      0.0      0.0      0.0      0.0      0.0   \n25%        2.000000      0.0      0.0      0.0      0.0      0.0      0.0   \n50%        4.000000      0.0      0.0      0.0      0.0      0.0      0.0   \n75%        7.000000      0.0      0.0      0.0      0.0      0.0      0.0   \nmax        9.000000      0.0      0.0      0.0      0.0      0.0      0.0   \n\n             7        8        9  ...           775           776  \\\ncount  70000.0  70000.0  70000.0  ...  70000.000000  70000.000000   \nmean       0.0      0.0      0.0  ...      0.197414      0.099543   \nstd        0.0      0.0      0.0  ...      5.991206      4.256304   \nmin        0.0      0.0      0.0  ...      0.000000      0.000000   \n25%        0.0      0.0      0.0  ...      0.000000      0.000000   \n50%        0.0      0.0      0.0  ...      0.000000      0.000000   \n75%        0.0      0.0      0.0  ...      0.000000      0.000000   \nmax        0.0      0.0      0.0  ...    254.000000    254.000000   \n\n                777           778           779           780      781  \\\ncount  70000.000000  70000.000000  70000.000000  70000.000000  70000.0   \nmean       0.046629      0.016614      0.012957      0.001714      0.0   \nstd        2.783732      1.561822      1.553796      0.320889      0.0   \nmin        0.000000      0.000000      0.000000      0.000000      0.0   \n25%        0.000000      0.000000      0.000000      0.000000      0.0   \n50%        0.000000      0.000000      0.000000      0.000000      0.0   \n75%        0.000000      0.000000      0.000000      0.000000      0.0   \nmax      253.000000    253.000000    254.000000     62.000000      0.0   \n\n           782      783      784  \ncount  70000.0  70000.0  70000.0  \nmean       0.0      0.0      0.0  \nstd        0.0      0.0      0.0  \nmin        0.0      0.0      0.0  \n25%        0.0      0.0      0.0  \n50%        0.0      0.0      0.0  \n75%        0.0      0.0      0.0  \nmax        0.0      0.0      0.0  \n\n[8 rows x 785 columns]"
     },
     "execution_count": 15,
     "metadata": {},
     "output_type": "execute_result"
    }
   ],
   "source": [
    "mnist.describe()"
   ]
  },
  {
   "cell_type": "code",
   "execution_count": 16,
   "metadata": {},
   "outputs": [],
   "source": [
    "import pandas as pd"
   ]
  },
  {
   "cell_type": "code",
   "execution_count": 17,
   "metadata": {},
   "outputs": [],
   "source": [
    "candidates_df = pd.DataFrame(candidates)"
   ]
  },
  {
   "cell_type": "code",
   "execution_count": 18,
   "metadata": {},
   "outputs": [
    {
     "data": {
      "text/html": "<div>\n<style scoped>\n    .dataframe tbody tr th:only-of-type {\n        vertical-align: middle;\n    }\n\n    .dataframe tbody tr th {\n        vertical-align: top;\n    }\n\n    .dataframe thead th {\n        text-align: right;\n    }\n</style>\n<table border=\"1\" class=\"dataframe\">\n  <thead>\n    <tr style=\"text-align: right;\">\n      <th></th>\n      <th>name</th>\n      <th>length</th>\n      <th>width</th>\n    </tr>\n  </thead>\n  <tbody>\n    <tr>\n      <th>0</th>\n      <td>GAMETES_Epistasis_2_Way_1000atts_0.4H_EDM_1_ED...</td>\n      <td>1600</td>\n      <td>1001</td>\n    </tr>\n    <tr>\n      <th>1</th>\n      <td>GAMETES_Epistasis_2_Way_20atts_0.1H_EDM_1_1</td>\n      <td>1600</td>\n      <td>21</td>\n    </tr>\n    <tr>\n      <th>2</th>\n      <td>GAMETES_Epistasis_2_Way_20atts_0.4H_EDM_1_1</td>\n      <td>1600</td>\n      <td>21</td>\n    </tr>\n    <tr>\n      <th>3</th>\n      <td>GAMETES_Epistasis_3_Way_20atts_0.2H_EDM_1_1</td>\n      <td>1600</td>\n      <td>21</td>\n    </tr>\n    <tr>\n      <th>4</th>\n      <td>GAMETES_Heterogeneity_20atts_1600_Het_0.4_0.2_...</td>\n      <td>1600</td>\n      <td>21</td>\n    </tr>\n    <tr>\n      <th>5</th>\n      <td>GAMETES_Heterogeneity_20atts_1600_Het_0.4_0.2_...</td>\n      <td>1600</td>\n      <td>21</td>\n    </tr>\n    <tr>\n      <th>6</th>\n      <td>Hill_Valley_with_noise</td>\n      <td>1212</td>\n      <td>101</td>\n    </tr>\n    <tr>\n      <th>7</th>\n      <td>Hill_Valley_without_noise</td>\n      <td>1212</td>\n      <td>101</td>\n    </tr>\n    <tr>\n      <th>8</th>\n      <td>adult</td>\n      <td>48842</td>\n      <td>15</td>\n    </tr>\n    <tr>\n      <th>9</th>\n      <td>agaricus_lepiota</td>\n      <td>8145</td>\n      <td>23</td>\n    </tr>\n    <tr>\n      <th>10</th>\n      <td>allbp</td>\n      <td>3772</td>\n      <td>30</td>\n    </tr>\n    <tr>\n      <th>11</th>\n      <td>allhyper</td>\n      <td>3771</td>\n      <td>30</td>\n    </tr>\n    <tr>\n      <th>12</th>\n      <td>allhypo</td>\n      <td>3770</td>\n      <td>30</td>\n    </tr>\n    <tr>\n      <th>13</th>\n      <td>allrep</td>\n      <td>3772</td>\n      <td>30</td>\n    </tr>\n    <tr>\n      <th>29</th>\n      <td>ann_thyroid</td>\n      <td>7200</td>\n      <td>22</td>\n    </tr>\n    <tr>\n      <th>43</th>\n      <td>car</td>\n      <td>1728</td>\n      <td>7</td>\n    </tr>\n    <tr>\n      <th>44</th>\n      <td>car_evaluation</td>\n      <td>1728</td>\n      <td>22</td>\n    </tr>\n    <tr>\n      <th>46</th>\n      <td>chess</td>\n      <td>3196</td>\n      <td>37</td>\n    </tr>\n    <tr>\n      <th>47</th>\n      <td>churn</td>\n      <td>5000</td>\n      <td>21</td>\n    </tr>\n    <tr>\n      <th>49</th>\n      <td>clean2</td>\n      <td>6598</td>\n      <td>169</td>\n    </tr>\n    <tr>\n      <th>54</th>\n      <td>cmc</td>\n      <td>1473</td>\n      <td>10</td>\n    </tr>\n    <tr>\n      <th>55</th>\n      <td>coil2000</td>\n      <td>9822</td>\n      <td>86</td>\n    </tr>\n    <tr>\n      <th>59</th>\n      <td>connect_4</td>\n      <td>67557</td>\n      <td>43</td>\n    </tr>\n    <tr>\n      <th>60</th>\n      <td>contraceptive</td>\n      <td>1473</td>\n      <td>10</td>\n    </tr>\n    <tr>\n      <th>67</th>\n      <td>dis</td>\n      <td>3772</td>\n      <td>30</td>\n    </tr>\n    <tr>\n      <th>68</th>\n      <td>dna</td>\n      <td>3186</td>\n      <td>181</td>\n    </tr>\n    <tr>\n      <th>70</th>\n      <td>fars</td>\n      <td>100968</td>\n      <td>30</td>\n    </tr>\n    <tr>\n      <th>72</th>\n      <td>flare</td>\n      <td>1066</td>\n      <td>11</td>\n    </tr>\n    <tr>\n      <th>85</th>\n      <td>hypothyroid</td>\n      <td>3163</td>\n      <td>26</td>\n    </tr>\n    <tr>\n      <th>89</th>\n      <td>kddcup</td>\n      <td>494020</td>\n      <td>42</td>\n    </tr>\n    <tr>\n      <th>90</th>\n      <td>kr_vs_kp</td>\n      <td>3196</td>\n      <td>37</td>\n    </tr>\n    <tr>\n      <th>91</th>\n      <td>krkopt</td>\n      <td>28056</td>\n      <td>7</td>\n    </tr>\n    <tr>\n      <th>93</th>\n      <td>led24</td>\n      <td>3200</td>\n      <td>25</td>\n    </tr>\n    <tr>\n      <th>94</th>\n      <td>led7</td>\n      <td>3200</td>\n      <td>8</td>\n    </tr>\n    <tr>\n      <th>95</th>\n      <td>letter</td>\n      <td>20000</td>\n      <td>17</td>\n    </tr>\n    <tr>\n      <th>98</th>\n      <td>magic</td>\n      <td>19020</td>\n      <td>11</td>\n    </tr>\n    <tr>\n      <th>99</th>\n      <td>mfeat_factors</td>\n      <td>2000</td>\n      <td>217</td>\n    </tr>\n    <tr>\n      <th>100</th>\n      <td>mfeat_fourier</td>\n      <td>2000</td>\n      <td>77</td>\n    </tr>\n    <tr>\n      <th>101</th>\n      <td>mfeat_karhunen</td>\n      <td>2000</td>\n      <td>65</td>\n    </tr>\n    <tr>\n      <th>102</th>\n      <td>mfeat_morphological</td>\n      <td>2000</td>\n      <td>7</td>\n    </tr>\n    <tr>\n      <th>103</th>\n      <td>mfeat_pixel</td>\n      <td>2000</td>\n      <td>241</td>\n    </tr>\n    <tr>\n      <th>104</th>\n      <td>mfeat_zernike</td>\n      <td>2000</td>\n      <td>48</td>\n    </tr>\n    <tr>\n      <th>105</th>\n      <td>mnist</td>\n      <td>70000</td>\n      <td>785</td>\n    </tr>\n    <tr>\n      <th>106</th>\n      <td>mofn_3_7_10</td>\n      <td>1324</td>\n      <td>11</td>\n    </tr>\n    <tr>\n      <th>112</th>\n      <td>mushroom</td>\n      <td>8124</td>\n      <td>23</td>\n    </tr>\n    <tr>\n      <th>115</th>\n      <td>nursery</td>\n      <td>12958</td>\n      <td>9</td>\n    </tr>\n    <tr>\n      <th>116</th>\n      <td>optdigits</td>\n      <td>5620</td>\n      <td>65</td>\n    </tr>\n    <tr>\n      <th>117</th>\n      <td>page_blocks</td>\n      <td>5473</td>\n      <td>11</td>\n    </tr>\n    <tr>\n      <th>119</th>\n      <td>parity5+5</td>\n      <td>1124</td>\n      <td>11</td>\n    </tr>\n    <tr>\n      <th>120</th>\n      <td>pendigits</td>\n      <td>10992</td>\n      <td>17</td>\n    </tr>\n    <tr>\n      <th>122</th>\n      <td>phoneme</td>\n      <td>5404</td>\n      <td>6</td>\n    </tr>\n  </tbody>\n</table>\n</div>",
      "text/plain": "                                                  name  length  width\n0    GAMETES_Epistasis_2_Way_1000atts_0.4H_EDM_1_ED...    1600   1001\n1          GAMETES_Epistasis_2_Way_20atts_0.1H_EDM_1_1    1600     21\n2          GAMETES_Epistasis_2_Way_20atts_0.4H_EDM_1_1    1600     21\n3          GAMETES_Epistasis_3_Way_20atts_0.2H_EDM_1_1    1600     21\n4    GAMETES_Heterogeneity_20atts_1600_Het_0.4_0.2_...    1600     21\n5    GAMETES_Heterogeneity_20atts_1600_Het_0.4_0.2_...    1600     21\n6                               Hill_Valley_with_noise    1212    101\n7                            Hill_Valley_without_noise    1212    101\n8                                                adult   48842     15\n9                                     agaricus_lepiota    8145     23\n10                                               allbp    3772     30\n11                                            allhyper    3771     30\n12                                             allhypo    3770     30\n13                                              allrep    3772     30\n29                                         ann_thyroid    7200     22\n43                                                 car    1728      7\n44                                      car_evaluation    1728     22\n46                                               chess    3196     37\n47                                               churn    5000     21\n49                                              clean2    6598    169\n54                                                 cmc    1473     10\n55                                            coil2000    9822     86\n59                                           connect_4   67557     43\n60                                       contraceptive    1473     10\n67                                                 dis    3772     30\n68                                                 dna    3186    181\n70                                                fars  100968     30\n72                                               flare    1066     11\n85                                         hypothyroid    3163     26\n89                                              kddcup  494020     42\n90                                            kr_vs_kp    3196     37\n91                                              krkopt   28056      7\n93                                               led24    3200     25\n94                                                led7    3200      8\n95                                              letter   20000     17\n98                                               magic   19020     11\n99                                       mfeat_factors    2000    217\n100                                      mfeat_fourier    2000     77\n101                                     mfeat_karhunen    2000     65\n102                                mfeat_morphological    2000      7\n103                                        mfeat_pixel    2000    241\n104                                      mfeat_zernike    2000     48\n105                                              mnist   70000    785\n106                                        mofn_3_7_10    1324     11\n112                                           mushroom    8124     23\n115                                            nursery   12958      9\n116                                          optdigits    5620     65\n117                                        page_blocks    5473     11\n119                                          parity5+5    1124     11\n120                                          pendigits   10992     17\n122                                            phoneme    5404      6"
     },
     "execution_count": 18,
     "metadata": {},
     "output_type": "execute_result"
    }
   ],
   "source": [
    "candidates_df[candidates_df['length']>1000]"
   ]
  },
  {
   "cell_type": "code",
   "execution_count": null,
   "metadata": {},
   "outputs": [],
   "source": []
  }
 ],
 "metadata": {
  "kernelspec": {
   "display_name": "Python 3.8.12 64-bit ('phd-neat': conda)",
   "metadata": {
    "interpreter": {
     "hash": "c7e7389da97c8c8d4efc0327b0c894dba1fed19f327bc3903c049dd709d9e547"
    }
   },
   "name": "python3"
  },
  "language_info": {
   "codemirror_mode": {
    "name": "ipython",
    "version": 3
   },
   "file_extension": ".py",
   "mimetype": "text/x-python",
   "name": "python",
   "nbconvert_exporter": "python",
   "pygments_lexer": "ipython3",
   "version": "3.8.12"
  },
  "orig_nbformat": 2
 },
 "nbformat": 4,
 "nbformat_minor": 2
}