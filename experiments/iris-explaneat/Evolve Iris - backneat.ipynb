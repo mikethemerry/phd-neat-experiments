{
 "cells": [
  {
   "cell_type": "code",
   "execution_count": 1,
   "metadata": {},
   "outputs": [],
   "source": [
    "from __future__ import print_function\n",
    "import os\n",
    "import neat\n",
    "\n",
    "import pandas as pd\n",
    "import numpy as np\n",
    "import random\n",
    "\n",
    "import torch\n",
    "import torch.nn as nn\n",
    "import torch.optim as optim\n",
    "\n",
    "\n",
    "from explaneat.core.backprop import NeatNet\n",
    "from explaneat.core import backprop\n",
    "from explaneat.core.backproppop import BackpropPopulation\n",
    "from explaneat.visualization import visualize\n",
    "from explaneat.core.experiment import ExperimentReporter\n",
    "from explaneat.core.utility import one_hot_encode\n",
    "\n",
    "\n",
    "from sklearn import datasets\n",
    "from sklearn import metrics\n",
    "from sklearn.preprocessing import StandardScaler\n",
    "\n",
    "from copy import deepcopy\n",
    "\n",
    "import time\n",
    "from datetime import datetime"
   ]
  },
  {
   "cell_type": "markdown",
   "metadata": {},
   "source": [
    "# Iris Experiment\n",
    "\n",
    "This experiment (a) test the experimental environment, but is also to evaluate the efficacy of the ExplaNEAT algorithm. Speed is a critical factor, as well as stability of results on population size. Total run time will also be measured"
   ]
  },
  {
   "cell_type": "markdown",
   "metadata": {},
   "source": [
    "First, we need to set a random seed and a total stopping point in the number of generations"
   ]
  },
  {
   "cell_type": "code",
   "execution_count": 2,
   "metadata": {},
   "outputs": [],
   "source": [
    "random.seed(4242)"
   ]
  },
  {
   "cell_type": "code",
   "execution_count": 3,
   "metadata": {},
   "outputs": [],
   "source": [
    "def one_hot_encode(vals):\n",
    "    width = max(vals)\n",
    "    newVals = []\n",
    "    for val in vals:\n",
    "        blank = [0. for _ in range(width + 1)]\n",
    "        blank[val] = 1.\n",
    "        newVals.append(blank)\n",
    "    return np.asarray(newVals)\n"
   ]
  },
  {
   "cell_type": "markdown",
   "metadata": {},
   "source": [
    "## Dataset\n",
    "\n",
    "We are going to work with the Iris dataset, which will be loaded from `sklearn`. We want to characterise the efficacy of the algorithm with regards to a mostly untransformed dataset, so we will only normalise the features"
   ]
  },
  {
   "cell_type": "code",
   "execution_count": 4,
   "metadata": {},
   "outputs": [],
   "source": [
    "iris = datasets.load_iris()\n",
    "xs_raw = iris.data[:, :2]  # we only take the first two features.\n",
    "scaler = StandardScaler()\n",
    "scaler.fit(xs_raw)\n",
    "xs = scaler.transform(xs_raw)\n",
    "ys = iris.target\n",
    "ys_onehot = one_hot_encode(ys)"
   ]
  },
  {
   "cell_type": "markdown",
   "metadata": {},
   "source": [
    "Let's have a look at the data we are working with"
   ]
  },
  {
   "cell_type": "code",
   "execution_count": 5,
   "metadata": {},
   "outputs": [
    {
     "data": {
      "text/plain": "array([[-0.90068117,  1.01900435],\n       [-1.14301691, -0.13197948],\n       [-1.38535265,  0.32841405],\n       [-1.50652052,  0.09821729],\n       [-1.02184904,  1.24920112]])"
     },
     "execution_count": 5,
     "metadata": {},
     "output_type": "execute_result"
    }
   ],
   "source": [
    "xs[:5]"
   ]
  },
  {
   "cell_type": "code",
   "execution_count": 6,
   "metadata": {},
   "outputs": [
    {
     "data": {
      "text/plain": "array([0, 0, 0, 0, 0])"
     },
     "execution_count": 6,
     "metadata": {},
     "output_type": "execute_result"
    }
   ],
   "source": [
    "ys[:5]"
   ]
  },
  {
   "cell_type": "code",
   "execution_count": 7,
   "metadata": {},
   "outputs": [
    {
     "data": {
      "text/plain": "array([[1., 0., 0.],\n       [1., 0., 0.],\n       [1., 0., 0.],\n       [1., 0., 0.],\n       [1., 0., 0.]])"
     },
     "execution_count": 7,
     "metadata": {},
     "output_type": "execute_result"
    }
   ],
   "source": [
    "ys_onehot[:5]"
   ]
  },
  {
   "cell_type": "markdown",
   "metadata": {},
   "source": [
    "## Performance metric\n",
    "\n",
    "The NEAT implementation on which ExplaNEAT extends uses a single function call for evaluating fitness. Although this might be reworked for ExplaNEAT to be able to get consistency between the genome-evaluation and the backprop loss function, that can be reviewed later.\n",
    "\n",
    "This use `CrossEntropyLoss` from `PyTorch`"
   ]
  },
  {
   "cell_type": "code",
   "execution_count": 8,
   "metadata": {},
   "outputs": [],
   "source": [
    "def eval_genomes(genomes, config):\n",
    "    loss = nn.CrossEntropyLoss()\n",
    "    for genome_id, genome in genomes.items():\n",
    "        net = neat.nn.FeedForwardNetwork.create(genome, config)\n",
    "        preds = []\n",
    "        for xi in xs:\n",
    "            preds.append(net.activate(xi))\n",
    "        genome.fitness = float(1./loss(torch.tensor(preds), torch.tensor(ys)))"
   ]
  },
  {
   "cell_type": "markdown",
   "metadata": {},
   "source": [
    "## Base configuration\n",
    "\n",
    "We are going to create the base configuration according to an external configuration file. Per experiment, we will adjust this, later, but this defines the defaults across all runs."
   ]
  },
  {
   "cell_type": "code",
   "execution_count": 9,
   "metadata": {},
   "outputs": [],
   "source": [
    "config_path = \"./config-iris\"\n",
    "base_config = neat.Config(neat.DefaultGenome, neat.DefaultReproduction,\n",
    "                     neat.DefaultSpeciesSet, neat.DefaultStagnation,\n",
    "                     config_path)"
   ]
  },
  {
   "cell_type": "code",
   "execution_count": 10,
   "metadata": {},
   "outputs": [
    {
     "data": {
      "text/plain": "2"
     },
     "execution_count": 10,
     "metadata": {},
     "output_type": "execute_result"
    }
   ],
   "source": [
    "base_config.pop_size"
   ]
  },
  {
   "cell_type": "markdown",
   "metadata": {},
   "source": [
    "We also want to put a hard limit on how long this can go on for."
   ]
  },
  {
   "cell_type": "code",
   "execution_count": 11,
   "metadata": {},
   "outputs": [],
   "source": [
    "maxNGenerations = 20"
   ]
  },
  {
   "cell_type": "markdown",
   "metadata": {},
   "source": [
    "We will create a method to manage the instantiation of a population on the basis of a specific config."
   ]
  },
  {
   "cell_type": "code",
   "execution_count": 12,
   "metadata": {},
   "outputs": [],
   "source": [
    "def instantiate_population(config, xs, ys, saveLocation):\n",
    "\n",
    "    if not os.path.exists(saveLocation):\n",
    "        os.makedirs(saveLocation)\n",
    "        \n",
    "    config.save(os.path.join(saveLocation, 'config.conf'))\n",
    "\n",
    "    # Create the population, which is the top-level object for a NEAT run.\n",
    "    p = BackpropPopulation(config, \n",
    "                            xs, \n",
    "                            ys, \n",
    "                            criterion=nn.CrossEntropyLoss())\n",
    "\n",
    "    # Add a stdout reporter to show progress in the terminal.\n",
    "    p.add_reporter(neat.StdOutReporter(True))\n",
    "    stats = neat.StatisticsReporter()\n",
    "    p.add_reporter(stats)\n",
    "    p.add_reporter(neat.Checkpointer(5, filename_prefix=str(saveLocation) + \"checkpoint-\" ))\n",
    "    bpReporter = backprop.BackpropReporter(True)\n",
    "    p.add_reporter(bpReporter)\n",
    "    p.add_reporter(ExperimentReporter(saveLocation))\n",
    "    \n",
    "    return p"
   ]
  },
  {
   "cell_type": "markdown",
   "metadata": {},
   "source": [
    "# Experiment 1: Vary population size\n",
    "\n",
    "The first experiment is going to examine the difference in run time different population sizes. "
   ]
  },
  {
   "cell_type": "code",
   "execution_count": 13,
   "metadata": {},
   "outputs": [],
   "source": [
    "population_points = [2, 5, 10, 25, 50, 100]"
   ]
  },
  {
   "cell_type": "code",
   "execution_count": 14,
   "metadata": {},
   "outputs": [
    {
     "data": {
      "text/plain": "2"
     },
     "execution_count": 14,
     "metadata": {},
     "output_type": "execute_result"
    }
   ],
   "source": [
    "base_config.pop_size"
   ]
  },
  {
   "cell_type": "code",
   "execution_count": 15,
   "metadata": {},
   "outputs": [],
   "source": [
    "saveLocationTemplate = './../../data/experiments/iris/experiment-population-{}-{}/'"
   ]
  },
  {
   "cell_type": "markdown",
   "metadata": {},
   "source": [
    "## Start the experiment"
   ]
  },
  {
   "cell_type": "code",
   "execution_count": 16,
   "metadata": {
    "scrolled": true
   },
   "outputs": [
    {
     "name": "stdout",
     "output_type": "stream",
     "text": [
      "################################################\n",
      "################################################\n",
      "Starting population 2 iteration 0\n",
      "Started at 10/24/2021, 13:45:38\n",
      "################################################\n",
      "################################################\n",
      "The function - generationStart - has just started at 1635036338.243551\n",
      "\n",
      " ****** Running generation 0 ****** \n",
      "\n",
      "The function - generationStart - took 4.291534423828125e-05 seconds to complete\n",
      "The function - pre_backprop - has just started at 1635036338.243607\n",
      "The function - pre_backprop - took 2.09808349609375e-05 seconds to complete\n",
      "The function - backprop - has just started at 1635036338.243638\n",
      "about to start backprop with 100 epochs\n",
      "mat1 and mat2 shapes cannot be multiplied (150x2 and 4x3)\n",
      "layer id: 1\n",
      "layer input: 1\n",
      "{'training': True, '_parameters': OrderedDict([('weight_1', Parameter containing:\n",
      "tensor([[-1.8317,  0.0731,  0.7178],\n",
      "        [ 1.0910, -0.2381, -0.4458],\n",
      "        [ 0.3871,  0.3958, -0.3185],\n",
      "        [ 0.5241,  0.1177,  1.5229]], dtype=torch.float64, requires_grad=True)), ('weight_0', Parameter containing:\n",
      "tensor([], size=(0, 4), dtype=torch.float64, requires_grad=True)), ('bias_1', Parameter containing:\n",
      "tensor([ 0.6730,  0.9789, -0.2759], dtype=torch.float64, requires_grad=True)), ('bias_0', Parameter containing:\n",
      "tensor([], dtype=torch.float64, requires_grad=True))]), '_buffers': OrderedDict(), '_non_persistent_buffers_set': set(), '_backward_hooks': OrderedDict(), '_is_full_backward_hook': None, '_forward_hooks': OrderedDict(), '_forward_pre_hooks': OrderedDict(), '_state_dict_hooks': OrderedDict(), '_load_state_dict_pre_hooks': OrderedDict(), '_modules': OrderedDict([('criterion', BCEWithLogitsLoss())]), 'genome': <neat.genome.DefaultGenome object at 0x7f9768943be0>, 'config': <neat.config.Config object at 0x7f9768943ca0>, 'valid': True, 'layers': {1: {'nodes': {0: {'depth': 1, 'output_ids': [], 'input_ids': [-1, -2, -3, -4], 'output_layers': [], 'needs_skip': False, 'id': 0, 'input_layers': [0, 0, 0, 0], 'skip_layer_input': False, 'layer_index': 0}, 1: {'depth': 1, 'output_ids': [], 'input_ids': [-1, -2, -3, -4], 'output_layers': [], 'needs_skip': False, 'id': 1, 'input_layers': [0, 0, 0, 0], 'skip_layer_input': False, 'layer_index': 1}, 2: {'depth': 1, 'output_ids': [], 'input_ids': [-1, -2, -3, -4], 'output_layers': [], 'needs_skip': False, 'id': 2, 'input_layers': [0, 0, 0, 0], 'skip_layer_input': False, 'layer_index': 2}}, 'is_output_layer': True, 'is_input_layer': False, 'layer_type': 'OUTPUT', 'input_layers': [0], 'input_shape': 4, 'weights_shape': (4, 3), 'out_weights': [], 'bias': [0.6730119275659265, 0.978863154124615, -0.27585930536131154], 'in_weights': [[0, 0, 0, 0], [0, 0, 0, 0], [0, 0, 0, 0]], 'input_weights': array([[-1.83171014,  0.07311335,  0.71783766],\n",
      "       [ 1.09103747, -0.23812014, -0.44580105],\n",
      "       [ 0.38705868,  0.39579941, -0.31845644],\n",
      "       [ 0.52413737,  0.11767469,  1.5228879 ]]), 'input_map': {(-1, 0): (0, 0), (-1, 1): (0, 1), (-1, 2): (0, 2), (-2, 0): (1, 0), (-2, 1): (1, 1), (-2, 2): (1, 2), (-3, 0): (2, 0), (-3, 1): (2, 1), (-3, 2): (2, 2), (-4, 0): (3, 0), (-4, 1): (3, 1), (-4, 2): (3, 2)}}, 0: {'nodes': {-1: {'depth': 0, 'output_ids': [0, 1, 2], 'input_ids': [], 'output_layers': [1, 1, 1], 'needs_skip': False, 'id': -1, 'input_layers': [], 'skip_layer_input': False, 'layer_index': 0}, -2: {'depth': 0, 'output_ids': [0, 1, 2], 'input_ids': [], 'output_layers': [1, 1, 1], 'needs_skip': False, 'id': -2, 'input_layers': [], 'skip_layer_input': False, 'layer_index': 1}, -3: {'depth': 0, 'output_ids': [0, 1, 2], 'input_ids': [], 'output_layers': [1, 1, 1], 'needs_skip': False, 'id': -3, 'input_layers': [], 'skip_layer_input': False, 'layer_index': 2}, -4: {'depth': 0, 'output_ids': [0, 1, 2], 'input_ids': [], 'output_layers': [1, 1, 1], 'needs_skip': False, 'id': -4, 'input_layers': [], 'skip_layer_input': False, 'layer_index': 3}}, 'is_output_layer': False, 'is_input_layer': True, 'layer_type': 'INPUT', 'input_layers': [], 'input_shape': 0, 'weights_shape': (0, 4), 'in_weights': [], 'bias': [], 'out_weights': [[0, 0, 0], [0, 0, 0], [0, 0, 0], [0, 0, 0]], 'input_weights': array([], shape=(0, 4), dtype=float64), 'input_map': {}}}, 'node_tracker': {0: {'depth': 1, 'output_ids': [], 'input_ids': [-1, -2, -3, -4], 'output_layers': [], 'needs_skip': False, 'id': 0, 'input_layers': [0, 0, 0, 0], 'skip_layer_input': False, 'layer_index': 0}, 1: {'depth': 1, 'output_ids': [], 'input_ids': [-1, -2, -3, -4], 'output_layers': [], 'needs_skip': False, 'id': 1, 'input_layers': [0, 0, 0, 0], 'skip_layer_input': False, 'layer_index': 1}, 2: {'depth': 1, 'output_ids': [], 'input_ids': [-1, -2, -3, -4], 'output_layers': [], 'needs_skip': False, 'id': 2, 'input_layers': [0, 0, 0, 0], 'skip_layer_input': False, 'layer_index': 2}, -1: {'depth': 0, 'output_ids': [0, 1, 2], 'input_ids': [], 'output_layers': [1, 1, 1], 'needs_skip': False, 'id': -1, 'input_layers': [], 'skip_layer_input': False, 'layer_index': 0}, -2: {'depth': 0, 'output_ids': [0, 1, 2], 'input_ids': [], 'output_layers': [1, 1, 1], 'needs_skip': False, 'id': -2, 'input_layers': [], 'skip_layer_input': False, 'layer_index': 1}, -3: {'depth': 0, 'output_ids': [0, 1, 2], 'input_ids': [], 'output_layers': [1, 1, 1], 'needs_skip': False, 'id': -3, 'input_layers': [], 'skip_layer_input': False, 'layer_index': 2}, -4: {'depth': 0, 'output_ids': [0, 1, 2], 'input_ids': [], 'output_layers': [1, 1, 1], 'needs_skip': False, 'id': -4, 'input_layers': [], 'skip_layer_input': False, 'layer_index': 3}}, 'weights': {1: Parameter containing:\n",
      "tensor([[-1.8317,  0.0731,  0.7178],\n",
      "        [ 1.0910, -0.2381, -0.4458],\n",
      "        [ 0.3871,  0.3958, -0.3185],\n",
      "        [ 0.5241,  0.1177,  1.5229]], dtype=torch.float64, requires_grad=True), 0: Parameter containing:\n",
      "tensor([], size=(0, 4), dtype=torch.float64, requires_grad=True)}, 'biases': {1: Parameter containing:\n",
      "tensor([ 0.6730,  0.9789, -0.2759], dtype=torch.float64, requires_grad=True), 0: Parameter containing:\n",
      "tensor([], dtype=torch.float64, requires_grad=True)}, 'layer_types': {1: 'OUTPUT', 0: 'INPUT'}, 'layer_inputs': {1: [0], 0: []}, 'n_layers': 2, '_outputs': {0: tensor([[-0.9007,  1.0190],\n",
      "        [-1.1430, -0.1320],\n",
      "        [-1.3854,  0.3284],\n",
      "        [-1.5065,  0.0982],\n",
      "        [-1.0218,  1.2492],\n",
      "        [-0.5372,  1.9398],\n",
      "        [-1.5065,  0.7888],\n",
      "        [-1.0218,  0.7888],\n",
      "        [-1.7489, -0.3622],\n",
      "        [-1.1430,  0.0982],\n",
      "        [-0.5372,  1.4794],\n",
      "        [-1.2642,  0.7888],\n",
      "        [-1.2642, -0.1320],\n",
      "        [-1.8700, -0.1320],\n",
      "        [-0.0525,  2.1700],\n",
      "        [-0.1737,  3.0908],\n",
      "        [-0.5372,  1.9398],\n",
      "        [-0.9007,  1.0190],\n",
      "        [-0.1737,  1.7096],\n",
      "        [-0.9007,  1.7096],\n",
      "        [-0.5372,  0.7888],\n",
      "        [-0.9007,  1.4794],\n",
      "        [-1.5065,  1.2492],\n",
      "        [-0.9007,  0.5586],\n",
      "        [-1.2642,  0.7888],\n",
      "        [-1.0218, -0.1320],\n",
      "        [-1.0218,  0.7888],\n",
      "        [-0.7795,  1.0190],\n",
      "        [-0.7795,  0.7888],\n",
      "        [-1.3854,  0.3284],\n",
      "        [-1.2642,  0.0982],\n",
      "        [-0.5372,  0.7888],\n",
      "        [-0.7795,  2.4002],\n",
      "        [-0.4160,  2.6304],\n",
      "        [-1.1430,  0.0982],\n",
      "        [-1.0218,  0.3284],\n",
      "        [-0.4160,  1.0190],\n",
      "        [-1.1430,  1.2492],\n",
      "        [-1.7489, -0.1320],\n",
      "        [-0.9007,  0.7888],\n",
      "        [-1.0218,  1.0190],\n",
      "        [-1.6277, -1.7434],\n",
      "        [-1.7489,  0.3284],\n",
      "        [-1.0218,  1.0190],\n",
      "        [-0.9007,  1.7096],\n",
      "        [-1.2642, -0.1320],\n",
      "        [-0.9007,  1.7096],\n",
      "        [-1.5065,  0.3284],\n",
      "        [-0.6583,  1.4794],\n",
      "        [-1.0218,  0.5586],\n",
      "        [ 1.4015,  0.3284],\n",
      "        [ 0.6745,  0.3284],\n",
      "        [ 1.2803,  0.0982],\n",
      "        [-0.4160, -1.7434],\n",
      "        [ 0.7957, -0.5924],\n",
      "        [-0.1737, -0.5924],\n",
      "        [ 0.5533,  0.5586],\n",
      "        [-1.1430, -1.5132],\n",
      "        [ 0.9168, -0.3622],\n",
      "        [-0.7795, -0.8226],\n",
      "        [-1.0218, -2.4339],\n",
      "        [ 0.0687, -0.1320],\n",
      "        [ 0.1898, -1.9736],\n",
      "        [ 0.3110, -0.3622],\n",
      "        [-0.2948, -0.3622],\n",
      "        [ 1.0380,  0.0982],\n",
      "        [-0.2948, -0.1320],\n",
      "        [-0.0525, -0.8226],\n",
      "        [ 0.4322, -1.9736],\n",
      "        [-0.2948, -1.2830],\n",
      "        [ 0.0687,  0.3284],\n",
      "        [ 0.3110, -0.5924],\n",
      "        [ 0.5533, -1.2830],\n",
      "        [ 0.3110, -0.5924],\n",
      "        [ 0.6745, -0.3622],\n",
      "        [ 0.9168, -0.1320],\n",
      "        [ 1.1592, -0.5924],\n",
      "        [ 1.0380, -0.1320],\n",
      "        [ 0.1898, -0.3622],\n",
      "        [-0.1737, -1.0528],\n",
      "        [-0.4160, -1.5132],\n",
      "        [-0.4160, -1.5132],\n",
      "        [-0.0525, -0.8226],\n",
      "        [ 0.1898, -0.8226],\n",
      "        [-0.5372, -0.1320],\n",
      "        [ 0.1898,  0.7888],\n",
      "        [ 1.0380,  0.0982],\n",
      "        [ 0.5533, -1.7434],\n",
      "        [-0.2948, -0.1320],\n",
      "        [-0.4160, -1.2830],\n",
      "        [-0.4160, -1.0528],\n",
      "        [ 0.3110, -0.1320],\n",
      "        [-0.0525, -1.0528],\n",
      "        [-1.0218, -1.7434],\n",
      "        [-0.2948, -0.8226],\n",
      "        [-0.1737, -0.1320],\n",
      "        [-0.1737, -0.3622],\n",
      "        [ 0.4322, -0.3622],\n",
      "        [-0.9007, -1.2830],\n",
      "        [-0.1737, -0.5924],\n",
      "        [ 0.5533,  0.5586],\n",
      "        [-0.0525, -0.8226],\n",
      "        [ 1.5227, -0.1320],\n",
      "        [ 0.5533, -0.3622],\n",
      "        [ 0.7957, -0.1320],\n",
      "        [ 2.1285, -0.1320],\n",
      "        [-1.1430, -1.2830],\n",
      "        [ 1.7650, -0.3622],\n",
      "        [ 1.0380, -1.2830],\n",
      "        [ 1.6438,  1.2492],\n",
      "        [ 0.7957,  0.3284],\n",
      "        [ 0.6745, -0.8226],\n",
      "        [ 1.1592, -0.1320],\n",
      "        [-0.1737, -1.2830],\n",
      "        [-0.0525, -0.5924],\n",
      "        [ 0.6745,  0.3284],\n",
      "        [ 0.7957, -0.1320],\n",
      "        [ 2.2497,  1.7096],\n",
      "        [ 2.2497, -1.0528],\n",
      "        [ 0.1898, -1.9736],\n",
      "        [ 1.2803,  0.3284],\n",
      "        [-0.2948, -0.5924],\n",
      "        [ 2.2497, -0.5924],\n",
      "        [ 0.5533, -0.8226],\n",
      "        [ 1.0380,  0.5586],\n",
      "        [ 1.6438,  0.3284],\n",
      "        [ 0.4322, -0.5924],\n",
      "        [ 0.3110, -0.1320],\n",
      "        [ 0.6745, -0.5924],\n",
      "        [ 1.6438, -0.1320],\n",
      "        [ 1.8862, -0.5924],\n",
      "        [ 2.4920,  1.7096],\n",
      "        [ 0.6745, -0.5924],\n",
      "        [ 0.5533, -0.5924],\n",
      "        [ 0.3110, -1.0528],\n",
      "        [ 2.2497, -0.1320],\n",
      "        [ 0.5533,  0.7888],\n",
      "        [ 0.6745,  0.0982],\n",
      "        [ 0.1898, -0.1320],\n",
      "        [ 1.2803,  0.0982],\n",
      "        [ 1.0380,  0.0982],\n",
      "        [ 1.2803,  0.0982],\n",
      "        [-0.0525, -0.8226],\n",
      "        [ 1.1592,  0.3284],\n",
      "        [ 1.0380,  0.5586],\n",
      "        [ 1.0380, -0.1320],\n",
      "        [ 0.5533, -1.2830],\n",
      "        [ 0.7957, -0.1320],\n",
      "        [ 0.4322,  0.7888],\n",
      "        [ 0.0687, -0.1320]], dtype=torch.float64)}, 'optimiser': <class 'torch.optim.adadelta.Adadelta'>, 'optimizer': <class 'torch.optim.adadelta.Adadelta'>}\n",
      "======================\n",
      "{1: {'nodes': {0: {'depth': 1, 'output_ids': [], 'input_ids': [-1, -2, -3, -4], 'output_layers': [], 'needs_skip': False, 'id': 0, 'input_layers': [0, 0, 0, 0], 'skip_layer_input': False, 'layer_index': 0}, 1: {'depth': 1, 'output_ids': [], 'input_ids': [-1, -2, -3, -4], 'output_layers': [], 'needs_skip': False, 'id': 1, 'input_layers': [0, 0, 0, 0], 'skip_layer_input': False, 'layer_index': 1}, 2: {'depth': 1, 'output_ids': [], 'input_ids': [-1, -2, -3, -4], 'output_layers': [], 'needs_skip': False, 'id': 2, 'input_layers': [0, 0, 0, 0], 'skip_layer_input': False, 'layer_index': 2}}, 'is_output_layer': True, 'is_input_layer': False, 'layer_type': 'OUTPUT', 'input_layers': [0], 'input_shape': 4, 'weights_shape': (4, 3), 'out_weights': [], 'bias': [0.6730119275659265, 0.978863154124615, -0.27585930536131154], 'in_weights': [[0, 0, 0, 0], [0, 0, 0, 0], [0, 0, 0, 0]], 'input_weights': array([[-1.83171014,  0.07311335,  0.71783766],\n",
      "       [ 1.09103747, -0.23812014, -0.44580105],\n",
      "       [ 0.38705868,  0.39579941, -0.31845644],\n",
      "       [ 0.52413737,  0.11767469,  1.5228879 ]]), 'input_map': {(-1, 0): (0, 0), (-1, 1): (0, 1), (-1, 2): (0, 2), (-2, 0): (1, 0), (-2, 1): (1, 1), (-2, 2): (1, 2), (-3, 0): (2, 0), (-3, 1): (2, 1), (-3, 2): (2, 2), (-4, 0): (3, 0), (-4, 1): (3, 1), (-4, 2): (3, 2)}}, 0: {'nodes': {-1: {'depth': 0, 'output_ids': [0, 1, 2], 'input_ids': [], 'output_layers': [1, 1, 1], 'needs_skip': False, 'id': -1, 'input_layers': [], 'skip_layer_input': False, 'layer_index': 0}, -2: {'depth': 0, 'output_ids': [0, 1, 2], 'input_ids': [], 'output_layers': [1, 1, 1], 'needs_skip': False, 'id': -2, 'input_layers': [], 'skip_layer_input': False, 'layer_index': 1}, -3: {'depth': 0, 'output_ids': [0, 1, 2], 'input_ids': [], 'output_layers': [1, 1, 1], 'needs_skip': False, 'id': -3, 'input_layers': [], 'skip_layer_input': False, 'layer_index': 2}, -4: {'depth': 0, 'output_ids': [0, 1, 2], 'input_ids': [], 'output_layers': [1, 1, 1], 'needs_skip': False, 'id': -4, 'input_layers': [], 'skip_layer_input': False, 'layer_index': 3}}, 'is_output_layer': False, 'is_input_layer': True, 'layer_type': 'INPUT', 'input_layers': [], 'input_shape': 0, 'weights_shape': (0, 4), 'in_weights': [], 'bias': [], 'out_weights': [[0, 0, 0], [0, 0, 0], [0, 0, 0], [0, 0, 0]], 'input_weights': array([], shape=(0, 4), dtype=float64), 'input_map': {}}}\n",
      "Key: 1\n",
      "Fitness: None\n",
      "Nodes:\n",
      "\t0 DefaultNodeGene(key=0, bias=0.6730119275659265, response=1.0, activation=sigmoid, aggregation=sum)\n",
      "\t1 DefaultNodeGene(key=1, bias=0.978863154124615, response=1.0, activation=sigmoid, aggregation=sum)\n",
      "\t2 DefaultNodeGene(key=2, bias=-0.27585930536131154, response=1.0, activation=sigmoid, aggregation=sum)\n",
      "Connections:\n",
      "\tDefaultConnectionGene(key=(-4, 0), weight=0.5241373674753026, enabled=True)\n",
      "\tDefaultConnectionGene(key=(-4, 1), weight=0.11767469118746612, enabled=True)\n",
      "\tDefaultConnectionGene(key=(-4, 2), weight=1.5228879016861838, enabled=True)\n",
      "\tDefaultConnectionGene(key=(-3, 0), weight=0.3870586777051388, enabled=True)\n",
      "\tDefaultConnectionGene(key=(-3, 1), weight=0.39579940617382364, enabled=True)\n",
      "\tDefaultConnectionGene(key=(-3, 2), weight=-0.3184564413529643, enabled=True)\n",
      "\tDefaultConnectionGene(key=(-2, 0), weight=1.0910374671885992, enabled=True)\n",
      "\tDefaultConnectionGene(key=(-2, 1), weight=-0.2381201399744348, enabled=True)\n",
      "\tDefaultConnectionGene(key=(-2, 2), weight=-0.445801051389392, enabled=True)\n",
      "\tDefaultConnectionGene(key=(-1, 0), weight=-1.8317101438535515, enabled=True)\n",
      "\tDefaultConnectionGene(key=(-1, 1), weight=0.07311335287229406, enabled=True)\n",
      "\tDefaultConnectionGene(key=(-1, 2), weight=0.7178376602281747, enabled=True)\n",
      "the reached nodes are\n",
      "[-1, -2, -3, -4, 0, 1, 2, 0, 1, 2, 0, 1, 2, 0, 1, 2]\n",
      "the reached nodes are\n",
      "[0, 1, 2, -1, -2, -3, -4, -1, -2, -3, -4, -1, -2, -3, -4]\n",
      "True\n",
      "---===---===---===\n",
      "The function - backprop - took 0.017706871032714844 seconds to complete\n"
     ]
    },
    {
     "ename": "KeyError",
     "evalue": "1",
     "output_type": "error",
     "traceback": [
      "\u001b[0;31m---------------------------------------------------------------------------\u001b[0m",
      "\u001b[0;31mKeyError\u001b[0m                                  Traceback (most recent call last)",
      "\u001b[0;32m<ipython-input-16-96c5e68a17fe>\u001b[0m in \u001b[0;36m<module>\u001b[0;34m\u001b[0m\n\u001b[1;32m     19\u001b[0m         \u001b[0mp\u001b[0m \u001b[0;34m=\u001b[0m \u001b[0minstantiate_population\u001b[0m\u001b[0;34m(\u001b[0m\u001b[0mconfig\u001b[0m\u001b[0;34m,\u001b[0m \u001b[0mxs\u001b[0m\u001b[0;34m,\u001b[0m \u001b[0mys\u001b[0m\u001b[0;34m,\u001b[0m \u001b[0msaveLocation\u001b[0m\u001b[0;34m)\u001b[0m\u001b[0;34m\u001b[0m\u001b[0;34m\u001b[0m\u001b[0m\n\u001b[1;32m     20\u001b[0m         \u001b[0;31m# Run for up to nGenerations generations.\u001b[0m\u001b[0;34m\u001b[0m\u001b[0;34m\u001b[0m\u001b[0;34m\u001b[0m\u001b[0m\n\u001b[0;32m---> 21\u001b[0;31m         \u001b[0mwinner\u001b[0m \u001b[0;34m=\u001b[0m \u001b[0mp\u001b[0m\u001b[0;34m.\u001b[0m\u001b[0mrun\u001b[0m\u001b[0;34m(\u001b[0m\u001b[0meval_genomes\u001b[0m\u001b[0;34m,\u001b[0m \u001b[0mmaxNGenerations\u001b[0m\u001b[0;34m)\u001b[0m\u001b[0;34m\u001b[0m\u001b[0;34m\u001b[0m\u001b[0m\n\u001b[0m\u001b[1;32m     22\u001b[0m \u001b[0;34m\u001b[0m\u001b[0m\n\u001b[1;32m     23\u001b[0m         \u001b[0mg\u001b[0m \u001b[0;34m=\u001b[0m \u001b[0mp\u001b[0m\u001b[0;34m.\u001b[0m\u001b[0mbest_genome\u001b[0m\u001b[0;34m\u001b[0m\u001b[0;34m\u001b[0m\u001b[0m\n",
      "\u001b[0;32m~/dev-mtm/phd-neat-experiments/explaneat/core/backproppop.py\u001b[0m in \u001b[0;36mrun\u001b[0;34m(self, fitness_function, n, nEpochs)\u001b[0m\n\u001b[1;32m    172\u001b[0m \u001b[0;34m\u001b[0m\u001b[0m\n\u001b[1;32m    173\u001b[0m             \u001b[0;32mwith\u001b[0m \u001b[0mMethodTimer\u001b[0m\u001b[0;34m(\u001b[0m\u001b[0;34m'backprop'\u001b[0m\u001b[0;34m)\u001b[0m\u001b[0;34m:\u001b[0m\u001b[0;34m\u001b[0m\u001b[0;34m\u001b[0m\u001b[0m\n\u001b[0;32m--> 174\u001b[0;31m                 \u001b[0mself\u001b[0m\u001b[0;34m.\u001b[0m\u001b[0mbackpropagate\u001b[0m\u001b[0;34m(\u001b[0m\u001b[0mself\u001b[0m\u001b[0;34m.\u001b[0m\u001b[0mxs\u001b[0m\u001b[0;34m,\u001b[0m \u001b[0mself\u001b[0m\u001b[0;34m.\u001b[0m\u001b[0mys\u001b[0m\u001b[0;34m,\u001b[0m \u001b[0mnEpochs\u001b[0m\u001b[0;34m=\u001b[0m\u001b[0mnEpochs\u001b[0m\u001b[0;34m)\u001b[0m\u001b[0;34m\u001b[0m\u001b[0;34m\u001b[0m\u001b[0m\n\u001b[0m\u001b[1;32m    175\u001b[0m \u001b[0;34m\u001b[0m\u001b[0m\n\u001b[1;32m    176\u001b[0m             \u001b[0;32mwith\u001b[0m \u001b[0mMethodTimer\u001b[0m\u001b[0;34m(\u001b[0m\u001b[0;34m'post_backprop'\u001b[0m\u001b[0;34m)\u001b[0m\u001b[0;34m:\u001b[0m\u001b[0;34m\u001b[0m\u001b[0;34m\u001b[0m\u001b[0m\n",
      "\u001b[0;32m~/dev-mtm/phd-neat-experiments/explaneat/core/backproppop.py\u001b[0m in \u001b[0;36mbackpropagate\u001b[0;34m(self, xs, ys, nEpochs)\u001b[0m\n\u001b[1;32m    120\u001b[0m             \u001b[0moptimizer\u001b[0m\u001b[0;34m.\u001b[0m\u001b[0mzero_grad\u001b[0m\u001b[0;34m(\u001b[0m\u001b[0;34m)\u001b[0m\u001b[0;34m\u001b[0m\u001b[0;34m\u001b[0m\u001b[0m\n\u001b[1;32m    121\u001b[0m             \u001b[0mlosses\u001b[0m \u001b[0;34m=\u001b[0m \u001b[0;34m[\u001b[0m\u001b[0;34m]\u001b[0m\u001b[0;34m\u001b[0m\u001b[0;34m\u001b[0m\u001b[0m\n\u001b[0;32m--> 122\u001b[0;31m             \u001b[0mpreBPLoss\u001b[0m \u001b[0;34m=\u001b[0m \u001b[0mF\u001b[0m\u001b[0;34m.\u001b[0m\u001b[0mmse_loss\u001b[0m\u001b[0;34m(\u001b[0m\u001b[0mnet\u001b[0m\u001b[0;34m.\u001b[0m\u001b[0mforward\u001b[0m\u001b[0;34m(\u001b[0m\u001b[0mxs\u001b[0m\u001b[0;34m)\u001b[0m\u001b[0;34m,\u001b[0m \u001b[0mys\u001b[0m\u001b[0;34m)\u001b[0m\u001b[0;34m.\u001b[0m\u001b[0msqrt\u001b[0m\u001b[0;34m(\u001b[0m\u001b[0;34m)\u001b[0m\u001b[0;34m\u001b[0m\u001b[0;34m\u001b[0m\u001b[0m\n\u001b[0m\u001b[1;32m    123\u001b[0m             \u001b[0;32mfor\u001b[0m \u001b[0mi\u001b[0m \u001b[0;32min\u001b[0m \u001b[0mrange\u001b[0m\u001b[0;34m(\u001b[0m\u001b[0mnEpochs\u001b[0m\u001b[0;34m)\u001b[0m\u001b[0;34m:\u001b[0m\u001b[0;34m\u001b[0m\u001b[0;34m\u001b[0m\u001b[0m\n\u001b[1;32m    124\u001b[0m                 \u001b[0mpreds\u001b[0m \u001b[0;34m=\u001b[0m \u001b[0mnet\u001b[0m\u001b[0;34m.\u001b[0m\u001b[0mforward\u001b[0m\u001b[0;34m(\u001b[0m\u001b[0mxs\u001b[0m\u001b[0;34m)\u001b[0m\u001b[0;34m\u001b[0m\u001b[0;34m\u001b[0m\u001b[0m\n",
      "\u001b[0;32m~/dev-mtm/phd-neat-experiments/explaneat/core/neuralneat.py\u001b[0m in \u001b[0;36mforward\u001b[0;34m(self, x)\u001b[0m\n\u001b[1;32m    290\u001b[0m \u001b[0;34m\u001b[0m\u001b[0m\n\u001b[1;32m    291\u001b[0m             \u001b[0;32mif\u001b[0m \u001b[0mlayer_type\u001b[0m \u001b[0;34m==\u001b[0m \u001b[0mLAYER_TYPE_OUTPUT\u001b[0m\u001b[0;34m:\u001b[0m\u001b[0;34m\u001b[0m\u001b[0;34m\u001b[0m\u001b[0m\n\u001b[0;32m--> 292\u001b[0;31m                 \u001b[0;32mreturn\u001b[0m \u001b[0mself\u001b[0m\u001b[0;34m.\u001b[0m\u001b[0m_outputs\u001b[0m\u001b[0;34m[\u001b[0m\u001b[0mlayer_id\u001b[0m\u001b[0;34m]\u001b[0m\u001b[0;34m\u001b[0m\u001b[0;34m\u001b[0m\u001b[0m\n\u001b[0m\u001b[1;32m    293\u001b[0m \u001b[0;34m\u001b[0m\u001b[0m\n\u001b[1;32m    294\u001b[0m     \u001b[0;32mdef\u001b[0m \u001b[0moptimise\u001b[0m\u001b[0;34m(\u001b[0m\u001b[0mself\u001b[0m\u001b[0;34m,\u001b[0m \u001b[0mxs\u001b[0m\u001b[0;34m,\u001b[0m \u001b[0mys\u001b[0m\u001b[0;34m,\u001b[0m \u001b[0mnEpochs\u001b[0m \u001b[0;34m=\u001b[0m \u001b[0;36m100\u001b[0m\u001b[0;34m)\u001b[0m\u001b[0;34m:\u001b[0m\u001b[0;34m\u001b[0m\u001b[0;34m\u001b[0m\u001b[0m\n",
      "\u001b[0;31mKeyError\u001b[0m: 1"
     ]
    }
   ],
   "source": [
    "for pop_size in population_points:\n",
    "    for iteration_no in range(5):\n",
    "        \n",
    "        start_time = datetime.now()\n",
    "        \n",
    "        print(\"################################################\")\n",
    "        print(\"################################################\")\n",
    "        print(\"Starting population {} iteration {}\".format(pop_size, iteration_no))\n",
    "        print(\"Started at {}\".format(start_time.strftime(\"%m/%d/%Y, %H:%M:%S\")))\n",
    "        print(\"################################################\")\n",
    "        print(\"################################################\")\n",
    "        \n",
    "        \n",
    "        config = deepcopy(base_config)\n",
    "        config.pop_size = pop_size\n",
    "        \n",
    "        saveLocation = saveLocationTemplate.format(pop_size, iteration_no)\n",
    "        \n",
    "        p = instantiate_population(config, xs, ys, saveLocation)\n",
    "        # Run for up to nGenerations generations.\n",
    "        winner = p.run(eval_genomes, maxNGenerations)\n",
    "        \n",
    "        g = p.best_genome\n",
    "\n",
    "        \n",
    "        end_time = datetime.now()\n",
    "        \n",
    "        p.reporters.reporters[2].save_checkpoint(p.config, p.population, p.species, str(p.generation) + \"-final\")  \n",
    "        \n",
    "        winner_net = neat.nn.FeedForwardNetwork.create(winner, config)\n",
    "\n",
    "        results = []\n",
    "        for xi, xo in zip(xs, ys):\n",
    "            output = winner_net.activate(xi)\n",
    "            results.append([xi[0], xi[1], xo, output])\n",
    "\n",
    "        df = pd.DataFrame(results)\n",
    "        df.to_csv(os.path.join(saveLocation, 'results.csv'))\n",
    "        \n",
    "        ancestry = p.reporters.reporters[3].trace_ancestry_of_species(g.key, p.reproduction.ancestors) \n",
    "\n",
    "        ancestors = {\n",
    "            k: v['genome'] for k, v in p.reporters.reporters[3].ancestry.items()\n",
    "        }\n",
    "    \n",
    "#         visualize.create_ancestry_video(p.config, \n",
    "#                                         g, \n",
    "#                                         ancestry, \n",
    "#                                         ancestors, \n",
    "#                                         p.reporters.reporters[1], \n",
    "#                                         pathname=saveLocation)\n",
    "        print(\"################################################\")\n",
    "        print(\"################################################\")\n",
    "        print(\"Have finished population {} iteration {}\".format(pop_size, iteration_no))\n",
    "        print(\"Started at {}\".format(start_time.strftime(\"%m/%d/%Y, %H:%M:%S\")))\n",
    "        print(\"The time is {}\".format(end_time.strftime(\"%m/%d/%Y, %H:%M:%S\")))\n",
    "        print(\"################################################\")\n",
    "        print(\"################################################\")\n",
    "    "
   ]
  },
  {
   "cell_type": "code",
   "execution_count": null,
   "metadata": {},
   "outputs": [],
   "source": []
  }
 ],
 "metadata": {
  "kernelspec": {
   "display_name": "Python 3",
   "language": "python",
   "name": "python3"
  },
  "language_info": {
   "codemirror_mode": {
    "name": "ipython",
    "version": 3
   },
   "file_extension": ".py",
   "mimetype": "text/x-python",
   "name": "python",
   "nbconvert_exporter": "python",
   "pygments_lexer": "ipython3",
   "version": "3.6.6"
  }
 },
 "nbformat": 4,
 "nbformat_minor": 2
}