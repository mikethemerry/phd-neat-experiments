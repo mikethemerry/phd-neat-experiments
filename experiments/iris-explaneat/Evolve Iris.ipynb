{
 "cells": [
  {
   "cell_type": "code",
   "execution_count": 1,
   "metadata": {},
   "outputs": [],
   "source": [
    "from __future__ import print_function\n",
    "import os\n",
    "import neat\n",
    "\n",
    "import pandas as pd\n",
    "import numpy as np\n",
    "import random\n",
    "\n",
    "import torch\n",
    "import torch.nn as nn\n",
    "import torch.optim as optim\n",
    "\n",
    "\n",
    "from explaneat.core.backprop import NeatNet\n",
    "from explaneat.core import backprop\n",
    "from explaneat.core.backproppop import BackpropPopulation\n",
    "from explaneat.visualization import visualize\n",
    "\n",
    "from sklearn import datasets\n",
    "from sklearn import metrics\n",
    "from sklearn.preprocessing import StandardScaler\n"
   ]
  },
  {
   "cell_type": "code",
   "execution_count": 2,
   "metadata": {},
   "outputs": [],
   "source": [
    "random.seed(4242)\n",
    "nGenerations = 1"
   ]
  },
  {
   "cell_type": "code",
   "execution_count": 3,
   "metadata": {},
   "outputs": [],
   "source": [
    "def one_hot_encode(vals):\n",
    "    width = max(vals)\n",
    "    newVals = []\n",
    "    for val in vals:\n",
    "        blank = [0. for _ in range(width + 1)]\n",
    "        blank[val] = 1.\n",
    "        newVals.append(blank)\n",
    "    return np.asarray(newVals)\n"
   ]
  },
  {
   "cell_type": "code",
   "execution_count": 4,
   "metadata": {},
   "outputs": [],
   "source": [
    "iris = datasets.load_iris()\n",
    "xs_raw = iris.data[:, :2]  # we only take the first two features.\n",
    "scaler = StandardScaler()\n",
    "scaler.fit(xs_raw)\n",
    "xs = scaler.transform(xs_raw)\n",
    "ys = iris.target\n",
    "ys_onehot = one_hot_encode(ys)"
   ]
  },
  {
   "cell_type": "code",
   "execution_count": 5,
   "metadata": {},
   "outputs": [],
   "source": [
    "def eval_genomes(genomes, config):\n",
    "    loss = nn.CrossEntropyLoss()\n",
    "    for genome_id, genome in genomes:\n",
    "        net = neat.nn.FeedForwardNetwork.create(genome, config)\n",
    "        preds = []\n",
    "        for xi in xs:\n",
    "            preds.append(net.activate(xi))\n",
    "        genome.fitness = float(1./loss(torch.tensor(preds), torch.tensor(ys)))"
   ]
  },
  {
   "cell_type": "code",
   "execution_count": 6,
   "metadata": {},
   "outputs": [],
   "source": [
    "config_path = \"./config-iris-fast\""
   ]
  },
  {
   "cell_type": "code",
   "execution_count": 7,
   "metadata": {},
   "outputs": [],
   "source": [
    "config = neat.Config(neat.DefaultGenome, neat.DefaultReproduction,\n",
    "                     neat.DefaultSpeciesSet, neat.DefaultStagnation,\n",
    "                     config_path)\n",
    "\n",
    "# Create the population, which is the top-level object for a NEAT run.\n",
    "p = BackpropPopulation(config, xs, ys, criterion=nn.CrossEntropyLoss())\n",
    "\n",
    "# Add a stdout reporter to show progress in the terminal.\n",
    "p.add_reporter(neat.StdOutReporter(True))\n",
    "stats = neat.StatisticsReporter()\n",
    "p.add_reporter(stats)\n",
    "p.add_reporter(neat.Checkpointer(5))\n",
    "bpReporter = backprop.BackpropReporter(True)\n",
    "p.add_reporter(bpReporter)"
   ]
  },
  {
   "cell_type": "code",
   "execution_count": 8,
   "metadata": {},
   "outputs": [
    {
     "name": "stdout",
     "output_type": "stream",
     "text": [
      "\n",
      " ****** Running generation 0 ****** \n",
      "\n",
      "mean improvement: 0.0\n",
      "best improvement: tensor(0., grad_fn=<SubBackward0>)\n",
      "best loss: tensor(0.9079, grad_fn=<DivBackward0>)\n",
      "Population's average fitness: 0.89944 stdev: 0.13705\n",
      "Best fitness: 1.10148 - size: (3, 6) - species 1 - id 1\n",
      "ending generation %s\n",
      "Average adjusted fitness: 0.142\n",
      "Mean genetic distance 2.851, standard deviation 1.525\n",
      "Population of 6 members in 3 species:\n",
      "   ID   age  size  fitness  adj fit  stag\n",
      "  ====  ===  ====  =======  =======  ====\n",
      "     1    0     1      1.1    0.262     0\n",
      "     2    0     3      1.0    0.131     0\n",
      "     3    0     2      0.8    0.035     0\n",
      "Total extinctions: 0\n",
      "Generation time: 18.176 sec\n"
     ]
    }
   ],
   "source": [
    "# Run for up to nGenerations generations.\n",
    "winner = p.run(eval_genomes, nGenerations)"
   ]
  },
  {
   "cell_type": "code",
   "execution_count": 9,
   "metadata": {},
   "outputs": [
    {
     "name": "stderr",
     "output_type": "stream",
     "text": [
      "Warning: Could not load \"/opt/conda/lib/graphviz/libgvplugin_pango.so.6\" - file not found\n"
     ]
    },
    {
     "name": "stdout",
     "output_type": "stream",
     "text": [
      "Saving checkpoint to neat-checkpoint-1-final\n",
      "\n",
      "Best genome:\n",
      "Key: 1\n",
      "Fitness: 1.1014796495437622\n",
      "Nodes:\n",
      "\t0 DefaultNodeGene(key=0, bias=0.6730118989944458, response=1.0, activation=sigmoid, aggregation=sum)\n",
      "\t1 DefaultNodeGene(key=1, bias=0.9788631796836853, response=1.0, activation=sigmoid, aggregation=sum)\n",
      "\t2 DefaultNodeGene(key=2, bias=-0.2758592963218689, response=1.0, activation=sigmoid, aggregation=sum)\n",
      "Connections:\n",
      "\tDefaultConnectionGene(key=(-2, 0), weight=1.0910375118255615, enabled=True)\n",
      "\tDefaultConnectionGene(key=(-2, 1), weight=-0.23812013864517212, enabled=True)\n",
      "\tDefaultConnectionGene(key=(-2, 2), weight=-0.4458010494709015, enabled=True)\n",
      "\tDefaultConnectionGene(key=(-1, 0), weight=-1.8317101001739502, enabled=True)\n",
      "\tDefaultConnectionGene(key=(-1, 1), weight=0.073113352060318, enabled=True)\n",
      "\tDefaultConnectionGene(key=(-1, 2), weight=0.7178376317024231, enabled=True)\n",
      "\n",
      "Output:\n",
      "input array([-0.90068117,  1.01900435]), expected output 0, got [0.9999999651723205, 0.9661646945308718, 0.0010236292548024026]\n",
      "input array([-1.14301691, -0.13197948]), expected output 0, got [0.9999979821274683, 0.9903738750181851, 0.005554282334315722]\n",
      "input array([-1.38535265,  0.32841405]), expected output 0, got [0.9999999822066669, 0.9819583694519453, 0.0008380248199616171]\n",
      "input array([-1.50652052,  0.09821729]), expected output 0, got [0.9999999794087071, 0.9856088267953719, 0.0009061411209092933]\n",
      "input array([-1.02184904,  1.24920112]), expected output 0, got [0.9999999967295621, 0.9540631456489271, 0.00039691920812749476]\n",
      "input array([-0.53717756,  1.93979142]), expected output 0, got [0.9999999935986268, 0.9159403543184463, 0.00048487566737992726]\n",
      "input array([-1.50652052,  0.78880759]), expected output 0, got [0.9999999995240447, 0.9678426105142179, 0.00019452830149658556]\n",
      "input array([-1.02184904,  0.78880759]), expected output 0, got [0.9999999596957497, 0.9729226499773496, 0.001106815136490024]\n",
      "input array([-1.74885626, -0.36217625]), expected output 0, got [0.9999999724236849, 0.990862595230828, 0.0010594155419820393]\n",
      "input array([-1.14301691,  0.09821729]), expected output 0, got [0.9999994251932249, 0.9873769744996744, 0.0033323948748298507]\n",
      "input array([-0.53717756,  1.47939788]), expected output 0, got [0.999999921110706, 0.949624872852658, 0.0013518702868940875]\n",
      "input array([-1.26418478,  0.78880759]), expected output 0, got [0.9999999956201571, 0.970488430400968, 0.00046409838859738347]\n",
      "input array([-1.26418478, -0.13197948]), expected output 0, got [0.9999993348062675, 0.9899422868040622, 0.0036025274506481324]\n",
      "input array([-1.87002413, -0.13197948]), expected output 0, got [0.9999999974104901, 0.9874800397596591, 0.000410804594379306]\n",
      "input array([-0.05250608,  2.16998818]), expected output 0, got [0.9999998455864972, 0.9081732893410313, 0.0016510923559250991]\n",
      "input array([-0.17367395,  3.09077525]), expected output 0, got [0.9999999996648423, 0.7596839067868388, 0.00013746562393885167]\n",
      "input array([-0.53717756,  1.93979142]), expected output 0, got [0.9999999935986268, 0.9159403543184463, 0.00048487566737992726]\n",
      "input array([-0.90068117,  1.01900435]), expected output 0, got [0.9999999651723205, 0.9661646945308718, 0.0010236292548024026]\n",
      "input array([-0.17367395,  1.70959465]), expected output 0, got [0.9999993726876236, 0.9424257599009295, 0.002978535965581184]\n",
      "input array([-0.90068117,  1.70959465]), expected output 0, got [0.9999999991949791, 0.9261918492558018, 0.00021977068089018228]\n",
      "input array([-0.53717756,  0.78880759]), expected output 0, got [0.9999965870175762, 0.9772190635094303, 0.006270655018504721]\n",
      "input array([-0.90068117,  1.47939788]), expected output 0, got [0.9999999971739515, 0.9428746113938439, 0.00036706799467784237]\n",
      "input array([-1.50652052,  1.24920112]), expected output 0, got [0.9999999999613791, 0.9456425186184727, 6.971969783893223e-05]\n",
      "input array([-0.90068117,  0.55861082]), expected output 0, got [0.9999995707905035, 0.9801591958814034, 0.002851208324081291]\n",
      "input array([-1.26418478,  0.78880759]), expected output 0, got [0.9999999956201571, 0.970488430400968, 0.00046409838859738347]\n",
      "input array([-1.02184904, -0.13197948]), expected output 0, got [0.9999938787782343, 0.9907871156339245, 0.008554368646298804]\n",
      "input array([-1.02184904,  0.78880759]), expected output 0, got [0.9999999596957497, 0.9729226499773496, 0.001106815136490024]\n",
      "input array([-0.7795133 ,  1.01900435]), expected output 0, got [0.9999998943497143, 0.9675831952893065, 0.0015804208518125596]\n",
      "input array([-0.7795133 ,  0.78880759]), expected output 0, got [0.9999996291117813, 0.9751612252987617, 0.002637263685924183]\n",
      "input array([-1.38535265,  0.32841405]), expected output 0, got [0.9999999822066669, 0.9819583694519453, 0.0008380248199616171]\n",
      "input array([-1.26418478,  0.09821729]), expected output 0, got [0.9999998105145452, 0.9868128091071324, 0.002159707633881556]\n",
      "input array([-0.53717756,  0.78880759]), expected output 0, got [0.9999965870175762, 0.9772190635094303, 0.006270655018504721]\n",
      "input array([-0.7795133 ,  2.40018495]), expected output 0, got [0.9999999999435536, 0.8521658187320917, 7.284227440766225e-05]\n",
      "input array([-0.41600969,  2.63038172]), expected output 0, got [0.9999999995511493, 0.8334811111164246, 0.00016073895146448964]\n",
      "input array([-1.14301691,  0.09821729]), expected output 0, got [0.9999994251932249, 0.9873769744996744, 0.0033323948748298507]\n",
      "input array([-1.02184904,  0.32841405]), expected output 0, got [0.99999950329835, 0.9841678200311718, 0.003082455306432165]\n",
      "input array([-0.41600969,  1.01900435]), expected output 0, got [0.9999970507747493, 0.9715019966322754, 0.005801619989653252]\n",
      "input array([-1.14301691,  1.24920112]), expected output 0, got [0.9999999989218982, 0.9520823304406647, 0.0002569749111843158]\n",
      "input array([-1.74885626, -0.13197948]), expected output 0, got [0.9999999921446822, 0.9880160068007707, 0.0006344688337511772]\n",
      "input array([-0.90068117,  0.78880759]), expected output 0, got [0.9999998777364564, 0.9740654373849129, 0.0017087773583286039]\n",
      "input array([-1.02184904,  1.01900435]), expected output 0, got [0.9999999885190353, 0.9646863881330345, 0.0006628683900258912]\n",
      "input array([-1.62768839, -1.74335684]), expected output 0, got [0.999843451366753, 0.9982991570244444, 0.0343757026467567]\n",
      "input array([-1.74885626,  0.32841405]), expected output 0, got [0.9999999993625901, 0.9794470195182067, 0.00022746030752450572]\n",
      "input array([-1.02184904,  1.01900435]), expected output 0, got [0.9999999885190353, 0.9646863881330345, 0.0006628683900258912]\n",
      "input array([-0.90068117,  1.70959465]), expected output 0, got [0.9999999991949791, 0.9261918492558018, 0.00021977068089018228]\n",
      "input array([-1.26418478, -0.13197948]), expected output 0, got [0.9999993348062675, 0.9899422868040622, 0.0036025274506481324]\n",
      "input array([-0.90068117,  1.70959465]), expected output 0, got [0.9999999991949791, 0.9261918492558018, 0.00021977068089018228]\n",
      "input array([-1.50652052,  0.32841405]), expected output 0, got [0.9999999941344175, 0.9811566501472805, 0.0005426415752918154]\n",
      "input array([-0.65834543,  1.47939788]), expected output 0, got [0.9999999739940979, 0.9474632161811071, 0.0008755277944446593]\n",
      "input array([-1.02184904,  0.55861082]), expected output 0, got [0.9999998585108034, 0.9792792134336622, 0.0018475392613747526]\n",
      "input array([1.40150837, 0.32841405]), expected output 1, got [0.00046214693862480226, 0.9934103970517477, 0.9487750060638084]\n",
      "input array([0.67450115, 0.32841405]), expected output 1, got [0.26486516397197674, 0.9914215033915333, 0.5767823487349089]\n",
      "input array([1.2803405 , 0.09821729]), expected output 1, got [0.0003993751550712664, 0.994756080027153, 0.9524456430268644]\n",
      "input array([-0.41600969, -1.74335684]), expected output 1, got [0.08824668568929649, 0.9989071560933125, 0.7337080671390223]\n",
      "input array([ 0.79566902, -0.59237301]), expected output 1, got [0.0007814159408351231, 0.9972419396888812, 0.9425087196229798]\n",
      "input array([-0.17367395, -0.59237301]), expected output 1, got [0.8486632823945129, 0.9960736313646861, 0.3357610046853024]\n",
      "input array([0.55333328, 0.55861082]), expected output 1, got [0.7932545015504748, 0.9882433940001586, 0.34560250075082566]\n",
      "input array([-1.14301691, -1.51316008]), expected output 1, got [0.9962373632586279, 0.998126433919336, 0.10822924396292]\n",
      "input array([ 0.91683689, -0.36217625]), expected output 1, got [0.0009041806634676013, 0.996531948454246, 0.9381209008949665]\n",
      "input array([-0.7795133 , -0.82256978]), expected output 1, got [0.9975689524042867, 0.9962740625368973, 0.08757550229285645]\n",
      "input array([-1.02184904, -2.43394714]), expected output 1, got [0.3649548087885659, 0.9994003838188532, 0.5934813524769553]\n",
      "input array([ 0.06866179, -0.13197948]), expected output 1, got [0.8824920905409327, 0.9937973163112129, 0.30181424758529873]\n",
      "input array([ 0.18982966, -1.97355361]), expected output 1, got [0.00010731764384119041, 0.9993339141000768, 0.975898846805474]\n",
      "input array([ 0.31099753, -0.36217625]), expected output 1, got [0.18862545088524482, 0.9956758817954884, 0.6327946972958277]\n",
      "input array([-0.29484182, -0.36217625]), expected output 1, got [0.983530586870718, 0.9946096435047381, 0.16379659711207967]\n",
      "input array([1.03800476, 0.09821729]), expected output 1, got [0.0036631361371782353, 0.9942731046653184, 0.8935351749466852]\n",
      "input array([-0.29484182, -0.13197948]), expected output 1, got [0.9952526514414014, 0.9929220397817902, 0.10495368652061354]\n",
      "input array([-0.05250608, -0.82256978]), expected output 1, got [0.3449451925366654, 0.9971411519422058, 0.5660521090766609]\n",
      "input array([ 0.4321654 , -1.97355361]), expected output 1, got [1.1663270259013389e-05, 0.9993903498785703, 0.9897572322537713]\n",
      "input array([-0.29484182, -1.28296331]), expected output 1, got [0.28223091703413933, 0.9981925488376735, 0.6040078263486288]\n",
      "input array([0.06866179, 0.32841405]), expected output 1, got [0.9893108274746798, 0.989317478286409, 0.1341337477033227]\n",
      "input array([ 0.31099753, -0.59237301]), expected output 1, got [0.06210957202950623, 0.9967090609981516, 0.7421808807192138]\n",
      "input array([ 0.55333328, -1.28296331]), expected output 1, got [0.0001663123243777294, 0.9986737770462956, 0.9697180257635052]\n",
      "input array([ 0.31099753, -0.59237301]), expected output 1, got [0.06210957202950623, 0.9967090609981516, 0.7421808807192138]\n",
      "input array([ 0.67450115, -0.36217625]), expected output 1, got [0.00825921142209666, 0.9962119112239303, 0.8639988145460599]\n",
      "input array([ 0.91683689, -0.13197948]), expected output 1, got [0.003166962881900938, 0.9954434195657786, 0.9007500658051444]\n",
      "input array([ 1.15917263, -0.59237301]), expected output 1, got [2.8013740120872803e-05, 0.9975843073323386, 0.9837230552831296]\n",
      "input array([ 1.03800476, -0.13197948]), expected output 1, got [0.0010462122020890071, 0.9956399874328509, 0.9334218534356902]\n",
      "input array([ 0.18982966, -0.36217625]), expected output 1, got [0.4135656603046455, 0.9954809248534826, 0.527305469290038]\n",
      "input array([-0.17367395, -1.05276654]), expected output 1, got [0.3127319750581197, 0.9977267094870281, 0.5851563061787327]\n",
      "input array([-0.41600969, -1.51316008]), expected output 1, got [0.2536069349347747, 0.9985630665542026, 0.6225552600798671]\n",
      "input array([-0.41600969, -1.51316008]), expected output 1, got [0.2536069349347747, 0.9985630665542026, 0.6225552600798671]\n",
      "input array([-0.05250608, -0.82256978]), expected output 1, got [0.3449451925366654, 0.9971411519422058, 0.5660521090766609]\n",
      "input array([ 0.18982966, -0.82256978]), expected output 1, got [0.05412688157534552, 0.997382888378448, 0.756861723279161]\n",
      "input array([-0.53717756, -0.13197948]), expected output 1, got [0.9994819157590141, 0.992271458077078, 0.046835552492633596]\n",
      "input array([0.18982966, 0.78880759]), expected output 1, got [0.9973474777732989, 0.9824424283535435, 0.07898500098197545]\n",
      "input array([1.03800476, 0.09821729]), expected output 1, got [0.0036631361371782353, 0.9942731046653184, 0.8935351749466852]\n",
      "input array([ 0.55333328, -1.74335684]), expected output 1, got [1.3497267407084929e-05, 0.9992329858632585, 0.9889331469985103]\n",
      "input array([-0.29484182, -0.13197948]), expected output 1, got [0.9952526514414014, 0.9929220397817902, 0.10495368652061354]\n",
      "input array([-0.41600969, -1.28296331]), expected output 1, got [0.5439611300724089, 0.9981108429130398, 0.49682464820003747]\n",
      "input array([-0.41600969, -1.05276654]), expected output 1, got [0.807223062088144, 0.9975166519237861, 0.3714943463448891]\n",
      "input array([ 0.31099753, -0.13197948]), expected output 1, got [0.44937409128159145, 0.9943201878706134, 0.50777815677347]\n",
      "input array([-0.05250608, -1.05276654]), expected output 1, got [0.13043706058264617, 0.9978249929546539, 0.6854368409803605]\n",
      "input array([-1.02184904, -1.74335684]), expected output 1, got [0.9613345848725444, 0.9986365923103891, 0.23849408928868243]\n",
      "input array([-0.29484182, -0.82256978]), expected output 1, got [0.8289367884707807, 0.9968771567924868, 0.3534229456484644]\n",
      "input array([-0.17367395, -0.13197948]), expected output 1, got [0.9857365428912943, 0.9932266381901729, 0.15336330708415713]\n",
      "input array([-0.17367395, -0.36217625]), expected output 1, got [0.951658772301759, 0.9948419935445455, 0.23230306491181194]\n",
      "input array([ 0.4321654 , -0.36217625]), expected output 1, got [0.07118096172505767, 0.9958624630779305, 0.7269334159584434]\n",
      "input array([-0.90068117, -1.28296331]), expected output 1, got [0.9901967334011397, 0.9977454635434854, 0.14776001514885398]\n",
      "input array([-0.17367395, -0.59237301]), expected output 1, got [0.8486632823945129, 0.9960736313646861, 0.3357610046853024]\n",
      "input array([0.55333328, 0.55861082]), expected output 2, got [0.7932545015504748, 0.9882433940001586, 0.34560250075082566]\n",
      "input array([-0.05250608, -0.82256978]), expected output 2, got [0.3449451925366654, 0.9971411519422058, 0.5660521090766609]\n",
      "input array([ 1.52267624, -0.13197948]), expected output 2, got [1.236756901146432e-05, 0.9963453389758363, 0.9876302937882143]\n",
      "input array([ 0.55333328, -0.36217625]), expected output 2, got [0.02464059836995809, 0.9960410255799701, 0.804398207630974]\n",
      "input array([ 0.79566902, -0.13197948]), expected output 2, got [0.009545555842784926, 0.9952380319710801, 0.8545437417573364]\n",
      "input array([ 2.12851559, -0.13197948]), expected output 2, got [4.814584973085225e-08, 0.997069260063358, 0.9985783712593866]\n",
      "input array([-1.14301691, -1.28296331]), expected output 2, got [0.9989252931940386, 0.9975371346229233, 0.06773163960466058]\n",
      "input array([ 1.76501198, -0.36217625]), expected output 2, got [3.828465481879712e-07, 0.9974541786905389, 0.996868030537057]\n",
      "input array([ 1.03800476, -1.28296331]), expected output 2, got [1.9643150557815565e-06, 0.9988888776869256, 0.9945465032625195]\n",
      "input array([1.64384411, 1.24920112]), expected output 2, got [0.0075731561322388225, 0.9821536883765651, 0.8502156565191482]\n",
      "input array([0.79566902, 0.32841405]), expected output 2, got [0.10616230454123549, 0.9917901431095795, 0.6779731330357774]\n",
      "input array([ 0.67450115, -0.82256978]), expected output 2, got [0.0006753082767199369, 0.997806898998708, 0.9466031097962152]\n",
      "input array([ 1.15917263, -0.13197948]), expected output 2, got [0.0003451264968523156, 0.9958281110308624, 0.955865487954524]\n",
      "input array([-0.17367395, -1.28296331]), expected output 2, got [0.114746938975638, 0.9982707271086593, 0.7020516847514232]\n",
      "input array([-0.05250608, -0.59237301]), expected output 2, got [0.648951403633666, 0.9962431149171227, 0.438476324340694]\n",
      "input array([0.67450115, 0.32841405]), expected output 2, got [0.26486516397197674, 0.9914215033915333, 0.5767823487349089]\n",
      "input array([ 0.79566902, -0.13197948]), expected output 2, got [0.009545555842784926, 0.9952380319710801, 0.8545437417573364]\n",
      "input array([2.24968346, 1.70959465]), expected output 2, got [0.000365959951470711, 0.9754282888392687, 0.9470771472688081]\n",
      "input array([ 2.24968346, -1.05276654]), expected output 2, got [1.0450156680551109e-10, 0.9990613698581504, 0.9998816638497636]\n",
      "input array([ 0.18982966, -1.97355361]), expected output 2, got [0.00010731764384119041, 0.9993339141000768, 0.975898846805474]\n",
      "input array([1.2803405 , 0.32841405]), expected output 2, got [0.0014006134644905081, 0.9931140049967898, 0.9230160612942252]\n",
      "input array([-0.29484182, -0.59237301]), expected output 2, got [0.944479270892625, 0.9958965334299416, 0.2465427839696834]\n",
      "input array([ 2.24968346, -0.59237301]), expected output 2, got [1.2878573331669179e-09, 0.9983772437489701, 0.9996698533178299]\n",
      "input array([ 0.55333328, -0.82256978]), expected output 2, got [0.0020457485606860757, 0.9977077997858882, 0.9198442767831007]\n",
      "input array([1.03800476, 0.55861082]), expected output 2, got [0.04334577836563429, 0.9901334892906491, 0.7504757908762617]\n",
      "input array([1.64384411, 0.32841405]), expected output 2, got [5.024197229890247e-05, 0.9939656869434169, 0.9778762769320651]\n",
      "input array([ 0.4321654 , -0.59237301]), expected output 2, got [0.021363946283834756, 0.9968512026386256, 0.8164126010145969]\n",
      "input array([ 0.31099753, -0.13197948]), expected output 2, got [0.44937409128159145, 0.9943201878706134, 0.50777815677347]\n",
      "input array([ 0.67450115, -0.59237301]), expected output 2, got [0.002366676391210552, 0.997117385524774, 0.9138847216965253]\n",
      "input array([ 1.64384411, -0.13197948]), expected output 2, got [4.0770099903706855e-06, 0.996503135315444, 0.9919575957123353]\n",
      "input array([ 1.88617985, -0.59237301]), expected output 2, got [3.5950608213199843e-08, 0.9981470474616488, 0.998783986271906]\n",
      "input array([2.4920192 , 1.70959465]), expected output 2, got [3.978166105550268e-05, 0.9774645127313872, 0.9771197223106968]\n",
      "input array([ 0.67450115, -0.59237301]), expected output 2, got [0.002366676391210552, 0.997117385524774, 0.9138847216965253]\n",
      "input array([ 0.55333328, -0.59237301]), expected output 2, got [0.007144962310899417, 0.9969872234807247, 0.8729306716355136]\n",
      "input array([ 0.31099753, -1.05276654]), expected output 2, got [0.005344831558787777, 0.9980951224127406, 0.8892944416606795]\n",
      "input array([ 2.24968346, -0.13197948]), expected output 2, got [1.5871307379089568e-08, 0.9971958878205849, 0.9990792710483422]\n",
      "input array([0.55333328, 0.78880759]), expected output 2, got [0.930888739065556, 0.9845935292069418, 0.24020873113905158]\n",
      "input array([0.67450115, 0.09821729]), expected output 2, got [0.09307960476521375, 0.9934645263166633, 0.6948066710801419]\n",
      "input array([ 0.18982966, -0.13197948]), expected output 2, got [0.7122879540121627, 0.9940644725623875, 0.4004046984190835]\n",
      "input array([1.2803405 , 0.09821729]), expected output 2, got [0.0003993751550712664, 0.994756080027153, 0.9524456430268644]\n",
      "input array([1.03800476, 0.09821729]), expected output 2, got [0.0036631361371782353, 0.9942731046653184, 0.8935351749466852]\n",
      "input array([1.2803405 , 0.09821729]), expected output 2, got [0.0003993751550712664, 0.994756080027153, 0.9524456430268644]\n",
      "input array([-0.05250608, -0.82256978]), expected output 2, got [0.3449451925366654, 0.9971411519422058, 0.5660521090766609]\n",
      "input array([1.15917263, 0.32841405]), expected output 2, got [0.0042367152752004, 0.9928043781634893, 0.8858622627088173]\n",
      "input array([1.03800476, 0.55861082]), expected output 2, got [0.04334577836563429, 0.9901334892906491, 0.7504757908762617]\n",
      "input array([ 1.03800476, -0.13197948]), expected output 2, got [0.0010462122020890071, 0.9956399874328509, 0.9334218534356902]\n",
      "input array([ 0.55333328, -1.28296331]), expected output 2, got [0.0001663123243777294, 0.9986737770462956, 0.9697180257635052]\n",
      "input array([ 0.79566902, -0.13197948]), expected output 2, got [0.009545555842784926, 0.9952380319710801, 0.8545437417573364]\n",
      "input array([0.4321654 , 0.78880759]), expected output 2, got [0.9761106719788638, 0.9839069898877635, 0.16988679541145546]\n",
      "input array([ 0.06866179, -0.13197948]), expected output 2, got [0.8824920905409327, 0.9937973163112129, 0.30181424758529873]\n"
     ]
    },
    {
     "ename": "FileNotFoundError",
     "evalue": "[Errno 2] No such file or directory: 'xdg-open': 'xdg-open'",
     "output_type": "error",
     "traceback": [
      "\u001b[0;31m---------------------------------------------------------------------------\u001b[0m",
      "\u001b[0;31mFileNotFoundError\u001b[0m                         Traceback (most recent call last)",
      "\u001b[0;32m<ipython-input-9-e4a1a2e7acf6>\u001b[0m in \u001b[0;36m<module>\u001b[0;34m\u001b[0m\n\u001b[1;32m     21\u001b[0m \u001b[0;34m\u001b[0m\u001b[0m\n\u001b[1;32m     22\u001b[0m \u001b[0mnode_names\u001b[0m \u001b[0;34m=\u001b[0m \u001b[0;34m{\u001b[0m\u001b[0;34m-\u001b[0m\u001b[0;36m1\u001b[0m\u001b[0;34m:\u001b[0m\u001b[0;34m'A'\u001b[0m\u001b[0;34m,\u001b[0m \u001b[0;34m-\u001b[0m\u001b[0;36m2\u001b[0m\u001b[0;34m:\u001b[0m \u001b[0;34m'B'\u001b[0m\u001b[0;34m,\u001b[0m \u001b[0;36m0\u001b[0m\u001b[0;34m:\u001b[0m\u001b[0;34m'A XOR B'\u001b[0m\u001b[0;34m}\u001b[0m\u001b[0;34m\u001b[0m\u001b[0;34m\u001b[0m\u001b[0m\n\u001b[0;32m---> 23\u001b[0;31m \u001b[0mvisualize\u001b[0m\u001b[0;34m.\u001b[0m\u001b[0mdraw_net\u001b[0m\u001b[0;34m(\u001b[0m\u001b[0mconfig\u001b[0m\u001b[0;34m,\u001b[0m \u001b[0mwinner\u001b[0m\u001b[0;34m,\u001b[0m \u001b[0;32mTrue\u001b[0m\u001b[0;34m)\u001b[0m\u001b[0;34m\u001b[0m\u001b[0;34m\u001b[0m\u001b[0m\n\u001b[0m\u001b[1;32m     24\u001b[0m \u001b[0mvisualize\u001b[0m\u001b[0;34m.\u001b[0m\u001b[0mplot_stats\u001b[0m\u001b[0;34m(\u001b[0m\u001b[0mstats\u001b[0m\u001b[0;34m,\u001b[0m \u001b[0mylog\u001b[0m\u001b[0;34m=\u001b[0m\u001b[0;32mFalse\u001b[0m\u001b[0;34m,\u001b[0m \u001b[0mview\u001b[0m\u001b[0;34m=\u001b[0m\u001b[0;32mFalse\u001b[0m\u001b[0;34m)\u001b[0m\u001b[0;34m\u001b[0m\u001b[0;34m\u001b[0m\u001b[0m\n\u001b[1;32m     25\u001b[0m \u001b[0mvisualize\u001b[0m\u001b[0;34m.\u001b[0m\u001b[0mplot_species\u001b[0m\u001b[0;34m(\u001b[0m\u001b[0mstats\u001b[0m\u001b[0;34m,\u001b[0m \u001b[0mview\u001b[0m\u001b[0;34m=\u001b[0m\u001b[0;32mFalse\u001b[0m\u001b[0;34m)\u001b[0m\u001b[0;34m\u001b[0m\u001b[0;34m\u001b[0m\u001b[0m\n",
      "\u001b[0;32m/src/requirements/phd-neat-experiments/explaneat/visualization/visualize.py\u001b[0m in \u001b[0;36mdraw_net\u001b[0;34m(config, genome, view, filename, node_names, show_disabled, prune_unused, node_colors, fmt)\u001b[0m\n\u001b[1;32m    234\u001b[0m             \u001b[0mdot\u001b[0m\u001b[0;34m.\u001b[0m\u001b[0medge\u001b[0m\u001b[0;34m(\u001b[0m\u001b[0ma\u001b[0m\u001b[0;34m,\u001b[0m \u001b[0mb\u001b[0m\u001b[0;34m,\u001b[0m \u001b[0m_attributes\u001b[0m\u001b[0;34m=\u001b[0m\u001b[0;34m{\u001b[0m\u001b[0;34m'style'\u001b[0m\u001b[0;34m:\u001b[0m \u001b[0mstyle\u001b[0m\u001b[0;34m,\u001b[0m \u001b[0;34m'color'\u001b[0m\u001b[0;34m:\u001b[0m \u001b[0mcolor\u001b[0m\u001b[0;34m,\u001b[0m \u001b[0;34m'penwidth'\u001b[0m\u001b[0;34m:\u001b[0m \u001b[0mwidth\u001b[0m\u001b[0;34m}\u001b[0m\u001b[0;34m)\u001b[0m\u001b[0;34m\u001b[0m\u001b[0;34m\u001b[0m\u001b[0m\n\u001b[1;32m    235\u001b[0m \u001b[0;34m\u001b[0m\u001b[0m\n\u001b[0;32m--> 236\u001b[0;31m     \u001b[0mdot\u001b[0m\u001b[0;34m.\u001b[0m\u001b[0mrender\u001b[0m\u001b[0;34m(\u001b[0m\u001b[0mfilename\u001b[0m\u001b[0;34m,\u001b[0m \u001b[0mview\u001b[0m\u001b[0;34m=\u001b[0m\u001b[0mview\u001b[0m\u001b[0;34m)\u001b[0m\u001b[0;34m\u001b[0m\u001b[0;34m\u001b[0m\u001b[0m\n\u001b[0m\u001b[1;32m    237\u001b[0m \u001b[0;34m\u001b[0m\u001b[0m\n\u001b[1;32m    238\u001b[0m     \u001b[0;32mreturn\u001b[0m \u001b[0mdot\u001b[0m\u001b[0;34m\u001b[0m\u001b[0;34m\u001b[0m\u001b[0m\n",
      "\u001b[0;32m/opt/conda/lib/python3.6/site-packages/graphviz/files.py\u001b[0m in \u001b[0;36mrender\u001b[0;34m(self, filename, directory, view, cleanup, format, renderer, formatter)\u001b[0m\n\u001b[1;32m    192\u001b[0m \u001b[0;34m\u001b[0m\u001b[0m\n\u001b[1;32m    193\u001b[0m         \u001b[0;32mif\u001b[0m \u001b[0mview\u001b[0m\u001b[0;34m:\u001b[0m\u001b[0;34m\u001b[0m\u001b[0;34m\u001b[0m\u001b[0m\n\u001b[0;32m--> 194\u001b[0;31m             \u001b[0mself\u001b[0m\u001b[0;34m.\u001b[0m\u001b[0m_view\u001b[0m\u001b[0;34m(\u001b[0m\u001b[0mrendered\u001b[0m\u001b[0;34m,\u001b[0m \u001b[0mself\u001b[0m\u001b[0;34m.\u001b[0m\u001b[0m_format\u001b[0m\u001b[0;34m)\u001b[0m\u001b[0;34m\u001b[0m\u001b[0;34m\u001b[0m\u001b[0m\n\u001b[0m\u001b[1;32m    195\u001b[0m \u001b[0;34m\u001b[0m\u001b[0m\n\u001b[1;32m    196\u001b[0m         \u001b[0;32mreturn\u001b[0m \u001b[0mrendered\u001b[0m\u001b[0;34m\u001b[0m\u001b[0;34m\u001b[0m\u001b[0m\n",
      "\u001b[0;32m/opt/conda/lib/python3.6/site-packages/graphviz/files.py\u001b[0m in \u001b[0;36m_view\u001b[0;34m(self, filepath, format)\u001b[0m\n\u001b[1;32m    228\u001b[0m             raise RuntimeError('%r has no built-in viewer support for %r '\n\u001b[1;32m    229\u001b[0m                 'on %r platform' % (self.__class__, format, backend.PLATFORM))\n\u001b[0;32m--> 230\u001b[0;31m         \u001b[0mview_method\u001b[0m\u001b[0;34m(\u001b[0m\u001b[0mfilepath\u001b[0m\u001b[0;34m)\u001b[0m\u001b[0;34m\u001b[0m\u001b[0;34m\u001b[0m\u001b[0m\n\u001b[0m\u001b[1;32m    231\u001b[0m \u001b[0;34m\u001b[0m\u001b[0m\n\u001b[1;32m    232\u001b[0m     \u001b[0m_view_darwin\u001b[0m \u001b[0;34m=\u001b[0m \u001b[0mstaticmethod\u001b[0m\u001b[0;34m(\u001b[0m\u001b[0mbackend\u001b[0m\u001b[0;34m.\u001b[0m\u001b[0mview\u001b[0m\u001b[0;34m.\u001b[0m\u001b[0mdarwin\u001b[0m\u001b[0;34m)\u001b[0m\u001b[0;34m\u001b[0m\u001b[0;34m\u001b[0m\u001b[0m\n",
      "\u001b[0;32m/opt/conda/lib/python3.6/site-packages/graphviz/backend.py\u001b[0m in \u001b[0;36mview_unixoid\u001b[0;34m(filepath)\u001b[0m\n\u001b[1;32m    253\u001b[0m \u001b[0;32mdef\u001b[0m \u001b[0mview_unixoid\u001b[0m\u001b[0;34m(\u001b[0m\u001b[0mfilepath\u001b[0m\u001b[0;34m)\u001b[0m\u001b[0;34m:\u001b[0m\u001b[0;34m\u001b[0m\u001b[0;34m\u001b[0m\u001b[0m\n\u001b[1;32m    254\u001b[0m     \u001b[0;34m\"\"\"Open filepath in the user's preferred application (linux, freebsd).\"\"\"\u001b[0m\u001b[0;34m\u001b[0m\u001b[0;34m\u001b[0m\u001b[0m\n\u001b[0;32m--> 255\u001b[0;31m     \u001b[0msubprocess\u001b[0m\u001b[0;34m.\u001b[0m\u001b[0mPopen\u001b[0m\u001b[0;34m(\u001b[0m\u001b[0;34m[\u001b[0m\u001b[0;34m'xdg-open'\u001b[0m\u001b[0;34m,\u001b[0m \u001b[0mfilepath\u001b[0m\u001b[0;34m]\u001b[0m\u001b[0;34m)\u001b[0m\u001b[0;34m\u001b[0m\u001b[0;34m\u001b[0m\u001b[0m\n\u001b[0m\u001b[1;32m    256\u001b[0m \u001b[0;34m\u001b[0m\u001b[0m\n\u001b[1;32m    257\u001b[0m \u001b[0;34m\u001b[0m\u001b[0m\n",
      "\u001b[0;32m/opt/conda/lib/python3.6/subprocess.py\u001b[0m in \u001b[0;36m__init__\u001b[0;34m(self, args, bufsize, executable, stdin, stdout, stderr, preexec_fn, close_fds, shell, cwd, env, universal_newlines, startupinfo, creationflags, restore_signals, start_new_session, pass_fds, encoding, errors)\u001b[0m\n\u001b[1;32m    727\u001b[0m                                 \u001b[0mc2pread\u001b[0m\u001b[0;34m,\u001b[0m \u001b[0mc2pwrite\u001b[0m\u001b[0;34m,\u001b[0m\u001b[0;34m\u001b[0m\u001b[0;34m\u001b[0m\u001b[0m\n\u001b[1;32m    728\u001b[0m                                 \u001b[0merrread\u001b[0m\u001b[0;34m,\u001b[0m \u001b[0merrwrite\u001b[0m\u001b[0;34m,\u001b[0m\u001b[0;34m\u001b[0m\u001b[0;34m\u001b[0m\u001b[0m\n\u001b[0;32m--> 729\u001b[0;31m                                 restore_signals, start_new_session)\n\u001b[0m\u001b[1;32m    730\u001b[0m         \u001b[0;32mexcept\u001b[0m\u001b[0;34m:\u001b[0m\u001b[0;34m\u001b[0m\u001b[0;34m\u001b[0m\u001b[0m\n\u001b[1;32m    731\u001b[0m             \u001b[0;31m# Cleanup if the child failed starting.\u001b[0m\u001b[0;34m\u001b[0m\u001b[0;34m\u001b[0m\u001b[0;34m\u001b[0m\u001b[0m\n",
      "\u001b[0;32m/opt/conda/lib/python3.6/subprocess.py\u001b[0m in \u001b[0;36m_execute_child\u001b[0;34m(self, args, executable, preexec_fn, close_fds, pass_fds, cwd, env, startupinfo, creationflags, shell, p2cread, p2cwrite, c2pread, c2pwrite, errread, errwrite, restore_signals, start_new_session)\u001b[0m\n\u001b[1;32m   1362\u001b[0m                         \u001b[0;32mif\u001b[0m \u001b[0merrno_num\u001b[0m \u001b[0;34m==\u001b[0m \u001b[0merrno\u001b[0m\u001b[0;34m.\u001b[0m\u001b[0mENOENT\u001b[0m\u001b[0;34m:\u001b[0m\u001b[0;34m\u001b[0m\u001b[0;34m\u001b[0m\u001b[0m\n\u001b[1;32m   1363\u001b[0m                             \u001b[0merr_msg\u001b[0m \u001b[0;34m+=\u001b[0m \u001b[0;34m': '\u001b[0m \u001b[0;34m+\u001b[0m \u001b[0mrepr\u001b[0m\u001b[0;34m(\u001b[0m\u001b[0merr_filename\u001b[0m\u001b[0;34m)\u001b[0m\u001b[0;34m\u001b[0m\u001b[0;34m\u001b[0m\u001b[0m\n\u001b[0;32m-> 1364\u001b[0;31m                     \u001b[0;32mraise\u001b[0m \u001b[0mchild_exception_type\u001b[0m\u001b[0;34m(\u001b[0m\u001b[0merrno_num\u001b[0m\u001b[0;34m,\u001b[0m \u001b[0merr_msg\u001b[0m\u001b[0;34m,\u001b[0m \u001b[0merr_filename\u001b[0m\u001b[0;34m)\u001b[0m\u001b[0;34m\u001b[0m\u001b[0;34m\u001b[0m\u001b[0m\n\u001b[0m\u001b[1;32m   1365\u001b[0m                 \u001b[0;32mraise\u001b[0m \u001b[0mchild_exception_type\u001b[0m\u001b[0;34m(\u001b[0m\u001b[0merr_msg\u001b[0m\u001b[0;34m)\u001b[0m\u001b[0;34m\u001b[0m\u001b[0;34m\u001b[0m\u001b[0m\n\u001b[1;32m   1366\u001b[0m \u001b[0;34m\u001b[0m\u001b[0m\n",
      "\u001b[0;31mFileNotFoundError\u001b[0m: [Errno 2] No such file or directory: 'xdg-open': 'xdg-open'"
     ]
    }
   ],
   "source": [
    "p.reporters.reporters[2].save_checkpoint(p.config, p.population, p.species, str(p.generation) + \"-final\")  \n",
    "\n",
    "# Display the winning genome.\n",
    "print('\\nBest genome:\\n{!s}'.format(winner))\n",
    "\n",
    "# Show output of the most fit genome against training data.\n",
    "print('\\nOutput:')\n",
    "winner_net = neat.nn.FeedForwardNetwork.create(winner, config)\n",
    "# for xi, xo in zip(xor_inputs, xor_outputs):\n",
    "#     output = winner_net.activate(xi)\n",
    "#     print(\"input {!r}, expected output {!r}, got {!r}\".format(xi, xo, output))\n",
    "\n",
    "results = []\n",
    "for xi, xo in zip(xs, ys):\n",
    "    output = winner_net.activate(xi)\n",
    "    print(\"input {!r}, expected output {!r}, got {!r}\".format(xi, xo, output))\n",
    "    results.append([xi[0], xi[1], output])\n",
    "\n",
    "df = pd.DataFrame(results)\n",
    "df.to_csv('results.csv')\n",
    "\n",
    "node_names = {-1:'A', -2: 'B', 0:'A XOR B'}\n",
    "visualize.draw_net(config, winner, True)\n",
    "visualize.plot_stats(stats, ylog=False, view=False)\n",
    "visualize.plot_species(stats, view=False)"
   ]
  },
  {
   "cell_type": "code",
   "execution_count": 10,
   "metadata": {},
   "outputs": [
    {
     "name": "stdout",
     "output_type": "stream",
     "text": [
      "trying to cudafy\n",
      "trying to cudafy\n",
      "trying to cudafy\n",
      "trying to cudafy\n",
      "trying to cudafy\n",
      "trying to cudafy\n",
      "trying to cudafy\n",
      "trying to cudafy\n",
      "trying to cudafy\n",
      "gen is 0\n",
      "previous generation is [1]\n",
      "skey is 1\n",
      "have calculated the ancestry\n",
      "have ancestry\n",
      "have ancestors\n",
      "Fitness for gen 0\n"
     ]
    },
    {
     "name": "stderr",
     "output_type": "stream",
     "text": [
      "Warning: Could not load \"/opt/conda/lib/graphviz/libgvplugin_pango.so.6\" - file not found\n",
      "Warning: Could not load \"/opt/conda/lib/graphviz/libgvplugin_pango.so.6\" - file not found\n",
      "Format: \"png\" not recognized. Use one of: canon cmap cmapx cmapx_np dot dot_json eps fig gv imap imap_np ismap json json0 mp pdf pic plain plain-ext png pov ps ps2 svg svgz tk vml vmlz xdot xdot1.2 xdot1.4 xdot_json\n"
     ]
    },
    {
     "name": "stdout",
     "output_type": "stream",
     "text": [
      "0\n",
      "{1: 1.1014796495437622}\n"
     ]
    },
    {
     "ename": "CalledProcessError",
     "evalue": "Command '['dot', '-Tpng', '-O', 'tmp/ancestor0000000000']' returned non-zero exit status 1.",
     "output_type": "error",
     "traceback": [
      "\u001b[0;31m---------------------------------------------------------------------------\u001b[0m",
      "\u001b[0;31mCalledProcessError\u001b[0m                        Traceback (most recent call last)",
      "\u001b[0;32m<ipython-input-10-801624f467fe>\u001b[0m in \u001b[0;36m<module>\u001b[0;34m\u001b[0m\n\u001b[1;32m     19\u001b[0m }\n\u001b[1;32m     20\u001b[0m \u001b[0mprint\u001b[0m\u001b[0;34m(\u001b[0m\u001b[0;34m'have ancestors'\u001b[0m\u001b[0;34m)\u001b[0m\u001b[0;34m\u001b[0m\u001b[0;34m\u001b[0m\u001b[0m\n\u001b[0;32m---> 21\u001b[0;31m \u001b[0mvisualize\u001b[0m\u001b[0;34m.\u001b[0m\u001b[0mcreate_ancestry_video\u001b[0m\u001b[0;34m(\u001b[0m\u001b[0mp\u001b[0m\u001b[0;34m.\u001b[0m\u001b[0mconfig\u001b[0m\u001b[0;34m,\u001b[0m \u001b[0mg\u001b[0m\u001b[0;34m,\u001b[0m \u001b[0mancestry\u001b[0m\u001b[0;34m,\u001b[0m \u001b[0mancestors\u001b[0m\u001b[0;34m,\u001b[0m \u001b[0mp\u001b[0m\u001b[0;34m.\u001b[0m\u001b[0mreporters\u001b[0m\u001b[0;34m.\u001b[0m\u001b[0mreporters\u001b[0m\u001b[0;34m[\u001b[0m\u001b[0;36m1\u001b[0m\u001b[0;34m]\u001b[0m\u001b[0;34m)\u001b[0m\u001b[0;34m\u001b[0m\u001b[0;34m\u001b[0m\u001b[0m\n\u001b[0m\u001b[1;32m     22\u001b[0m \u001b[0mprint\u001b[0m\u001b[0;34m(\u001b[0m\u001b[0;34m'have finished video'\u001b[0m\u001b[0;34m)\u001b[0m\u001b[0;34m\u001b[0m\u001b[0;34m\u001b[0m\u001b[0m\n",
      "\u001b[0;32m/src/requirements/phd-neat-experiments/explaneat/visualization/visualize.py\u001b[0m in \u001b[0;36mcreate_ancestry_video\u001b[0;34m(config, genome, ancestry, ancestors, statistics, pathname, videoFilename)\u001b[0m\n\u001b[1;32m    336\u001b[0m \u001b[0;34m\u001b[0m\u001b[0m\n\u001b[1;32m    337\u001b[0m         \u001b[0mfileStr\u001b[0m \u001b[0;34m=\u001b[0m \u001b[0mtemplateString\u001b[0m\u001b[0;34m.\u001b[0m\u001b[0mformat\u001b[0m\u001b[0;34m(\u001b[0m\u001b[0mgeneration\u001b[0m\u001b[0;34m)\u001b[0m\u001b[0;34m\u001b[0m\u001b[0;34m\u001b[0m\u001b[0m\n\u001b[0;32m--> 338\u001b[0;31m         \u001b[0mdraw_net\u001b[0m\u001b[0;34m(\u001b[0m\u001b[0mconfig\u001b[0m\u001b[0;34m,\u001b[0m \u001b[0mbestGenome\u001b[0m\u001b[0;34m,\u001b[0m \u001b[0mfilename\u001b[0m\u001b[0;34m=\u001b[0m\u001b[0mfileStr\u001b[0m\u001b[0;34m,\u001b[0m \u001b[0mfmt\u001b[0m\u001b[0;34m=\u001b[0m\u001b[0;34m'png'\u001b[0m\u001b[0;34m)\u001b[0m\u001b[0;34m\u001b[0m\u001b[0;34m\u001b[0m\u001b[0m\n\u001b[0m\u001b[1;32m    339\u001b[0m         \u001b[0mnetImageFiles\u001b[0m\u001b[0;34m.\u001b[0m\u001b[0mappend\u001b[0m\u001b[0;34m(\u001b[0m\u001b[0;34m'%s.png'\u001b[0m\u001b[0;34m%\u001b[0m\u001b[0mfileStr\u001b[0m\u001b[0;34m)\u001b[0m\u001b[0;34m\u001b[0m\u001b[0;34m\u001b[0m\u001b[0m\n\u001b[1;32m    340\u001b[0m \u001b[0;34m\u001b[0m\u001b[0m\n",
      "\u001b[0;32m/src/requirements/phd-neat-experiments/explaneat/visualization/visualize.py\u001b[0m in \u001b[0;36mdraw_net\u001b[0;34m(config, genome, view, filename, node_names, show_disabled, prune_unused, node_colors, fmt)\u001b[0m\n\u001b[1;32m    234\u001b[0m             \u001b[0mdot\u001b[0m\u001b[0;34m.\u001b[0m\u001b[0medge\u001b[0m\u001b[0;34m(\u001b[0m\u001b[0ma\u001b[0m\u001b[0;34m,\u001b[0m \u001b[0mb\u001b[0m\u001b[0;34m,\u001b[0m \u001b[0m_attributes\u001b[0m\u001b[0;34m=\u001b[0m\u001b[0;34m{\u001b[0m\u001b[0;34m'style'\u001b[0m\u001b[0;34m:\u001b[0m \u001b[0mstyle\u001b[0m\u001b[0;34m,\u001b[0m \u001b[0;34m'color'\u001b[0m\u001b[0;34m:\u001b[0m \u001b[0mcolor\u001b[0m\u001b[0;34m,\u001b[0m \u001b[0;34m'penwidth'\u001b[0m\u001b[0;34m:\u001b[0m \u001b[0mwidth\u001b[0m\u001b[0;34m}\u001b[0m\u001b[0;34m)\u001b[0m\u001b[0;34m\u001b[0m\u001b[0;34m\u001b[0m\u001b[0m\n\u001b[1;32m    235\u001b[0m \u001b[0;34m\u001b[0m\u001b[0m\n\u001b[0;32m--> 236\u001b[0;31m     \u001b[0mdot\u001b[0m\u001b[0;34m.\u001b[0m\u001b[0mrender\u001b[0m\u001b[0;34m(\u001b[0m\u001b[0mfilename\u001b[0m\u001b[0;34m,\u001b[0m \u001b[0mview\u001b[0m\u001b[0;34m=\u001b[0m\u001b[0mview\u001b[0m\u001b[0;34m)\u001b[0m\u001b[0;34m\u001b[0m\u001b[0;34m\u001b[0m\u001b[0m\n\u001b[0m\u001b[1;32m    237\u001b[0m \u001b[0;34m\u001b[0m\u001b[0m\n\u001b[1;32m    238\u001b[0m     \u001b[0;32mreturn\u001b[0m \u001b[0mdot\u001b[0m\u001b[0;34m\u001b[0m\u001b[0;34m\u001b[0m\u001b[0m\n",
      "\u001b[0;32m/opt/conda/lib/python3.6/site-packages/graphviz/files.py\u001b[0m in \u001b[0;36mrender\u001b[0;34m(self, filename, directory, view, cleanup, format, renderer, formatter)\u001b[0m\n\u001b[1;32m    186\u001b[0m             \u001b[0mformat\u001b[0m \u001b[0;34m=\u001b[0m \u001b[0mself\u001b[0m\u001b[0;34m.\u001b[0m\u001b[0m_format\u001b[0m\u001b[0;34m\u001b[0m\u001b[0;34m\u001b[0m\u001b[0m\n\u001b[1;32m    187\u001b[0m \u001b[0;34m\u001b[0m\u001b[0m\n\u001b[0;32m--> 188\u001b[0;31m         \u001b[0mrendered\u001b[0m \u001b[0;34m=\u001b[0m \u001b[0mbackend\u001b[0m\u001b[0;34m.\u001b[0m\u001b[0mrender\u001b[0m\u001b[0;34m(\u001b[0m\u001b[0mself\u001b[0m\u001b[0;34m.\u001b[0m\u001b[0m_engine\u001b[0m\u001b[0;34m,\u001b[0m \u001b[0mformat\u001b[0m\u001b[0;34m,\u001b[0m \u001b[0mfilepath\u001b[0m\u001b[0;34m,\u001b[0m \u001b[0mrenderer\u001b[0m\u001b[0;34m,\u001b[0m \u001b[0mformatter\u001b[0m\u001b[0;34m)\u001b[0m\u001b[0;34m\u001b[0m\u001b[0;34m\u001b[0m\u001b[0m\n\u001b[0m\u001b[1;32m    189\u001b[0m \u001b[0;34m\u001b[0m\u001b[0m\n\u001b[1;32m    190\u001b[0m         \u001b[0;32mif\u001b[0m \u001b[0mcleanup\u001b[0m\u001b[0;34m:\u001b[0m\u001b[0;34m\u001b[0m\u001b[0;34m\u001b[0m\u001b[0m\n",
      "\u001b[0;32m/opt/conda/lib/python3.6/site-packages/graphviz/backend.py\u001b[0m in \u001b[0;36mrender\u001b[0;34m(engine, format, filepath, renderer, formatter, quiet)\u001b[0m\n\u001b[1;32m    181\u001b[0m     \"\"\"\n\u001b[1;32m    182\u001b[0m     \u001b[0mcmd\u001b[0m\u001b[0;34m,\u001b[0m \u001b[0mrendered\u001b[0m \u001b[0;34m=\u001b[0m \u001b[0mcommand\u001b[0m\u001b[0;34m(\u001b[0m\u001b[0mengine\u001b[0m\u001b[0;34m,\u001b[0m \u001b[0mformat\u001b[0m\u001b[0;34m,\u001b[0m \u001b[0mfilepath\u001b[0m\u001b[0;34m,\u001b[0m \u001b[0mrenderer\u001b[0m\u001b[0;34m,\u001b[0m \u001b[0mformatter\u001b[0m\u001b[0;34m)\u001b[0m\u001b[0;34m\u001b[0m\u001b[0;34m\u001b[0m\u001b[0m\n\u001b[0;32m--> 183\u001b[0;31m     \u001b[0mrun\u001b[0m\u001b[0;34m(\u001b[0m\u001b[0mcmd\u001b[0m\u001b[0;34m,\u001b[0m \u001b[0mcapture_output\u001b[0m\u001b[0;34m=\u001b[0m\u001b[0;32mTrue\u001b[0m\u001b[0;34m,\u001b[0m \u001b[0mcheck\u001b[0m\u001b[0;34m=\u001b[0m\u001b[0;32mTrue\u001b[0m\u001b[0;34m,\u001b[0m \u001b[0mquiet\u001b[0m\u001b[0;34m=\u001b[0m\u001b[0mquiet\u001b[0m\u001b[0;34m)\u001b[0m\u001b[0;34m\u001b[0m\u001b[0;34m\u001b[0m\u001b[0m\n\u001b[0m\u001b[1;32m    184\u001b[0m     \u001b[0;32mreturn\u001b[0m \u001b[0mrendered\u001b[0m\u001b[0;34m\u001b[0m\u001b[0;34m\u001b[0m\u001b[0m\n\u001b[1;32m    185\u001b[0m \u001b[0;34m\u001b[0m\u001b[0m\n",
      "\u001b[0;32m/opt/conda/lib/python3.6/site-packages/graphviz/backend.py\u001b[0m in \u001b[0;36mrun\u001b[0;34m(cmd, input, capture_output, check, quiet, **kwargs)\u001b[0m\n\u001b[1;32m    157\u001b[0m         \u001b[0mstderr_write_bytes\u001b[0m\u001b[0;34m(\u001b[0m\u001b[0merr\u001b[0m\u001b[0;34m,\u001b[0m \u001b[0mflush\u001b[0m\u001b[0;34m=\u001b[0m\u001b[0;32mTrue\u001b[0m\u001b[0;34m)\u001b[0m\u001b[0;34m\u001b[0m\u001b[0;34m\u001b[0m\u001b[0m\n\u001b[1;32m    158\u001b[0m     \u001b[0;32mif\u001b[0m \u001b[0mcheck\u001b[0m \u001b[0;32mand\u001b[0m \u001b[0mproc\u001b[0m\u001b[0;34m.\u001b[0m\u001b[0mreturncode\u001b[0m\u001b[0;34m:\u001b[0m\u001b[0;34m\u001b[0m\u001b[0;34m\u001b[0m\u001b[0m\n\u001b[0;32m--> 159\u001b[0;31m         \u001b[0;32mraise\u001b[0m \u001b[0mCalledProcessError\u001b[0m\u001b[0;34m(\u001b[0m\u001b[0mproc\u001b[0m\u001b[0;34m.\u001b[0m\u001b[0mreturncode\u001b[0m\u001b[0;34m,\u001b[0m \u001b[0mcmd\u001b[0m\u001b[0;34m,\u001b[0m \u001b[0moutput\u001b[0m\u001b[0;34m=\u001b[0m\u001b[0mout\u001b[0m\u001b[0;34m,\u001b[0m \u001b[0mstderr\u001b[0m\u001b[0;34m=\u001b[0m\u001b[0merr\u001b[0m\u001b[0;34m)\u001b[0m\u001b[0;34m\u001b[0m\u001b[0;34m\u001b[0m\u001b[0m\n\u001b[0m\u001b[1;32m    160\u001b[0m \u001b[0;34m\u001b[0m\u001b[0m\n\u001b[1;32m    161\u001b[0m     \u001b[0;32mreturn\u001b[0m \u001b[0mout\u001b[0m\u001b[0;34m,\u001b[0m \u001b[0merr\u001b[0m\u001b[0;34m\u001b[0m\u001b[0;34m\u001b[0m\u001b[0m\n",
      "\u001b[0;31mCalledProcessError\u001b[0m: Command '['dot', '-Tpng', '-O', 'tmp/ancestor0000000000']' returned non-zero exit status 1."
     ]
    }
   ],
   "source": [
    "# p = run(config_path, 0)\n",
    "\n",
    "g = p.best_genome\n",
    "\n",
    "config = neat.Config(neat.DefaultGenome, neat.DefaultReproduction,\n",
    "                     neat.DefaultSpeciesSet, neat.DefaultStagnation,\n",
    "                     config_path)\n",
    "\n",
    "net = NeatNet(g, config) \n",
    "\n",
    "winnerNet = neat.nn.FeedForwardNetwork.create(g, config)\n",
    "\n",
    "ancestry = p.reporters.reporters[3].trace_ancestry_of_species(g.key, p.reproduction.ancestors) \n",
    "\n",
    "print('have ancestry')\n",
    "\n",
    "ancestors = {\n",
    "    k: v['genome'] for k, v in p.reporters.reporters[3].ancestry.items()\n",
    "}\n",
    "print('have ancestors')\n",
    "visualize.create_ancestry_video(p.config, g, ancestry, ancestors, p.reporters.reporters[1])\n",
    "print('have finished video')"
   ]
  },
  {
   "cell_type": "code",
   "execution_count": 11,
   "metadata": {},
   "outputs": [
    {
     "data": {
      "text/plain": [
       "[Parameter containing:\n",
       " tensor([-1.8317], device='cuda:0', requires_grad=True), Parameter containing:\n",
       " tensor([0.0731], device='cuda:0', requires_grad=True), Parameter containing:\n",
       " tensor([0.7178], device='cuda:0', requires_grad=True), Parameter containing:\n",
       " tensor([1.0910], device='cuda:0', requires_grad=True), Parameter containing:\n",
       " tensor([-0.2381], device='cuda:0', requires_grad=True), Parameter containing:\n",
       " tensor([-0.4458], device='cuda:0', requires_grad=True), Parameter containing:\n",
       " tensor([0.6730], device='cuda:0', requires_grad=True), Parameter containing:\n",
       " tensor([0.9789], device='cuda:0', requires_grad=True), Parameter containing:\n",
       " tensor([-0.2759], device='cuda:0', requires_grad=True)]"
      ]
     },
     "execution_count": 11,
     "metadata": {},
     "output_type": "execute_result"
    }
   ],
   "source": [
    "net.params"
   ]
  },
  {
   "cell_type": "code",
   "execution_count": null,
   "metadata": {},
   "outputs": [],
   "source": []
  },
  {
   "cell_type": "code",
   "execution_count": null,
   "metadata": {},
   "outputs": [],
   "source": []
  }
 ],
 "metadata": {
  "kernelspec": {
   "display_name": "Python 3",
   "language": "python",
   "name": "python3"
  },
  "language_info": {
   "codemirror_mode": {
    "name": "ipython",
    "version": 3
   },
   "file_extension": ".py",
   "mimetype": "text/x-python",
   "name": "python",
   "nbconvert_exporter": "python",
   "pygments_lexer": "ipython3",
   "version": "3.6.8"
  }
 },
 "nbformat": 4,
 "nbformat_minor": 2
}
