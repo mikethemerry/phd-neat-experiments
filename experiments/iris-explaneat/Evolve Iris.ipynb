{
 "cells": [
  {
   "cell_type": "code",
   "execution_count": 1,
   "metadata": {},
   "outputs": [],
   "source": [
    "from __future__ import print_function\n",
    "import os\n",
    "import neat\n",
    "\n",
    "import pandas as pd\n",
    "import numpy as np\n",
    "import random\n",
    "\n",
    "import torch\n",
    "import torch.nn as nn\n",
    "import torch.optim as optim\n",
    "\n",
    "\n",
    "from explaneat.core.backprop import NeatNet\n",
    "from explaneat.core import backprop\n",
    "from explaneat.core.backproppop import BackpropPopulation\n",
    "from explaneat.visualization import visualize\n",
    "\n",
    "from sklearn import datasets\n",
    "from sklearn import metrics\n",
    "from sklearn.preprocessing import StandardScaler\n"
   ]
  },
  {
   "cell_type": "code",
   "execution_count": 2,
   "metadata": {},
   "outputs": [],
   "source": [
    "random.seed(4242)\n",
    "nGenerations = 3"
   ]
  },
  {
   "cell_type": "code",
   "execution_count": 3,
   "metadata": {},
   "outputs": [],
   "source": [
    "def one_hot_encode(vals):\n",
    "    width = max(vals)\n",
    "    newVals = []\n",
    "    for val in vals:\n",
    "        blank = [0. for _ in range(width + 1)]\n",
    "        blank[val] = 1.\n",
    "        newVals.append(blank)\n",
    "    return np.asarray(newVals)\n"
   ]
  },
  {
   "cell_type": "code",
   "execution_count": 4,
   "metadata": {},
   "outputs": [],
   "source": [
    "iris = datasets.load_iris()\n",
    "xs_raw = iris.data[:, :2]  # we only take the first two features.\n",
    "scaler = StandardScaler()\n",
    "scaler.fit(xs_raw)\n",
    "xs = scaler.transform(xs_raw)\n",
    "ys = iris.target\n",
    "ys_onehot = one_hot_encode(ys)"
   ]
  },
  {
   "cell_type": "code",
   "execution_count": 5,
   "metadata": {},
   "outputs": [],
   "source": [
    "def eval_genomes(genomes, config):\n",
    "    loss = nn.CrossEntropyLoss()\n",
    "    for genome_id, genome in genomes:\n",
    "        net = neat.nn.FeedForwardNetwork.create(genome, config)\n",
    "        preds = []\n",
    "        for xi in xs:\n",
    "            preds.append(net.activate(xi))\n",
    "        genome.fitness = float(1./loss(torch.tensor(preds), torch.tensor(ys)))"
   ]
  },
  {
   "cell_type": "code",
   "execution_count": 10,
   "metadata": {},
   "outputs": [],
   "source": [
    "config_path = \"./config-iris\""
   ]
  },
  {
   "cell_type": "code",
   "execution_count": 11,
   "metadata": {},
   "outputs": [],
   "source": [
    "config = neat.Config(neat.DefaultGenome, neat.DefaultReproduction,\n",
    "                     neat.DefaultSpeciesSet, neat.DefaultStagnation,\n",
    "                     config_path)\n",
    "\n",
    "# Create the population, which is the top-level object for a NEAT run.\n",
    "p = BackpropPopulation(config, xs, ys, criterion=nn.CrossEntropyLoss())\n",
    "\n",
    "# Add a stdout reporter to show progress in the terminal.\n",
    "p.add_reporter(neat.StdOutReporter(True))\n",
    "stats = neat.StatisticsReporter()\n",
    "p.add_reporter(stats)\n",
    "p.add_reporter(neat.Checkpointer(5))\n",
    "bpReporter = backprop.BackpropReporter(True)\n",
    "p.add_reporter(bpReporter)"
   ]
  },
  {
   "cell_type": "code",
   "execution_count": null,
   "metadata": {},
   "outputs": [
    {
     "name": "stdout",
     "output_type": "stream",
     "text": [
      "\n",
      " ****** Running generation 0 ****** \n",
      "\n"
     ]
    }
   ],
   "source": [
    "# Run for up to nGenerations generations.\n",
    "winner = p.run(eval_genomes, nGenerations)"
   ]
  },
  {
   "cell_type": "code",
   "execution_count": null,
   "metadata": {},
   "outputs": [],
   "source": [
    "p.reporters.reporters[2].save_checkpoint(p.config, p.population, p.species, str(p.generation) + \"-final\")  \n",
    "\n",
    "# Display the winning genome.\n",
    "print('\\nBest genome:\\n{!s}'.format(winner))\n",
    "\n",
    "# Show output of the most fit genome against training data.\n",
    "print('\\nOutput:')\n",
    "winner_net = neat.nn.FeedForwardNetwork.create(winner, config)\n",
    "# for xi, xo in zip(xor_inputs, xor_outputs):\n",
    "#     output = winner_net.activate(xi)\n",
    "#     print(\"input {!r}, expected output {!r}, got {!r}\".format(xi, xo, output))\n",
    "\n",
    "results = []\n",
    "for xi, xo in zip(xs, ys):\n",
    "    output = winner_net.activate(xi)\n",
    "    print(\"input {!r}, expected output {!r}, got {!r}\".format(xi, xo, output))\n",
    "    results.append([xi[0], xi[1], output])\n",
    "\n",
    "df = pd.DataFrame(results)\n",
    "df.to_csv('results.csv')\n",
    "\n",
    "node_names = {-1:'A', -2: 'B', 0:'A XOR B'}\n",
    "visualize.draw_net(config, winner, True)\n",
    "visualize.plot_stats(stats, ylog=False, view=False)\n",
    "visualize.plot_species(stats, view=False)"
   ]
  },
  {
   "cell_type": "code",
   "execution_count": null,
   "metadata": {},
   "outputs": [],
   "source": [
    "p = run(config_path, 0)\n",
    "\n",
    "g = p.best_genome\n",
    "\n",
    "config = neat.Config(neat.DefaultGenome, neat.DefaultReproduction,\n",
    "                     neat.DefaultSpeciesSet, neat.DefaultStagnation,\n",
    "                     config_path)\n",
    "\n",
    "net = NeatNet(g, config) \n",
    "\n",
    "winnerNet = neat.nn.FeedForwardNetwork.create(g, config)\n",
    "\n",
    "ancestry = p.reporters.reporters[3].trace_ancestry_of_species(g.key, p.reproduction.ancestors) \n",
    "\n",
    "print('have ancestry')\n",
    "\n",
    "ancestors = {\n",
    "    k: v['genome'] for k, v in p.reporters.reporters[3].ancestry.items()\n",
    "}\n",
    "print('have ancestors')\n",
    "visualize.create_ancestry_video(p.config, g, ancestry, ancestors, p.reporters.reporters[1])\n",
    "print('have finished video')"
   ]
  },
  {
   "cell_type": "code",
   "execution_count": null,
   "metadata": {},
   "outputs": [],
   "source": []
  }
 ],
 "metadata": {
  "kernelspec": {
   "display_name": "Python 3",
   "language": "python",
   "name": "python3"
  },
  "language_info": {
   "codemirror_mode": {
    "name": "ipython",
    "version": 3
   },
   "file_extension": ".py",
   "mimetype": "text/x-python",
   "name": "python",
   "nbconvert_exporter": "python",
   "pygments_lexer": "ipython3",
   "version": "3.6.8"
  }
 },
 "nbformat": 4,
 "nbformat_minor": 2
}
